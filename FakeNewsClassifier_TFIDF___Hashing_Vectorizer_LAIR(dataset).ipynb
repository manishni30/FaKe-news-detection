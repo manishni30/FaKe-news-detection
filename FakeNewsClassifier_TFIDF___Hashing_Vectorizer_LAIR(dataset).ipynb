{
  "cells": [
    {
      "cell_type": "code",
      "execution_count": 4,
      "metadata": {
        "id": "lPGLA0a1VgKE"
      },
      "outputs": [],
      "source": [
        "import pandas as pd"
      ]
    },
    {
      "cell_type": "code",
      "execution_count": 5,
      "metadata": {
        "id": "tcmtL40EVgKG"
      },
      "outputs": [],
      "source": [
        "df_train=pd.read_csv('/content/train.csv',sep=';')\n",
        "df_test=pd.read_csv('/content/test.csv',sep=';')"
      ]
    },
    {
      "cell_type": "code",
      "execution_count": 6,
      "metadata": {
        "colab": {
          "base_uri": "https://localhost:8080/",
          "height": 204
        },
        "id": "Ni-bjF_jVgKG",
        "outputId": "10211de9-57ae-4f4b-a26e-af2cab45a30f"
      },
      "outputs": [
        {
          "output_type": "execute_result",
          "data": {
            "text/plain": [
              "                                                text  label\n",
              "0  dark agenda behind globalism open border altma...    0.0\n",
              "1  america poor still get shaft sami jamil jadall...    0.0\n",
              "2  number accuser grow former miss finland accuse...    0.0\n",
              "3  heroic prego advertisement replaces refresh we...    0.0\n",
              "4  russia syria debbie reynolds thursday even bri...    1.0"
            ],
            "text/html": [
              "\n",
              "  <div id=\"df-027a04d8-c55e-451b-a731-e9324bdfa7d6\">\n",
              "    <div class=\"colab-df-container\">\n",
              "      <div>\n",
              "<style scoped>\n",
              "    .dataframe tbody tr th:only-of-type {\n",
              "        vertical-align: middle;\n",
              "    }\n",
              "\n",
              "    .dataframe tbody tr th {\n",
              "        vertical-align: top;\n",
              "    }\n",
              "\n",
              "    .dataframe thead th {\n",
              "        text-align: right;\n",
              "    }\n",
              "</style>\n",
              "<table border=\"1\" class=\"dataframe\">\n",
              "  <thead>\n",
              "    <tr style=\"text-align: right;\">\n",
              "      <th></th>\n",
              "      <th>text</th>\n",
              "      <th>label</th>\n",
              "    </tr>\n",
              "  </thead>\n",
              "  <tbody>\n",
              "    <tr>\n",
              "      <th>0</th>\n",
              "      <td>dark agenda behind globalism open border altma...</td>\n",
              "      <td>0.0</td>\n",
              "    </tr>\n",
              "    <tr>\n",
              "      <th>1</th>\n",
              "      <td>america poor still get shaft sami jamil jadall...</td>\n",
              "      <td>0.0</td>\n",
              "    </tr>\n",
              "    <tr>\n",
              "      <th>2</th>\n",
              "      <td>number accuser grow former miss finland accuse...</td>\n",
              "      <td>0.0</td>\n",
              "    </tr>\n",
              "    <tr>\n",
              "      <th>3</th>\n",
              "      <td>heroic prego advertisement replaces refresh we...</td>\n",
              "      <td>0.0</td>\n",
              "    </tr>\n",
              "    <tr>\n",
              "      <th>4</th>\n",
              "      <td>russia syria debbie reynolds thursday even bri...</td>\n",
              "      <td>1.0</td>\n",
              "    </tr>\n",
              "  </tbody>\n",
              "</table>\n",
              "</div>\n",
              "      <button class=\"colab-df-convert\" onclick=\"convertToInteractive('df-027a04d8-c55e-451b-a731-e9324bdfa7d6')\"\n",
              "              title=\"Convert this dataframe to an interactive table.\"\n",
              "              style=\"display:none;\">\n",
              "        \n",
              "  <svg xmlns=\"http://www.w3.org/2000/svg\" height=\"24px\"viewBox=\"0 0 24 24\"\n",
              "       width=\"24px\">\n",
              "    <path d=\"M0 0h24v24H0V0z\" fill=\"none\"/>\n",
              "    <path d=\"M18.56 5.44l.94 2.06.94-2.06 2.06-.94-2.06-.94-.94-2.06-.94 2.06-2.06.94zm-11 1L8.5 8.5l.94-2.06 2.06-.94-2.06-.94L8.5 2.5l-.94 2.06-2.06.94zm10 10l.94 2.06.94-2.06 2.06-.94-2.06-.94-.94-2.06-.94 2.06-2.06.94z\"/><path d=\"M17.41 7.96l-1.37-1.37c-.4-.4-.92-.59-1.43-.59-.52 0-1.04.2-1.43.59L10.3 9.45l-7.72 7.72c-.78.78-.78 2.05 0 2.83L4 21.41c.39.39.9.59 1.41.59.51 0 1.02-.2 1.41-.59l7.78-7.78 2.81-2.81c.8-.78.8-2.07 0-2.86zM5.41 20L4 18.59l7.72-7.72 1.47 1.35L5.41 20z\"/>\n",
              "  </svg>\n",
              "      </button>\n",
              "      \n",
              "  <style>\n",
              "    .colab-df-container {\n",
              "      display:flex;\n",
              "      flex-wrap:wrap;\n",
              "      gap: 12px;\n",
              "    }\n",
              "\n",
              "    .colab-df-convert {\n",
              "      background-color: #E8F0FE;\n",
              "      border: none;\n",
              "      border-radius: 50%;\n",
              "      cursor: pointer;\n",
              "      display: none;\n",
              "      fill: #1967D2;\n",
              "      height: 32px;\n",
              "      padding: 0 0 0 0;\n",
              "      width: 32px;\n",
              "    }\n",
              "\n",
              "    .colab-df-convert:hover {\n",
              "      background-color: #E2EBFA;\n",
              "      box-shadow: 0px 1px 2px rgba(60, 64, 67, 0.3), 0px 1px 3px 1px rgba(60, 64, 67, 0.15);\n",
              "      fill: #174EA6;\n",
              "    }\n",
              "\n",
              "    [theme=dark] .colab-df-convert {\n",
              "      background-color: #3B4455;\n",
              "      fill: #D2E3FC;\n",
              "    }\n",
              "\n",
              "    [theme=dark] .colab-df-convert:hover {\n",
              "      background-color: #434B5C;\n",
              "      box-shadow: 0px 1px 3px 1px rgba(0, 0, 0, 0.15);\n",
              "      filter: drop-shadow(0px 1px 2px rgba(0, 0, 0, 0.3));\n",
              "      fill: #FFFFFF;\n",
              "    }\n",
              "  </style>\n",
              "\n",
              "      <script>\n",
              "        const buttonEl =\n",
              "          document.querySelector('#df-027a04d8-c55e-451b-a731-e9324bdfa7d6 button.colab-df-convert');\n",
              "        buttonEl.style.display =\n",
              "          google.colab.kernel.accessAllowed ? 'block' : 'none';\n",
              "\n",
              "        async function convertToInteractive(key) {\n",
              "          const element = document.querySelector('#df-027a04d8-c55e-451b-a731-e9324bdfa7d6');\n",
              "          const dataTable =\n",
              "            await google.colab.kernel.invokeFunction('convertToInteractive',\n",
              "                                                     [key], {});\n",
              "          if (!dataTable) return;\n",
              "\n",
              "          const docLinkHtml = 'Like what you see? Visit the ' +\n",
              "            '<a target=\"_blank\" href=https://colab.research.google.com/notebooks/data_table.ipynb>data table notebook</a>'\n",
              "            + ' to learn more about interactive tables.';\n",
              "          element.innerHTML = '';\n",
              "          dataTable['output_type'] = 'display_data';\n",
              "          await google.colab.output.renderOutput(dataTable, element);\n",
              "          const docLink = document.createElement('div');\n",
              "          docLink.innerHTML = docLinkHtml;\n",
              "          element.appendChild(docLink);\n",
              "        }\n",
              "      </script>\n",
              "    </div>\n",
              "  </div>\n",
              "  "
            ]
          },
          "metadata": {},
          "execution_count": 6
        }
      ],
      "source": [
        "df_train.head()"
      ]
    },
    {
      "cell_type": "code",
      "execution_count": 7,
      "metadata": {
        "colab": {
          "base_uri": "https://localhost:8080/",
          "height": 204
        },
        "id": "XWsYb5JLVgKH",
        "outputId": "5689cee1-5938-4832-bc02-502063dbc2c7"
      },
      "outputs": [
        {
          "output_type": "execute_result",
          "data": {
            "text/plain": [
              "                                                text  label\n",
              "0  trump promise new deal black america trump pro...    0.0\n",
              "1  foundation tie bedevil hillary clinton preside...    1.0\n",
              "2  number week long russia end oil dependence rbt...    0.0\n",
              "3  codesod rule ten remy porter remy escape enter...    0.0\n",
              "4  switch chip know anymore home scitech switch c...    0.0"
            ],
            "text/html": [
              "\n",
              "  <div id=\"df-2ea13e54-1d6e-41fd-920e-1bc4cc4d8494\">\n",
              "    <div class=\"colab-df-container\">\n",
              "      <div>\n",
              "<style scoped>\n",
              "    .dataframe tbody tr th:only-of-type {\n",
              "        vertical-align: middle;\n",
              "    }\n",
              "\n",
              "    .dataframe tbody tr th {\n",
              "        vertical-align: top;\n",
              "    }\n",
              "\n",
              "    .dataframe thead th {\n",
              "        text-align: right;\n",
              "    }\n",
              "</style>\n",
              "<table border=\"1\" class=\"dataframe\">\n",
              "  <thead>\n",
              "    <tr style=\"text-align: right;\">\n",
              "      <th></th>\n",
              "      <th>text</th>\n",
              "      <th>label</th>\n",
              "    </tr>\n",
              "  </thead>\n",
              "  <tbody>\n",
              "    <tr>\n",
              "      <th>0</th>\n",
              "      <td>trump promise new deal black america trump pro...</td>\n",
              "      <td>0.0</td>\n",
              "    </tr>\n",
              "    <tr>\n",
              "      <th>1</th>\n",
              "      <td>foundation tie bedevil hillary clinton preside...</td>\n",
              "      <td>1.0</td>\n",
              "    </tr>\n",
              "    <tr>\n",
              "      <th>2</th>\n",
              "      <td>number week long russia end oil dependence rbt...</td>\n",
              "      <td>0.0</td>\n",
              "    </tr>\n",
              "    <tr>\n",
              "      <th>3</th>\n",
              "      <td>codesod rule ten remy porter remy escape enter...</td>\n",
              "      <td>0.0</td>\n",
              "    </tr>\n",
              "    <tr>\n",
              "      <th>4</th>\n",
              "      <td>switch chip know anymore home scitech switch c...</td>\n",
              "      <td>0.0</td>\n",
              "    </tr>\n",
              "  </tbody>\n",
              "</table>\n",
              "</div>\n",
              "      <button class=\"colab-df-convert\" onclick=\"convertToInteractive('df-2ea13e54-1d6e-41fd-920e-1bc4cc4d8494')\"\n",
              "              title=\"Convert this dataframe to an interactive table.\"\n",
              "              style=\"display:none;\">\n",
              "        \n",
              "  <svg xmlns=\"http://www.w3.org/2000/svg\" height=\"24px\"viewBox=\"0 0 24 24\"\n",
              "       width=\"24px\">\n",
              "    <path d=\"M0 0h24v24H0V0z\" fill=\"none\"/>\n",
              "    <path d=\"M18.56 5.44l.94 2.06.94-2.06 2.06-.94-2.06-.94-.94-2.06-.94 2.06-2.06.94zm-11 1L8.5 8.5l.94-2.06 2.06-.94-2.06-.94L8.5 2.5l-.94 2.06-2.06.94zm10 10l.94 2.06.94-2.06 2.06-.94-2.06-.94-.94-2.06-.94 2.06-2.06.94z\"/><path d=\"M17.41 7.96l-1.37-1.37c-.4-.4-.92-.59-1.43-.59-.52 0-1.04.2-1.43.59L10.3 9.45l-7.72 7.72c-.78.78-.78 2.05 0 2.83L4 21.41c.39.39.9.59 1.41.59.51 0 1.02-.2 1.41-.59l7.78-7.78 2.81-2.81c.8-.78.8-2.07 0-2.86zM5.41 20L4 18.59l7.72-7.72 1.47 1.35L5.41 20z\"/>\n",
              "  </svg>\n",
              "      </button>\n",
              "      \n",
              "  <style>\n",
              "    .colab-df-container {\n",
              "      display:flex;\n",
              "      flex-wrap:wrap;\n",
              "      gap: 12px;\n",
              "    }\n",
              "\n",
              "    .colab-df-convert {\n",
              "      background-color: #E8F0FE;\n",
              "      border: none;\n",
              "      border-radius: 50%;\n",
              "      cursor: pointer;\n",
              "      display: none;\n",
              "      fill: #1967D2;\n",
              "      height: 32px;\n",
              "      padding: 0 0 0 0;\n",
              "      width: 32px;\n",
              "    }\n",
              "\n",
              "    .colab-df-convert:hover {\n",
              "      background-color: #E2EBFA;\n",
              "      box-shadow: 0px 1px 2px rgba(60, 64, 67, 0.3), 0px 1px 3px 1px rgba(60, 64, 67, 0.15);\n",
              "      fill: #174EA6;\n",
              "    }\n",
              "\n",
              "    [theme=dark] .colab-df-convert {\n",
              "      background-color: #3B4455;\n",
              "      fill: #D2E3FC;\n",
              "    }\n",
              "\n",
              "    [theme=dark] .colab-df-convert:hover {\n",
              "      background-color: #434B5C;\n",
              "      box-shadow: 0px 1px 3px 1px rgba(0, 0, 0, 0.15);\n",
              "      filter: drop-shadow(0px 1px 2px rgba(0, 0, 0, 0.3));\n",
              "      fill: #FFFFFF;\n",
              "    }\n",
              "  </style>\n",
              "\n",
              "      <script>\n",
              "        const buttonEl =\n",
              "          document.querySelector('#df-2ea13e54-1d6e-41fd-920e-1bc4cc4d8494 button.colab-df-convert');\n",
              "        buttonEl.style.display =\n",
              "          google.colab.kernel.accessAllowed ? 'block' : 'none';\n",
              "\n",
              "        async function convertToInteractive(key) {\n",
              "          const element = document.querySelector('#df-2ea13e54-1d6e-41fd-920e-1bc4cc4d8494');\n",
              "          const dataTable =\n",
              "            await google.colab.kernel.invokeFunction('convertToInteractive',\n",
              "                                                     [key], {});\n",
              "          if (!dataTable) return;\n",
              "\n",
              "          const docLinkHtml = 'Like what you see? Visit the ' +\n",
              "            '<a target=\"_blank\" href=https://colab.research.google.com/notebooks/data_table.ipynb>data table notebook</a>'\n",
              "            + ' to learn more about interactive tables.';\n",
              "          element.innerHTML = '';\n",
              "          dataTable['output_type'] = 'display_data';\n",
              "          await google.colab.output.renderOutput(dataTable, element);\n",
              "          const docLink = document.createElement('div');\n",
              "          docLink.innerHTML = docLinkHtml;\n",
              "          element.appendChild(docLink);\n",
              "        }\n",
              "      </script>\n",
              "    </div>\n",
              "  </div>\n",
              "  "
            ]
          },
          "metadata": {},
          "execution_count": 7
        }
      ],
      "source": [
        "df_test.head()"
      ]
    },
    {
      "cell_type": "code",
      "execution_count": 8,
      "metadata": {
        "id": "8VCUvBAoVgKI"
      },
      "outputs": [],
      "source": [
        "## Get the Independent Features\n",
        "\n",
        "X=df_train.drop('label',axis=1)"
      ]
    },
    {
      "cell_type": "code",
      "execution_count": 9,
      "metadata": {
        "colab": {
          "base_uri": "https://localhost:8080/",
          "height": 204
        },
        "id": "M48q52WMVgKI",
        "outputId": "268bb034-efe7-412a-e2b8-06a3b9e39dcd"
      },
      "outputs": [
        {
          "output_type": "execute_result",
          "data": {
            "text/plain": [
              "                                                text\n",
              "0  dark agenda behind globalism open border altma...\n",
              "1  america poor still get shaft sami jamil jadall...\n",
              "2  number accuser grow former miss finland accuse...\n",
              "3  heroic prego advertisement replaces refresh we...\n",
              "4  russia syria debbie reynolds thursday even bri..."
            ],
            "text/html": [
              "\n",
              "  <div id=\"df-04af4e64-40f1-4db0-bf45-8e2b0cad649e\">\n",
              "    <div class=\"colab-df-container\">\n",
              "      <div>\n",
              "<style scoped>\n",
              "    .dataframe tbody tr th:only-of-type {\n",
              "        vertical-align: middle;\n",
              "    }\n",
              "\n",
              "    .dataframe tbody tr th {\n",
              "        vertical-align: top;\n",
              "    }\n",
              "\n",
              "    .dataframe thead th {\n",
              "        text-align: right;\n",
              "    }\n",
              "</style>\n",
              "<table border=\"1\" class=\"dataframe\">\n",
              "  <thead>\n",
              "    <tr style=\"text-align: right;\">\n",
              "      <th></th>\n",
              "      <th>text</th>\n",
              "    </tr>\n",
              "  </thead>\n",
              "  <tbody>\n",
              "    <tr>\n",
              "      <th>0</th>\n",
              "      <td>dark agenda behind globalism open border altma...</td>\n",
              "    </tr>\n",
              "    <tr>\n",
              "      <th>1</th>\n",
              "      <td>america poor still get shaft sami jamil jadall...</td>\n",
              "    </tr>\n",
              "    <tr>\n",
              "      <th>2</th>\n",
              "      <td>number accuser grow former miss finland accuse...</td>\n",
              "    </tr>\n",
              "    <tr>\n",
              "      <th>3</th>\n",
              "      <td>heroic prego advertisement replaces refresh we...</td>\n",
              "    </tr>\n",
              "    <tr>\n",
              "      <th>4</th>\n",
              "      <td>russia syria debbie reynolds thursday even bri...</td>\n",
              "    </tr>\n",
              "  </tbody>\n",
              "</table>\n",
              "</div>\n",
              "      <button class=\"colab-df-convert\" onclick=\"convertToInteractive('df-04af4e64-40f1-4db0-bf45-8e2b0cad649e')\"\n",
              "              title=\"Convert this dataframe to an interactive table.\"\n",
              "              style=\"display:none;\">\n",
              "        \n",
              "  <svg xmlns=\"http://www.w3.org/2000/svg\" height=\"24px\"viewBox=\"0 0 24 24\"\n",
              "       width=\"24px\">\n",
              "    <path d=\"M0 0h24v24H0V0z\" fill=\"none\"/>\n",
              "    <path d=\"M18.56 5.44l.94 2.06.94-2.06 2.06-.94-2.06-.94-.94-2.06-.94 2.06-2.06.94zm-11 1L8.5 8.5l.94-2.06 2.06-.94-2.06-.94L8.5 2.5l-.94 2.06-2.06.94zm10 10l.94 2.06.94-2.06 2.06-.94-2.06-.94-.94-2.06-.94 2.06-2.06.94z\"/><path d=\"M17.41 7.96l-1.37-1.37c-.4-.4-.92-.59-1.43-.59-.52 0-1.04.2-1.43.59L10.3 9.45l-7.72 7.72c-.78.78-.78 2.05 0 2.83L4 21.41c.39.39.9.59 1.41.59.51 0 1.02-.2 1.41-.59l7.78-7.78 2.81-2.81c.8-.78.8-2.07 0-2.86zM5.41 20L4 18.59l7.72-7.72 1.47 1.35L5.41 20z\"/>\n",
              "  </svg>\n",
              "      </button>\n",
              "      \n",
              "  <style>\n",
              "    .colab-df-container {\n",
              "      display:flex;\n",
              "      flex-wrap:wrap;\n",
              "      gap: 12px;\n",
              "    }\n",
              "\n",
              "    .colab-df-convert {\n",
              "      background-color: #E8F0FE;\n",
              "      border: none;\n",
              "      border-radius: 50%;\n",
              "      cursor: pointer;\n",
              "      display: none;\n",
              "      fill: #1967D2;\n",
              "      height: 32px;\n",
              "      padding: 0 0 0 0;\n",
              "      width: 32px;\n",
              "    }\n",
              "\n",
              "    .colab-df-convert:hover {\n",
              "      background-color: #E2EBFA;\n",
              "      box-shadow: 0px 1px 2px rgba(60, 64, 67, 0.3), 0px 1px 3px 1px rgba(60, 64, 67, 0.15);\n",
              "      fill: #174EA6;\n",
              "    }\n",
              "\n",
              "    [theme=dark] .colab-df-convert {\n",
              "      background-color: #3B4455;\n",
              "      fill: #D2E3FC;\n",
              "    }\n",
              "\n",
              "    [theme=dark] .colab-df-convert:hover {\n",
              "      background-color: #434B5C;\n",
              "      box-shadow: 0px 1px 3px 1px rgba(0, 0, 0, 0.15);\n",
              "      filter: drop-shadow(0px 1px 2px rgba(0, 0, 0, 0.3));\n",
              "      fill: #FFFFFF;\n",
              "    }\n",
              "  </style>\n",
              "\n",
              "      <script>\n",
              "        const buttonEl =\n",
              "          document.querySelector('#df-04af4e64-40f1-4db0-bf45-8e2b0cad649e button.colab-df-convert');\n",
              "        buttonEl.style.display =\n",
              "          google.colab.kernel.accessAllowed ? 'block' : 'none';\n",
              "\n",
              "        async function convertToInteractive(key) {\n",
              "          const element = document.querySelector('#df-04af4e64-40f1-4db0-bf45-8e2b0cad649e');\n",
              "          const dataTable =\n",
              "            await google.colab.kernel.invokeFunction('convertToInteractive',\n",
              "                                                     [key], {});\n",
              "          if (!dataTable) return;\n",
              "\n",
              "          const docLinkHtml = 'Like what you see? Visit the ' +\n",
              "            '<a target=\"_blank\" href=https://colab.research.google.com/notebooks/data_table.ipynb>data table notebook</a>'\n",
              "            + ' to learn more about interactive tables.';\n",
              "          element.innerHTML = '';\n",
              "          dataTable['output_type'] = 'display_data';\n",
              "          await google.colab.output.renderOutput(dataTable, element);\n",
              "          const docLink = document.createElement('div');\n",
              "          docLink.innerHTML = docLinkHtml;\n",
              "          element.appendChild(docLink);\n",
              "        }\n",
              "      </script>\n",
              "    </div>\n",
              "  </div>\n",
              "  "
            ]
          },
          "metadata": {},
          "execution_count": 9
        }
      ],
      "source": [
        "X.head()"
      ]
    },
    {
      "cell_type": "code",
      "execution_count": 10,
      "metadata": {
        "id": "pRMLG9R1VgKJ"
      },
      "outputs": [],
      "source": [
        "## Get the Dependent features\n",
        "y=df_train['label']"
      ]
    },
    {
      "cell_type": "code",
      "execution_count": 11,
      "metadata": {
        "colab": {
          "base_uri": "https://localhost:8080/"
        },
        "id": "9GNJohNYVgKJ",
        "outputId": "6befb312-e14a-470a-b091-82fee2ba4b61"
      },
      "outputs": [
        {
          "output_type": "execute_result",
          "data": {
            "text/plain": [
              "0    0.0\n",
              "1    0.0\n",
              "2    0.0\n",
              "3    0.0\n",
              "4    1.0\n",
              "Name: label, dtype: float64"
            ]
          },
          "metadata": {},
          "execution_count": 11
        }
      ],
      "source": [
        "y.head()"
      ]
    },
    {
      "cell_type": "code",
      "execution_count": 12,
      "metadata": {
        "colab": {
          "base_uri": "https://localhost:8080/"
        },
        "id": "XKKLrzBiVgKJ",
        "outputId": "8eeaca72-c8fc-41d6-f0c6-5b73fbc6da65"
      },
      "outputs": [
        {
          "output_type": "execute_result",
          "data": {
            "text/plain": [
              "(2482, 2)"
            ]
          },
          "metadata": {},
          "execution_count": 12
        }
      ],
      "source": [
        "df_train.shape"
      ]
    },
    {
      "cell_type": "code",
      "execution_count": 13,
      "metadata": {
        "id": "cLQjl9vLVgKJ"
      },
      "outputs": [],
      "source": [
        "z=df_test['label']"
      ]
    },
    {
      "cell_type": "code",
      "execution_count": 14,
      "metadata": {
        "colab": {
          "base_uri": "https://localhost:8080/"
        },
        "id": "QFuf5-F9VgKK",
        "outputId": "6ddd6357-c57e-4089-bacd-60bb78b1cf58"
      },
      "outputs": [
        {
          "output_type": "execute_result",
          "data": {
            "text/plain": [
              "0    0.0\n",
              "1    1.0\n",
              "2    0.0\n",
              "3    0.0\n",
              "4    0.0\n",
              "Name: label, dtype: float64"
            ]
          },
          "metadata": {},
          "execution_count": 14
        }
      ],
      "source": [
        "z.head()"
      ]
    },
    {
      "cell_type": "code",
      "execution_count": 15,
      "metadata": {
        "colab": {
          "base_uri": "https://localhost:8080/"
        },
        "id": "R0k6r-bdVgKK",
        "outputId": "6c89936c-283d-40ae-c590-20bc5ed74391"
      },
      "outputs": [
        {
          "output_type": "execute_result",
          "data": {
            "text/plain": [
              "(2064, 2)"
            ]
          },
          "metadata": {},
          "execution_count": 15
        }
      ],
      "source": [
        "df_test.shape"
      ]
    },
    {
      "cell_type": "code",
      "execution_count": 16,
      "metadata": {
        "id": "IpULYqy6VgKK"
      },
      "outputs": [],
      "source": [
        "from sklearn.feature_extraction.text import TfidfVectorizer"
      ]
    },
    {
      "cell_type": "code",
      "execution_count": 17,
      "metadata": {
        "id": "BCz-LDqTVgKK"
      },
      "outputs": [],
      "source": [
        "df_train=df_train.dropna()"
      ]
    },
    {
      "cell_type": "code",
      "execution_count": 18,
      "metadata": {
        "colab": {
          "base_uri": "https://localhost:8080/",
          "height": 359
        },
        "id": "aVt0ebzvVgKL",
        "outputId": "16c43f57-5c35-4538-d185-6e3191e70ced"
      },
      "outputs": [
        {
          "output_type": "execute_result",
          "data": {
            "text/plain": [
              "                                                text  label\n",
              "0  dark agenda behind globalism open border altma...    0.0\n",
              "1  america poor still get shaft sami jamil jadall...    0.0\n",
              "2  number accuser grow former miss finland accuse...    0.0\n",
              "3  heroic prego advertisement replaces refresh we...    0.0\n",
              "4  russia syria debbie reynolds thursday even bri...    1.0\n",
              "5  come ice age consciousness afterlife come ice ...    0.0\n",
              "6  russia ask cia hillary clinton buy million wor...    0.0\n",
              "7  supreme court say police may use evidence find...    1.0\n",
              "8  msnbc screw interview two africanamerican dona...    0.0\n",
              "9  trump vow quick action stop terrorism setback ...    1.0"
            ],
            "text/html": [
              "\n",
              "  <div id=\"df-5d830ca0-9edf-446b-b853-99f2e7be9d77\">\n",
              "    <div class=\"colab-df-container\">\n",
              "      <div>\n",
              "<style scoped>\n",
              "    .dataframe tbody tr th:only-of-type {\n",
              "        vertical-align: middle;\n",
              "    }\n",
              "\n",
              "    .dataframe tbody tr th {\n",
              "        vertical-align: top;\n",
              "    }\n",
              "\n",
              "    .dataframe thead th {\n",
              "        text-align: right;\n",
              "    }\n",
              "</style>\n",
              "<table border=\"1\" class=\"dataframe\">\n",
              "  <thead>\n",
              "    <tr style=\"text-align: right;\">\n",
              "      <th></th>\n",
              "      <th>text</th>\n",
              "      <th>label</th>\n",
              "    </tr>\n",
              "  </thead>\n",
              "  <tbody>\n",
              "    <tr>\n",
              "      <th>0</th>\n",
              "      <td>dark agenda behind globalism open border altma...</td>\n",
              "      <td>0.0</td>\n",
              "    </tr>\n",
              "    <tr>\n",
              "      <th>1</th>\n",
              "      <td>america poor still get shaft sami jamil jadall...</td>\n",
              "      <td>0.0</td>\n",
              "    </tr>\n",
              "    <tr>\n",
              "      <th>2</th>\n",
              "      <td>number accuser grow former miss finland accuse...</td>\n",
              "      <td>0.0</td>\n",
              "    </tr>\n",
              "    <tr>\n",
              "      <th>3</th>\n",
              "      <td>heroic prego advertisement replaces refresh we...</td>\n",
              "      <td>0.0</td>\n",
              "    </tr>\n",
              "    <tr>\n",
              "      <th>4</th>\n",
              "      <td>russia syria debbie reynolds thursday even bri...</td>\n",
              "      <td>1.0</td>\n",
              "    </tr>\n",
              "    <tr>\n",
              "      <th>5</th>\n",
              "      <td>come ice age consciousness afterlife come ice ...</td>\n",
              "      <td>0.0</td>\n",
              "    </tr>\n",
              "    <tr>\n",
              "      <th>6</th>\n",
              "      <td>russia ask cia hillary clinton buy million wor...</td>\n",
              "      <td>0.0</td>\n",
              "    </tr>\n",
              "    <tr>\n",
              "      <th>7</th>\n",
              "      <td>supreme court say police may use evidence find...</td>\n",
              "      <td>1.0</td>\n",
              "    </tr>\n",
              "    <tr>\n",
              "      <th>8</th>\n",
              "      <td>msnbc screw interview two africanamerican dona...</td>\n",
              "      <td>0.0</td>\n",
              "    </tr>\n",
              "    <tr>\n",
              "      <th>9</th>\n",
              "      <td>trump vow quick action stop terrorism setback ...</td>\n",
              "      <td>1.0</td>\n",
              "    </tr>\n",
              "  </tbody>\n",
              "</table>\n",
              "</div>\n",
              "      <button class=\"colab-df-convert\" onclick=\"convertToInteractive('df-5d830ca0-9edf-446b-b853-99f2e7be9d77')\"\n",
              "              title=\"Convert this dataframe to an interactive table.\"\n",
              "              style=\"display:none;\">\n",
              "        \n",
              "  <svg xmlns=\"http://www.w3.org/2000/svg\" height=\"24px\"viewBox=\"0 0 24 24\"\n",
              "       width=\"24px\">\n",
              "    <path d=\"M0 0h24v24H0V0z\" fill=\"none\"/>\n",
              "    <path d=\"M18.56 5.44l.94 2.06.94-2.06 2.06-.94-2.06-.94-.94-2.06-.94 2.06-2.06.94zm-11 1L8.5 8.5l.94-2.06 2.06-.94-2.06-.94L8.5 2.5l-.94 2.06-2.06.94zm10 10l.94 2.06.94-2.06 2.06-.94-2.06-.94-.94-2.06-.94 2.06-2.06.94z\"/><path d=\"M17.41 7.96l-1.37-1.37c-.4-.4-.92-.59-1.43-.59-.52 0-1.04.2-1.43.59L10.3 9.45l-7.72 7.72c-.78.78-.78 2.05 0 2.83L4 21.41c.39.39.9.59 1.41.59.51 0 1.02-.2 1.41-.59l7.78-7.78 2.81-2.81c.8-.78.8-2.07 0-2.86zM5.41 20L4 18.59l7.72-7.72 1.47 1.35L5.41 20z\"/>\n",
              "  </svg>\n",
              "      </button>\n",
              "      \n",
              "  <style>\n",
              "    .colab-df-container {\n",
              "      display:flex;\n",
              "      flex-wrap:wrap;\n",
              "      gap: 12px;\n",
              "    }\n",
              "\n",
              "    .colab-df-convert {\n",
              "      background-color: #E8F0FE;\n",
              "      border: none;\n",
              "      border-radius: 50%;\n",
              "      cursor: pointer;\n",
              "      display: none;\n",
              "      fill: #1967D2;\n",
              "      height: 32px;\n",
              "      padding: 0 0 0 0;\n",
              "      width: 32px;\n",
              "    }\n",
              "\n",
              "    .colab-df-convert:hover {\n",
              "      background-color: #E2EBFA;\n",
              "      box-shadow: 0px 1px 2px rgba(60, 64, 67, 0.3), 0px 1px 3px 1px rgba(60, 64, 67, 0.15);\n",
              "      fill: #174EA6;\n",
              "    }\n",
              "\n",
              "    [theme=dark] .colab-df-convert {\n",
              "      background-color: #3B4455;\n",
              "      fill: #D2E3FC;\n",
              "    }\n",
              "\n",
              "    [theme=dark] .colab-df-convert:hover {\n",
              "      background-color: #434B5C;\n",
              "      box-shadow: 0px 1px 3px 1px rgba(0, 0, 0, 0.15);\n",
              "      filter: drop-shadow(0px 1px 2px rgba(0, 0, 0, 0.3));\n",
              "      fill: #FFFFFF;\n",
              "    }\n",
              "  </style>\n",
              "\n",
              "      <script>\n",
              "        const buttonEl =\n",
              "          document.querySelector('#df-5d830ca0-9edf-446b-b853-99f2e7be9d77 button.colab-df-convert');\n",
              "        buttonEl.style.display =\n",
              "          google.colab.kernel.accessAllowed ? 'block' : 'none';\n",
              "\n",
              "        async function convertToInteractive(key) {\n",
              "          const element = document.querySelector('#df-5d830ca0-9edf-446b-b853-99f2e7be9d77');\n",
              "          const dataTable =\n",
              "            await google.colab.kernel.invokeFunction('convertToInteractive',\n",
              "                                                     [key], {});\n",
              "          if (!dataTable) return;\n",
              "\n",
              "          const docLinkHtml = 'Like what you see? Visit the ' +\n",
              "            '<a target=\"_blank\" href=https://colab.research.google.com/notebooks/data_table.ipynb>data table notebook</a>'\n",
              "            + ' to learn more about interactive tables.';\n",
              "          element.innerHTML = '';\n",
              "          dataTable['output_type'] = 'display_data';\n",
              "          await google.colab.output.renderOutput(dataTable, element);\n",
              "          const docLink = document.createElement('div');\n",
              "          docLink.innerHTML = docLinkHtml;\n",
              "          element.appendChild(docLink);\n",
              "        }\n",
              "      </script>\n",
              "    </div>\n",
              "  </div>\n",
              "  "
            ]
          },
          "metadata": {},
          "execution_count": 18
        }
      ],
      "source": [
        "df_train.head(10)"
      ]
    },
    {
      "cell_type": "code",
      "execution_count": 19,
      "metadata": {
        "colab": {
          "base_uri": "https://localhost:8080/"
        },
        "id": "kM1hyOMeVgKL",
        "outputId": "158b688e-0f39-4a9c-c0c8-40d8acbdb6df"
      },
      "outputs": [
        {
          "output_type": "execute_result",
          "data": {
            "text/plain": [
              "2481"
            ]
          },
          "metadata": {},
          "execution_count": 19
        }
      ],
      "source": [
        "len(df_train)"
      ]
    },
    {
      "cell_type": "code",
      "execution_count": 20,
      "metadata": {
        "id": "l6xX51ocVgKL"
      },
      "outputs": [],
      "source": [
        "df_test=df_test.dropna()"
      ]
    },
    {
      "cell_type": "code",
      "execution_count": 21,
      "metadata": {
        "colab": {
          "base_uri": "https://localhost:8080/",
          "height": 359
        },
        "id": "NzybrjtRVgKM",
        "outputId": "313ac823-2742-48c7-fa56-273ddae1114f"
      },
      "outputs": [
        {
          "output_type": "execute_result",
          "data": {
            "text/plain": [
              "                                                text  label\n",
              "0  trump promise new deal black america trump pro...    0.0\n",
              "1  foundation tie bedevil hillary clinton preside...    1.0\n",
              "2  number week long russia end oil dependence rbt...    0.0\n",
              "3  codesod rule ten remy porter remy escape enter...    0.0\n",
              "4  switch chip know anymore home scitech switch c...    0.0\n",
              "5  donald trump russia rodrigo duterte thursday b...    1.0\n",
              "6  mattis iraq oil reuters u military iraq seize ...    1.0\n",
              "7  fbi actually investigate candidate hillary cli...    0.0\n",
              "8  inperson coach university versus technology pr...    0.0\n",
              "9  obama doj handmaiden clinton corruption go art...    0.0"
            ],
            "text/html": [
              "\n",
              "  <div id=\"df-e8be9838-bc39-48ed-aa46-f74590c090d7\">\n",
              "    <div class=\"colab-df-container\">\n",
              "      <div>\n",
              "<style scoped>\n",
              "    .dataframe tbody tr th:only-of-type {\n",
              "        vertical-align: middle;\n",
              "    }\n",
              "\n",
              "    .dataframe tbody tr th {\n",
              "        vertical-align: top;\n",
              "    }\n",
              "\n",
              "    .dataframe thead th {\n",
              "        text-align: right;\n",
              "    }\n",
              "</style>\n",
              "<table border=\"1\" class=\"dataframe\">\n",
              "  <thead>\n",
              "    <tr style=\"text-align: right;\">\n",
              "      <th></th>\n",
              "      <th>text</th>\n",
              "      <th>label</th>\n",
              "    </tr>\n",
              "  </thead>\n",
              "  <tbody>\n",
              "    <tr>\n",
              "      <th>0</th>\n",
              "      <td>trump promise new deal black america trump pro...</td>\n",
              "      <td>0.0</td>\n",
              "    </tr>\n",
              "    <tr>\n",
              "      <th>1</th>\n",
              "      <td>foundation tie bedevil hillary clinton preside...</td>\n",
              "      <td>1.0</td>\n",
              "    </tr>\n",
              "    <tr>\n",
              "      <th>2</th>\n",
              "      <td>number week long russia end oil dependence rbt...</td>\n",
              "      <td>0.0</td>\n",
              "    </tr>\n",
              "    <tr>\n",
              "      <th>3</th>\n",
              "      <td>codesod rule ten remy porter remy escape enter...</td>\n",
              "      <td>0.0</td>\n",
              "    </tr>\n",
              "    <tr>\n",
              "      <th>4</th>\n",
              "      <td>switch chip know anymore home scitech switch c...</td>\n",
              "      <td>0.0</td>\n",
              "    </tr>\n",
              "    <tr>\n",
              "      <th>5</th>\n",
              "      <td>donald trump russia rodrigo duterte thursday b...</td>\n",
              "      <td>1.0</td>\n",
              "    </tr>\n",
              "    <tr>\n",
              "      <th>6</th>\n",
              "      <td>mattis iraq oil reuters u military iraq seize ...</td>\n",
              "      <td>1.0</td>\n",
              "    </tr>\n",
              "    <tr>\n",
              "      <th>7</th>\n",
              "      <td>fbi actually investigate candidate hillary cli...</td>\n",
              "      <td>0.0</td>\n",
              "    </tr>\n",
              "    <tr>\n",
              "      <th>8</th>\n",
              "      <td>inperson coach university versus technology pr...</td>\n",
              "      <td>0.0</td>\n",
              "    </tr>\n",
              "    <tr>\n",
              "      <th>9</th>\n",
              "      <td>obama doj handmaiden clinton corruption go art...</td>\n",
              "      <td>0.0</td>\n",
              "    </tr>\n",
              "  </tbody>\n",
              "</table>\n",
              "</div>\n",
              "      <button class=\"colab-df-convert\" onclick=\"convertToInteractive('df-e8be9838-bc39-48ed-aa46-f74590c090d7')\"\n",
              "              title=\"Convert this dataframe to an interactive table.\"\n",
              "              style=\"display:none;\">\n",
              "        \n",
              "  <svg xmlns=\"http://www.w3.org/2000/svg\" height=\"24px\"viewBox=\"0 0 24 24\"\n",
              "       width=\"24px\">\n",
              "    <path d=\"M0 0h24v24H0V0z\" fill=\"none\"/>\n",
              "    <path d=\"M18.56 5.44l.94 2.06.94-2.06 2.06-.94-2.06-.94-.94-2.06-.94 2.06-2.06.94zm-11 1L8.5 8.5l.94-2.06 2.06-.94-2.06-.94L8.5 2.5l-.94 2.06-2.06.94zm10 10l.94 2.06.94-2.06 2.06-.94-2.06-.94-.94-2.06-.94 2.06-2.06.94z\"/><path d=\"M17.41 7.96l-1.37-1.37c-.4-.4-.92-.59-1.43-.59-.52 0-1.04.2-1.43.59L10.3 9.45l-7.72 7.72c-.78.78-.78 2.05 0 2.83L4 21.41c.39.39.9.59 1.41.59.51 0 1.02-.2 1.41-.59l7.78-7.78 2.81-2.81c.8-.78.8-2.07 0-2.86zM5.41 20L4 18.59l7.72-7.72 1.47 1.35L5.41 20z\"/>\n",
              "  </svg>\n",
              "      </button>\n",
              "      \n",
              "  <style>\n",
              "    .colab-df-container {\n",
              "      display:flex;\n",
              "      flex-wrap:wrap;\n",
              "      gap: 12px;\n",
              "    }\n",
              "\n",
              "    .colab-df-convert {\n",
              "      background-color: #E8F0FE;\n",
              "      border: none;\n",
              "      border-radius: 50%;\n",
              "      cursor: pointer;\n",
              "      display: none;\n",
              "      fill: #1967D2;\n",
              "      height: 32px;\n",
              "      padding: 0 0 0 0;\n",
              "      width: 32px;\n",
              "    }\n",
              "\n",
              "    .colab-df-convert:hover {\n",
              "      background-color: #E2EBFA;\n",
              "      box-shadow: 0px 1px 2px rgba(60, 64, 67, 0.3), 0px 1px 3px 1px rgba(60, 64, 67, 0.15);\n",
              "      fill: #174EA6;\n",
              "    }\n",
              "\n",
              "    [theme=dark] .colab-df-convert {\n",
              "      background-color: #3B4455;\n",
              "      fill: #D2E3FC;\n",
              "    }\n",
              "\n",
              "    [theme=dark] .colab-df-convert:hover {\n",
              "      background-color: #434B5C;\n",
              "      box-shadow: 0px 1px 3px 1px rgba(0, 0, 0, 0.15);\n",
              "      filter: drop-shadow(0px 1px 2px rgba(0, 0, 0, 0.3));\n",
              "      fill: #FFFFFF;\n",
              "    }\n",
              "  </style>\n",
              "\n",
              "      <script>\n",
              "        const buttonEl =\n",
              "          document.querySelector('#df-e8be9838-bc39-48ed-aa46-f74590c090d7 button.colab-df-convert');\n",
              "        buttonEl.style.display =\n",
              "          google.colab.kernel.accessAllowed ? 'block' : 'none';\n",
              "\n",
              "        async function convertToInteractive(key) {\n",
              "          const element = document.querySelector('#df-e8be9838-bc39-48ed-aa46-f74590c090d7');\n",
              "          const dataTable =\n",
              "            await google.colab.kernel.invokeFunction('convertToInteractive',\n",
              "                                                     [key], {});\n",
              "          if (!dataTable) return;\n",
              "\n",
              "          const docLinkHtml = 'Like what you see? Visit the ' +\n",
              "            '<a target=\"_blank\" href=https://colab.research.google.com/notebooks/data_table.ipynb>data table notebook</a>'\n",
              "            + ' to learn more about interactive tables.';\n",
              "          element.innerHTML = '';\n",
              "          dataTable['output_type'] = 'display_data';\n",
              "          await google.colab.output.renderOutput(dataTable, element);\n",
              "          const docLink = document.createElement('div');\n",
              "          docLink.innerHTML = docLinkHtml;\n",
              "          element.appendChild(docLink);\n",
              "        }\n",
              "      </script>\n",
              "    </div>\n",
              "  </div>\n",
              "  "
            ]
          },
          "metadata": {},
          "execution_count": 21
        }
      ],
      "source": [
        "df_test.head(10)"
      ]
    },
    {
      "cell_type": "code",
      "execution_count": 22,
      "metadata": {
        "colab": {
          "base_uri": "https://localhost:8080/"
        },
        "id": "xggIDSK9VgKM",
        "outputId": "7923196b-d873-4951-f5ee-dda66fadd8b3"
      },
      "outputs": [
        {
          "output_type": "execute_result",
          "data": {
            "text/plain": [
              "2063"
            ]
          },
          "metadata": {},
          "execution_count": 22
        }
      ],
      "source": [
        "len(df_test)"
      ]
    },
    {
      "cell_type": "code",
      "execution_count": 23,
      "metadata": {
        "id": "eTvvLLXBVgKM"
      },
      "outputs": [],
      "source": [
        "messages1=df_train.copy()"
      ]
    },
    {
      "cell_type": "code",
      "execution_count": 24,
      "metadata": {
        "id": "8B574SkoVgKM"
      },
      "outputs": [],
      "source": [
        "messages1.reset_index(inplace=True)"
      ]
    },
    {
      "cell_type": "code",
      "execution_count": 25,
      "metadata": {
        "colab": {
          "base_uri": "https://localhost:8080/",
          "height": 359
        },
        "id": "I7Kq1OVZVgKM",
        "outputId": "b3204487-124e-4009-cd65-81d45a04c5bd"
      },
      "outputs": [
        {
          "output_type": "execute_result",
          "data": {
            "text/plain": [
              "   index                                               text  label\n",
              "0      0  dark agenda behind globalism open border altma...    0.0\n",
              "1      1  america poor still get shaft sami jamil jadall...    0.0\n",
              "2      2  number accuser grow former miss finland accuse...    0.0\n",
              "3      3  heroic prego advertisement replaces refresh we...    0.0\n",
              "4      4  russia syria debbie reynolds thursday even bri...    1.0\n",
              "5      5  come ice age consciousness afterlife come ice ...    0.0\n",
              "6      6  russia ask cia hillary clinton buy million wor...    0.0\n",
              "7      7  supreme court say police may use evidence find...    1.0\n",
              "8      8  msnbc screw interview two africanamerican dona...    0.0\n",
              "9      9  trump vow quick action stop terrorism setback ...    1.0"
            ],
            "text/html": [
              "\n",
              "  <div id=\"df-77320354-faf9-4d42-ad8c-6d2d455932cd\">\n",
              "    <div class=\"colab-df-container\">\n",
              "      <div>\n",
              "<style scoped>\n",
              "    .dataframe tbody tr th:only-of-type {\n",
              "        vertical-align: middle;\n",
              "    }\n",
              "\n",
              "    .dataframe tbody tr th {\n",
              "        vertical-align: top;\n",
              "    }\n",
              "\n",
              "    .dataframe thead th {\n",
              "        text-align: right;\n",
              "    }\n",
              "</style>\n",
              "<table border=\"1\" class=\"dataframe\">\n",
              "  <thead>\n",
              "    <tr style=\"text-align: right;\">\n",
              "      <th></th>\n",
              "      <th>index</th>\n",
              "      <th>text</th>\n",
              "      <th>label</th>\n",
              "    </tr>\n",
              "  </thead>\n",
              "  <tbody>\n",
              "    <tr>\n",
              "      <th>0</th>\n",
              "      <td>0</td>\n",
              "      <td>dark agenda behind globalism open border altma...</td>\n",
              "      <td>0.0</td>\n",
              "    </tr>\n",
              "    <tr>\n",
              "      <th>1</th>\n",
              "      <td>1</td>\n",
              "      <td>america poor still get shaft sami jamil jadall...</td>\n",
              "      <td>0.0</td>\n",
              "    </tr>\n",
              "    <tr>\n",
              "      <th>2</th>\n",
              "      <td>2</td>\n",
              "      <td>number accuser grow former miss finland accuse...</td>\n",
              "      <td>0.0</td>\n",
              "    </tr>\n",
              "    <tr>\n",
              "      <th>3</th>\n",
              "      <td>3</td>\n",
              "      <td>heroic prego advertisement replaces refresh we...</td>\n",
              "      <td>0.0</td>\n",
              "    </tr>\n",
              "    <tr>\n",
              "      <th>4</th>\n",
              "      <td>4</td>\n",
              "      <td>russia syria debbie reynolds thursday even bri...</td>\n",
              "      <td>1.0</td>\n",
              "    </tr>\n",
              "    <tr>\n",
              "      <th>5</th>\n",
              "      <td>5</td>\n",
              "      <td>come ice age consciousness afterlife come ice ...</td>\n",
              "      <td>0.0</td>\n",
              "    </tr>\n",
              "    <tr>\n",
              "      <th>6</th>\n",
              "      <td>6</td>\n",
              "      <td>russia ask cia hillary clinton buy million wor...</td>\n",
              "      <td>0.0</td>\n",
              "    </tr>\n",
              "    <tr>\n",
              "      <th>7</th>\n",
              "      <td>7</td>\n",
              "      <td>supreme court say police may use evidence find...</td>\n",
              "      <td>1.0</td>\n",
              "    </tr>\n",
              "    <tr>\n",
              "      <th>8</th>\n",
              "      <td>8</td>\n",
              "      <td>msnbc screw interview two africanamerican dona...</td>\n",
              "      <td>0.0</td>\n",
              "    </tr>\n",
              "    <tr>\n",
              "      <th>9</th>\n",
              "      <td>9</td>\n",
              "      <td>trump vow quick action stop terrorism setback ...</td>\n",
              "      <td>1.0</td>\n",
              "    </tr>\n",
              "  </tbody>\n",
              "</table>\n",
              "</div>\n",
              "      <button class=\"colab-df-convert\" onclick=\"convertToInteractive('df-77320354-faf9-4d42-ad8c-6d2d455932cd')\"\n",
              "              title=\"Convert this dataframe to an interactive table.\"\n",
              "              style=\"display:none;\">\n",
              "        \n",
              "  <svg xmlns=\"http://www.w3.org/2000/svg\" height=\"24px\"viewBox=\"0 0 24 24\"\n",
              "       width=\"24px\">\n",
              "    <path d=\"M0 0h24v24H0V0z\" fill=\"none\"/>\n",
              "    <path d=\"M18.56 5.44l.94 2.06.94-2.06 2.06-.94-2.06-.94-.94-2.06-.94 2.06-2.06.94zm-11 1L8.5 8.5l.94-2.06 2.06-.94-2.06-.94L8.5 2.5l-.94 2.06-2.06.94zm10 10l.94 2.06.94-2.06 2.06-.94-2.06-.94-.94-2.06-.94 2.06-2.06.94z\"/><path d=\"M17.41 7.96l-1.37-1.37c-.4-.4-.92-.59-1.43-.59-.52 0-1.04.2-1.43.59L10.3 9.45l-7.72 7.72c-.78.78-.78 2.05 0 2.83L4 21.41c.39.39.9.59 1.41.59.51 0 1.02-.2 1.41-.59l7.78-7.78 2.81-2.81c.8-.78.8-2.07 0-2.86zM5.41 20L4 18.59l7.72-7.72 1.47 1.35L5.41 20z\"/>\n",
              "  </svg>\n",
              "      </button>\n",
              "      \n",
              "  <style>\n",
              "    .colab-df-container {\n",
              "      display:flex;\n",
              "      flex-wrap:wrap;\n",
              "      gap: 12px;\n",
              "    }\n",
              "\n",
              "    .colab-df-convert {\n",
              "      background-color: #E8F0FE;\n",
              "      border: none;\n",
              "      border-radius: 50%;\n",
              "      cursor: pointer;\n",
              "      display: none;\n",
              "      fill: #1967D2;\n",
              "      height: 32px;\n",
              "      padding: 0 0 0 0;\n",
              "      width: 32px;\n",
              "    }\n",
              "\n",
              "    .colab-df-convert:hover {\n",
              "      background-color: #E2EBFA;\n",
              "      box-shadow: 0px 1px 2px rgba(60, 64, 67, 0.3), 0px 1px 3px 1px rgba(60, 64, 67, 0.15);\n",
              "      fill: #174EA6;\n",
              "    }\n",
              "\n",
              "    [theme=dark] .colab-df-convert {\n",
              "      background-color: #3B4455;\n",
              "      fill: #D2E3FC;\n",
              "    }\n",
              "\n",
              "    [theme=dark] .colab-df-convert:hover {\n",
              "      background-color: #434B5C;\n",
              "      box-shadow: 0px 1px 3px 1px rgba(0, 0, 0, 0.15);\n",
              "      filter: drop-shadow(0px 1px 2px rgba(0, 0, 0, 0.3));\n",
              "      fill: #FFFFFF;\n",
              "    }\n",
              "  </style>\n",
              "\n",
              "      <script>\n",
              "        const buttonEl =\n",
              "          document.querySelector('#df-77320354-faf9-4d42-ad8c-6d2d455932cd button.colab-df-convert');\n",
              "        buttonEl.style.display =\n",
              "          google.colab.kernel.accessAllowed ? 'block' : 'none';\n",
              "\n",
              "        async function convertToInteractive(key) {\n",
              "          const element = document.querySelector('#df-77320354-faf9-4d42-ad8c-6d2d455932cd');\n",
              "          const dataTable =\n",
              "            await google.colab.kernel.invokeFunction('convertToInteractive',\n",
              "                                                     [key], {});\n",
              "          if (!dataTable) return;\n",
              "\n",
              "          const docLinkHtml = 'Like what you see? Visit the ' +\n",
              "            '<a target=\"_blank\" href=https://colab.research.google.com/notebooks/data_table.ipynb>data table notebook</a>'\n",
              "            + ' to learn more about interactive tables.';\n",
              "          element.innerHTML = '';\n",
              "          dataTable['output_type'] = 'display_data';\n",
              "          await google.colab.output.renderOutput(dataTable, element);\n",
              "          const docLink = document.createElement('div');\n",
              "          docLink.innerHTML = docLinkHtml;\n",
              "          element.appendChild(docLink);\n",
              "        }\n",
              "      </script>\n",
              "    </div>\n",
              "  </div>\n",
              "  "
            ]
          },
          "metadata": {},
          "execution_count": 25
        }
      ],
      "source": [
        "messages1.head(10)"
      ]
    },
    {
      "cell_type": "code",
      "execution_count": 26,
      "metadata": {
        "colab": {
          "base_uri": "https://localhost:8080/",
          "height": 208
        },
        "id": "EYtKcWkUVgKN",
        "outputId": "72b284d0-e97f-4334-c65f-aff6bd94c1e3"
      },
      "outputs": [
        {
          "output_type": "execute_result",
          "data": {
            "text/plain": [
              "'russia ask cia hillary clinton buy million worth illegal arm stun foreign intelligence service svr report circulate kremlin today reveal security council sc morning authorize send american central intelligence agency cia emergency communiqu request immediate explanation hillary clinton money launder organization know clinton foundation past week purchase million illegal arm ammunition whose destination united state delivery mark midnovember note word andor phrase appear quote report english language approximation russian wordsphrases exact counterpart accord report svr analyst begin express urgent concern earlier year main elementsfactions fear viktor bout international arm smuggle crime organization begin arrive republic albania muslim nation europe viktor bout report explain popularly know west lord war working cia smuggle illegal weapon throughout world maniacal interest united state secretary state hillary clinton jail though citizen federation report continue svr complaintconcern hillary clinton bout jailed year internal matter cia whose intelligence analyst express worryconfusion past may u federal judge shira scheindlin say reduced sentence lead yesterday bout suddenlymagically transfer maximum security country club atmosphere general ward u federal prison he confine cia illegal arm smuggler viktor bout coincide bout mysteriousmagical prison transfer yesterday report note hillary clinton money launder clinton foundation transfer million socialist party albania spa control nation prime minister edi rama head xhakja clan know west albanian mafia also shockingly put power obamaclinton regime protest albanian people want mafia government control hillary clinton leave albanian xhakja clan mafia crime leader edi rama right hillary clinton international arm merchant prime minister rama turn entire balkan region one worlds large area arm smuggle threatens security report warn aided effort many call puppet master hungarianamerican billionaire george soros recently release shock secret email show order hillary clinton install mafia criminal leader albania fully understand hillary clinton make massive arm purchase doubt aid cia arm smuggler viktor bout svr analyst report explain adherence george soross radical vision open border singlehandedly begin implement create european refugee crisis likewise engulf united state hillary clinton become president exactly secret email reveals plan also report continue federation know well sorosclinton master plan take nation begin establishment call nongovernmental organization ngo act shadow government ready take power establish order throw chaos massive protest president putin ban operating russia united state however report grimly state american people defense shadow government ngo svr intelligence assests document report receive party hillary clinton massive arm purchase include george soros create ngos call open society foundation medium matter american institute social justice new america foundation migration policy institute tide foundation center american progress democracy alliance every single one stand violently oppose u constitution american people weapon hand hillary clinton new revolutionary report continue use unleash terror wave across america protest donald trump landslide victory thus enable president obama declare martial law disarm people allow u elector place hillary clinton power note american president elect voting citizen vote elector select nation state report sadly conclude though note massive vote fraud already commit hillary clinton new revolutionary throughout united state lead past week former u congressman joe walsh stunningly state trump lose grab musket reference one darkest time american history nation ordinary citizen band together fight british empire freedom strike fear americans hillary clinton new revolutionary right nothing'"
            ],
            "application/vnd.google.colaboratory.intrinsic+json": {
              "type": "string"
            }
          },
          "metadata": {},
          "execution_count": 26
        }
      ],
      "source": [
        "messages1['text'][6]"
      ]
    },
    {
      "cell_type": "code",
      "execution_count": 27,
      "metadata": {
        "id": "ts0vhYmYVgKN"
      },
      "outputs": [],
      "source": [
        "messages2=df_test.copy()"
      ]
    },
    {
      "cell_type": "code",
      "execution_count": 28,
      "metadata": {
        "id": "RKhNGZCcVgKN"
      },
      "outputs": [],
      "source": [
        "messages2.reset_index(inplace=True)"
      ]
    },
    {
      "cell_type": "code",
      "execution_count": 29,
      "metadata": {
        "colab": {
          "base_uri": "https://localhost:8080/",
          "height": 359
        },
        "id": "kHko-PmfVgKN",
        "outputId": "14667216-9617-4757-bdcc-b9620efe426a"
      },
      "outputs": [
        {
          "output_type": "execute_result",
          "data": {
            "text/plain": [
              "   index                                               text  label\n",
              "0      0  trump promise new deal black america trump pro...    0.0\n",
              "1      1  foundation tie bedevil hillary clinton preside...    1.0\n",
              "2      2  number week long russia end oil dependence rbt...    0.0\n",
              "3      3  codesod rule ten remy porter remy escape enter...    0.0\n",
              "4      4  switch chip know anymore home scitech switch c...    0.0\n",
              "5      5  donald trump russia rodrigo duterte thursday b...    1.0\n",
              "6      6  mattis iraq oil reuters u military iraq seize ...    1.0\n",
              "7      7  fbi actually investigate candidate hillary cli...    0.0\n",
              "8      8  inperson coach university versus technology pr...    0.0\n",
              "9      9  obama doj handmaiden clinton corruption go art...    0.0"
            ],
            "text/html": [
              "\n",
              "  <div id=\"df-ade3d3ed-987a-4717-b0a7-130248bb20e5\">\n",
              "    <div class=\"colab-df-container\">\n",
              "      <div>\n",
              "<style scoped>\n",
              "    .dataframe tbody tr th:only-of-type {\n",
              "        vertical-align: middle;\n",
              "    }\n",
              "\n",
              "    .dataframe tbody tr th {\n",
              "        vertical-align: top;\n",
              "    }\n",
              "\n",
              "    .dataframe thead th {\n",
              "        text-align: right;\n",
              "    }\n",
              "</style>\n",
              "<table border=\"1\" class=\"dataframe\">\n",
              "  <thead>\n",
              "    <tr style=\"text-align: right;\">\n",
              "      <th></th>\n",
              "      <th>index</th>\n",
              "      <th>text</th>\n",
              "      <th>label</th>\n",
              "    </tr>\n",
              "  </thead>\n",
              "  <tbody>\n",
              "    <tr>\n",
              "      <th>0</th>\n",
              "      <td>0</td>\n",
              "      <td>trump promise new deal black america trump pro...</td>\n",
              "      <td>0.0</td>\n",
              "    </tr>\n",
              "    <tr>\n",
              "      <th>1</th>\n",
              "      <td>1</td>\n",
              "      <td>foundation tie bedevil hillary clinton preside...</td>\n",
              "      <td>1.0</td>\n",
              "    </tr>\n",
              "    <tr>\n",
              "      <th>2</th>\n",
              "      <td>2</td>\n",
              "      <td>number week long russia end oil dependence rbt...</td>\n",
              "      <td>0.0</td>\n",
              "    </tr>\n",
              "    <tr>\n",
              "      <th>3</th>\n",
              "      <td>3</td>\n",
              "      <td>codesod rule ten remy porter remy escape enter...</td>\n",
              "      <td>0.0</td>\n",
              "    </tr>\n",
              "    <tr>\n",
              "      <th>4</th>\n",
              "      <td>4</td>\n",
              "      <td>switch chip know anymore home scitech switch c...</td>\n",
              "      <td>0.0</td>\n",
              "    </tr>\n",
              "    <tr>\n",
              "      <th>5</th>\n",
              "      <td>5</td>\n",
              "      <td>donald trump russia rodrigo duterte thursday b...</td>\n",
              "      <td>1.0</td>\n",
              "    </tr>\n",
              "    <tr>\n",
              "      <th>6</th>\n",
              "      <td>6</td>\n",
              "      <td>mattis iraq oil reuters u military iraq seize ...</td>\n",
              "      <td>1.0</td>\n",
              "    </tr>\n",
              "    <tr>\n",
              "      <th>7</th>\n",
              "      <td>7</td>\n",
              "      <td>fbi actually investigate candidate hillary cli...</td>\n",
              "      <td>0.0</td>\n",
              "    </tr>\n",
              "    <tr>\n",
              "      <th>8</th>\n",
              "      <td>8</td>\n",
              "      <td>inperson coach university versus technology pr...</td>\n",
              "      <td>0.0</td>\n",
              "    </tr>\n",
              "    <tr>\n",
              "      <th>9</th>\n",
              "      <td>9</td>\n",
              "      <td>obama doj handmaiden clinton corruption go art...</td>\n",
              "      <td>0.0</td>\n",
              "    </tr>\n",
              "  </tbody>\n",
              "</table>\n",
              "</div>\n",
              "      <button class=\"colab-df-convert\" onclick=\"convertToInteractive('df-ade3d3ed-987a-4717-b0a7-130248bb20e5')\"\n",
              "              title=\"Convert this dataframe to an interactive table.\"\n",
              "              style=\"display:none;\">\n",
              "        \n",
              "  <svg xmlns=\"http://www.w3.org/2000/svg\" height=\"24px\"viewBox=\"0 0 24 24\"\n",
              "       width=\"24px\">\n",
              "    <path d=\"M0 0h24v24H0V0z\" fill=\"none\"/>\n",
              "    <path d=\"M18.56 5.44l.94 2.06.94-2.06 2.06-.94-2.06-.94-.94-2.06-.94 2.06-2.06.94zm-11 1L8.5 8.5l.94-2.06 2.06-.94-2.06-.94L8.5 2.5l-.94 2.06-2.06.94zm10 10l.94 2.06.94-2.06 2.06-.94-2.06-.94-.94-2.06-.94 2.06-2.06.94z\"/><path d=\"M17.41 7.96l-1.37-1.37c-.4-.4-.92-.59-1.43-.59-.52 0-1.04.2-1.43.59L10.3 9.45l-7.72 7.72c-.78.78-.78 2.05 0 2.83L4 21.41c.39.39.9.59 1.41.59.51 0 1.02-.2 1.41-.59l7.78-7.78 2.81-2.81c.8-.78.8-2.07 0-2.86zM5.41 20L4 18.59l7.72-7.72 1.47 1.35L5.41 20z\"/>\n",
              "  </svg>\n",
              "      </button>\n",
              "      \n",
              "  <style>\n",
              "    .colab-df-container {\n",
              "      display:flex;\n",
              "      flex-wrap:wrap;\n",
              "      gap: 12px;\n",
              "    }\n",
              "\n",
              "    .colab-df-convert {\n",
              "      background-color: #E8F0FE;\n",
              "      border: none;\n",
              "      border-radius: 50%;\n",
              "      cursor: pointer;\n",
              "      display: none;\n",
              "      fill: #1967D2;\n",
              "      height: 32px;\n",
              "      padding: 0 0 0 0;\n",
              "      width: 32px;\n",
              "    }\n",
              "\n",
              "    .colab-df-convert:hover {\n",
              "      background-color: #E2EBFA;\n",
              "      box-shadow: 0px 1px 2px rgba(60, 64, 67, 0.3), 0px 1px 3px 1px rgba(60, 64, 67, 0.15);\n",
              "      fill: #174EA6;\n",
              "    }\n",
              "\n",
              "    [theme=dark] .colab-df-convert {\n",
              "      background-color: #3B4455;\n",
              "      fill: #D2E3FC;\n",
              "    }\n",
              "\n",
              "    [theme=dark] .colab-df-convert:hover {\n",
              "      background-color: #434B5C;\n",
              "      box-shadow: 0px 1px 3px 1px rgba(0, 0, 0, 0.15);\n",
              "      filter: drop-shadow(0px 1px 2px rgba(0, 0, 0, 0.3));\n",
              "      fill: #FFFFFF;\n",
              "    }\n",
              "  </style>\n",
              "\n",
              "      <script>\n",
              "        const buttonEl =\n",
              "          document.querySelector('#df-ade3d3ed-987a-4717-b0a7-130248bb20e5 button.colab-df-convert');\n",
              "        buttonEl.style.display =\n",
              "          google.colab.kernel.accessAllowed ? 'block' : 'none';\n",
              "\n",
              "        async function convertToInteractive(key) {\n",
              "          const element = document.querySelector('#df-ade3d3ed-987a-4717-b0a7-130248bb20e5');\n",
              "          const dataTable =\n",
              "            await google.colab.kernel.invokeFunction('convertToInteractive',\n",
              "                                                     [key], {});\n",
              "          if (!dataTable) return;\n",
              "\n",
              "          const docLinkHtml = 'Like what you see? Visit the ' +\n",
              "            '<a target=\"_blank\" href=https://colab.research.google.com/notebooks/data_table.ipynb>data table notebook</a>'\n",
              "            + ' to learn more about interactive tables.';\n",
              "          element.innerHTML = '';\n",
              "          dataTable['output_type'] = 'display_data';\n",
              "          await google.colab.output.renderOutput(dataTable, element);\n",
              "          const docLink = document.createElement('div');\n",
              "          docLink.innerHTML = docLinkHtml;\n",
              "          element.appendChild(docLink);\n",
              "        }\n",
              "      </script>\n",
              "    </div>\n",
              "  </div>\n",
              "  "
            ]
          },
          "metadata": {},
          "execution_count": 29
        }
      ],
      "source": [
        "messages2.head(10)"
      ]
    },
    {
      "cell_type": "code",
      "execution_count": 30,
      "metadata": {
        "colab": {
          "base_uri": "https://localhost:8080/",
          "height": 105
        },
        "id": "DbDNvaPCVgKN",
        "outputId": "2bdb78ff-3166-434d-9db4-be462cd3f2f5"
      },
      "outputs": [
        {
          "output_type": "execute_result",
          "data": {
            "text/plain": [
              "'mattis iraq oil reuters u military iraq seize anybody oil defense secretary jim mattis say arrive unannounced visit baghdad monday mattis first trip iraq pentagon chief hop get assessment war effort u iraqi force launch new push evict islamic state militant remain stronghold city mosul likely face question trump remark action include temporary ban travel united state say america seize iraq oil topple saddam hussein read'"
            ],
            "application/vnd.google.colaboratory.intrinsic+json": {
              "type": "string"
            }
          },
          "metadata": {},
          "execution_count": 30
        }
      ],
      "source": [
        "messages2['text'][6]"
      ]
    },
    {
      "cell_type": "code",
      "execution_count": 31,
      "metadata": {
        "id": "9SdU2PjyXN3D"
      },
      "outputs": [],
      "source": [
        "import nltk"
      ]
    },
    {
      "cell_type": "code",
      "execution_count": 32,
      "metadata": {
        "colab": {
          "base_uri": "https://localhost:8080/"
        },
        "id": "2sK0IpfMXRRT",
        "outputId": "eb818705-f5d1-4118-8f10-1b1f2aba4408"
      },
      "outputs": [
        {
          "output_type": "stream",
          "name": "stdout",
          "text": [
            "[nltk_data] Downloading package stopwords to /root/nltk_data...\n",
            "[nltk_data]   Unzipping corpora/stopwords.zip.\n"
          ]
        },
        {
          "output_type": "execute_result",
          "data": {
            "text/plain": [
              "True"
            ]
          },
          "metadata": {},
          "execution_count": 32
        }
      ],
      "source": [
        "nltk.download('stopwords')"
      ]
    },
    {
      "cell_type": "code",
      "execution_count": 33,
      "metadata": {
        "id": "5AG59nk8VgKN"
      },
      "outputs": [],
      "source": [
        "from nltk.corpus import stopwords\n",
        "from nltk.stem.porter import PorterStemmer\n",
        "import re\n",
        "ps = PorterStemmer()\n",
        "corpus = []\n",
        "for i in range(0, len(messages1)):\n",
        "    review = re.sub('[^a-zA-Z]', ' ', messages1['text'][i])\n",
        "    review = review.lower()\n",
        "    review = review.split()\n",
        "    \n",
        "    review = [ps.stem(word) for word in review if not word in stopwords.words('english')]\n",
        "    review = ' '.join(review)\n",
        "    corpus.append(review)"
      ]
    },
    {
      "cell_type": "code",
      "execution_count": 34,
      "metadata": {
        "colab": {
          "base_uri": "https://localhost:8080/"
        },
        "id": "SCSU3tl6VgKO",
        "outputId": "2eced82c-132d-4ac5-adba-bd798b1c56f3"
      },
      "outputs": [
        {
          "output_type": "execute_result",
          "data": {
            "text/plain": [
              "2481"
            ]
          },
          "metadata": {},
          "execution_count": 34
        }
      ],
      "source": [
        "len(corpus)"
      ]
    },
    {
      "cell_type": "code",
      "execution_count": 35,
      "metadata": {
        "id": "RDIkUUuoVgKO"
      },
      "outputs": [],
      "source": [
        "from nltk.corpus import stopwords\n",
        "from nltk.stem.porter import PorterStemmer\n",
        "import re\n",
        "ps1 = PorterStemmer()\n",
        "corpus1 = []\n",
        "for i in range(0, len(messages2)):\n",
        "    review = re.sub('[^a-zA-Z]', ' ', messages2['text'][i])\n",
        "    review = review.lower()\n",
        "    review = review.split()\n",
        "    \n",
        "    review = [ps1.stem(word) for word in review if not word in stopwords.words('english')]\n",
        "    review = ' '.join(review)\n",
        "    corpus1.append(review)"
      ]
    },
    {
      "cell_type": "code",
      "execution_count": 36,
      "metadata": {
        "id": "txv4g2WcVgKP",
        "colab": {
          "base_uri": "https://localhost:8080/"
        },
        "outputId": "e17425e7-1056-4b55-c7b7-776266b9fe7f"
      },
      "outputs": [
        {
          "output_type": "execute_result",
          "data": {
            "text/plain": [
              "2063"
            ]
          },
          "metadata": {},
          "execution_count": 36
        }
      ],
      "source": [
        "len(corpus1)"
      ]
    },
    {
      "cell_type": "code",
      "execution_count": 37,
      "metadata": {
        "id": "_Y4FMZTVVgKP"
      },
      "outputs": [],
      "source": [
        "## TFidf Vectorizer for training dataset\n",
        "from sklearn.feature_extraction.text import TfidfVectorizer\n",
        "tfidf_v=TfidfVectorizer(max_features=5000,ngram_range=(1,3))\n",
        "X=tfidf_v.fit_transform(corpus).toarray()\n"
      ]
    },
    {
      "cell_type": "code",
      "execution_count": 38,
      "metadata": {
        "colab": {
          "base_uri": "https://localhost:8080/"
        },
        "id": "WO6SB3x6VgKP",
        "outputId": "996f61ba-a66d-4b4c-f73c-5eaff931b839"
      },
      "outputs": [
        {
          "output_type": "execute_result",
          "data": {
            "text/plain": [
              "(2481, 5000)"
            ]
          },
          "metadata": {},
          "execution_count": 38
        }
      ],
      "source": [
        "X.shape"
      ]
    },
    {
      "cell_type": "code",
      "execution_count": 39,
      "metadata": {
        "id": "aIbCKuYoVgKP"
      },
      "outputs": [],
      "source": [
        "X_train=X"
      ]
    },
    {
      "cell_type": "code",
      "execution_count": 40,
      "metadata": {
        "id": "3Q0eU8vQVgKP"
      },
      "outputs": [],
      "source": [
        "## TFidf Vectorizer for testing dataset\n",
        "from sklearn.feature_extraction.text import TfidfVectorizer\n",
        "tfidf_v2=TfidfVectorizer(max_features=5000,ngram_range=(1,3))\n",
        "P=tfidf_v2.fit_transform(corpus1).toarray()"
      ]
    },
    {
      "cell_type": "code",
      "execution_count": 41,
      "metadata": {
        "colab": {
          "base_uri": "https://localhost:8080/"
        },
        "id": "TRmRDgzAVgKP",
        "outputId": "54bd322f-d7ff-4bd5-a382-7471002392b8"
      },
      "outputs": [
        {
          "output_type": "execute_result",
          "data": {
            "text/plain": [
              "(2063, 5000)"
            ]
          },
          "metadata": {},
          "execution_count": 41
        }
      ],
      "source": [
        "P.shape"
      ]
    },
    {
      "cell_type": "code",
      "execution_count": 42,
      "metadata": {
        "id": "RpLtXCBfVgKQ"
      },
      "outputs": [],
      "source": [
        "X_test=P"
      ]
    },
    {
      "cell_type": "code",
      "execution_count": 43,
      "metadata": {
        "id": "A5u4ZASZVgKQ"
      },
      "outputs": [],
      "source": [
        "y_train=messages1['label']"
      ]
    },
    {
      "cell_type": "code",
      "execution_count": 44,
      "metadata": {
        "colab": {
          "base_uri": "https://localhost:8080/"
        },
        "id": "ll1N-2WhVgKQ",
        "outputId": "d9659c51-0438-4b8e-8939-34edebf1d922"
      },
      "outputs": [
        {
          "output_type": "execute_result",
          "data": {
            "text/plain": [
              "0       0.0\n",
              "1       0.0\n",
              "2       0.0\n",
              "3       0.0\n",
              "4       1.0\n",
              "       ... \n",
              "2476    0.0\n",
              "2477    0.0\n",
              "2478    1.0\n",
              "2479    0.0\n",
              "2480    0.0\n",
              "Name: label, Length: 2481, dtype: float64"
            ]
          },
          "metadata": {},
          "execution_count": 44
        }
      ],
      "source": [
        "y_train"
      ]
    },
    {
      "cell_type": "code",
      "execution_count": 45,
      "metadata": {
        "id": "Y9rtunC5VgKQ"
      },
      "outputs": [],
      "source": [
        "y_test=messages2['label']"
      ]
    },
    {
      "cell_type": "code",
      "execution_count": 46,
      "metadata": {
        "colab": {
          "base_uri": "https://localhost:8080/"
        },
        "id": "ZxTe5iZYVgKQ",
        "outputId": "4f42cf8b-afc6-4ff5-be6c-e4794e8ff091"
      },
      "outputs": [
        {
          "output_type": "execute_result",
          "data": {
            "text/plain": [
              "0       0.0\n",
              "1       1.0\n",
              "2       0.0\n",
              "3       0.0\n",
              "4       0.0\n",
              "       ... \n",
              "2058    0.0\n",
              "2059    1.0\n",
              "2060    0.0\n",
              "2061    0.0\n",
              "2062    0.0\n",
              "Name: label, Length: 2063, dtype: float64"
            ]
          },
          "metadata": {},
          "execution_count": 46
        }
      ],
      "source": [
        "y_test"
      ]
    },
    {
      "cell_type": "code",
      "execution_count": 47,
      "metadata": {
        "colab": {
          "base_uri": "https://localhost:8080/"
        },
        "id": "i5oJp056VgKQ",
        "outputId": "02f7e4b6-49a6-4da1-dead-8a2fc3de3551"
      },
      "outputs": [
        {
          "output_type": "execute_result",
          "data": {
            "text/plain": [
              "(array([[0., 0., 0., ..., 0., 0., 0.],\n",
              "        [0., 0., 0., ..., 0., 0., 0.],\n",
              "        [0., 0., 0., ..., 0., 0., 0.],\n",
              "        ...,\n",
              "        [0., 0., 0., ..., 0., 0., 0.],\n",
              "        [0., 0., 0., ..., 0., 0., 0.],\n",
              "        [0., 0., 0., ..., 0., 0., 0.]]), array([[0., 0., 0., ..., 0., 0., 0.],\n",
              "        [0., 0., 0., ..., 0., 0., 0.],\n",
              "        [0., 0., 0., ..., 0., 0., 0.],\n",
              "        ...,\n",
              "        [0., 0., 0., ..., 0., 0., 0.],\n",
              "        [0., 0., 0., ..., 0., 0., 0.],\n",
              "        [0., 0., 0., ..., 0., 0., 0.]]), 0       0.0\n",
              " 1       0.0\n",
              " 2       0.0\n",
              " 3       0.0\n",
              " 4       1.0\n",
              "        ... \n",
              " 2476    0.0\n",
              " 2477    0.0\n",
              " 2478    1.0\n",
              " 2479    0.0\n",
              " 2480    0.0\n",
              " Name: label, Length: 2481, dtype: float64, 0       0.0\n",
              " 1       1.0\n",
              " 2       0.0\n",
              " 3       0.0\n",
              " 4       0.0\n",
              "        ... \n",
              " 2058    0.0\n",
              " 2059    1.0\n",
              " 2060    0.0\n",
              " 2061    0.0\n",
              " 2062    0.0\n",
              " Name: label, Length: 2063, dtype: float64)"
            ]
          },
          "metadata": {},
          "execution_count": 47
        }
      ],
      "source": [
        "X_train, X_test, y_train, y_test "
      ]
    },
    {
      "cell_type": "code",
      "execution_count": 48,
      "metadata": {
        "colab": {
          "base_uri": "https://localhost:8080/"
        },
        "id": "wYLzhf8lVgKR",
        "outputId": "85342531-c048-4d83-caad-f2c72a5407fa"
      },
      "outputs": [
        {
          "output_type": "stream",
          "name": "stderr",
          "text": [
            "/usr/local/lib/python3.7/dist-packages/sklearn/utils/deprecation.py:87: FutureWarning: Function get_feature_names is deprecated; get_feature_names is deprecated in 1.0 and will be removed in 1.2. Please use get_feature_names_out instead.\n",
            "  warnings.warn(msg, category=FutureWarning)\n"
          ]
        },
        {
          "output_type": "execute_result",
          "data": {
            "text/plain": [
              "['aaron',\n",
              " 'abandon',\n",
              " 'abbott',\n",
              " 'abc',\n",
              " 'abduct',\n",
              " 'abe',\n",
              " 'abedin',\n",
              " 'abil',\n",
              " 'abl',\n",
              " 'abort',\n",
              " 'abroad',\n",
              " 'absenc',\n",
              " 'absolut',\n",
              " 'absorb',\n",
              " 'absurd',\n",
              " 'abu',\n",
              " 'abus',\n",
              " 'academ',\n",
              " 'academi',\n",
              " 'acceler']"
            ]
          },
          "metadata": {},
          "execution_count": 48
        }
      ],
      "source": [
        "tfidf_v.get_feature_names()[:20]"
      ]
    },
    {
      "cell_type": "code",
      "execution_count": 49,
      "metadata": {
        "colab": {
          "base_uri": "https://localhost:8080/"
        },
        "id": "hiNWrPCwVgKR",
        "outputId": "9b91c45c-508f-48d4-a716-274a9fd2b54d"
      },
      "outputs": [
        {
          "output_type": "execute_result",
          "data": {
            "text/plain": [
              "{'analyzer': 'word',\n",
              " 'binary': False,\n",
              " 'decode_error': 'strict',\n",
              " 'dtype': numpy.float64,\n",
              " 'encoding': 'utf-8',\n",
              " 'input': 'content',\n",
              " 'lowercase': True,\n",
              " 'max_df': 1.0,\n",
              " 'max_features': 5000,\n",
              " 'min_df': 1,\n",
              " 'ngram_range': (1, 3),\n",
              " 'norm': 'l2',\n",
              " 'preprocessor': None,\n",
              " 'smooth_idf': True,\n",
              " 'stop_words': None,\n",
              " 'strip_accents': None,\n",
              " 'sublinear_tf': False,\n",
              " 'token_pattern': '(?u)\\\\b\\\\w\\\\w+\\\\b',\n",
              " 'tokenizer': None,\n",
              " 'use_idf': True,\n",
              " 'vocabulary': None}"
            ]
          },
          "metadata": {},
          "execution_count": 49
        }
      ],
      "source": [
        "tfidf_v.get_params()"
      ]
    },
    {
      "cell_type": "code",
      "execution_count": 50,
      "metadata": {
        "colab": {
          "base_uri": "https://localhost:8080/"
        },
        "id": "EmIzafkrVgKR",
        "outputId": "d6970f4d-3999-44b6-96a0-ae89aa6ffd90"
      },
      "outputs": [
        {
          "output_type": "stream",
          "name": "stderr",
          "text": [
            "/usr/local/lib/python3.7/dist-packages/sklearn/utils/deprecation.py:87: FutureWarning: Function get_feature_names is deprecated; get_feature_names is deprecated in 1.0 and will be removed in 1.2. Please use get_feature_names_out instead.\n",
            "  warnings.warn(msg, category=FutureWarning)\n"
          ]
        },
        {
          "output_type": "execute_result",
          "data": {
            "text/plain": [
              "['aaron',\n",
              " 'abandon',\n",
              " 'abc',\n",
              " 'abe',\n",
              " 'abedin',\n",
              " 'abil',\n",
              " 'abl',\n",
              " 'abort',\n",
              " 'abram',\n",
              " 'abroad',\n",
              " 'absenc',\n",
              " 'absolut',\n",
              " 'absorb',\n",
              " 'absurd',\n",
              " 'abus',\n",
              " 'academ',\n",
              " 'academi',\n",
              " 'acceler',\n",
              " 'accept',\n",
              " 'access']"
            ]
          },
          "metadata": {},
          "execution_count": 50
        }
      ],
      "source": [
        "tfidf_v2.get_feature_names()[:20]"
      ]
    },
    {
      "cell_type": "code",
      "execution_count": 51,
      "metadata": {
        "colab": {
          "base_uri": "https://localhost:8080/"
        },
        "id": "SOFPAiGIVgKR",
        "outputId": "ec656b89-e6a6-4734-da22-51e9f3f2fd7c"
      },
      "outputs": [
        {
          "output_type": "execute_result",
          "data": {
            "text/plain": [
              "{'analyzer': 'word',\n",
              " 'binary': False,\n",
              " 'decode_error': 'strict',\n",
              " 'dtype': numpy.float64,\n",
              " 'encoding': 'utf-8',\n",
              " 'input': 'content',\n",
              " 'lowercase': True,\n",
              " 'max_df': 1.0,\n",
              " 'max_features': 5000,\n",
              " 'min_df': 1,\n",
              " 'ngram_range': (1, 3),\n",
              " 'norm': 'l2',\n",
              " 'preprocessor': None,\n",
              " 'smooth_idf': True,\n",
              " 'stop_words': None,\n",
              " 'strip_accents': None,\n",
              " 'sublinear_tf': False,\n",
              " 'token_pattern': '(?u)\\\\b\\\\w\\\\w+\\\\b',\n",
              " 'tokenizer': None,\n",
              " 'use_idf': True,\n",
              " 'vocabulary': None}"
            ]
          },
          "metadata": {},
          "execution_count": 51
        }
      ],
      "source": [
        "tfidf_v2.get_params()"
      ]
    },
    {
      "cell_type": "code",
      "execution_count": 52,
      "metadata": {
        "colab": {
          "base_uri": "https://localhost:8080/"
        },
        "id": "cSp4TPkcVgKR",
        "outputId": "99af0594-5384-4af3-a24e-a22fa1f0a674"
      },
      "outputs": [
        {
          "output_type": "stream",
          "name": "stderr",
          "text": [
            "/usr/local/lib/python3.7/dist-packages/sklearn/utils/deprecation.py:87: FutureWarning: Function get_feature_names is deprecated; get_feature_names is deprecated in 1.0 and will be removed in 1.2. Please use get_feature_names_out instead.\n",
            "  warnings.warn(msg, category=FutureWarning)\n"
          ]
        }
      ],
      "source": [
        "count_df = pd.DataFrame(X_train, columns=tfidf_v.get_feature_names())"
      ]
    },
    {
      "cell_type": "code",
      "execution_count": 53,
      "metadata": {
        "colab": {
          "base_uri": "https://localhost:8080/",
          "height": 314
        },
        "id": "K6wMlU-pVgKS",
        "outputId": "2e159b7f-f6d7-4c1f-966e-5fe1c8ac0e5d"
      },
      "outputs": [
        {
          "output_type": "execute_result",
          "data": {
            "text/plain": [
              "   aaron  abandon  abbott  abc  abduct  abe  abedin     abil       abl  abort  \\\n",
              "0    0.0      0.0     0.0  0.0     0.0  0.0     0.0  0.01657  0.026459    0.0   \n",
              "1    0.0      0.0     0.0  0.0     0.0  0.0     0.0  0.00000  0.017875    0.0   \n",
              "2    0.0      0.0     0.0  0.0     0.0  0.0     0.0  0.00000  0.000000    0.0   \n",
              "3    0.0      0.0     0.0  0.0     0.0  0.0     0.0  0.00000  0.000000    0.0   \n",
              "4    0.0      0.0     0.0  0.0     0.0  0.0     0.0  0.00000  0.000000    0.0   \n",
              "\n",
              "   ...  york time washington     young  young child  young men  young peopl  \\\n",
              "0  ...                   0.0  0.000000          0.0        0.0          0.0   \n",
              "1  ...                   0.0  0.000000          0.0        0.0          0.0   \n",
              "2  ...                   0.0  0.039112          0.0        0.0          0.0   \n",
              "3  ...                   0.0  0.000000          0.0        0.0          0.0   \n",
              "4  ...                   0.0  0.030011          0.0        0.0          0.0   \n",
              "\n",
              "   youth  youtub  zealand  zero      zone  \n",
              "0    0.0     0.0      0.0   0.0  0.000000  \n",
              "1    0.0     0.0      0.0   0.0  0.000000  \n",
              "2    0.0     0.0      0.0   0.0  0.000000  \n",
              "3    0.0     0.0      0.0   0.0  0.000000  \n",
              "4    0.0     0.0      0.0   0.0  0.042085  \n",
              "\n",
              "[5 rows x 5000 columns]"
            ],
            "text/html": [
              "\n",
              "  <div id=\"df-9fdd2f53-d549-49ff-952b-a90af549a489\">\n",
              "    <div class=\"colab-df-container\">\n",
              "      <div>\n",
              "<style scoped>\n",
              "    .dataframe tbody tr th:only-of-type {\n",
              "        vertical-align: middle;\n",
              "    }\n",
              "\n",
              "    .dataframe tbody tr th {\n",
              "        vertical-align: top;\n",
              "    }\n",
              "\n",
              "    .dataframe thead th {\n",
              "        text-align: right;\n",
              "    }\n",
              "</style>\n",
              "<table border=\"1\" class=\"dataframe\">\n",
              "  <thead>\n",
              "    <tr style=\"text-align: right;\">\n",
              "      <th></th>\n",
              "      <th>aaron</th>\n",
              "      <th>abandon</th>\n",
              "      <th>abbott</th>\n",
              "      <th>abc</th>\n",
              "      <th>abduct</th>\n",
              "      <th>abe</th>\n",
              "      <th>abedin</th>\n",
              "      <th>abil</th>\n",
              "      <th>abl</th>\n",
              "      <th>abort</th>\n",
              "      <th>...</th>\n",
              "      <th>york time washington</th>\n",
              "      <th>young</th>\n",
              "      <th>young child</th>\n",
              "      <th>young men</th>\n",
              "      <th>young peopl</th>\n",
              "      <th>youth</th>\n",
              "      <th>youtub</th>\n",
              "      <th>zealand</th>\n",
              "      <th>zero</th>\n",
              "      <th>zone</th>\n",
              "    </tr>\n",
              "  </thead>\n",
              "  <tbody>\n",
              "    <tr>\n",
              "      <th>0</th>\n",
              "      <td>0.0</td>\n",
              "      <td>0.0</td>\n",
              "      <td>0.0</td>\n",
              "      <td>0.0</td>\n",
              "      <td>0.0</td>\n",
              "      <td>0.0</td>\n",
              "      <td>0.0</td>\n",
              "      <td>0.01657</td>\n",
              "      <td>0.026459</td>\n",
              "      <td>0.0</td>\n",
              "      <td>...</td>\n",
              "      <td>0.0</td>\n",
              "      <td>0.000000</td>\n",
              "      <td>0.0</td>\n",
              "      <td>0.0</td>\n",
              "      <td>0.0</td>\n",
              "      <td>0.0</td>\n",
              "      <td>0.0</td>\n",
              "      <td>0.0</td>\n",
              "      <td>0.0</td>\n",
              "      <td>0.000000</td>\n",
              "    </tr>\n",
              "    <tr>\n",
              "      <th>1</th>\n",
              "      <td>0.0</td>\n",
              "      <td>0.0</td>\n",
              "      <td>0.0</td>\n",
              "      <td>0.0</td>\n",
              "      <td>0.0</td>\n",
              "      <td>0.0</td>\n",
              "      <td>0.0</td>\n",
              "      <td>0.00000</td>\n",
              "      <td>0.017875</td>\n",
              "      <td>0.0</td>\n",
              "      <td>...</td>\n",
              "      <td>0.0</td>\n",
              "      <td>0.000000</td>\n",
              "      <td>0.0</td>\n",
              "      <td>0.0</td>\n",
              "      <td>0.0</td>\n",
              "      <td>0.0</td>\n",
              "      <td>0.0</td>\n",
              "      <td>0.0</td>\n",
              "      <td>0.0</td>\n",
              "      <td>0.000000</td>\n",
              "    </tr>\n",
              "    <tr>\n",
              "      <th>2</th>\n",
              "      <td>0.0</td>\n",
              "      <td>0.0</td>\n",
              "      <td>0.0</td>\n",
              "      <td>0.0</td>\n",
              "      <td>0.0</td>\n",
              "      <td>0.0</td>\n",
              "      <td>0.0</td>\n",
              "      <td>0.00000</td>\n",
              "      <td>0.000000</td>\n",
              "      <td>0.0</td>\n",
              "      <td>...</td>\n",
              "      <td>0.0</td>\n",
              "      <td>0.039112</td>\n",
              "      <td>0.0</td>\n",
              "      <td>0.0</td>\n",
              "      <td>0.0</td>\n",
              "      <td>0.0</td>\n",
              "      <td>0.0</td>\n",
              "      <td>0.0</td>\n",
              "      <td>0.0</td>\n",
              "      <td>0.000000</td>\n",
              "    </tr>\n",
              "    <tr>\n",
              "      <th>3</th>\n",
              "      <td>0.0</td>\n",
              "      <td>0.0</td>\n",
              "      <td>0.0</td>\n",
              "      <td>0.0</td>\n",
              "      <td>0.0</td>\n",
              "      <td>0.0</td>\n",
              "      <td>0.0</td>\n",
              "      <td>0.00000</td>\n",
              "      <td>0.000000</td>\n",
              "      <td>0.0</td>\n",
              "      <td>...</td>\n",
              "      <td>0.0</td>\n",
              "      <td>0.000000</td>\n",
              "      <td>0.0</td>\n",
              "      <td>0.0</td>\n",
              "      <td>0.0</td>\n",
              "      <td>0.0</td>\n",
              "      <td>0.0</td>\n",
              "      <td>0.0</td>\n",
              "      <td>0.0</td>\n",
              "      <td>0.000000</td>\n",
              "    </tr>\n",
              "    <tr>\n",
              "      <th>4</th>\n",
              "      <td>0.0</td>\n",
              "      <td>0.0</td>\n",
              "      <td>0.0</td>\n",
              "      <td>0.0</td>\n",
              "      <td>0.0</td>\n",
              "      <td>0.0</td>\n",
              "      <td>0.0</td>\n",
              "      <td>0.00000</td>\n",
              "      <td>0.000000</td>\n",
              "      <td>0.0</td>\n",
              "      <td>...</td>\n",
              "      <td>0.0</td>\n",
              "      <td>0.030011</td>\n",
              "      <td>0.0</td>\n",
              "      <td>0.0</td>\n",
              "      <td>0.0</td>\n",
              "      <td>0.0</td>\n",
              "      <td>0.0</td>\n",
              "      <td>0.0</td>\n",
              "      <td>0.0</td>\n",
              "      <td>0.042085</td>\n",
              "    </tr>\n",
              "  </tbody>\n",
              "</table>\n",
              "<p>5 rows × 5000 columns</p>\n",
              "</div>\n",
              "      <button class=\"colab-df-convert\" onclick=\"convertToInteractive('df-9fdd2f53-d549-49ff-952b-a90af549a489')\"\n",
              "              title=\"Convert this dataframe to an interactive table.\"\n",
              "              style=\"display:none;\">\n",
              "        \n",
              "  <svg xmlns=\"http://www.w3.org/2000/svg\" height=\"24px\"viewBox=\"0 0 24 24\"\n",
              "       width=\"24px\">\n",
              "    <path d=\"M0 0h24v24H0V0z\" fill=\"none\"/>\n",
              "    <path d=\"M18.56 5.44l.94 2.06.94-2.06 2.06-.94-2.06-.94-.94-2.06-.94 2.06-2.06.94zm-11 1L8.5 8.5l.94-2.06 2.06-.94-2.06-.94L8.5 2.5l-.94 2.06-2.06.94zm10 10l.94 2.06.94-2.06 2.06-.94-2.06-.94-.94-2.06-.94 2.06-2.06.94z\"/><path d=\"M17.41 7.96l-1.37-1.37c-.4-.4-.92-.59-1.43-.59-.52 0-1.04.2-1.43.59L10.3 9.45l-7.72 7.72c-.78.78-.78 2.05 0 2.83L4 21.41c.39.39.9.59 1.41.59.51 0 1.02-.2 1.41-.59l7.78-7.78 2.81-2.81c.8-.78.8-2.07 0-2.86zM5.41 20L4 18.59l7.72-7.72 1.47 1.35L5.41 20z\"/>\n",
              "  </svg>\n",
              "      </button>\n",
              "      \n",
              "  <style>\n",
              "    .colab-df-container {\n",
              "      display:flex;\n",
              "      flex-wrap:wrap;\n",
              "      gap: 12px;\n",
              "    }\n",
              "\n",
              "    .colab-df-convert {\n",
              "      background-color: #E8F0FE;\n",
              "      border: none;\n",
              "      border-radius: 50%;\n",
              "      cursor: pointer;\n",
              "      display: none;\n",
              "      fill: #1967D2;\n",
              "      height: 32px;\n",
              "      padding: 0 0 0 0;\n",
              "      width: 32px;\n",
              "    }\n",
              "\n",
              "    .colab-df-convert:hover {\n",
              "      background-color: #E2EBFA;\n",
              "      box-shadow: 0px 1px 2px rgba(60, 64, 67, 0.3), 0px 1px 3px 1px rgba(60, 64, 67, 0.15);\n",
              "      fill: #174EA6;\n",
              "    }\n",
              "\n",
              "    [theme=dark] .colab-df-convert {\n",
              "      background-color: #3B4455;\n",
              "      fill: #D2E3FC;\n",
              "    }\n",
              "\n",
              "    [theme=dark] .colab-df-convert:hover {\n",
              "      background-color: #434B5C;\n",
              "      box-shadow: 0px 1px 3px 1px rgba(0, 0, 0, 0.15);\n",
              "      filter: drop-shadow(0px 1px 2px rgba(0, 0, 0, 0.3));\n",
              "      fill: #FFFFFF;\n",
              "    }\n",
              "  </style>\n",
              "\n",
              "      <script>\n",
              "        const buttonEl =\n",
              "          document.querySelector('#df-9fdd2f53-d549-49ff-952b-a90af549a489 button.colab-df-convert');\n",
              "        buttonEl.style.display =\n",
              "          google.colab.kernel.accessAllowed ? 'block' : 'none';\n",
              "\n",
              "        async function convertToInteractive(key) {\n",
              "          const element = document.querySelector('#df-9fdd2f53-d549-49ff-952b-a90af549a489');\n",
              "          const dataTable =\n",
              "            await google.colab.kernel.invokeFunction('convertToInteractive',\n",
              "                                                     [key], {});\n",
              "          if (!dataTable) return;\n",
              "\n",
              "          const docLinkHtml = 'Like what you see? Visit the ' +\n",
              "            '<a target=\"_blank\" href=https://colab.research.google.com/notebooks/data_table.ipynb>data table notebook</a>'\n",
              "            + ' to learn more about interactive tables.';\n",
              "          element.innerHTML = '';\n",
              "          dataTable['output_type'] = 'display_data';\n",
              "          await google.colab.output.renderOutput(dataTable, element);\n",
              "          const docLink = document.createElement('div');\n",
              "          docLink.innerHTML = docLinkHtml;\n",
              "          element.appendChild(docLink);\n",
              "        }\n",
              "      </script>\n",
              "    </div>\n",
              "  </div>\n",
              "  "
            ]
          },
          "metadata": {},
          "execution_count": 53
        }
      ],
      "source": [
        "count_df.head()"
      ]
    },
    {
      "cell_type": "code",
      "execution_count": 54,
      "metadata": {
        "id": "YJZ31K34VgKS"
      },
      "outputs": [],
      "source": [
        "import matplotlib.pyplot as plt"
      ]
    },
    {
      "cell_type": "code",
      "execution_count": 55,
      "metadata": {
        "id": "EFL8Al1OVgKS"
      },
      "outputs": [],
      "source": [
        "def plot_confusion_matrix(cm, classes,\n",
        "                          normalize=False,\n",
        "                          title='Confusion matrix',\n",
        "                          cmap=plt.cm.Blues):\n",
        "    \"\"\"\n",
        "    See full source and example: \n",
        "    http://scikit-learn.org/stable/auto_examples/model_selection/plot_confusion_matrix.html\n",
        "    \n",
        "    This function prints and plots the confusion matrix.\n",
        "    Normalization can be applied by setting `normalize=True`.\n",
        "    \"\"\"\n",
        "    plt.imshow(cm, interpolation='nearest', cmap=cmap)\n",
        "    plt.title(title)\n",
        "    plt.colorbar()\n",
        "    tick_marks = np.arange(len(classes))\n",
        "    plt.xticks(tick_marks, classes, rotation=45)\n",
        "    plt.yticks(tick_marks, classes)\n",
        "\n",
        "    if normalize:\n",
        "        cm = cm.astype('float') / cm.sum(axis=1)[:, np.newaxis]\n",
        "        print(\"Normalized confusion matrix\")\n",
        "    else:\n",
        "        print('Confusion matrix, without normalization')\n",
        "\n",
        "    thresh = cm.max() / 2.\n",
        "    for i, j in itertools.product(range(cm.shape[0]), range(cm.shape[1])):\n",
        "        plt.text(j, i, cm[i, j],\n",
        "                 horizontalalignment=\"center\",\n",
        "                 color=\"white\" if cm[i, j] > thresh else \"black\")\n",
        "\n",
        "    plt.tight_layout()\n",
        "    plt.ylabel('True label')\n",
        "    plt.xlabel('Predicted label')"
      ]
    },
    {
      "cell_type": "markdown",
      "metadata": {
        "id": "SkkzIeEtVgKS"
      },
      "source": [
        "### MultinomialNB Algorithm"
      ]
    },
    {
      "cell_type": "code",
      "execution_count": 56,
      "metadata": {
        "id": "-HuP4c0rVgKV"
      },
      "outputs": [],
      "source": [
        "\n",
        "from sklearn.naive_bayes import MultinomialNB\n",
        "classifier=MultinomialNB()"
      ]
    },
    {
      "cell_type": "code",
      "execution_count": 57,
      "metadata": {
        "id": "N2ybtklgVgKW"
      },
      "outputs": [],
      "source": [
        "from sklearn import metrics\n",
        "import numpy as np\n",
        "import itertools"
      ]
    },
    {
      "cell_type": "code",
      "execution_count": 58,
      "metadata": {
        "colab": {
          "base_uri": "https://localhost:8080/",
          "height": 345
        },
        "id": "x7XY7j_FVgKW",
        "outputId": "c7fe8943-8c87-407a-cee6-6378c2d82e0f"
      },
      "outputs": [
        {
          "output_type": "stream",
          "name": "stdout",
          "text": [
            "accuracy:   0.584\n",
            "Confusion matrix, without normalization\n"
          ]
        },
        {
          "output_type": "display_data",
          "data": {
            "text/plain": [
              "<Figure size 432x288 with 2 Axes>"
            ],
            "image/png": "[encoded data removed]"
          },
          "metadata": {
            "needs_background": "light"
          }
        }
      ],
      "source": [
        "\n",
        "classifier.fit(X_train, y_train)\n",
        "pred = classifier.predict(X_test)\n",
        "score = metrics.accuracy_score(y_test, pred)\n",
        "print(\"accuracy:   %0.3f\" % score)\n",
        "cm = metrics.confusion_matrix(y_test, pred)\n",
        "plot_confusion_matrix(cm, classes=['FAKE', 'REAL'])"
      ]
    },
    {
      "cell_type": "code",
      "execution_count": 59,
      "metadata": {
        "colab": {
          "base_uri": "https://localhost:8080/"
        },
        "id": "MFJCwcQrVgKX",
        "outputId": "75fe0015-4368-465d-90e0-1de9ce3a55d0"
      },
      "outputs": [
        {
          "output_type": "execute_result",
          "data": {
            "text/plain": [
              "0.5841008240426563"
            ]
          },
          "metadata": {},
          "execution_count": 59
        }
      ],
      "source": [
        "classifier.fit(X_train, y_train)\n",
        "pred = classifier.predict(X_test)\n",
        "score = metrics.accuracy_score(y_test, pred)\n",
        "score"
      ]
    },
    {
      "cell_type": "code",
      "execution_count": 60,
      "metadata": {
        "colab": {
          "base_uri": "https://localhost:8080/"
        },
        "id": "iSNqOp7hVgKX",
        "outputId": "fff6bf9e-e7c4-440e-9962-7f8ef6b67adb"
      },
      "outputs": [
        {
          "output_type": "execute_result",
          "data": {
            "text/plain": [
              "(2481,)"
            ]
          },
          "metadata": {},
          "execution_count": 60
        }
      ],
      "source": [
        "y_train.shape"
      ]
    },
    {
      "cell_type": "markdown",
      "metadata": {
        "id": "oX-DiPYFVgKY"
      },
      "source": [
        "### Passive Aggressive Classifier Algorithm"
      ]
    },
    {
      "cell_type": "code",
      "execution_count": 61,
      "metadata": {
        "id": "2FSmkF6uVgKY"
      },
      "outputs": [],
      "source": [
        "from sklearn.linear_model import PassiveAggressiveClassifier\n",
        "linear_clf = PassiveAggressiveClassifier()"
      ]
    },
    {
      "cell_type": "code",
      "execution_count": 62,
      "metadata": {
        "colab": {
          "base_uri": "https://localhost:8080/",
          "height": 345
        },
        "id": "egW3BwT9VgKZ",
        "outputId": "dfdefc1a-abb0-4140-b2bf-95dc3201a698"
      },
      "outputs": [
        {
          "output_type": "stream",
          "name": "stdout",
          "text": [
            "accuracy:   0.527\n",
            "Confusion matrix, without normalization\n"
          ]
        },
        {
          "output_type": "display_data",
          "data": {
            "text/plain": [
              "<Figure size 432x288 with 2 Axes>"
            ],
            "image/png": "[encoded data removed]"
          },
          "metadata": {
            "needs_background": "light"
          }
        }
      ],
      "source": [
        "linear_clf.fit(X_train, y_train)\n",
        "pred = linear_clf.predict(X_test)\n",
        "score = metrics.accuracy_score(y_test, pred)\n",
        "print(\"accuracy:   %0.3f\" % score)\n",
        "cm = metrics.confusion_matrix(y_test, pred)\n",
        "plot_confusion_matrix(cm, classes=['FAKE Data', 'REAL Data'])"
      ]
    },
    {
      "cell_type": "markdown",
      "metadata": {
        "id": "iFDNi_b0VgKZ"
      },
      "source": [
        "### Multinomial Classifier with Hyperparameter"
      ]
    },
    {
      "cell_type": "code",
      "execution_count": 63,
      "metadata": {
        "id": "NA8Li3wSVgKb"
      },
      "outputs": [],
      "source": [
        "classifier=MultinomialNB(alpha=0.1)"
      ]
    },
    {
      "cell_type": "code",
      "execution_count": 64,
      "metadata": {
        "colab": {
          "base_uri": "https://localhost:8080/"
        },
        "id": "YJkyaff_VgKc",
        "outputId": "77499ba6-0817-4d14-b571-1b234e9054c1"
      },
      "outputs": [
        {
          "output_type": "stream",
          "name": "stderr",
          "text": [
            "/usr/local/lib/python3.7/dist-packages/sklearn/naive_bayes.py:557: UserWarning: alpha too small will result in numeric errors, setting alpha = 1.0e-10\n",
            "  % _ALPHA_MIN\n"
          ]
        },
        {
          "output_type": "stream",
          "name": "stdout",
          "text": [
            "Alpha: 0.0, Score : 0.5375666505089676\n",
            "Alpha: 0.1, Score : 0.5773145904023267\n",
            "Alpha: 0.2, Score : 0.583616093068347\n",
            "Alpha: 0.30000000000000004, Score : 0.590887057682986\n",
            "Alpha: 0.4, Score : 0.5933107125545323\n",
            "Alpha: 0.5, Score : 0.5942801745031507\n",
            "Alpha: 0.6000000000000001, Score : 0.5991274842462433\n",
            "Alpha: 0.7000000000000001, Score : 0.5962190984003878\n",
            "Alpha: 0.8, Score : 0.5918565196316045\n",
            "Alpha: 0.9, Score : 0.5904023267086767\n"
          ]
        }
      ],
      "source": [
        "previous_score=0\n",
        "for alpha in np.arange(0,1,0.1):\n",
        "    sub_classifier=MultinomialNB(alpha=alpha)\n",
        "    sub_classifier.fit(X_train,y_train)\n",
        "    y_pred=sub_classifier.predict(X_test)\n",
        "    score = metrics.accuracy_score(y_test, y_pred)\n",
        "    if score>previous_score:\n",
        "        classifier=sub_classifier\n",
        "    print(\"Alpha: {}, Score : {}\".format(alpha,score))"
      ]
    },
    {
      "cell_type": "code",
      "execution_count": 65,
      "metadata": {
        "colab": {
          "base_uri": "https://localhost:8080/"
        },
        "id": "_gDTWN_FVgKd",
        "outputId": "f7644101-fe88-4f1f-cacd-980fb142eeed"
      },
      "outputs": [
        {
          "output_type": "execute_result",
          "data": {
            "text/plain": [
              "0.5904023267086767"
            ]
          },
          "metadata": {},
          "execution_count": 65
        }
      ],
      "source": [
        "classifier.fit(X_train, y_train)\n",
        "pred = classifier.predict(X_test)\n",
        "score = metrics.accuracy_score(y_test, pred)\n",
        "score"
      ]
    },
    {
      "cell_type": "code",
      "execution_count": 66,
      "metadata": {
        "colab": {
          "base_uri": "https://localhost:8080/"
        },
        "id": "jqCWaLxQVgKe",
        "outputId": "520769f4-b524-41bb-9030-4026aa3fa2bf"
      },
      "outputs": [
        {
          "output_type": "stream",
          "name": "stderr",
          "text": [
            "/usr/local/lib/python3.7/dist-packages/sklearn/utils/deprecation.py:87: FutureWarning: Function get_feature_names is deprecated; get_feature_names is deprecated in 1.0 and will be removed in 1.2. Please use get_feature_names_out instead.\n",
            "  warnings.warn(msg, category=FutureWarning)\n"
          ]
        }
      ],
      "source": [
        "## Get Features names\n",
        "feature_names = tfidf_v.get_feature_names()"
      ]
    },
    {
      "cell_type": "code",
      "execution_count": 67,
      "metadata": {
        "colab": {
          "base_uri": "https://localhost:8080/"
        },
        "id": "9SCnfV9BVgKe",
        "outputId": "dce64b15-db49-4987-cc9d-9800ae8d2e80"
      },
      "outputs": [
        {
          "output_type": "stream",
          "name": "stderr",
          "text": [
            "/usr/local/lib/python3.7/dist-packages/sklearn/utils/deprecation.py:103: FutureWarning: Attribute `coef_` was deprecated in version 0.24 and will be removed in 1.1 (renaming of 0.26).\n",
            "  warnings.warn(msg, category=FutureWarning)\n"
          ]
        },
        {
          "output_type": "execute_result",
          "data": {
            "text/plain": [
              "array([-8.99361333, -8.73280922, -8.88239134, ..., -9.23214785,\n",
              "       -9.10199565, -8.56753858])"
            ]
          },
          "metadata": {},
          "execution_count": 67
        }
      ],
      "source": [
        "classifier.coef_[0]"
      ]
    },
    {
      "cell_type": "code",
      "execution_count": 68,
      "metadata": {
        "colab": {
          "base_uri": "https://localhost:8080/"
        },
        "id": "Ah3d5jXiVgKe",
        "outputId": "3599baf1-39e7-4964-f0b8-9d2f8cedf182"
      },
      "outputs": [
        {
          "output_type": "stream",
          "name": "stderr",
          "text": [
            "/usr/local/lib/python3.7/dist-packages/sklearn/utils/deprecation.py:103: FutureWarning: Attribute `coef_` was deprecated in version 0.24 and will be removed in 1.1 (renaming of 0.26).\n",
            "  warnings.warn(msg, category=FutureWarning)\n"
          ]
        },
        {
          "output_type": "execute_result",
          "data": {
            "text/plain": [
              "[(-5.0946088241108765, 'mr'),\n",
              " (-5.330329037097641, 'say'),\n",
              " (-5.530613469369316, 'trump'),\n",
              " (-6.0447632764256145, 'mr trump'),\n",
              " (-6.205313807337017, 'new'),\n",
              " (-6.251935834403147, 'presid'),\n",
              " (-6.309550592738221, 'state'),\n",
              " (-6.337886192635112, 'time'),\n",
              " (-6.395959445169988, 'would'),\n",
              " (-6.396606472151094, 'one'),\n",
              " (-6.411147665734379, 'year'),\n",
              " (-6.449308109752382, 'peopl'),\n",
              " (-6.511876003277511, 'like'),\n",
              " (-6.519785919943152, 'go'),\n",
              " (-6.526266121576075, 'breitbart'),\n",
              " (-6.537906529432043, 'make'),\n",
              " (-6.595117979907021, 'report'),\n",
              " (-6.677207663617862, 'also'),\n",
              " (-6.68062668764197, 'take'),\n",
              " (-6.687725315107411, 'american')]"
            ]
          },
          "metadata": {},
          "execution_count": 68
        }
      ],
      "source": [
        "### Most real\n",
        "sorted(zip(classifier.coef_[0], feature_names), reverse=True)[:20]"
      ]
    },
    {
      "cell_type": "code",
      "execution_count": 69,
      "metadata": {
        "colab": {
          "base_uri": "https://localhost:8080/"
        },
        "id": "lvvmmUeaVgKe",
        "outputId": "c44e1784-593f-4897-e8c3-0a0a68c442fd"
      },
      "outputs": [
        {
          "output_type": "stream",
          "name": "stderr",
          "text": [
            "/usr/local/lib/python3.7/dist-packages/sklearn/utils/deprecation.py:103: FutureWarning: Attribute `coef_` was deprecated in version 0.24 and will be removed in 1.1 (renaming of 0.26).\n",
            "  warnings.warn(msg, category=FutureWarning)\n"
          ]
        },
        {
          "output_type": "execute_result",
          "data": {
            "text/plain": [
              "[(-9.890643721957614, 'alassad'),\n",
              " (-9.890643721957614, 'andor'),\n",
              " (-9.890643721957614, 'bjp'),\n",
              " (-9.890643721957614, 'cji'),\n",
              " (-9.890643721957614, 'gaddafi'),\n",
              " (-9.890643721957614, 'gold silver'),\n",
              " (-9.890643721957614, 'guantanamo'),\n",
              " (-9.890643721957614, 'hindutva'),\n",
              " (-9.890643721957614, 'ie'),\n",
              " (-9.890643721957614, 'imag credit'),\n",
              " (-9.890643721957614, 'kadzik'),\n",
              " (-9.890643721957614, 'neoconserv'),\n",
              " (-9.890643721957614, 'new moon'),\n",
              " (-9.890643721957614, 'nofli'),\n",
              " (-9.890643721957614, 'nofli zone'),\n",
              " (-9.890643721957614, 'nt'),\n",
              " (-9.890643721957614, 'pieczenik'),\n",
              " (-9.890643721957614, 'pilger'),\n",
              " (-9.890643721957614, 'presidentelect'),\n",
              " (-9.890643721957614, 'pv'),\n",
              " (-9.890643721957614, 'scorpio'),\n",
              " (-9.890643721957614, 'selfdefens'),\n",
              " (-9.890643721957614, 'share articl'),\n",
              " (-9.890643721957614, 'sheepl'),\n",
              " (-9.890643721957614, 'splc'),\n",
              " (-9.890643721957614, 'ufo'),\n",
              " (-9.890643721957614, 'unesco'),\n",
              " (-9.890643721957614, 'usl'),\n",
              " (-9.890643721957614, 'world order'),\n",
              " (-9.88386890530098, 'rightw'),\n",
              " (-9.866860951800541, 'neoliber'),\n",
              " (-9.863149683543618, 'coverup'),\n",
              " (-9.860752650699554, 'featur imag'),\n",
              " (-9.859741440359679, 'socal'),\n",
              " (-9.858257887423632, 'treason'),\n",
              " (-9.85745220150705, 'oligarchi'),\n",
              " (-9.847902824608655, 'neocon'),\n",
              " (-9.844881409645872, 'msm'),\n",
              " (-9.842471180618794, 'flu shot'),\n",
              " (-9.839407628424153, 'warmong'),\n",
              " (-9.835441541001217, 'bundi'),\n",
              " (-9.834842626847237, 'rig elect'),\n",
              " (-9.834837314154006, 'novemb th'),\n",
              " (-9.831009250878633, 'satan'),\n",
              " (-9.827447955888584, 'monopoli'),\n",
              " (-9.823814186435131, 'jp'),\n",
              " (-9.823546428467397, 'bombshel'),\n",
              " (-9.813452065235408, 'director comey'),\n",
              " (-9.80908461070914, 'hillari clinton email'),\n",
              " (-9.799011157256794, 'flint'),\n",
              " (-9.795417773265793, 'biometr'),\n",
              " (-9.794449838898576, 'hilari'),\n",
              " (-9.793693225937089, 'oligarch'),\n",
              " (-9.792183483810017, 'fascism'),\n",
              " (-9.778287684743368, 'hindu'),\n",
              " (-9.77007673829951, 'judgement'),\n",
              " (-9.764325687224725, 'nsa'),\n",
              " (-9.761166868096927, 'intuit'),\n",
              " (-9.75784437584842, 'reelect'),\n",
              " (-9.754304532217192, 'twenti'),\n",
              " (-9.746782829592874, 'whistleblow'),\n",
              " (-9.744884720118828, 'submarin'),\n",
              " (-9.736846948225505, 'militar'),\n",
              " (-9.735737059485858, 'halloween'),\n",
              " (-9.730650942926086, 'flu'),\n",
              " (-9.728955772996311, 'clinton privat'),\n",
              " (-9.727305884080403, 'investig hillari'),\n",
              " (-9.725244626924654, 'cyber'),\n",
              " (-9.722752206920077, 'medium outlet'),\n",
              " (-9.718159587136201, 'anthoni weiner'),\n",
              " (-9.716451054782185, 'venezuelan'),\n",
              " (-9.714146199670385, 'cannabi'),\n",
              " (-9.712325291005413, 'insert'),\n",
              " (-9.712179798990928, 'investig clinton'),\n",
              " (-9.71192155935358, 'cell phone'),\n",
              " (-9.705583789343228, 'secreci'),\n",
              " (-9.703745104710979, 'intern law'),\n",
              " (-9.703082614366366, 'privat email server'),\n",
              " (-9.700343545035699, 'eisenhow'),\n",
              " (-9.69667355065746, 'et'),\n",
              " (-9.69618918173248, 'hemispher'),\n",
              " (-9.695157463771196, 'buildup'),\n",
              " (-9.693781445522788, 'gdp'),\n",
              " (-9.692813311352008, 'illus'),\n",
              " (-9.69279913434477, 'mafia'),\n",
              " (-9.686723756032272, 'raptur'),\n",
              " (-9.686431170923148, 'vote hillari clinton'),\n",
              " (-9.685921550963615, 'etc'),\n",
              " (-9.681347211001377, 'arrog'),\n",
              " (-9.68005735544196, 'kirk'),\n",
              " (-9.676379004245083, 'redact'),\n",
              " (-9.67347136498755, 'daesh'),\n",
              " (-9.664900294101171, 'rt'),\n",
              " (-9.659835153231784, 'capitalist'),\n",
              " (-9.658448531280548, 'russia china'),\n",
              " (-9.656875695254891, 'huma abedin'),\n",
              " (-9.653777671646777, 'dumb'),\n",
              " (-9.650924704311631, 'kissing'),\n",
              " (-9.650023277453714, 'du'),\n",
              " (-9.647628718796783, 'qatar'),\n",
              " (-9.647228737829513, 'loretta'),\n",
              " (-9.647228737829513, 'loretta lynch'),\n",
              " (-9.646912857534975, 'sensor'),\n",
              " (-9.646203828108346, 'clinton aid'),\n",
              " (-9.644696893292078, 'war syria'),\n",
              " (-9.641263256425999, 'advers'),\n",
              " (-9.640975474960085, 'manifest'),\n",
              " (-9.638033311452885, 'suck'),\n",
              " (-9.636784204110523, 'dnc'),\n",
              " (-9.636057252825879, 'impair'),\n",
              " (-9.63448687110414, 'spite'),\n",
              " (-9.633503854940844, 'medit'),\n",
              " (-9.631704465922933, 'trillion dollar'),\n",
              " (-9.631619070434816, 'meter'),\n",
              " (-9.6305475322653, 'extradit'),\n",
              " (-9.629320571078097, 'doj'),\n",
              " (-9.628784497955069, 'frequenc'),\n",
              " (-9.627213756483572, 'totalitarian'),\n",
              " (-9.625328145740363, 'protector'),\n",
              " (-9.62353718559776, 'earli vote'),\n",
              " (-9.622485624342676, 'side effect'),\n",
              " (-9.619496909599004, 'wow'),\n",
              " (-9.61877942421525, 'satur fat'),\n",
              " (-9.613576003022095, 'shall'),\n",
              " (-9.61267127550089, 'lobbyist'),\n",
              " (-9.610782438379545, 'vibrat'),\n",
              " (-9.609064207235008, 'julian assang'),\n",
              " (-9.608813167238784, 'stein'),\n",
              " (-9.60827768719195, 'huma'),\n",
              " (-9.606754098110063, 'evolut'),\n",
              " (-9.60565756430373, 'outlook'),\n",
              " (-9.60440820176743, 'gore'),\n",
              " (-9.603871581895067, 'burton'),\n",
              " (-9.602683207053232, 'horizon'),\n",
              " (-9.601903951094737, 'viabl'),\n",
              " (-9.600636119567316, 'privat server'),\n",
              " (-9.600439852784959, 'privat email'),\n",
              " (-9.599406958753923, 'demon'),\n",
              " (-9.596920886703176, 'ancient'),\n",
              " (-9.596025545251363, 'next presid'),\n",
              " (-9.594868436428342, 'win elect'),\n",
              " (-9.594705413958863, 'divin'),\n",
              " (-9.593186446920136, 'trump ralli'),\n",
              " (-9.591781982562638, 'void'),\n",
              " (-9.591665170426095, 'puppet'),\n",
              " (-9.585298751778552, 'imperi'),\n",
              " (-9.584511260744875, 'soro'),\n",
              " (-9.57982983113398, 'wise'),\n",
              " (-9.579749497985524, 'filter'),\n",
              " (-9.578092311570911, 'syrian armi'),\n",
              " (-9.576820322730924, 'war russia'),\n",
              " (-9.575585948337348, 'donna'),\n",
              " (-9.57440007479238, 'supplement'),\n",
              " (-9.572050757850114, 'georg soro'),\n",
              " (-9.570609914967704, 'equat'),\n",
              " (-9.568281620370481, 'sin'),\n",
              " (-9.567023813796006, 'regim chang'),\n",
              " (-9.566757787686623, 'cholesterol'),\n",
              " (-9.565881025317527, 'doug'),\n",
              " (-9.562505124824904, 'courtesi'),\n",
              " (-9.561979604130855, 'confidenti'),\n",
              " (-9.56154546347996, 'monetari'),\n",
              " (-9.561288953762341, 'giuliani'),\n",
              " (-9.560724115140529, 'conscious'),\n",
              " (-9.559166067609135, 'awaken'),\n",
              " (-9.557316682131628, 'christ'),\n",
              " (-9.557104221665542, 'elector colleg'),\n",
              " (-9.555483560374205, 'standoff'),\n",
              " (-9.554990838196915, 'bee'),\n",
              " (-9.554521884914394, 'consumpt'),\n",
              " (-9.552636637008602, 'isil'),\n",
              " (-9.54936452027613, 'mercuri'),\n",
              " (-9.549238790705202, 'vote hillari'),\n",
              " (-9.548755567194393, 'fbi investig'),\n",
              " (-9.548221080643847, 'atom'),\n",
              " (-9.546442644932077, 'hawk'),\n",
              " (-9.542952217552816, 'statu quo'),\n",
              " (-9.542259932507758, 'dirti'),\n",
              " (-9.540690982086316, 'artilleri'),\n",
              " (-9.536533335664673, 'deplor'),\n",
              " (-9.53586496936971, 'nuclear war'),\n",
              " (-9.535776293472777, 'sieg'),\n",
              " (-9.531879744639872, 'secretari clinton'),\n",
              " (-9.530706796905275, 'max'),\n",
              " (-9.530628090404367, 'someon els'),\n",
              " (-9.528901816509572, 'overthrow'),\n",
              " (-9.52676302539707, 'md'),\n",
              " (-9.5265590494087, 'email server'),\n",
              " (-9.526259898839072, 'elect result'),\n",
              " (-9.526101236095203, 'clinton support'),\n",
              " (-9.525363508488997, 'free market'),\n",
              " (-9.523645524925893, 'norway'),\n",
              " (-9.523201367295997, 'utter'),\n",
              " (-9.523127481211686, 'greatli'),\n",
              " (-9.522002773352105, 'new world'),\n",
              " (-9.521985470662004, 'preciou'),\n",
              " (-9.520705219511948, 'iraq war'),\n",
              " (-9.519831555714411, 'homosexu'),\n",
              " (-9.517511644351197, 'antisemit'),\n",
              " (-9.514658353195294, 'julian'),\n",
              " (-9.513844962873662, 'latin'),\n",
              " (-9.512378819475073, 'leaf'),\n",
              " (-9.511630747150079, 'provok'),\n",
              " (-9.510076489768542, 'elect cycl'),\n",
              " (-9.50935381270106, 'smell'),\n",
              " (-9.509283530839136, 'grass'),\n",
              " (-9.509183624031753, 'jihadi'),\n",
              " (-9.50822451080905, 'idiot'),\n",
              " (-9.507616397168698, 'nick'),\n",
              " (-9.506939727615274, 'self'),\n",
              " (-9.506407802972296, 'state govern'),\n",
              " (-9.5059426679742, 'incumb'),\n",
              " (-9.50441882513603, 'liabil'),\n",
              " (-9.504351828937537, 'north dakota'),\n",
              " (-9.504088316716146, 'vast major'),\n",
              " (-9.504074885381808, 'norm'),\n",
              " (-9.5019804292946, 'uncov'),\n",
              " (-9.501069025960783, 'break news'),\n",
              " (-9.5009191908725, 'republican candid'),\n",
              " (-9.500494233499168, 'tsunami'),\n",
              " (-9.499200932878251, 'realm'),\n",
              " (-9.498036693438968, 'sake'),\n",
              " (-9.497518624039145, 'democrat nomine'),\n",
              " (-9.496767595666384, 'craft'),\n",
              " (-9.496211129897866, 'myth'),\n",
              " (-9.495142741283427, 'defenc'),\n",
              " (-9.493426051668132, 'tragic'),\n",
              " (-9.493385366726798, 'thing happen'),\n",
              " (-9.493384278914922, 'pursuit'),\n",
              " (-9.493284998742268, 'would happen'),\n",
              " (-9.492499550506334, 'satur'),\n",
              " (-9.491729891383606, 'bibl'),\n",
              " (-9.491680260894837, 'beg'),\n",
              " (-9.491238464539856, 'unlaw'),\n",
              " (-9.491221443603104, 'consciou'),\n",
              " (-9.491091770045093, 'systemat'),\n",
              " (-9.489088251636405, 'ego'),\n",
              " (-9.48875616209391, 'annex'),\n",
              " (-9.488526185703947, 'facial'),\n",
              " (-9.488477599412718, 'tangi'),\n",
              " (-9.4883972503372, 'pharmaceut'),\n",
              " (-9.486953685561476, 'revolt'),\n",
              " (-9.484880291521513, 'firework'),\n",
              " (-9.484633740183634, 'polit correct'),\n",
              " (-9.482421194467593, 'dictatorship'),\n",
              " (-9.482330374140465, 'cure'),\n",
              " (-9.481411320546794, 'vitamin'),\n",
              " (-9.47988782951813, 'default'),\n",
              " (-9.479880277410622, 'incarcer'),\n",
              " (-9.479125293672745, 'candid hillari'),\n",
              " (-9.478008534771375, 'abedin'),\n",
              " (-9.477183895984197, 'proxi'),\n",
              " (-9.477089160104798, 'stereotyp'),\n",
              " (-9.475366003402279, 'stack'),\n",
              " (-9.475045735776058, 'cold war'),\n",
              " (-9.474308884688226, 'fuck'),\n",
              " (-9.473942508839114, 'thoroughli'),\n",
              " (-9.473839547380821, 'bigot'),\n",
              " (-9.47375754206701, 'work togeth'),\n",
              " (-9.473714411964536, 'countless'),\n",
              " (-9.473599285913478, 'clinton email'),\n",
              " (-9.473098524639894, 'cia'),\n",
              " (-9.472616264233976, 'urin'),\n",
              " (-9.472237662549238, 'hormon'),\n",
              " (-9.472040680284387, 'day elect'),\n",
              " (-9.47168570701096, 'dakota access'),\n",
              " (-9.470156604911923, 'american public'),\n",
              " (-9.46988083546935, 'militari action'),\n",
              " (-9.469581748241312, 'vote trump'),\n",
              " (-9.469129100678948, 'great deal'),\n",
              " (-9.467910268399942, 'geopolit'),\n",
              " (-9.466329917684387, 'realist'),\n",
              " (-9.466312662968253, 'burr'),\n",
              " (-9.466256465187113, 'contamin'),\n",
              " (-9.466091561229012, 'scare'),\n",
              " (-9.466004545626314, 'access pipelin'),\n",
              " (-9.466004545626314, 'dakota access pipelin'),\n",
              " (-9.465418813997323, 'blm'),\n",
              " (-9.465279684186934, 'wildlif'),\n",
              " (-9.465009398920225, 'warfar'),\n",
              " (-9.464549572922527, 'bishop'),\n",
              " (-9.464534126619128, 'choi'),\n",
              " (-9.464389965401887, 'patent'),\n",
              " (-9.463854129184018, 'furthermor'),\n",
              " (-9.463782948468017, 'beneath'),\n",
              " (-9.462906487165519, 'radar'),\n",
              " (-9.46269728467731, 'clinton presid'),\n",
              " (-9.462588749063325, 'importantli'),\n",
              " (-9.462472769297928, 'bush administr'),\n",
              " (-9.46165629173233, 'unifi'),\n",
              " (-9.459559671225627, 'decept'),\n",
              " (-9.458773998000543, 'newslett'),\n",
              " (-9.458442879944407, 'arctic'),\n",
              " (-9.458291749273041, 'revolv'),\n",
              " (-9.458242995600731, 'reduct'),\n",
              " (-9.458127500764736, 'alex jone'),\n",
              " (-9.457446108780973, 'contractor'),\n",
              " (-9.456459657892445, 'free trade'),\n",
              " (-9.456144287150497, 'endless'),\n",
              " (-9.456139131894815, 'toxic'),\n",
              " (-9.455529984499892, 'pot'),\n",
              " (-9.455285937660639, 'walsh'),\n",
              " (-9.454058975794437, 'much less'),\n",
              " (-9.453915977369975, 'bonu'),\n",
              " (-9.453780622829886, 'well know'),\n",
              " (-9.45325461430427, 'dear'),\n",
              " (-9.452109756384893, 'enlist'),\n",
              " (-9.45207099198555, 'influenc elect'),\n",
              " (-9.451302755155417, 'stagger'),\n",
              " (-9.450867734933137, 'inaugur day'),\n",
              " (-9.450759905823729, 'crook'),\n",
              " (-9.450260740873363, 'schult'),\n",
              " (-9.449326702366053, 'shit'),\n",
              " (-9.448868884665675, 'predat'),\n",
              " (-9.447771865989463, 'fascist'),\n",
              " (-9.447729600418437, 'govern agenc'),\n",
              " (-9.447585982585442, 'haunt'),\n",
              " (-9.447526038469833, 'one best'),\n",
              " (-9.447515317711533, 'open door'),\n",
              " (-9.447492033380824, 'quo'),\n",
              " (-9.447477912269104, 'trump hillari'),\n",
              " (-9.447466993107923, 'buffalo'),\n",
              " (-9.44681671424041, 'invad'),\n",
              " (-9.44605052641014, 'inhabit'),\n",
              " (-9.445343272448273, 'lifestyl'),\n",
              " (-9.445160951264121, 'den'),\n",
              " (-9.444593811827348, 'make mistak'),\n",
              " (-9.44394296709528, 'clinton would'),\n",
              " (-9.442823071456976, 'kiev'),\n",
              " (-9.442590875122116, 'tide'),\n",
              " (-9.441816744749113, 'spray'),\n",
              " (-9.441550784375446, 'stupid'),\n",
              " (-9.440955417216205, 'wisdom'),\n",
              " (-9.440715503061938, 'heaven'),\n",
              " (-9.43902812967409, 'explicitli'),\n",
              " (-9.438404643692067, 'ghost'),\n",
              " (-9.436901501922685, 'pub'),\n",
              " (-9.436767596509446, 'consolid'),\n",
              " (-9.436729257249233, 'orchestr'),\n",
              " (-9.43530423078747, 'yearold'),\n",
              " (-9.43491073506684, 'virtu'),\n",
              " (-9.434827478541289, 'remedi'),\n",
              " (-9.432678706388828, 'cynic'),\n",
              " (-9.432638640810413, 'sway'),\n",
              " (-9.4325996411397, 'maduro'),\n",
              " (-9.43238532213004, 'bloomberg'),\n",
              " (-9.431944914554702, 'proven'),\n",
              " (-9.431486013385095, 'terrifi'),\n",
              " (-9.431015686565368, 'elderli'),\n",
              " (-9.430464750886197, 'dismantl'),\n",
              " (-9.428209676887759, 'poison'),\n",
              " (-9.428148990231334, 'coincid'),\n",
              " (-9.428130950793072, 'becom presid'),\n",
              " (-9.427503465666192, 'crimea'),\n",
              " (-9.42718150911245, 'habiyamber'),\n",
              " (-9.427145850206866, 'junior'),\n",
              " (-9.426960659508477, 'nasti'),\n",
              " (-9.426852248114857, 'rein'),\n",
              " (-9.426766521003128, 'inflict'),\n",
              " (-9.426515591948151, 'holi'),\n",
              " (-9.426421483846397, 'dire'),\n",
              " (-9.425584252354811, 'rd'),\n",
              " (-9.424092352014908, 'voter fraud'),\n",
              " (-9.42372851424426, 'yet anoth'),\n",
              " (-9.42331524196617, 'scenario'),\n",
              " (-9.42284646775826, 'inher'),\n",
              " (-9.42165702294194, 'crop'),\n",
              " (-9.421651668595969, 'kashmir'),\n",
              " (-9.420870296562216, 'last time'),\n",
              " (-9.418933191855867, 'recipi'),\n",
              " (-9.418755367555491, 'collus'),\n",
              " (-9.418659740473002, 'lure'),\n",
              " (-9.418603394752296, 'depth'),\n",
              " (-9.418490432483162, 'would need'),\n",
              " (-9.418423373899385, 'bite'),\n",
              " (-9.418189215504697, 'wick'),\n",
              " (-9.417064095178024, 'perpetu'),\n",
              " (-9.41661130815307, 'revolutionari'),\n",
              " (-9.416458803631091, 'eastern europ'),\n",
              " (-9.4157743536693, 'presid would'),\n",
              " (-9.41548801232839, 'deter'),\n",
              " (-9.41452640072053, 'elect presid'),\n",
              " (-9.413326550307596, 'miracl'),\n",
              " (-9.412525993691915, 'peopl take'),\n",
              " (-9.412521906458247, 'aris'),\n",
              " (-9.412331500643996, 'rear'),\n",
              " (-9.412206459406256, 'regain'),\n",
              " (-9.411772173432452, 'crimin investig'),\n",
              " (-9.410543393312478, 'marshal'),\n",
              " (-9.410280305294634, 'sheer'),\n",
              " (-9.409821824260378, 'peopl would'),\n",
              " (-9.409221439660518, 'use forc'),\n",
              " (-9.40880142008568, 'sacr'),\n",
              " (-9.408549148894236, 'rig'),\n",
              " (-9.408074582850503, 'adolesc'),\n",
              " (-9.40736623944757, 'tendenc'),\n",
              " (-9.407184211796832, 'craig'),\n",
              " (-9.406613654303506, 'monster'),\n",
              " (-9.406437736705296, 'unrest'),\n",
              " (-9.405966989648872, 'disgrac'),\n",
              " (-9.40584954532591, 'spiritu'),\n",
              " (-9.405347748289588, 'hidden'),\n",
              " (-9.403285394462817, 'unaccept'),\n",
              " (-9.40243377083601, 'pregnant woman'),\n",
              " (-9.402033388805027, 'nutrit'),\n",
              " (-9.401387876761207, 'pepper'),\n",
              " (-9.400294791713309, 'gut'),\n",
              " (-9.400152922183743, 'deterr'),\n",
              " (-9.399850001338763, 'court justic'),\n",
              " (-9.399635573869217, 'washington dc'),\n",
              " (-9.398841776052892, 'voluntari'),\n",
              " (-9.398692249364686, 'benghazi'),\n",
              " (-9.398523807685786, 'ron'),\n",
              " (-9.397604221674232, 'spill'),\n",
              " (-9.39753130473711, 'ukrainian'),\n",
              " (-9.397374653396888, 'sweet'),\n",
              " (-9.397178429243176, 'glad'),\n",
              " (-9.39690063496589, 'kurd'),\n",
              " (-9.396589668690211, 'clue'),\n",
              " (-9.396526905847974, 'mediterranean'),\n",
              " (-9.396046736170229, 'adequ'),\n",
              " (-9.39589555381577, 'everyon els'),\n",
              " (-9.395812497592106, 'bore'),\n",
              " (-9.395724675992152, 'ownership'),\n",
              " (-9.39555769635611, 'syndrom'),\n",
              " (-9.395322137171451, 'amnesti'),\n",
              " (-9.3951329886456, 'depart justic'),\n",
              " (-9.395114377046148, 'one would'),\n",
              " (-9.394410328976482, 'secretli'),\n",
              " (-9.394252751818886, 'baltic'),\n",
              " (-9.394013775107627, 'roman'),\n",
              " (-9.393364524598686, 'anxiou'),\n",
              " (-9.3926368434155, 'think tank'),\n",
              " (-9.390055839195867, 'hold account'),\n",
              " (-9.389498291591845, 'first place'),\n",
              " (-9.389324745000579, 'unnecessari'),\n",
              " (-9.389302408538029, 'repress'),\n",
              " (-9.389240548960558, 'rev'),\n",
              " (-9.388811803323406, 'pension'),\n",
              " (-9.388681985029939, 'disastr'),\n",
              " (-9.3883211863519, 'could get'),\n",
              " (-9.387977790502376, 'muscl'),\n",
              " (-9.386992037088586, 'guidelin'),\n",
              " (-9.386635046394707, 'supposedli'),\n",
              " (-9.386278632448644, 'grandmoth'),\n",
              " (-9.386154189759354, 'libyan'),\n",
              " (-9.384857859513986, 'spell'),\n",
              " (-9.384761243649532, 'deposit'),\n",
              " (-9.384703739864271, 'vaccin'),\n",
              " (-9.38465474590999, 'peopl live'),\n",
              " (-9.384102820502195, 'lili'),\n",
              " (-9.381901037638537, 'tag'),\n",
              " (-9.381790384353023, 'unilater'),\n",
              " (-9.38142960460194, 'baghdad'),\n",
              " (-9.381405621625621, 'wipe'),\n",
              " (-9.381354047679878, 'emphasi'),\n",
              " (-9.381139967509831, 'bizarr'),\n",
              " (-9.380939330377664, 'state offici'),\n",
              " (-9.380020155898384, 'latter'),\n",
              " (-9.3792263373874, 'cargil'),\n",
              " (-9.378929901086451, 'auto'),\n",
              " (-9.378843630593904, 'nonsens'),\n",
              " (-9.378632490037447, 'witch'),\n",
              " (-9.378509098575465, 'chill'),\n",
              " (-9.376861867466287, 'denmark'),\n",
              " (-9.376255891545723, 'epidem'),\n",
              " (-9.376196911093333, 'fool'),\n",
              " (-9.375410230923459, 'formerli'),\n",
              " (-9.375347720105076, 'denver'),\n",
              " (-9.37501723617077, 'lord'),\n",
              " (-9.374940091258846, 'campaign chairman'),\n",
              " (-9.374686970973245, 'inequ'),\n",
              " (-9.374247735508622, 'infam'),\n",
              " (-9.374034897827432, 'catastroph'),\n",
              " (-9.373134536775295, 'gym'),\n",
              " (-9.372837104047868, 'salt'),\n",
              " (-9.372331513855118, 'peril'),\n",
              " (-9.372148736340783, 'verdict'),\n",
              " (-9.371878680441881, 'deepen'),\n",
              " (-9.371496950627845, 'intoler'),\n",
              " (-9.371493461006665, 'embodi'),\n",
              " (-9.371348170127396, 'captiv'),\n",
              " (-9.371228930143102, 'insight'),\n",
              " (-9.371108474179788, 'lung'),\n",
              " (-9.370850196426575, 'pure'),\n",
              " (-9.370786265999541, 'puzzl'),\n",
              " (-9.37072585338672, 'underway'),\n",
              " (-9.37053244740922, 'meddl'),\n",
              " (-9.370231234663237, 'adher'),\n",
              " (-9.370111744521852, 'acquisit'),\n",
              " (-9.369131048733012, 'unpredict'),\n",
              " (-9.369021516805155, 'world larg'),\n",
              " (-9.36860135446531, 'tell stori'),\n",
              " (-9.368600292036307, 'bound'),\n",
              " (-9.368187431744149, 'assang'),\n",
              " (-9.368114822695338, 'counti sheriff'),\n",
              " (-9.367856098576125, 'reveng'),\n",
              " (-9.367760735159708, 'foreign relat'),\n",
              " (-9.367150561758846, 'spokesperson'),\n",
              " (-9.36701524846492, 'mani other'),\n",
              " (-9.366780417677452, 'want know'),\n",
              " (-9.365451656016628, 'stumbl'),\n",
              " (-9.365395492333684, 'bad news'),\n",
              " (-9.365210500687164, 'instrument'),\n",
              " (-9.364528474757234, 'loyalti'),\n",
              " (-9.364054511218594, 'realli want'),\n",
              " (-9.363218067030765, 'write book'),\n",
              " (-9.363155038730335, 'russian militari'),\n",
              " (-9.362973660335202, 'ram'),\n",
              " (-9.362773852661604, 'format'),\n",
              " (-9.362103721279542, 'biolog'),\n",
              " (-9.361761858049986, 'fertil'),\n",
              " (-9.361691897116076, 'damn'),\n",
              " (-9.361663574724407, 'sophist'),\n",
              " (-9.361543348970443, 'time get'),\n",
              " (-9.361480964339398, 'slaughter'),\n",
              " (-9.361233766901615, 'stark'),\n",
              " (-9.360720860255249, 'cop'),\n",
              " (-9.360555440835837, 'peopl work'),\n",
              " (-9.360540924395883, 'stamp'),\n",
              " (-9.360509420617854, 'jesu'),\n",
              " (-9.3603707578947, 'liar'),\n",
              " (-9.360090072992282, 'genocid'),\n",
              " (-9.359806060934972, 'cartoon'),\n",
              " (-9.358980791382352, 'versu'),\n",
              " (-9.357595446180593, 'black life matter'),\n",
              " (-9.357459873854351, 'sovereignti'),\n",
              " (-9.35728654763233, 'globalist'),\n",
              " (-9.356648195005988, 'fascin'),\n",
              " (-9.356029947343933, 'gulf'),\n",
              " (-9.35550208667396, 'piano'),\n",
              " (-9.35539891115251, 'small busi'),\n",
              " (-9.355080707508527, 'wield'),\n",
              " (-9.354966567647914, 'sach'),\n",
              " (-9.354487127754625, 'diet'),\n",
              " (-9.354062445325706, 'democrat presidenti'),\n",
              " (-9.353994862959718, 'substanc'),\n",
              " (-9.353654141845947, 'characterist'),\n",
              " (-9.353631266745927, 'superior'),\n",
              " (-9.3532875081682, 'vagu'),\n",
              " (-9.352888690182379, 'mani american'),\n",
              " (-9.352629082498849, 'goldman sach'),\n",
              " (-9.352607990468654, 'arm forc'),\n",
              " (-9.352155807632833, 'approxim'),\n",
              " (-9.351581265360105, 'back say'),\n",
              " (-9.35119551680389, 'support trump'),\n",
              " (-9.350863493136337, 'congratul'),\n",
              " (-9.348810356866494, 'fault'),\n",
              " (-9.348435433497183, 'mr weaver'),\n",
              " (-9.347998460910844, 'knee'),\n",
              " (-9.347835036593077, 'fiorina'),\n",
              " (-9.347593377311524, 'resettl'),\n",
              " (-9.347540552018463, 'destabil'),\n",
              " (-9.347466758253349, 'poster'),\n",
              " (-9.347420282914989, 'fairli'),\n",
              " (-9.346811720721448, 'moham'),\n",
              " (-9.346746135045622, 'protocol'),\n",
              " (-9.34582631404002, 'introduct'),\n",
              " (-9.345451539681687, 'yell'),\n",
              " (-9.345365890859737, 'taught'),\n",
              " (-9.345137896081962, 'coin'),\n",
              " (-9.344967693868329, 'nois'),\n",
              " (-9.344952863377284, 'ask question'),\n",
              " (-9.344772965715192, 'nation geograph'),\n",
              " (-9.344485519894958, 'cave'),\n",
              " (-9.344394864604585, 'earlier year'),\n",
              " (-9.344060102488081, 'anyon els'),\n",
              " (-9.343835194781821, 'defi'),\n",
              " (-9.343628054203963, 'notifi'),\n",
              " (-9.343265888055983, 'automat'),\n",
              " (-9.343092830371896, 'slight'),\n",
              " (-9.342843029008387, 'abduct'),\n",
              " (-9.342814363557837, 'contradict'),\n",
              " (-9.342543674556723, 'sum'),\n",
              " (-9.341316339770366, 'slide'),\n",
              " (-9.34043273428946, 'servant'),\n",
              " (-9.340227990923134, 'john podesta'),\n",
              " (-9.33995963049429, 'rais question'),\n",
              " (-9.339272219761467, 'one first'),\n",
              " (-9.339062865863077, 'vanish'),\n",
              " (-9.338977776819931, 'creatur'),\n",
              " (-9.33878317576407, 'visual'),\n",
              " (-9.338700365088947, 'merit'),\n",
              " (-9.337418254981674, 'perpetr'),\n",
              " (-9.336651213822078, 'volum'),\n",
              " (-9.335363447830034, 'lectur'),\n",
              " (-9.335310172522362, 'dna'),\n",
              " (-9.335293666010243, 'batch'),\n",
              " (-9.3351514323448, 'iceland'),\n",
              " (-9.334462767888729, 'notori'),\n",
              " (-9.3338533533961, 'american polit'),\n",
              " (-9.333646392545615, 'million million'),\n",
              " (-9.333540144698857, 'proport'),\n",
              " (-9.333357676483654, 'chart'),\n",
              " (-9.332887481662077, 'alan'),\n",
              " (-9.331749459991876, 'represent'),\n",
              " (-9.33160936459171, 'black life'),\n",
              " (-9.331532260428812, 'mp'),\n",
              " (-9.330999480893343, 'high level'),\n",
              " (-9.33091867772669, 'sir'),\n",
              " (-9.330833973408442, 'american histori'),\n",
              " (-9.330493659787104, 'brought'),\n",
              " (-9.330311781955801, 'bribe'),\n",
              " (-9.329160857022982, 'run mate'),\n",
              " (-9.329123627385739, 'pretend'),\n",
              " (-9.329103078456798, 'authoritarian'),\n",
              " (-9.329002478427093, 'enlighten'),\n",
              " (-9.32895318714623, 'bulli'),\n",
              " (-9.328469208342579, 'horowitz'),\n",
              " (-9.32831782757736, 'extract'),\n",
              " (-9.327914282670468, 'accent'),\n",
              " (-9.32683950902794, 'authent'),\n",
              " (-9.326742338964502, 'asham'),\n",
              " (-9.326721318654762, 'proof'),\n",
              " (-9.326475582970431, 'democrat republican'),\n",
              " (-9.326268964003189, 'chest'),\n",
              " (-9.325575151209046, 'iii'),\n",
              " (-9.324240098048358, 'poverti'),\n",
              " (-9.323149203796483, 'takamatsu'),\n",
              " (-9.322733940352123, 'worship'),\n",
              " (-9.322708555622512, 'elig'),\n",
              " (-9.322380513460107, 'verifi'),\n",
              " (-9.322132286933144, 'sugar'),\n",
              " (-9.322116964881245, 'bring back'),\n",
              " (-9.32209456288994, 'leav behind'),\n",
              " (-9.32145506070762, 'compos'),\n",
              " (-9.320708891079155, 'consent'),\n",
              " (-9.320182453303834, 'never see'),\n",
              " (-9.319845854047502, 'could take'),\n",
              " (-9.319315782281434, 'heal'),\n",
              " (-9.318615349000552, 'recreat'),\n",
              " (-9.317881836893164, 'lend'),\n",
              " (-9.317673293065772, 'public health'),\n",
              " (-9.317639889392794, 'imprison'),\n",
              " (-9.317324117390154, 'life matter'),\n",
              " (-9.316780657608106, 'propaganda'),\n",
              " (-9.316530963165034, 'surprisingli'),\n",
              " (-9.316516038468736, 'come day'),\n",
              " (-9.31650279539014, 'overlook'),\n",
              " (-9.316414191139582, 'last three'),\n",
              " (-9.315913327343273, 'ration'),\n",
              " (-9.315858073555116, 'make easi'),\n",
              " (-9.315747441762662, 'go take'),\n",
              " (-9.315495699311796, 'pundit'),\n",
              " (-9.31542917645993, 'va'),\n",
              " (-9.315214096675676, 'armor'),\n",
              " (-9.315144298129931, 'honestli'),\n",
              " (-9.31476866590558, 'deep state'),\n",
              " (-9.31456961911081, 'former secretari state'),\n",
              " (-9.314522627179294, 'cultiv'),\n",
              " (-9.31451310340464, 'municip'),\n",
              " (-9.314469808406875, 'valid'),\n",
              " (-9.313829313155622, 'trauma'),\n",
              " (-9.313419775249026, 'bold'),\n",
              " (-9.313202456319118, 'mr clark'),\n",
              " (-9.313142957488736, 'decid whether'),\n",
              " (-9.312983547949456, 'architect'),\n",
              " (-9.312970095494032, 'exact'),\n",
              " (-9.312462792921542, 'mainli'),\n",
              " (-9.312339242417774, 'could find'),\n",
              " (-9.312314425416886, 'hacker'),\n",
              " (-9.312205243716537, 'tragedi'),\n",
              " (-9.312204307934312, 'presid bill'),\n",
              " (-9.312204307934312, 'presid bill clinton'),\n",
              " (-9.31182107891854, 'exagger'),\n",
              " (-9.311811457235988, 'black peopl'),\n",
              " (-9.311733576740597, 'come forward'),\n",
              " (-9.311469445567264, 'properli'),\n",
              " (-9.31143877153721, 'former secretari'),\n",
              " (-9.31126787958394, 'soil'),\n",
              " (-9.311140390577796, 'trump team'),\n",
              " (-9.311012863899206, 'bat'),\n",
              " (-9.310982039264607, 'first amend'),\n",
              " (-9.310872122462081, 'militari oper'),\n",
              " (-9.310757621619748, 'supervis'),\n",
              " (-9.31062283000167, 'say noth'),\n",
              " (-9.310245215480462, 'make case'),\n",
              " (-9.309762782227992, 'mani way'),\n",
              " (-9.309081490029296, 'parliamentari'),\n",
              " (-9.30895163113154, 'wag'),\n",
              " (-9.308922358934414, 'better'),\n",
              " (-9.308683067431073, 'weaver'),\n",
              " (-9.308659812735488, 'one reason'),\n",
              " (-9.308568999144883, 'defer'),\n",
              " (-9.308418000593235, 'past week'),\n",
              " (-9.30831545524691, 'denial'),\n",
              " (-9.308031966715383, 'drill'),\n",
              " (-9.307690307517525, 'array'),\n",
              " (-9.307681007921571, 'netherland'),\n",
              " (-9.307415124670868, 'week ago'),\n",
              " (-9.307411898446738, 'length'),\n",
              " (-9.307272179081433, 'becom first'),\n",
              " (-9.307210527775332, 'assumpt'),\n",
              " (-9.307143966984135, 'duck'),\n",
              " (-9.306861525738128, 'oval offic'),\n",
              " (-9.306709675107054, 'work hard'),\n",
              " (-9.306281879263551, 'nate'),\n",
              " (-9.305998210510003, 'watchdog'),\n",
              " (-9.30584961575354, 'scan'),\n",
              " (-9.305803490573181, 'smash'),\n",
              " (-9.30525928912401, 'uphold'),\n",
              " (-9.30505268810188, 'venezuela'),\n",
              " (-9.304701381730341, 'central bank'),\n",
              " (-9.303660194029733, 'banner'),\n",
              " (-9.303255226662037, 'momentum'),\n",
              " (-9.303069733099694, 'swear'),\n",
              " (-9.302918201479237, 'irish'),\n",
              " (-9.302865330270935, 'lucr'),\n",
              " (-9.302780177207909, 'loom'),\n",
              " (-9.302473065347163, 'snowden'),\n",
              " (-9.302285223133532, 'eastern aleppo'),\n",
              " (-9.30220108071926, 'trigger'),\n",
              " (-9.302123342372944, 'stock market'),\n",
              " (-9.301854592978046, 'woman child'),\n",
              " (-9.301511982936164, 'univers california'),\n",
              " (-9.301327004456247, 'graphic'),\n",
              " (-9.301201366687913, 'mosul'),\n",
              " (-9.300153921056197, 'right group'),\n",
              " (-9.299734998778698, 'enrol'),\n",
              " (-9.299720852142158, 'burst'),\n",
              " (-9.29961719790478, 'underground'),\n",
              " (-9.299528064257766, 'excus'),\n",
              " (-9.299401420590018, 'shame'),\n",
              " (-9.299353033453947, 'facebook page'),\n",
              " (-9.299270639823202, 'know say'),\n",
              " (-9.299068049791973, 'galaxi'),\n",
              " (-9.299010547408509, 'mentor'),\n",
              " (-9.298700498055455, 'usa'),\n",
              " (-9.298447868052094, 'shore'),\n",
              " (-9.298290140542012, 'wikileak'),\n",
              " (-9.297964073707009, 'retreat'),\n",
              " (-9.297587692599727, 'unleash'),\n",
              " (-9.297298755353777, 'one say'),\n",
              " (-9.296991474794039, 'young child'),\n",
              " (-9.296446088730324, 'rule law'),\n",
              " (-9.29625981817308, 'arbitr'),\n",
              " (-9.296154106822922, 'audio'),\n",
              " (-9.29599070196729, 'refug'),\n",
              " (-9.295914964025977, 'nobel'),\n",
              " (-9.295869646460876, 'decis make'),\n",
              " (-9.295355715888864, 'suspici'),\n",
              " (-9.295223899594728, 'doom'),\n",
              " (-9.295049990347099, 'uncomfort'),\n",
              " (-9.294692402569208, 'tumor'),\n",
              " (-9.294440831084257, 'dri'),\n",
              " (-9.294275230447528, 'would requir'),\n",
              " (-9.293909843099136, 'terrorist group'),\n",
              " (-9.293729950082612, 'proclaim'),\n",
              " (-9.293383152243393, 'rumor'),\n",
              " (-9.29287402314514, 'distort'),\n",
              " (-9.292766128198588, 'could help'),\n",
              " (-9.292608007096339, 'oppress'),\n",
              " (-9.292437162134476, 'go way'),\n",
              " (-9.292338542824915, 'displac'),\n",
              " (-9.292330299561257, 'nail'),\n",
              " (-9.292307236661319, 'jacob'),\n",
              " (-9.292266799909076, 'soar'),\n",
              " (-9.292105483513478, 'minim'),\n",
              " (-9.291564041698967, 'rebuk'),\n",
              " (-9.291428787762811, 'hoax'),\n",
              " (-9.291224225598953, 'ever sinc'),\n",
              " (-9.290623678448762, 'work class'),\n",
              " (-9.2905021628025, 'polit parti'),\n",
              " (-9.290107751403209, 'shortag'),\n",
              " (-9.289625589890305, 'enhanc'),\n",
              " (-9.289478347438312, 'comb'),\n",
              " (-9.289378339631453, 'nightmar'),\n",
              " (-9.289320685541169, 'st centuri'),\n",
              " (-9.288861009728224, 'justif'),\n",
              " (-9.288851727622612, 'intellectu'),\n",
              " (-9.288644762156451, 'surrog'),\n",
              " (-9.288026732548825, 'genet'),\n",
              " (-9.287981186312084, 'storag'),\n",
              " (-9.287853608387358, 'commentari'),\n",
              " (-9.28776526869355, 'make differ'),\n",
              " (-9.287736347447861, 'inaccur'),\n",
              " (-9.287364975979724, 'barrier'),\n",
              " (-9.287309890451775, 'reloc'),\n",
              " (-9.287120256423629, 'alik'),\n",
              " (-9.287060775408047, 'plaintiff'),\n",
              " (-9.285759106370294, 'want go'),\n",
              " (-9.285677265311845, 'hedg'),\n",
              " (-9.285549249763646, 'gradual'),\n",
              " (-9.285400458843961, 'determin whether'),\n",
              " (-9.284927212993077, 'pit'),\n",
              " (-9.284673166497637, 'month later'),\n",
              " (-9.28403314805097, 'okay'),\n",
              " (-9.284025765797935, 'pollster'),\n",
              " (-9.283826015008872, 'bug'),\n",
              " (-9.28380164868329, 'behav'),\n",
              " (-9.283551957830742, 'jennif'),\n",
              " (-9.283150981603434, 'young men'),\n",
              " (-9.282836339046462, 'incom tax'),\n",
              " (-9.282383683268279, 'epic'),\n",
              " (-9.28232226517566, 'urgent'),\n",
              " (-9.282198319638763, 'retali'),\n",
              " (-9.282187791655625, 'hezbollah'),\n",
              " (-9.282181904552838, 'diminish'),\n",
              " (-9.282174848711225, 'exempt'),\n",
              " (-9.2821071830877, 'carrier'),\n",
              " (-9.282096471582495, 'businessman'),\n",
              " (-9.281889624660796, 'politic'),\n",
              " (-9.281251336831444, 'parallel'),\n",
              " (-9.281216419845013, 'presid bashar'),\n",
              " (-9.280430934797135, 'solid'),\n",
              " (-9.280307468750314, 'aw'),\n",
              " (-9.279487770955859, 'inject'),\n",
              " (-9.279483723419894, 'jonathan'),\n",
              " (-9.279441782732517, 'lynch'),\n",
              " (-9.279238959566255, 'character'),\n",
              " (-9.279198017824465, 'recount'),\n",
              " (-9.279095483700504, 'depart say'),\n",
              " (-9.279044943757766, 'respond request'),\n",
              " (-9.278535405413395, 'peopl around'),\n",
              " (-9.278334590452914, 'one last'),\n",
              " (-9.278168196406613, 'unpreced'),\n",
              " (-9.277992767282246, 'mirror'),\n",
              " (-9.277514173214254, 'instinct'),\n",
              " (-9.276977634856062, 'govern forc'),\n",
              " (-9.27656267749442, 'nowher'),\n",
              " (-9.276102136118253, 'ok'),\n",
              " (-9.276036574177882, 'disagre'),\n",
              " (-9.276028086983422, 'hundr thousand'),\n",
              " (-9.275920953432312, 'oxygen'),\n",
              " (-9.275486790445266, 'dust'),\n",
              " (-9.274976375940229, 'could also'),\n",
              " (-9.27453781001851, 'make good'),\n",
              " (-9.274165362604876, 'physician'),\n",
              " (-9.273809399252135, 'occup'),\n",
              " (-9.273562212271802, 'persecut'),\n",
              " (-9.273528368911586, 'poland'),\n",
              " (-9.273312534714135, 'duke'),\n",
              " (-9.2731182378293, 'hundr million'),\n",
              " (-9.27302465946442, 'crown'),\n",
              " (-9.272814781298173, 'offset'),\n",
              " (-9.272579475612888, 'tri get'),\n",
              " (-9.272307196417714, 'longstand'),\n",
              " (-9.272191565941382, 'american presid'),\n",
              " (-9.271668727405368, 'phil'),\n",
              " (-9.27155727349284, 'dealer'),\n",
              " (-9.271442635023782, 'pardon'),\n",
              " (-9.271382281379367, 'diplomaci'),\n",
              " (-9.27125579003512, 'slowli'),\n",
              " (-9.271136196711971, 'yellow'),\n",
              " (-9.270946211669894, 'meek'),\n",
              " (-9.270796568229922, 'shed'),\n",
              " (-9.270733885033533, 'viral'),\n",
              " (-9.270337504524742, 'volatil'),\n",
              " (-9.269994454723347, 'everywher'),\n",
              " (-9.26957055920167, 'plagu'),\n",
              " (-9.269538108154466, 'logic'),\n",
              " (-9.269198594260878, 'soviet union'),\n",
              " (-9.268892308701384, 'peer'),\n",
              " (-9.268616131885205, 'bin'),\n",
              " (-9.268329811401632, 'drain'),\n",
              " (-9.268286804784603, 'discourag'),\n",
              " (-9.268161819115738, 'pioneer'),\n",
              " (-9.267957663659992, 'civic'),\n",
              " (-9.26790269093187, 'forens'),\n",
              " (-9.267414662849918, 'iron'),\n",
              " (-9.267209237997944, 'russian presid vladimir'),\n",
              " (-9.266922676144901, 'clarifi'),\n",
              " (-9.26688502002714, 'absurd'),\n",
              " (-9.266670385197466, 'get back'),\n",
              " (-9.266531029780607, 'say well'),\n",
              " (-9.266143435392419, 'chemotherapi'),\n",
              " (-9.265954976583012, 'lemon'),\n",
              " (-9.265640240260531, 'architectur'),\n",
              " (-9.265576616905209, 'trump white'),\n",
              " (-9.265366130580572, 'make feel'),\n",
              " (-9.265173499419683, 'feder law'),\n",
              " (-9.265058504905522, 'whoever'),\n",
              " (-9.26489535238352, 'stepmoth'),\n",
              " (-9.264769114950846, 'dissent'),\n",
              " (-9.264763423874589, 'nonetheless'),\n",
              " (-9.26473677976206, 'retak'),\n",
              " (-9.264341871370895, 'sacrific'),\n",
              " (-9.264267717669973, 'trash'),\n",
              " (-9.264183797112839, 'exposur'),\n",
              " (-9.264180435095993, 'reinforc'),\n",
              " (-9.263739048320122, 'appointe'),\n",
              " (-9.263635827041034, 'vindic'),\n",
              " (-9.26361365315062, 'take away'),\n",
              " (-9.263507145332396, 'leverag'),\n",
              " (-9.262989099427019, 'rusbridg'),\n",
              " (-9.262812260437453, 'rate percent'),\n",
              " (-9.262778747412767, 'two year ago'),\n",
              " (-9.26261813711444, 'everyday'),\n",
              " (-9.262508278689067, 'betray'),\n",
              " (-9.262202657067592, 'thing go'),\n",
              " (-9.262152959221202, 'maximum'),\n",
              " (-9.261891120258005, 'shi'),\n",
              " (-9.261719185033291, 'fiscal'),\n",
              " (-9.261601191322782, 'feloni'),\n",
              " (-9.26150382494542, 'three day'),\n",
              " (-9.261006359598824, 'feder reserv'),\n",
              " (-9.260862860315703, 'button'),\n",
              " (-9.260687559731506, 'drone'),\n",
              " (-9.26022565267028, 'singl market'),\n",
              " (-9.259149814210076, 'bleed'),\n",
              " (-9.25909501682112, 'come togeth'),\n",
              " (-9.25877696152557, 'stir'),\n",
              " (-9.25860989673146, 'law firm'),\n",
              " (-9.25803583666664, 'presum'),\n",
              " (-9.257917877418791, 'proper'),\n",
              " (-9.257847630303646, 'make way'),\n",
              " (-9.257720719297776, 'parti leader'),\n",
              " (-9.25705264719264, 'steinem'),\n",
              " (-9.25684110912335, 'immens'),\n",
              " (-9.25683413903128, 'adversari'),\n",
              " (-9.256569600481683, 'plu'),\n",
              " (-9.256502059749089, 'someth like'),\n",
              " (-9.256079484385507, 'friendship'),\n",
              " (-9.255886258825017, 'bankruptci'),\n",
              " (-9.255763445913047, 'michel obama'),\n",
              " (-9.255657812719175, 'sooner'),\n",
              " (-9.255601634006588, 'rag'),\n",
              " (-9.255463282657447, 'state like'),\n",
              " (-9.255293741522827, 'borrow'),\n",
              " (-9.255068535944643, 'trick'),\n",
              " (-9.255039699144067, 'owe'),\n",
              " (-9.255022256432552, 'entiti'),\n",
              " (-9.25413689683284, 'librari'),\n",
              " (-9.253962994527916, 'essay'),\n",
              " (-9.253935875430125, 'oval'),\n",
              " (-9.253786494822148, 'concret'),\n",
              " (-9.2536694648765, 'infect'),\n",
              " (-9.253418463831398, 'consensu'),\n",
              " (-9.253286466409438, 'glow'),\n",
              " (-9.253285330821251, 'take care'),\n",
              " (-9.253267412004039, 'higher'),\n",
              " (-9.253132118624894, 'orbit'),\n",
              " (-9.252787071169925, 'exceed'),\n",
              " (-9.252491919902031, 'dare'),\n",
              " (-9.251682155036868, 'intimid'),\n",
              " (-9.251099111577783, 'anniversari'),\n",
              " (-9.25083818945098, 'delight'),\n",
              " (-9.250822428911695, 'lengthi'),\n",
              " (-9.250153172576946, 'incit'),\n",
              " (-9.250090117326987, 'tea'),\n",
              " (-9.249719528573493, 'din'),\n",
              " (-9.249629053126974, 'econom growth'),\n",
              " (-9.249506006819212, 'ted cruz'),\n",
              " (-9.24945459120551, 'moreov'),\n",
              " (-9.249267013034911, 'pump'),\n",
              " (-9.249179523167983, 'veget'),\n",
              " (-9.24913769713472, 'undocu'),\n",
              " (-9.248982585993613, 'campaign say'),\n",
              " (-9.248952148935093, 'scope'),\n",
              " (-9.248897580708839, 'less like'),\n",
              " (-9.248663217054503, 'relev'),\n",
              " (-9.248154379004777, 'fleet'),\n",
              " (-9.2480048812965, 'thousand peopl'),\n",
              " (-9.24765078168788, 'organis'),\n",
              " (-9.247595999769485, 'biographi'),\n",
              " (-9.247495534106168, 'thick'),\n",
              " (-9.247231722586008, 'berenstain'),\n",
              " (-9.24655663953082, 'relax'),\n",
              " (-9.245996083769551, 'say time'),\n",
              " (-9.245868070041581, 'malaria'),\n",
              " (-9.245650726414715, 'hesit'),\n",
              " (-9.24541720587826, 'turnout'),\n",
              " (-9.245216034011003, 'woman say'),\n",
              " (-9.245183350951727, 'excerpt'),\n",
              " (-9.244939057650683, 'kain'),\n",
              " (-9.244887054452121, 'socialist'),\n",
              " (-9.244636974444361, 'impli'),\n",
              " (-9.24459668901187, 'cub'),\n",
              " (-9.244552550236499, 'thrive'),\n",
              " (-9.244359194490368, 'democrat nation committe'),\n",
              " (-9.244141564368991, 'philosophi'),\n",
              " (-9.243754444072987, 'unexpect'),\n",
              " (-9.24359030771347, 'pb'),\n",
              " (-9.2433788541929, 'time year'),\n",
              " (-9.243298575731236, 'recognit'),\n",
              " (-9.242961037502205, 'misconduct'),\n",
              " (-9.242495448806574, 'click'),\n",
              " (-9.242209111692826, 'propon'),\n",
              " (-9.242171389806007, 'frighten'),\n",
              " (-9.241607493955872, 'pocket'),\n",
              " (-9.241593900689974, 'go forward'),\n",
              " (-9.241555221276458, 'recept'),\n",
              " (-9.241421197477734, 'descend'),\n",
              " (-9.241380237417887, 'famili member'),\n",
              " (-9.241296877971905, 'express concern'),\n",
              " (-9.240932175087856, 'trump win'),\n",
              " (-9.240594869234457, 'greec'),\n",
              " (-9.24043485369532, 'ran'),\n",
              " (-9.240179481981905, 'would never'),\n",
              " (-9.240074560428026, 'bow'),\n",
              " (-9.23998854082012, 'guilt'),\n",
              " (-9.239261368684831, 'republican presidenti'),\n",
              " (-9.239138034122615, 'grate'),\n",
              " (-9.239000272101723, 'whenev'),\n",
              " (-9.23873095694161, 'uranium'),\n",
              " (-9.238522120106483, 'sheet'),\n",
              " (-9.238475363038178, 'probe'),\n",
              " (-9.23833508963003, 'fantasi'),\n",
              " (-9.237834568343894, 'outright'),\n",
              " (-9.237604000004755, 'sail'),\n",
              " ...]"
            ]
          },
          "metadata": {},
          "execution_count": 69
        }
      ],
      "source": [
        "### Most fake\n",
        "sorted(zip(classifier.coef_[0], feature_names))[:5000]"
      ]
    },
    {
      "cell_type": "markdown",
      "metadata": {
        "id": "6nEsVlFOVgKf"
      },
      "source": [
        "### GaussianNB Algorithm"
      ]
    },
    {
      "cell_type": "code",
      "execution_count": 70,
      "metadata": {
        "id": "3C_QSeOaVgKf"
      },
      "outputs": [],
      "source": [
        "from sklearn.naive_bayes import GaussianNB\n",
        "classifier=GaussianNB()"
      ]
    },
    {
      "cell_type": "code",
      "execution_count": 71,
      "metadata": {
        "id": "VyGpKxShVgKf"
      },
      "outputs": [],
      "source": [
        "from sklearn import metrics\n",
        "import numpy as np\n",
        "import itertools"
      ]
    },
    {
      "cell_type": "code",
      "execution_count": 72,
      "metadata": {
        "colab": {
          "base_uri": "https://localhost:8080/",
          "height": 345
        },
        "id": "y_RcCpxtVgKf",
        "outputId": "c462ed08-9d70-440f-b8b7-553931141908"
      },
      "outputs": [
        {
          "output_type": "stream",
          "name": "stdout",
          "text": [
            "accuracy:   0.530\n",
            "Confusion matrix, without normalization\n"
          ]
        },
        {
          "output_type": "display_data",
          "data": {
            "text/plain": [
              "<Figure size 432x288 with 2 Axes>"
            ],
            "image/png": "[encoded data removed]"
          },
          "metadata": {
            "needs_background": "light"
          }
        }
      ],
      "source": [
        "classifier.fit(X_train, y_train)\n",
        "pred = classifier.predict(X_test)\n",
        "score = metrics.accuracy_score(y_test, pred)\n",
        "print(\"accuracy:   %0.3f\" % score)\n",
        "cm = metrics.confusion_matrix(y_test, pred)\n",
        "plot_confusion_matrix(cm, classes=['FAKE', 'REAL'])"
      ]
    },
    {
      "cell_type": "code",
      "execution_count": 73,
      "metadata": {
        "colab": {
          "base_uri": "https://localhost:8080/"
        },
        "id": "iOry9XHJVgKg",
        "outputId": "4e03ed3f-1c50-4e87-9890-93f2529677c0"
      },
      "outputs": [
        {
          "output_type": "execute_result",
          "data": {
            "text/plain": [
              "0.5302956858943286"
            ]
          },
          "metadata": {},
          "execution_count": 73
        }
      ],
      "source": [
        "classifier.fit(X_train, y_train)\n",
        "pred = classifier.predict(X_test)\n",
        "score = metrics.accuracy_score(y_test, pred)\n",
        "score"
      ]
    },
    {
      "cell_type": "markdown",
      "metadata": {
        "id": "RgiNaTfaVgKg"
      },
      "source": [
        "### Logistic Regression "
      ]
    },
    {
      "cell_type": "code",
      "execution_count": 74,
      "metadata": {
        "id": "eZ7WtHubVgKg"
      },
      "outputs": [],
      "source": [
        "from sklearn.linear_model import LogisticRegression\n",
        "classifier=LogisticRegression()"
      ]
    },
    {
      "cell_type": "code",
      "execution_count": 75,
      "metadata": {
        "id": "M7eP_8VIVgKg"
      },
      "outputs": [],
      "source": [
        "from sklearn import metrics\n",
        "import numpy as np\n",
        "import itertools"
      ]
    },
    {
      "cell_type": "code",
      "execution_count": 76,
      "metadata": {
        "colab": {
          "base_uri": "https://localhost:8080/",
          "height": 345
        },
        "id": "z0tOlqsEVgKg",
        "outputId": "c3c3045e-720e-4b89-bd6c-3ee1381e42c5"
      },
      "outputs": [
        {
          "output_type": "stream",
          "name": "stdout",
          "text": [
            "accuracy:   0.508\n",
            "Confusion matrix, without normalization\n"
          ]
        },
        {
          "output_type": "display_data",
          "data": {
            "text/plain": [
              "<Figure size 432x288 with 2 Axes>"
            ],
            "image/png": "[encoded data removed]"
          },
          "metadata": {
            "needs_background": "light"
          }
        }
      ],
      "source": [
        "classifier.fit(X_train, y_train)\n",
        "pred = classifier.predict(X_test)\n",
        "score = metrics.accuracy_score(y_test, pred)\n",
        "print(\"accuracy:   %0.3f\" % score)\n",
        "cm = metrics.confusion_matrix(y_test, pred)\n",
        "plot_confusion_matrix(cm, classes=['FAKE', 'REAL'])"
      ]
    },
    {
      "cell_type": "code",
      "execution_count": 77,
      "metadata": {
        "colab": {
          "base_uri": "https://localhost:8080/"
        },
        "id": "Tt4JSnL4VgKg",
        "outputId": "10faa1d7-e807-42bb-f489-eb02cd7afd5d"
      },
      "outputs": [
        {
          "output_type": "execute_result",
          "data": {
            "text/plain": [
              "0.5079980610761028"
            ]
          },
          "metadata": {},
          "execution_count": 77
        }
      ],
      "source": [
        "classifier.fit(X_train, y_train)\n",
        "pred = classifier.predict(X_test)\n",
        "score = metrics.accuracy_score(y_test, pred)\n",
        "score"
      ]
    },
    {
      "cell_type": "markdown",
      "metadata": {
        "id": "PWcOdSlaVgKg"
      },
      "source": [
        "### Decision Tree Algorithm"
      ]
    },
    {
      "cell_type": "code",
      "execution_count": 78,
      "metadata": {
        "id": "fqiwbwnZVgKh"
      },
      "outputs": [],
      "source": [
        "from sklearn.tree import DecisionTreeClassifier\n",
        "classifier=DecisionTreeClassifier()"
      ]
    },
    {
      "cell_type": "code",
      "execution_count": 79,
      "metadata": {
        "id": "8rKWW84cVgKh"
      },
      "outputs": [],
      "source": [
        "from sklearn import metrics\n",
        "import numpy as np\n",
        "import itertools"
      ]
    },
    {
      "cell_type": "code",
      "execution_count": 80,
      "metadata": {
        "colab": {
          "base_uri": "https://localhost:8080/",
          "height": 345
        },
        "id": "_bfxaeGkVgKh",
        "outputId": "175c0741-98e9-4d09-961c-598043a9bf28"
      },
      "outputs": [
        {
          "output_type": "stream",
          "name": "stdout",
          "text": [
            "accuracy:   0.635\n",
            "Confusion matrix, without normalization\n"
          ]
        },
        {
          "output_type": "display_data",
          "data": {
            "text/plain": [
              "<Figure size 432x288 with 2 Axes>"
            ],
            "image/png": "[encoded data removed]"
          },
          "metadata": {
            "needs_background": "light"
          }
        }
      ],
      "source": [
        "classifier.fit(X_train, y_train)\n",
        "pred = classifier.predict(X_test)\n",
        "score = metrics.accuracy_score(y_test, pred)\n",
        "print(\"accuracy:   %0.3f\" % score)\n",
        "cm = metrics.confusion_matrix(y_test, pred)\n",
        "plot_confusion_matrix(cm, classes=['FAKE', 'REAL'])"
      ]
    },
    {
      "cell_type": "code",
      "execution_count": 81,
      "metadata": {
        "colab": {
          "base_uri": "https://localhost:8080/"
        },
        "id": "-8ixyk2wVgKh",
        "outputId": "3f81ccdf-c294-41aa-ff84-4ef7a9cc8119"
      },
      "outputs": [
        {
          "output_type": "execute_result",
          "data": {
            "text/plain": [
              "0.5419292292777509"
            ]
          },
          "metadata": {},
          "execution_count": 81
        }
      ],
      "source": [
        "classifier.fit(X_train, y_train)\n",
        "pred = classifier.predict(X_test)\n",
        "score = metrics.accuracy_score(y_test, pred)\n",
        "score"
      ]
    },
    {
      "cell_type": "markdown",
      "metadata": {
        "id": "yZuNOujFVgKh"
      },
      "source": [
        "### SVM Classifier"
      ]
    },
    {
      "cell_type": "code",
      "execution_count": 82,
      "metadata": {
        "id": "E9jXGO34VgKh"
      },
      "outputs": [],
      "source": [
        "from sklearn.svm import SVC\n",
        "classifier = SVC(kernel='rbf', random_state = 1)"
      ]
    },
    {
      "cell_type": "code",
      "execution_count": 83,
      "metadata": {
        "id": "77hhBVVsVgKh"
      },
      "outputs": [],
      "source": [
        "from sklearn import metrics\n",
        "import numpy as np\n",
        "import itertools"
      ]
    },
    {
      "cell_type": "code",
      "execution_count": 84,
      "metadata": {
        "colab": {
          "base_uri": "https://localhost:8080/",
          "height": 345
        },
        "id": "B81SWRIZVgKi",
        "outputId": "b656e2a7-5f76-4d9e-9875-cbffef83e7bc"
      },
      "outputs": [
        {
          "output_type": "stream",
          "name": "stdout",
          "text": [
            "accuracy:   0.505\n",
            "Confusion matrix, without normalization\n"
          ]
        },
        {
          "output_type": "display_data",
          "data": {
            "text/plain": [
              "<Figure size 432x288 with 2 Axes>"
            ],
            "image/png": "[encoded data removed]"
          },
          "metadata": {
            "needs_background": "light"
          }
        }
      ],
      "source": [
        "classifier.fit(X_train, y_train)\n",
        "pred = classifier.predict(X_test)\n",
        "score = metrics.accuracy_score(y_test, pred)\n",
        "print(\"accuracy:   %0.3f\" % score)\n",
        "cm = metrics.confusion_matrix(y_test, pred)\n",
        "plot_confusion_matrix(cm, classes=['FAKE', 'REAL'])"
      ]
    },
    {
      "cell_type": "markdown",
      "metadata": {
        "id": "xctHhjvGVgKi"
      },
      "source": [
        "### K-Nearest Neighbour Classifier Algorithim"
      ]
    },
    {
      "cell_type": "code",
      "execution_count": 85,
      "metadata": {
        "id": "R5D-GqMzVgKi"
      },
      "outputs": [],
      "source": [
        "from sklearn.neighbors import KNeighborsClassifier\n",
        "classifier=KNeighborsClassifier()"
      ]
    },
    {
      "cell_type": "code",
      "execution_count": 86,
      "metadata": {
        "id": "rrS7Vgs8VgKi"
      },
      "outputs": [],
      "source": [
        "from sklearn import metrics\n",
        "import numpy as np\n",
        "import itertools"
      ]
    },
    {
      "cell_type": "code",
      "execution_count": 87,
      "metadata": {
        "colab": {
          "base_uri": "https://localhost:8080/",
          "height": 345
        },
        "id": "hvz9UbRlVgKi",
        "outputId": "c98bf335-03a4-4739-9bb2-303349519617"
      },
      "outputs": [
        {
          "output_type": "stream",
          "name": "stdout",
          "text": [
            "accuracy:   0.525\n",
            "Confusion matrix, without normalization\n"
          ]
        },
        {
          "output_type": "display_data",
          "data": {
            "text/plain": [
              "<Figure size 432x288 with 2 Axes>"
            ],
            "image/png": "[encoded data removed]"
          },
          "metadata": {
            "needs_background": "light"
          }
        }
      ],
      "source": [
        "classifier.fit(X_train, y_train)\n",
        "pred = classifier.predict(X_test)\n",
        "score = metrics.accuracy_score(y_test, pred)\n",
        "print(\"accuracy:   %0.3f\" % score)\n",
        "cm = metrics.confusion_matrix(y_test, pred)\n",
        "plot_confusion_matrix(cm, classes=['FAKE', 'REAL'])"
      ]
    },
    {
      "cell_type": "code",
      "execution_count": 88,
      "metadata": {
        "colab": {
          "base_uri": "https://localhost:8080/"
        },
        "id": "zErlLGjWVgKi",
        "outputId": "ca7eed46-49b9-40af-df15-62d63b6434e3"
      },
      "outputs": [
        {
          "output_type": "execute_result",
          "data": {
            "text/plain": [
              "0.5254483761512361"
            ]
          },
          "metadata": {},
          "execution_count": 88
        }
      ],
      "source": [
        "classifier.fit(X_train, y_train)\n",
        "pred = classifier.predict(X_test)\n",
        "score = metrics.accuracy_score(y_test, pred)\n",
        "score"
      ]
    },
    {
      "cell_type": "markdown",
      "metadata": {
        "id": "EIBh7Z7vVgKi"
      },
      "source": [
        "### Random Forest"
      ]
    },
    {
      "cell_type": "code",
      "execution_count": 89,
      "metadata": {
        "id": "3Vkz4H48VgKi"
      },
      "outputs": [],
      "source": [
        "from sklearn.ensemble import RandomForestClassifier\n",
        "classifier = RandomForestClassifier()"
      ]
    },
    {
      "cell_type": "code",
      "execution_count": 90,
      "metadata": {
        "colab": {
          "base_uri": "https://localhost:8080/",
          "height": 345
        },
        "id": "fyU-JO7NVgKj",
        "outputId": "1cf412ef-171c-4514-c53c-67c0b07dcfda"
      },
      "outputs": [
        {
          "output_type": "stream",
          "name": "stdout",
          "text": [
            "accuracy:   0.507\n",
            "Confusion matrix, without normalization\n"
          ]
        },
        {
          "output_type": "display_data",
          "data": {
            "text/plain": [
              "<Figure size 432x288 with 2 Axes>"
            ],
            "image/png": "[encoded data removed]"
          },
          "metadata": {
            "needs_background": "light"
          }
        }
      ],
      "source": [
        "classifier.fit(X_train, y_train)\n",
        "pred = classifier.predict(X_test)\n",
        "score = metrics.accuracy_score(y_test, pred)\n",
        "print(\"accuracy:   %0.3f\" % score)\n",
        "cm = metrics.confusion_matrix(y_test, pred)\n",
        "plot_confusion_matrix(cm, classes=['FAKE', 'REAL'])"
      ]
    },
    {
      "cell_type": "markdown",
      "metadata": {
        "id": "3TlVXDvyVgKj"
      },
      "source": [
        "# HashingVectorizer\n"
      ]
    },
    {
      "cell_type": "code",
      "execution_count": 91,
      "metadata": {
        "id": "ylJtTihRVgKj"
      },
      "outputs": [],
      "source": [
        "from sklearn.feature_extraction.text import HashingVectorizer"
      ]
    },
    {
      "cell_type": "code",
      "execution_count": 92,
      "metadata": {
        "id": "HvsyNQ7fVgKj"
      },
      "outputs": [],
      "source": [
        "hs_vectorizer=HashingVectorizer(n_features=5000)\n",
        "X=hs_vectorizer.fit_transform(corpus).toarray()"
      ]
    },
    {
      "cell_type": "code",
      "execution_count": 93,
      "metadata": {
        "colab": {
          "base_uri": "https://localhost:8080/"
        },
        "id": "K8ZRI35OVgKj",
        "outputId": "462f4d0a-63c6-4078-ae25-4f651534145a"
      },
      "outputs": [
        {
          "output_type": "execute_result",
          "data": {
            "text/plain": [
              "(2481, 5000)"
            ]
          },
          "metadata": {},
          "execution_count": 93
        }
      ],
      "source": [
        "X.shape"
      ]
    },
    {
      "cell_type": "code",
      "execution_count": 94,
      "metadata": {
        "id": "V_C2ecIOVgKj"
      },
      "outputs": [],
      "source": [
        "X_train=X"
      ]
    },
    {
      "cell_type": "code",
      "execution_count": 95,
      "metadata": {
        "id": "VlQtj2k_VgKj"
      },
      "outputs": [],
      "source": [
        "hs_vectorizer1=HashingVectorizer(n_features=5000)\n",
        "P=hs_vectorizer1.fit_transform(corpus1).toarray()"
      ]
    },
    {
      "cell_type": "code",
      "execution_count": 96,
      "metadata": {
        "colab": {
          "base_uri": "https://localhost:8080/"
        },
        "id": "5LD6L4hGVgKj",
        "outputId": "8970ae9f-6451-49ef-829b-9c3fecfbe85e"
      },
      "outputs": [
        {
          "output_type": "execute_result",
          "data": {
            "text/plain": [
              "(2063, 5000)"
            ]
          },
          "metadata": {},
          "execution_count": 96
        }
      ],
      "source": [
        "P.shape"
      ]
    },
    {
      "cell_type": "code",
      "execution_count": 97,
      "metadata": {
        "id": "V_26_iyrVgKk"
      },
      "outputs": [],
      "source": [
        "X_test=P"
      ]
    },
    {
      "cell_type": "code",
      "execution_count": 98,
      "metadata": {
        "id": "bwC7ciVbVgKk"
      },
      "outputs": [],
      "source": [
        "y_train=messages1['label']"
      ]
    },
    {
      "cell_type": "code",
      "execution_count": 99,
      "metadata": {
        "colab": {
          "base_uri": "https://localhost:8080/"
        },
        "id": "FDjSykreVgKk",
        "outputId": "71f16a5a-f049-4e25-8877-96e359820e71"
      },
      "outputs": [
        {
          "output_type": "execute_result",
          "data": {
            "text/plain": [
              "0       0.0\n",
              "1       0.0\n",
              "2       0.0\n",
              "3       0.0\n",
              "4       1.0\n",
              "       ... \n",
              "2476    0.0\n",
              "2477    0.0\n",
              "2478    1.0\n",
              "2479    0.0\n",
              "2480    0.0\n",
              "Name: label, Length: 2481, dtype: float64"
            ]
          },
          "metadata": {},
          "execution_count": 99
        }
      ],
      "source": [
        "y_train"
      ]
    },
    {
      "cell_type": "code",
      "execution_count": 100,
      "metadata": {
        "id": "hGzP0KltVgKk"
      },
      "outputs": [],
      "source": [
        "y_test=messages2['label']"
      ]
    },
    {
      "cell_type": "code",
      "execution_count": 101,
      "metadata": {
        "colab": {
          "base_uri": "https://localhost:8080/"
        },
        "id": "qK7m6YckVgKk",
        "outputId": "95537e43-e366-419f-e0ee-4d5abf6c0d43"
      },
      "outputs": [
        {
          "output_type": "execute_result",
          "data": {
            "text/plain": [
              "0       0.0\n",
              "1       1.0\n",
              "2       0.0\n",
              "3       0.0\n",
              "4       0.0\n",
              "       ... \n",
              "2058    0.0\n",
              "2059    1.0\n",
              "2060    0.0\n",
              "2061    0.0\n",
              "2062    0.0\n",
              "Name: label, Length: 2063, dtype: float64"
            ]
          },
          "metadata": {},
          "execution_count": 101
        }
      ],
      "source": [
        "y_test"
      ]
    },
    {
      "cell_type": "code",
      "execution_count": 102,
      "metadata": {
        "colab": {
          "base_uri": "https://localhost:8080/"
        },
        "id": "PrNGgWmWVgKk",
        "outputId": "1c6ed4d8-4b51-4ddf-9256-2baa28be23c9"
      },
      "outputs": [
        {
          "output_type": "execute_result",
          "data": {
            "text/plain": [
              "(array([[ 0.        , -0.01485932,  0.        , ...,  0.        ,\n",
              "          0.        ,  0.        ],\n",
              "        [ 0.        ,  0.        ,  0.        , ...,  0.        ,\n",
              "          0.        ,  0.        ],\n",
              "        [ 0.        ,  0.        ,  0.        , ...,  0.        ,\n",
              "          0.        ,  0.        ],\n",
              "        ...,\n",
              "        [ 0.        ,  0.        ,  0.        , ...,  0.        ,\n",
              "          0.        ,  0.10188534],\n",
              "        [ 0.        ,  0.        ,  0.        , ...,  0.        ,\n",
              "          0.        ,  0.        ],\n",
              "        [ 0.        ,  0.        ,  0.        , ...,  0.        ,\n",
              "          0.        ,  0.        ]]),\n",
              " array([[ 0.        ,  0.        ,  0.        , ...,  0.        ,\n",
              "          0.        ,  0.        ],\n",
              "        [ 0.        , -0.0302737 ,  0.        , ...,  0.        ,\n",
              "          0.        ,  0.        ],\n",
              "        [ 0.        ,  0.        ,  0.        , ...,  0.        ,\n",
              "          0.        ,  0.        ],\n",
              "        ...,\n",
              "        [ 0.        , -0.05337605, -0.02668803, ...,  0.        ,\n",
              "          0.        ,  0.        ],\n",
              "        [ 0.        ,  0.        ,  0.0203153 , ...,  0.        ,\n",
              "         -0.0203153 ,  0.        ],\n",
              "        [ 0.        ,  0.        ,  0.        , ...,  0.        ,\n",
              "          0.        ,  0.        ]]),\n",
              " 0       0.0\n",
              " 1       0.0\n",
              " 2       0.0\n",
              " 3       0.0\n",
              " 4       1.0\n",
              "        ... \n",
              " 2476    0.0\n",
              " 2477    0.0\n",
              " 2478    1.0\n",
              " 2479    0.0\n",
              " 2480    0.0\n",
              " Name: label, Length: 2481, dtype: float64,\n",
              " 0       0.0\n",
              " 1       1.0\n",
              " 2       0.0\n",
              " 3       0.0\n",
              " 4       0.0\n",
              "        ... \n",
              " 2058    0.0\n",
              " 2059    1.0\n",
              " 2060    0.0\n",
              " 2061    0.0\n",
              " 2062    0.0\n",
              " Name: label, Length: 2063, dtype: float64)"
            ]
          },
          "metadata": {},
          "execution_count": 102
        }
      ],
      "source": [
        "X_train, X_test, y_train, y_test  "
      ]
    },
    {
      "cell_type": "markdown",
      "metadata": {
        "id": "-CMi8aovVgKk"
      },
      "source": [
        "### GaussianNB"
      ]
    },
    {
      "cell_type": "code",
      "execution_count": 103,
      "metadata": {
        "colab": {
          "base_uri": "https://localhost:8080/",
          "height": 345
        },
        "id": "I7jBtNHkVgKl",
        "outputId": "124b2686-a5c4-4e9f-dbc3-a01390f0955e"
      },
      "outputs": [
        {
          "output_type": "stream",
          "name": "stdout",
          "text": [
            "accuracy:   0.677\n",
            "Confusion matrix, without normalization\n"
          ]
        },
        {
          "output_type": "display_data",
          "data": {
            "text/plain": [
              "<Figure size 432x288 with 2 Axes>"
            ],
            "image/png": "[encoded data removed]"
          },
          "metadata": {
            "needs_background": "light"
          }
        }
      ],
      "source": [
        "\n",
        "from sklearn.naive_bayes import GaussianNB\n",
        "classifier=GaussianNB()\n",
        "classifier.fit(X_train, y_train)\n",
        "pred = classifier.predict(X_test)\n",
        "score = metrics.accuracy_score(y_test, pred)\n",
        "print(\"accuracy:   %0.3f\" % score)\n",
        "cm = metrics.confusion_matrix(y_test, pred)\n",
        "plot_confusion_matrix(cm, classes=['FAKE', 'REAL'])"
      ]
    },
    {
      "cell_type": "code",
      "execution_count": 104,
      "metadata": {
        "colab": {
          "base_uri": "https://localhost:8080/"
        },
        "id": "NL56m2KCVgKl",
        "outputId": "1722a115-b35c-44ca-cd24-b5865baf17ef"
      },
      "outputs": [
        {
          "output_type": "execute_result",
          "data": {
            "text/plain": [
              "0.6771691711100339"
            ]
          },
          "metadata": {},
          "execution_count": 104
        }
      ],
      "source": [
        "classifier.fit(X_train, y_train)\n",
        "pred = classifier.predict(X_test)\n",
        "score = metrics.accuracy_score(y_test, pred)\n",
        "score"
      ]
    },
    {
      "cell_type": "markdown",
      "metadata": {
        "id": "CWRHCAOtVgKl"
      },
      "source": [
        "### Passive Aggressive Classifier Algorithm"
      ]
    },
    {
      "cell_type": "code",
      "execution_count": 105,
      "metadata": {
        "id": "wZQ3Ut4gVgKl"
      },
      "outputs": [],
      "source": [
        "from sklearn.linear_model import PassiveAggressiveClassifier\n",
        "linear_clf = PassiveAggressiveClassifier()"
      ]
    },
    {
      "cell_type": "code",
      "execution_count": 106,
      "metadata": {
        "colab": {
          "base_uri": "https://localhost:8080/",
          "height": 345
        },
        "id": "XwCacrSPVgKl",
        "outputId": "dfc044e9-400c-4e70-d7b4-bcfc9baeae08"
      },
      "outputs": [
        {
          "output_type": "stream",
          "name": "stdout",
          "text": [
            "accuracy:   0.914\n",
            "Confusion matrix, without normalization\n"
          ]
        },
        {
          "output_type": "display_data",
          "data": {
            "text/plain": [
              "<Figure size 432x288 with 2 Axes>"
            ],
            "image/png": "[encoded data removed]"
          },
          "metadata": {
            "needs_background": "light"
          }
        }
      ],
      "source": [
        "linear_clf.fit(X_train, y_train)\n",
        "pred = linear_clf.predict(X_test)\n",
        "score = metrics.accuracy_score(y_test, pred)\n",
        "print(\"accuracy:   %0.3f\" % score)\n",
        "cm = metrics.confusion_matrix(y_test, pred)\n",
        "plot_confusion_matrix(cm, classes=['FAKE Data', 'REAL Data'])"
      ]
    },
    {
      "cell_type": "code",
      "execution_count": 126,
      "metadata": {
        "colab": {
          "base_uri": "https://localhost:8080/"
        },
        "id": "8IaFspbyVgKl",
        "outputId": "6a359f86-fec1-485f-dd1a-76857459cf72"
      },
      "outputs": [
        {
          "output_type": "execute_result",
          "data": {
            "text/plain": [
              "0.9306834706737761"
            ]
          },
          "metadata": {},
          "execution_count": 126
        }
      ],
      "source": [
        "classifier.fit(X_train, y_train)\n",
        "pred = classifier.predict(X_test)\n",
        "score = metrics.accuracy_score(y_test, pred)\n",
        "score"
      ]
    },
    {
      "cell_type": "markdown",
      "metadata": {
        "id": "0qrM0o-rVgKl"
      },
      "source": [
        "### Logistic Regression "
      ]
    },
    {
      "cell_type": "code",
      "execution_count": 108,
      "metadata": {
        "id": "XpW0IuZ6VgKm"
      },
      "outputs": [],
      "source": [
        "from sklearn.linear_model import LogisticRegression\n",
        "classifier=LogisticRegression()"
      ]
    },
    {
      "cell_type": "code",
      "execution_count": 109,
      "metadata": {
        "id": "XmiCfzQQVgKm"
      },
      "outputs": [],
      "source": [
        "from sklearn import metrics\n",
        "import numpy as np\n",
        "import itertools"
      ]
    },
    {
      "cell_type": "code",
      "execution_count": 110,
      "metadata": {
        "colab": {
          "base_uri": "https://localhost:8080/",
          "height": 345
        },
        "id": "_lzm3vB1VgKm",
        "outputId": "b84e25f9-0f0f-4ffc-e5a3-6c307a64a2fb"
      },
      "outputs": [
        {
          "output_type": "stream",
          "name": "stdout",
          "text": [
            "accuracy:   0.906\n",
            "Confusion matrix, without normalization\n"
          ]
        },
        {
          "output_type": "display_data",
          "data": {
            "text/plain": [
              "<Figure size 432x288 with 2 Axes>"
            ],
            "image/png": "[encoded data removed]"
          },
          "metadata": {
            "needs_background": "light"
          }
        }
      ],
      "source": [
        "classifier.fit(X_train, y_train)\n",
        "pred = classifier.predict(X_test)\n",
        "score = metrics.accuracy_score(y_test, pred)\n",
        "print(\"accuracy:   %0.3f\" % score)\n",
        "cm = metrics.confusion_matrix(y_test, pred)\n",
        "plot_confusion_matrix(cm, classes=['FAKE', 'REAL'])"
      ]
    },
    {
      "cell_type": "code",
      "execution_count": 111,
      "metadata": {
        "colab": {
          "base_uri": "https://localhost:8080/"
        },
        "id": "T_u1TGDuVgKm",
        "outputId": "2aaec978-1ac0-47a9-f4a5-8f463d56ae48"
      },
      "outputs": [
        {
          "output_type": "execute_result",
          "data": {
            "text/plain": [
              "0.9059621909840039"
            ]
          },
          "metadata": {},
          "execution_count": 111
        }
      ],
      "source": [
        "classifier.fit(X_train, y_train)\n",
        "pred = classifier.predict(X_test)\n",
        "score = metrics.accuracy_score(y_test, pred)\n",
        "score"
      ]
    },
    {
      "cell_type": "markdown",
      "metadata": {
        "id": "HiPqJxIDVgKm"
      },
      "source": [
        "### Decision Tree Algorithm"
      ]
    },
    {
      "cell_type": "code",
      "execution_count": 112,
      "metadata": {
        "id": "qQlNlDNBVgKm"
      },
      "outputs": [],
      "source": [
        "from sklearn.tree import DecisionTreeClassifier\n",
        "classifier=DecisionTreeClassifier()"
      ]
    },
    {
      "cell_type": "code",
      "execution_count": 113,
      "metadata": {
        "id": "zEgl60UuVgKm"
      },
      "outputs": [],
      "source": [
        "from sklearn import metrics\n",
        "import numpy as np\n",
        "import itertools"
      ]
    },
    {
      "cell_type": "code",
      "execution_count": 114,
      "metadata": {
        "colab": {
          "base_uri": "https://localhost:8080/",
          "height": 345
        },
        "id": "qR5YDeeBVgKn",
        "outputId": "4727cc1c-1ea9-4b35-c8a2-c805cff9b4d7"
      },
      "outputs": [
        {
          "output_type": "stream",
          "name": "stdout",
          "text": [
            "accuracy:   0.880\n",
            "Confusion matrix, without normalization\n"
          ]
        },
        {
          "output_type": "display_data",
          "data": {
            "text/plain": [
              "<Figure size 432x288 with 2 Axes>"
            ],
            "image/png": "[encoded data removed]"
          },
          "metadata": {
            "needs_background": "light"
          }
        }
      ],
      "source": [
        "classifier.fit(X_train, y_train)\n",
        "pred = classifier.predict(X_test)\n",
        "score = metrics.accuracy_score(y_test, pred)\n",
        "print(\"accuracy:   %0.3f\" % score)\n",
        "cm = metrics.confusion_matrix(y_test, pred)\n",
        "plot_confusion_matrix(cm, classes=['FAKE', 'REAL'])"
      ]
    },
    {
      "cell_type": "code",
      "execution_count": 115,
      "metadata": {
        "colab": {
          "base_uri": "https://localhost:8080/"
        },
        "id": "n97UlIpkVgKn",
        "outputId": "37ba1d32-e28d-40be-bc66-ae34d7c4098c"
      },
      "outputs": [
        {
          "output_type": "execute_result",
          "data": {
            "text/plain": [
              "0.8812409112942317"
            ]
          },
          "metadata": {},
          "execution_count": 115
        }
      ],
      "source": [
        "classifier.fit(X_train, y_train)\n",
        "pred = classifier.predict(X_test)\n",
        "score = metrics.accuracy_score(y_test, pred)\n",
        "score"
      ]
    },
    {
      "cell_type": "markdown",
      "metadata": {
        "id": "SZmtTJmzVgKn"
      },
      "source": [
        "### SVM Classifier"
      ]
    },
    {
      "cell_type": "code",
      "execution_count": 116,
      "metadata": {
        "id": "RYXTeD8VVgKn"
      },
      "outputs": [],
      "source": [
        "from sklearn.svm import SVC\n",
        "classifier = SVC(kernel='rbf', random_state = 1)"
      ]
    },
    {
      "cell_type": "code",
      "execution_count": 117,
      "metadata": {
        "id": "bK-Or-suVgKn"
      },
      "outputs": [],
      "source": [
        "from sklearn import metrics\n",
        "import numpy as np\n",
        "import itertools"
      ]
    },
    {
      "cell_type": "code",
      "execution_count": 118,
      "metadata": {
        "colab": {
          "base_uri": "https://localhost:8080/",
          "height": 345
        },
        "id": "FuXi6lwRVgKn",
        "outputId": "fa0b24e8-6696-49ee-dcdc-0c57f202c570"
      },
      "outputs": [
        {
          "output_type": "stream",
          "name": "stdout",
          "text": [
            "accuracy:   0.923\n",
            "Confusion matrix, without normalization\n"
          ]
        },
        {
          "output_type": "display_data",
          "data": {
            "text/plain": [
              "<Figure size 432x288 with 2 Axes>"
            ],
            "image/png": "[encoded data removed]"
          },
          "metadata": {
            "needs_background": "light"
          }
        }
      ],
      "source": [
        "classifier.fit(X_train, y_train)\n",
        "pred = classifier.predict(X_test)\n",
        "score = metrics.accuracy_score(y_test, pred)\n",
        "print(\"accuracy:   %0.3f\" % score)\n",
        "cm = metrics.confusion_matrix(y_test, pred)\n",
        "plot_confusion_matrix(cm, classes=['FAKE', 'REAL'])"
      ]
    },
    {
      "cell_type": "code",
      "execution_count": 119,
      "metadata": {
        "colab": {
          "base_uri": "https://localhost:8080/"
        },
        "id": "aID_h8YbVgKo",
        "outputId": "ef57b6d7-afe5-4e56-b97e-b04718da1236"
      },
      "outputs": [
        {
          "output_type": "execute_result",
          "data": {
            "text/plain": [
              "0.9234125060591372"
            ]
          },
          "metadata": {},
          "execution_count": 119
        }
      ],
      "source": [
        "classifier.fit(X_train, y_train)\n",
        "pred = classifier.predict(X_test)\n",
        "score = metrics.accuracy_score(y_test, pred)\n",
        "score"
      ]
    },
    {
      "cell_type": "markdown",
      "metadata": {
        "id": "jgMKeMBkVgKo"
      },
      "source": [
        "### K-Nearest Neighbour Classifier Algorithim"
      ]
    },
    {
      "cell_type": "code",
      "execution_count": 120,
      "metadata": {
        "id": "pPKqm6pKsZFD"
      },
      "outputs": [],
      "source": [
        "from sklearn.neighbors import KNeighborsClassifier\n",
        "classifier=KNeighborsClassifier()"
      ]
    },
    {
      "cell_type": "code",
      "execution_count": 121,
      "metadata": {
        "id": "Uxp_9w7UVgKo"
      },
      "outputs": [],
      "source": [
        "from sklearn import metrics\n",
        "import numpy as np\n",
        "import itertools"
      ]
    },
    {
      "cell_type": "code",
      "execution_count": 122,
      "metadata": {
        "colab": {
          "base_uri": "https://localhost:8080/",
          "height": 345
        },
        "id": "_Azcddm8VgKo",
        "outputId": "f019c467-6129-428b-bcc4-4bbd952d556f"
      },
      "outputs": [
        {
          "output_type": "stream",
          "name": "stdout",
          "text": [
            "accuracy:   0.832\n",
            "Confusion matrix, without normalization\n"
          ]
        },
        {
          "output_type": "display_data",
          "data": {
            "text/plain": [
              "<Figure size 432x288 with 2 Axes>"
            ],
            "image/png": "[encoded data removed]"
          },
          "metadata": {
            "needs_background": "light"
          }
        }
      ],
      "source": [
        "classifier.fit(X_train, y_train)\n",
        "pred = classifier.predict(X_test)\n",
        "score = metrics.accuracy_score(y_test, pred)\n",
        "print(\"accuracy:   %0.3f\" % score)\n",
        "cm = metrics.confusion_matrix(y_test, pred)\n",
        "plot_confusion_matrix(cm, classes=['FAKE', 'REAL'])"
      ]
    },
    {
      "cell_type": "code",
      "execution_count": 123,
      "metadata": {
        "colab": {
          "base_uri": "https://localhost:8080/"
        },
        "id": "d7GxXc8eVgKp",
        "outputId": "5a77c28f-47e2-4c94-e312-6eb941244234"
      },
      "outputs": [
        {
          "output_type": "execute_result",
          "data": {
            "text/plain": [
              "0.8322830828889967"
            ]
          },
          "metadata": {},
          "execution_count": 123
        }
      ],
      "source": [
        "classifier.fit(X_train, y_train)\n",
        "pred = classifier.predict(X_test)\n",
        "score = metrics.accuracy_score(y_test, pred)\n",
        "score"
      ]
    },
    {
      "cell_type": "markdown",
      "metadata": {
        "id": "jwpEESR7VgKp"
      },
      "source": [
        "### Random Forest"
      ]
    },
    {
      "cell_type": "code",
      "execution_count": 124,
      "metadata": {
        "id": "xodjXhoDVgKq"
      },
      "outputs": [],
      "source": [
        "from sklearn.ensemble import RandomForestClassifier\n",
        "classifier = RandomForestClassifier()"
      ]
    },
    {
      "cell_type": "code",
      "execution_count": 125,
      "metadata": {
        "colab": {
          "base_uri": "https://localhost:8080/",
          "height": 345
        },
        "id": "rGWjrn8lVgKq",
        "outputId": "2ad1980a-341d-4a7d-91bb-f9a1a6e1bc11"
      },
      "outputs": [
        {
          "output_type": "stream",
          "name": "stdout",
          "text": [
            "accuracy:   0.932\n",
            "Confusion matrix, without normalization\n"
          ]
        },
        {
          "output_type": "display_data",
          "data": {
            "text/plain": [
              "<Figure size 432x288 with 2 Axes>"
            ],
            "image/png": "[encoded data removed]"
          },
          "metadata": {
            "needs_background": "light"
          }
        }
      ],
      "source": [
        "classifier.fit(X_train, y_train)\n",
        "pred = classifier.predict(X_test)\n",
        "score = metrics.accuracy_score(y_test, pred)\n",
        "print(\"accuracy:   %0.3f\" % score)\n",
        "cm = metrics.confusion_matrix(y_test, pred)\n",
        "plot_confusion_matrix(cm, classes=['FAKE', 'REAL'])"
      ]
    }
  ],
  "metadata": {
    "colab": {
      "collapsed_sections": [],
      "name": "FakeNewsClassifier TFIDF & Hashing Vectorizer_LAIR(dataset).ipynb",
      "provenance": []
    },
    "kernelspec": {
      "display_name": "Python 3",
      "language": "python",
      "name": "python3"
    },
    "language_info": {
      "codemirror_mode": {
        "name": "ipython",
        "version": 3
      },
      "file_extension": ".py",
      "mimetype": "text/x-python",
      "name": "python",
      "nbconvert_exporter": "python",
      "pygments_lexer": "ipython3",
      "version": "3.8.8"
    }
  },
  "nbformat": 4,
  "nbformat_minor": 0
}