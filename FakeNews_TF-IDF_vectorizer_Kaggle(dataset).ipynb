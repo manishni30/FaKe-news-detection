{
 "cells": [
  {
   "cell_type": "code",
   "execution_count": 1,
   "metadata": {
    "id": "E8wM9zPayzqh"
   },
   "outputs": [],
   "source": [
    "import pandas as pd"
   ]
  },
  {
   "cell_type": "code",
   "execution_count": 2,
   "metadata": {},
   "outputs": [],
   "source": [
    "import sklearn.metrics\n",
    "def evaluation_metrices(y_true,y_pred):\n",
    "    accuracy =sklearn.metrics.accuracy_score(y_true, y_pred)\n",
    "    precision=sklearn.metrics.precision_score(y_true, y_pred)\n",
    "    recall   =sklearn.metrics.recall_score(y_true, y_pred)\n",
    "    f1_score =sklearn.metrics.f1_score(y_true, y_pred)\n",
    "    print(\"Accuracy:\",accuracy)\n",
    "    print(\"Precision:\",precision)\n",
    "    print(\"Recall:\",recall)\n",
    "    print('F1 score:',f1_score)"
   ]
  },
  {
   "cell_type": "code",
   "execution_count": 3,
   "metadata": {
    "id": "apGPXL85yzqm"
   },
   "outputs": [],
   "source": [
    "import re"
   ]
  },
  {
   "cell_type": "code",
   "execution_count": 4,
   "metadata": {
    "colab": {
     "base_uri": "https://localhost:8080/"
    },
    "id": "avdBi8S7yzqm",
    "outputId": "16c6e521-f27d-4dd5-df8f-b43c020977ac"
   },
   "outputs": [],
   "source": [
    "df=pd.read_csv('/Users/uditanshugupta/Downloads/train.csv')"
   ]
  },
  {
   "cell_type": "code",
   "execution_count": 5,
   "metadata": {
    "colab": {
     "base_uri": "https://localhost:8080/"
    },
    "id": "Oe658i2Eyzqm",
    "outputId": "948b4cde-d69d-4f1e-8f5e-af6c767b5727",
    "scrolled": true
   },
   "outputs": [
    {
     "data": {
      "text/plain": [
       "Index(['id', 'title', 'author', 'text', 'label'], dtype='object')"
      ]
     },
     "execution_count": 5,
     "metadata": {},
     "output_type": "execute_result"
    }
   ],
   "source": [
    "df.columns"
   ]
  },
  {
   "cell_type": "code",
   "execution_count": 6,
   "metadata": {
    "colab": {
     "base_uri": "https://localhost:8080/",
     "height": 1000
    },
    "id": "0a7m75PXD8R5",
    "outputId": "4f1bee24-3fad-49f0-cbb9-a7c6ee658963"
   },
   "outputs": [
    {
     "data": {
      "text/html": [
       "<div>\n",
       "<style scoped>\n",
       "    .dataframe tbody tr th:only-of-type {\n",
       "        vertical-align: middle;\n",
       "    }\n",
       "\n",
       "    .dataframe tbody tr th {\n",
       "        vertical-align: top;\n",
       "    }\n",
       "\n",
       "    .dataframe thead th {\n",
       "        text-align: right;\n",
       "    }\n",
       "</style>\n",
       "<table border=\"1\" class=\"dataframe\">\n",
       "  <thead>\n",
       "    <tr style=\"text-align: right;\">\n",
       "      <th></th>\n",
       "      <th>id</th>\n",
       "      <th>title</th>\n",
       "      <th>author</th>\n",
       "      <th>text</th>\n",
       "      <th>label</th>\n",
       "    </tr>\n",
       "  </thead>\n",
       "  <tbody>\n",
       "    <tr>\n",
       "      <th>0</th>\n",
       "      <td>0</td>\n",
       "      <td>House Dem Aide: We Didn’t Even See Comey’s Let...</td>\n",
       "      <td>Darrell Lucus</td>\n",
       "      <td>House Dem Aide: We Didn’t Even See Comey’s Let...</td>\n",
       "      <td>1</td>\n",
       "    </tr>\n",
       "    <tr>\n",
       "      <th>1</th>\n",
       "      <td>1</td>\n",
       "      <td>FLYNN: Hillary Clinton, Big Woman on Campus - ...</td>\n",
       "      <td>Daniel J. Flynn</td>\n",
       "      <td>Ever get the feeling your life circles the rou...</td>\n",
       "      <td>0</td>\n",
       "    </tr>\n",
       "    <tr>\n",
       "      <th>2</th>\n",
       "      <td>2</td>\n",
       "      <td>Why the Truth Might Get You Fired</td>\n",
       "      <td>Consortiumnews.com</td>\n",
       "      <td>Why the Truth Might Get You Fired October 29, ...</td>\n",
       "      <td>1</td>\n",
       "    </tr>\n",
       "    <tr>\n",
       "      <th>3</th>\n",
       "      <td>3</td>\n",
       "      <td>15 Civilians Killed In Single US Airstrike Hav...</td>\n",
       "      <td>Jessica Purkiss</td>\n",
       "      <td>Videos 15 Civilians Killed In Single US Airstr...</td>\n",
       "      <td>1</td>\n",
       "    </tr>\n",
       "    <tr>\n",
       "      <th>4</th>\n",
       "      <td>4</td>\n",
       "      <td>Iranian woman jailed for fictional unpublished...</td>\n",
       "      <td>Howard Portnoy</td>\n",
       "      <td>Print \\nAn Iranian woman has been sentenced to...</td>\n",
       "      <td>1</td>\n",
       "    </tr>\n",
       "  </tbody>\n",
       "</table>\n",
       "</div>"
      ],
      "text/plain": [
       "   id                                              title              author  \\\n",
       "0   0  House Dem Aide: We Didn’t Even See Comey’s Let...       Darrell Lucus   \n",
       "1   1  FLYNN: Hillary Clinton, Big Woman on Campus - ...     Daniel J. Flynn   \n",
       "2   2                  Why the Truth Might Get You Fired  Consortiumnews.com   \n",
       "3   3  15 Civilians Killed In Single US Airstrike Hav...     Jessica Purkiss   \n",
       "4   4  Iranian woman jailed for fictional unpublished...      Howard Portnoy   \n",
       "\n",
       "                                                text  label  \n",
       "0  House Dem Aide: We Didn’t Even See Comey’s Let...      1  \n",
       "1  Ever get the feeling your life circles the rou...      0  \n",
       "2  Why the Truth Might Get You Fired October 29, ...      1  \n",
       "3  Videos 15 Civilians Killed In Single US Airstr...      1  \n",
       "4  Print \\nAn Iranian woman has been sentenced to...      1  "
      ]
     },
     "execution_count": 6,
     "metadata": {},
     "output_type": "execute_result"
    }
   ],
   "source": [
    "df.head()"
   ]
  },
  {
   "cell_type": "code",
   "execution_count": 7,
   "metadata": {
    "colab": {
     "base_uri": "https://localhost:8080/",
     "height": 341
    },
    "id": "k985pLcXyzqo",
    "outputId": "088e4612-f550-4d24-d224-b7c67ce8076c"
   },
   "outputs": [],
   "source": [
    "## Get the Independent Features\n",
    "\n",
    "X=df.drop('label', axis=1)"
   ]
  },
  {
   "cell_type": "code",
   "execution_count": 8,
   "metadata": {
    "id": "u75GNeRYyzqo",
    "outputId": "9a5ac91b-8470-4506-f351-078cca4868f6"
   },
   "outputs": [
    {
     "data": {
      "text/html": [
       "<div>\n",
       "<style scoped>\n",
       "    .dataframe tbody tr th:only-of-type {\n",
       "        vertical-align: middle;\n",
       "    }\n",
       "\n",
       "    .dataframe tbody tr th {\n",
       "        vertical-align: top;\n",
       "    }\n",
       "\n",
       "    .dataframe thead th {\n",
       "        text-align: right;\n",
       "    }\n",
       "</style>\n",
       "<table border=\"1\" class=\"dataframe\">\n",
       "  <thead>\n",
       "    <tr style=\"text-align: right;\">\n",
       "      <th></th>\n",
       "      <th>id</th>\n",
       "      <th>title</th>\n",
       "      <th>author</th>\n",
       "      <th>text</th>\n",
       "    </tr>\n",
       "  </thead>\n",
       "  <tbody>\n",
       "    <tr>\n",
       "      <th>0</th>\n",
       "      <td>0</td>\n",
       "      <td>House Dem Aide: We Didn’t Even See Comey’s Let...</td>\n",
       "      <td>Darrell Lucus</td>\n",
       "      <td>House Dem Aide: We Didn’t Even See Comey’s Let...</td>\n",
       "    </tr>\n",
       "    <tr>\n",
       "      <th>1</th>\n",
       "      <td>1</td>\n",
       "      <td>FLYNN: Hillary Clinton, Big Woman on Campus - ...</td>\n",
       "      <td>Daniel J. Flynn</td>\n",
       "      <td>Ever get the feeling your life circles the rou...</td>\n",
       "    </tr>\n",
       "    <tr>\n",
       "      <th>2</th>\n",
       "      <td>2</td>\n",
       "      <td>Why the Truth Might Get You Fired</td>\n",
       "      <td>Consortiumnews.com</td>\n",
       "      <td>Why the Truth Might Get You Fired October 29, ...</td>\n",
       "    </tr>\n",
       "    <tr>\n",
       "      <th>3</th>\n",
       "      <td>3</td>\n",
       "      <td>15 Civilians Killed In Single US Airstrike Hav...</td>\n",
       "      <td>Jessica Purkiss</td>\n",
       "      <td>Videos 15 Civilians Killed In Single US Airstr...</td>\n",
       "    </tr>\n",
       "    <tr>\n",
       "      <th>4</th>\n",
       "      <td>4</td>\n",
       "      <td>Iranian woman jailed for fictional unpublished...</td>\n",
       "      <td>Howard Portnoy</td>\n",
       "      <td>Print \\nAn Iranian woman has been sentenced to...</td>\n",
       "    </tr>\n",
       "  </tbody>\n",
       "</table>\n",
       "</div>"
      ],
      "text/plain": [
       "   id                                              title              author  \\\n",
       "0   0  House Dem Aide: We Didn’t Even See Comey’s Let...       Darrell Lucus   \n",
       "1   1  FLYNN: Hillary Clinton, Big Woman on Campus - ...     Daniel J. Flynn   \n",
       "2   2                  Why the Truth Might Get You Fired  Consortiumnews.com   \n",
       "3   3  15 Civilians Killed In Single US Airstrike Hav...     Jessica Purkiss   \n",
       "4   4  Iranian woman jailed for fictional unpublished...      Howard Portnoy   \n",
       "\n",
       "                                                text  \n",
       "0  House Dem Aide: We Didn’t Even See Comey’s Let...  \n",
       "1  Ever get the feeling your life circles the rou...  \n",
       "2  Why the Truth Might Get You Fired October 29, ...  \n",
       "3  Videos 15 Civilians Killed In Single US Airstr...  \n",
       "4  Print \\nAn Iranian woman has been sentenced to...  "
      ]
     },
     "execution_count": 8,
     "metadata": {},
     "output_type": "execute_result"
    }
   ],
   "source": [
    "X.head()"
   ]
  },
  {
   "cell_type": "code",
   "execution_count": 9,
   "metadata": {
    "id": "nrIX4pChyzqp"
   },
   "outputs": [],
   "source": [
    "## Get the Dependent features\n",
    "y=df['label']"
   ]
  },
  {
   "cell_type": "code",
   "execution_count": 10,
   "metadata": {
    "id": "-GnM_Safyzqp",
    "outputId": "39e8d299-3ca6-4979-cbcd-f658f6c60407"
   },
   "outputs": [
    {
     "data": {
      "text/plain": [
       "0    1\n",
       "1    0\n",
       "2    1\n",
       "3    1\n",
       "4    1\n",
       "Name: label, dtype: int64"
      ]
     },
     "execution_count": 10,
     "metadata": {},
     "output_type": "execute_result"
    }
   ],
   "source": [
    "y.head()"
   ]
  },
  {
   "cell_type": "code",
   "execution_count": 11,
   "metadata": {
    "id": "4pLxm1ccyzqp",
    "outputId": "0b105dbe-0ed9-45d5-979c-d3a64a151bc4"
   },
   "outputs": [
    {
     "data": {
      "text/plain": [
       "(20800, 5)"
      ]
     },
     "execution_count": 11,
     "metadata": {},
     "output_type": "execute_result"
    }
   ],
   "source": [
    "df.shape"
   ]
  },
  {
   "cell_type": "code",
   "execution_count": 12,
   "metadata": {
    "id": "CSGBd7scyzqq"
   },
   "outputs": [],
   "source": [
    "from sklearn.feature_extraction.text import CountVectorizer, TfidfVectorizer, HashingVectorizer"
   ]
  },
  {
   "cell_type": "code",
   "execution_count": 13,
   "metadata": {
    "id": "CNbOP7hYyzqq"
   },
   "outputs": [],
   "source": [
    "df=df.dropna()"
   ]
  },
  {
   "cell_type": "code",
   "execution_count": 14,
   "metadata": {
    "id": "GkXlsWGOyzqq",
    "outputId": "11601ec1-8be5-491a-9612-48695f97f384"
   },
   "outputs": [
    {
     "data": {
      "text/html": [
       "<div>\n",
       "<style scoped>\n",
       "    .dataframe tbody tr th:only-of-type {\n",
       "        vertical-align: middle;\n",
       "    }\n",
       "\n",
       "    .dataframe tbody tr th {\n",
       "        vertical-align: top;\n",
       "    }\n",
       "\n",
       "    .dataframe thead th {\n",
       "        text-align: right;\n",
       "    }\n",
       "</style>\n",
       "<table border=\"1\" class=\"dataframe\">\n",
       "  <thead>\n",
       "    <tr style=\"text-align: right;\">\n",
       "      <th></th>\n",
       "      <th>id</th>\n",
       "      <th>title</th>\n",
       "      <th>author</th>\n",
       "      <th>text</th>\n",
       "      <th>label</th>\n",
       "    </tr>\n",
       "  </thead>\n",
       "  <tbody>\n",
       "    <tr>\n",
       "      <th>0</th>\n",
       "      <td>0</td>\n",
       "      <td>House Dem Aide: We Didn’t Even See Comey’s Let...</td>\n",
       "      <td>Darrell Lucus</td>\n",
       "      <td>House Dem Aide: We Didn’t Even See Comey’s Let...</td>\n",
       "      <td>1</td>\n",
       "    </tr>\n",
       "    <tr>\n",
       "      <th>1</th>\n",
       "      <td>1</td>\n",
       "      <td>FLYNN: Hillary Clinton, Big Woman on Campus - ...</td>\n",
       "      <td>Daniel J. Flynn</td>\n",
       "      <td>Ever get the feeling your life circles the rou...</td>\n",
       "      <td>0</td>\n",
       "    </tr>\n",
       "    <tr>\n",
       "      <th>2</th>\n",
       "      <td>2</td>\n",
       "      <td>Why the Truth Might Get You Fired</td>\n",
       "      <td>Consortiumnews.com</td>\n",
       "      <td>Why the Truth Might Get You Fired October 29, ...</td>\n",
       "      <td>1</td>\n",
       "    </tr>\n",
       "    <tr>\n",
       "      <th>3</th>\n",
       "      <td>3</td>\n",
       "      <td>15 Civilians Killed In Single US Airstrike Hav...</td>\n",
       "      <td>Jessica Purkiss</td>\n",
       "      <td>Videos 15 Civilians Killed In Single US Airstr...</td>\n",
       "      <td>1</td>\n",
       "    </tr>\n",
       "    <tr>\n",
       "      <th>4</th>\n",
       "      <td>4</td>\n",
       "      <td>Iranian woman jailed for fictional unpublished...</td>\n",
       "      <td>Howard Portnoy</td>\n",
       "      <td>Print \\nAn Iranian woman has been sentenced to...</td>\n",
       "      <td>1</td>\n",
       "    </tr>\n",
       "    <tr>\n",
       "      <th>5</th>\n",
       "      <td>5</td>\n",
       "      <td>Jackie Mason: Hollywood Would Love Trump if He...</td>\n",
       "      <td>Daniel Nussbaum</td>\n",
       "      <td>In these trying times, Jackie Mason is the Voi...</td>\n",
       "      <td>0</td>\n",
       "    </tr>\n",
       "    <tr>\n",
       "      <th>7</th>\n",
       "      <td>7</td>\n",
       "      <td>Benoît Hamon Wins French Socialist Party’s Pre...</td>\n",
       "      <td>Alissa J. Rubin</td>\n",
       "      <td>PARIS  —   France chose an idealistic, traditi...</td>\n",
       "      <td>0</td>\n",
       "    </tr>\n",
       "    <tr>\n",
       "      <th>9</th>\n",
       "      <td>9</td>\n",
       "      <td>A Back-Channel Plan for Ukraine and Russia, Co...</td>\n",
       "      <td>Megan Twohey and Scott Shane</td>\n",
       "      <td>A week before Michael T. Flynn resigned as nat...</td>\n",
       "      <td>0</td>\n",
       "    </tr>\n",
       "    <tr>\n",
       "      <th>10</th>\n",
       "      <td>10</td>\n",
       "      <td>Obama’s Organizing for Action Partners with So...</td>\n",
       "      <td>Aaron Klein</td>\n",
       "      <td>Organizing for Action, the activist group that...</td>\n",
       "      <td>0</td>\n",
       "    </tr>\n",
       "    <tr>\n",
       "      <th>11</th>\n",
       "      <td>11</td>\n",
       "      <td>BBC Comedy Sketch \"Real Housewives of ISIS\" Ca...</td>\n",
       "      <td>Chris Tomlinson</td>\n",
       "      <td>The BBC produced spoof on the “Real Housewives...</td>\n",
       "      <td>0</td>\n",
       "    </tr>\n",
       "  </tbody>\n",
       "</table>\n",
       "</div>"
      ],
      "text/plain": [
       "    id                                              title  \\\n",
       "0    0  House Dem Aide: We Didn’t Even See Comey’s Let...   \n",
       "1    1  FLYNN: Hillary Clinton, Big Woman on Campus - ...   \n",
       "2    2                  Why the Truth Might Get You Fired   \n",
       "3    3  15 Civilians Killed In Single US Airstrike Hav...   \n",
       "4    4  Iranian woman jailed for fictional unpublished...   \n",
       "5    5  Jackie Mason: Hollywood Would Love Trump if He...   \n",
       "7    7  Benoît Hamon Wins French Socialist Party’s Pre...   \n",
       "9    9  A Back-Channel Plan for Ukraine and Russia, Co...   \n",
       "10  10  Obama’s Organizing for Action Partners with So...   \n",
       "11  11  BBC Comedy Sketch \"Real Housewives of ISIS\" Ca...   \n",
       "\n",
       "                          author  \\\n",
       "0                  Darrell Lucus   \n",
       "1                Daniel J. Flynn   \n",
       "2             Consortiumnews.com   \n",
       "3                Jessica Purkiss   \n",
       "4                 Howard Portnoy   \n",
       "5                Daniel Nussbaum   \n",
       "7                Alissa J. Rubin   \n",
       "9   Megan Twohey and Scott Shane   \n",
       "10                   Aaron Klein   \n",
       "11               Chris Tomlinson   \n",
       "\n",
       "                                                 text  label  \n",
       "0   House Dem Aide: We Didn’t Even See Comey’s Let...      1  \n",
       "1   Ever get the feeling your life circles the rou...      0  \n",
       "2   Why the Truth Might Get You Fired October 29, ...      1  \n",
       "3   Videos 15 Civilians Killed In Single US Airstr...      1  \n",
       "4   Print \\nAn Iranian woman has been sentenced to...      1  \n",
       "5   In these trying times, Jackie Mason is the Voi...      0  \n",
       "7   PARIS  —   France chose an idealistic, traditi...      0  \n",
       "9   A week before Michael T. Flynn resigned as nat...      0  \n",
       "10  Organizing for Action, the activist group that...      0  \n",
       "11  The BBC produced spoof on the “Real Housewives...      0  "
      ]
     },
     "execution_count": 14,
     "metadata": {},
     "output_type": "execute_result"
    }
   ],
   "source": [
    "df.head(10)"
   ]
  },
  {
   "cell_type": "code",
   "execution_count": 15,
   "metadata": {
    "id": "oeL5_OHyyzqr"
   },
   "outputs": [],
   "source": [
    "messages=df.copy()"
   ]
  },
  {
   "cell_type": "code",
   "execution_count": 16,
   "metadata": {
    "id": "Yds9xAEqyzqr"
   },
   "outputs": [],
   "source": [
    "messages.reset_index(inplace=True)"
   ]
  },
  {
   "cell_type": "code",
   "execution_count": 17,
   "metadata": {
    "id": "1TisLO7Eyzqr",
    "outputId": "f6e493c3-ea6e-4a5d-e562-d5818b8cb56c"
   },
   "outputs": [
    {
     "data": {
      "text/html": [
       "<div>\n",
       "<style scoped>\n",
       "    .dataframe tbody tr th:only-of-type {\n",
       "        vertical-align: middle;\n",
       "    }\n",
       "\n",
       "    .dataframe tbody tr th {\n",
       "        vertical-align: top;\n",
       "    }\n",
       "\n",
       "    .dataframe thead th {\n",
       "        text-align: right;\n",
       "    }\n",
       "</style>\n",
       "<table border=\"1\" class=\"dataframe\">\n",
       "  <thead>\n",
       "    <tr style=\"text-align: right;\">\n",
       "      <th></th>\n",
       "      <th>index</th>\n",
       "      <th>id</th>\n",
       "      <th>title</th>\n",
       "      <th>author</th>\n",
       "      <th>text</th>\n",
       "      <th>label</th>\n",
       "    </tr>\n",
       "  </thead>\n",
       "  <tbody>\n",
       "    <tr>\n",
       "      <th>0</th>\n",
       "      <td>0</td>\n",
       "      <td>0</td>\n",
       "      <td>House Dem Aide: We Didn’t Even See Comey’s Let...</td>\n",
       "      <td>Darrell Lucus</td>\n",
       "      <td>House Dem Aide: We Didn’t Even See Comey’s Let...</td>\n",
       "      <td>1</td>\n",
       "    </tr>\n",
       "    <tr>\n",
       "      <th>1</th>\n",
       "      <td>1</td>\n",
       "      <td>1</td>\n",
       "      <td>FLYNN: Hillary Clinton, Big Woman on Campus - ...</td>\n",
       "      <td>Daniel J. Flynn</td>\n",
       "      <td>Ever get the feeling your life circles the rou...</td>\n",
       "      <td>0</td>\n",
       "    </tr>\n",
       "    <tr>\n",
       "      <th>2</th>\n",
       "      <td>2</td>\n",
       "      <td>2</td>\n",
       "      <td>Why the Truth Might Get You Fired</td>\n",
       "      <td>Consortiumnews.com</td>\n",
       "      <td>Why the Truth Might Get You Fired October 29, ...</td>\n",
       "      <td>1</td>\n",
       "    </tr>\n",
       "    <tr>\n",
       "      <th>3</th>\n",
       "      <td>3</td>\n",
       "      <td>3</td>\n",
       "      <td>15 Civilians Killed In Single US Airstrike Hav...</td>\n",
       "      <td>Jessica Purkiss</td>\n",
       "      <td>Videos 15 Civilians Killed In Single US Airstr...</td>\n",
       "      <td>1</td>\n",
       "    </tr>\n",
       "    <tr>\n",
       "      <th>4</th>\n",
       "      <td>4</td>\n",
       "      <td>4</td>\n",
       "      <td>Iranian woman jailed for fictional unpublished...</td>\n",
       "      <td>Howard Portnoy</td>\n",
       "      <td>Print \\nAn Iranian woman has been sentenced to...</td>\n",
       "      <td>1</td>\n",
       "    </tr>\n",
       "    <tr>\n",
       "      <th>5</th>\n",
       "      <td>5</td>\n",
       "      <td>5</td>\n",
       "      <td>Jackie Mason: Hollywood Would Love Trump if He...</td>\n",
       "      <td>Daniel Nussbaum</td>\n",
       "      <td>In these trying times, Jackie Mason is the Voi...</td>\n",
       "      <td>0</td>\n",
       "    </tr>\n",
       "    <tr>\n",
       "      <th>6</th>\n",
       "      <td>7</td>\n",
       "      <td>7</td>\n",
       "      <td>Benoît Hamon Wins French Socialist Party’s Pre...</td>\n",
       "      <td>Alissa J. Rubin</td>\n",
       "      <td>PARIS  —   France chose an idealistic, traditi...</td>\n",
       "      <td>0</td>\n",
       "    </tr>\n",
       "    <tr>\n",
       "      <th>7</th>\n",
       "      <td>9</td>\n",
       "      <td>9</td>\n",
       "      <td>A Back-Channel Plan for Ukraine and Russia, Co...</td>\n",
       "      <td>Megan Twohey and Scott Shane</td>\n",
       "      <td>A week before Michael T. Flynn resigned as nat...</td>\n",
       "      <td>0</td>\n",
       "    </tr>\n",
       "    <tr>\n",
       "      <th>8</th>\n",
       "      <td>10</td>\n",
       "      <td>10</td>\n",
       "      <td>Obama’s Organizing for Action Partners with So...</td>\n",
       "      <td>Aaron Klein</td>\n",
       "      <td>Organizing for Action, the activist group that...</td>\n",
       "      <td>0</td>\n",
       "    </tr>\n",
       "    <tr>\n",
       "      <th>9</th>\n",
       "      <td>11</td>\n",
       "      <td>11</td>\n",
       "      <td>BBC Comedy Sketch \"Real Housewives of ISIS\" Ca...</td>\n",
       "      <td>Chris Tomlinson</td>\n",
       "      <td>The BBC produced spoof on the “Real Housewives...</td>\n",
       "      <td>0</td>\n",
       "    </tr>\n",
       "  </tbody>\n",
       "</table>\n",
       "</div>"
      ],
      "text/plain": [
       "   index  id                                              title  \\\n",
       "0      0   0  House Dem Aide: We Didn’t Even See Comey’s Let...   \n",
       "1      1   1  FLYNN: Hillary Clinton, Big Woman on Campus - ...   \n",
       "2      2   2                  Why the Truth Might Get You Fired   \n",
       "3      3   3  15 Civilians Killed In Single US Airstrike Hav...   \n",
       "4      4   4  Iranian woman jailed for fictional unpublished...   \n",
       "5      5   5  Jackie Mason: Hollywood Would Love Trump if He...   \n",
       "6      7   7  Benoît Hamon Wins French Socialist Party’s Pre...   \n",
       "7      9   9  A Back-Channel Plan for Ukraine and Russia, Co...   \n",
       "8     10  10  Obama’s Organizing for Action Partners with So...   \n",
       "9     11  11  BBC Comedy Sketch \"Real Housewives of ISIS\" Ca...   \n",
       "\n",
       "                         author  \\\n",
       "0                 Darrell Lucus   \n",
       "1               Daniel J. Flynn   \n",
       "2            Consortiumnews.com   \n",
       "3               Jessica Purkiss   \n",
       "4                Howard Portnoy   \n",
       "5               Daniel Nussbaum   \n",
       "6               Alissa J. Rubin   \n",
       "7  Megan Twohey and Scott Shane   \n",
       "8                   Aaron Klein   \n",
       "9               Chris Tomlinson   \n",
       "\n",
       "                                                text  label  \n",
       "0  House Dem Aide: We Didn’t Even See Comey’s Let...      1  \n",
       "1  Ever get the feeling your life circles the rou...      0  \n",
       "2  Why the Truth Might Get You Fired October 29, ...      1  \n",
       "3  Videos 15 Civilians Killed In Single US Airstr...      1  \n",
       "4  Print \\nAn Iranian woman has been sentenced to...      1  \n",
       "5  In these trying times, Jackie Mason is the Voi...      0  \n",
       "6  PARIS  —   France chose an idealistic, traditi...      0  \n",
       "7  A week before Michael T. Flynn resigned as nat...      0  \n",
       "8  Organizing for Action, the activist group that...      0  \n",
       "9  The BBC produced spoof on the “Real Housewives...      0  "
      ]
     },
     "execution_count": 17,
     "metadata": {},
     "output_type": "execute_result"
    }
   ],
   "source": [
    "messages.head(10)"
   ]
  },
  {
   "cell_type": "code",
   "execution_count": 18,
   "metadata": {
    "id": "qjEfi0AWyzqs",
    "outputId": "c1c0ec12-1d3f-465d-f755-4106fbcdc08f"
   },
   "outputs": [
    {
     "data": {
      "text/plain": [
       "'Benoît Hamon Wins French Socialist Party’s Presidential Nomination - The New York Times'"
      ]
     },
     "execution_count": 18,
     "metadata": {},
     "output_type": "execute_result"
    }
   ],
   "source": [
    "messages['title'][6]"
   ]
  },
  {
   "cell_type": "code",
   "execution_count": 19,
   "metadata": {
    "id": "gwRBGUQYyzqs"
   },
   "outputs": [],
   "source": [
    "from nltk.corpus import stopwords\n",
    "from nltk.stem.porter import PorterStemmer\n",
    "ps = PorterStemmer()\n",
    "corpus = []\n",
    "for i in range(0, len(messages)):\n",
    "    review = re.sub('[^a-zA-Z]', ' ', messages['title'][i])\n",
    "    review = review.lower()\n",
    "    review = review.split()\n",
    "    \n",
    "    review = [ps.stem(word) for word in review if not word in stopwords.words('english')]\n",
    "    review = ' '.join(review)\n",
    "    corpus.append(review)"
   ]
  },
  {
   "cell_type": "code",
   "execution_count": 20,
   "metadata": {
    "id": "WRzBouWnyzqt",
    "outputId": "507d2646-40ce-4d1a-a081-7c32c438cecb"
   },
   "outputs": [
    {
     "data": {
      "text/plain": [
       "'civilian kill singl us airstrik identifi'"
      ]
     },
     "execution_count": 20,
     "metadata": {},
     "output_type": "execute_result"
    }
   ],
   "source": [
    "corpus[3]"
   ]
  },
  {
   "cell_type": "code",
   "execution_count": 21,
   "metadata": {
    "id": "s1zrolnTyzqt"
   },
   "outputs": [],
   "source": [
    "## TFidf Vectorizer\n",
    "from sklearn.feature_extraction.text import TfidfVectorizer\n",
    "tfidf_v=TfidfVectorizer(max_features=5000,ngram_range=(1,3))\n",
    "X=tfidf_v.fit_transform(corpus).toarray()"
   ]
  },
  {
   "cell_type": "code",
   "execution_count": 22,
   "metadata": {
    "id": "NXVcEnspyzqu",
    "outputId": "e02d5942-2f3e-4f28-db43-7435a30f4497"
   },
   "outputs": [
    {
     "data": {
      "text/plain": [
       "(18285, 5000)"
      ]
     },
     "execution_count": 22,
     "metadata": {},
     "output_type": "execute_result"
    }
   ],
   "source": [
    "X.shape"
   ]
  },
  {
   "cell_type": "code",
   "execution_count": 23,
   "metadata": {
    "id": "hhmmkyUOyzqu",
    "outputId": "8eaf6a8e-0b26-48bf-d5ea-39d360444c26"
   },
   "outputs": [],
   "source": [
    "y=messages['label']"
   ]
  },
  {
   "cell_type": "code",
   "execution_count": 24,
   "metadata": {
    "id": "PXlC3DPVyzqv"
   },
   "outputs": [],
   "source": [
    "## Divide the dataset into Train and Test\n",
    "from sklearn.model_selection import train_test_split\n",
    "X_train, X_test, y_train, y_test = train_test_split(X, y, test_size=0.33, random_state=0)"
   ]
  },
  {
   "cell_type": "code",
   "execution_count": 25,
   "metadata": {
    "id": "OQr3Qvtmyzqv"
   },
   "outputs": [
    {
     "data": {
      "text/plain": [
       "(12250, 5000)"
      ]
     },
     "execution_count": 25,
     "metadata": {},
     "output_type": "execute_result"
    }
   ],
   "source": [
    "X_train.shape"
   ]
  },
  {
   "cell_type": "code",
   "execution_count": 26,
   "metadata": {
    "id": "WWKJAxSIyzqv"
   },
   "outputs": [
    {
     "data": {
      "text/plain": [
       "(6035, 5000)"
      ]
     },
     "execution_count": 26,
     "metadata": {},
     "output_type": "execute_result"
    }
   ],
   "source": [
    "X_test.shape"
   ]
  },
  {
   "cell_type": "code",
   "execution_count": 27,
   "metadata": {
    "id": "Fndf8tBYyzqw"
   },
   "outputs": [
    {
     "data": {
      "text/plain": [
       "(12250,)"
      ]
     },
     "execution_count": 27,
     "metadata": {},
     "output_type": "execute_result"
    }
   ],
   "source": [
    "y_train.shape"
   ]
  },
  {
   "cell_type": "code",
   "execution_count": 28,
   "metadata": {
    "id": "W7d9lSNSyzqw"
   },
   "outputs": [
    {
     "data": {
      "text/plain": [
       "(6035,)"
      ]
     },
     "execution_count": 28,
     "metadata": {},
     "output_type": "execute_result"
    }
   ],
   "source": [
    "y_test.shape"
   ]
  },
  {
   "cell_type": "code",
   "execution_count": 29,
   "metadata": {
    "id": "X_nE2lZayzqw"
   },
   "outputs": [
    {
     "data": {
      "text/plain": [
       "['abandon',\n",
       " 'abc',\n",
       " 'abc news',\n",
       " 'abduct',\n",
       " 'abe',\n",
       " 'abedin',\n",
       " 'abl',\n",
       " 'abort',\n",
       " 'abroad',\n",
       " 'absolut',\n",
       " 'abstain',\n",
       " 'absurd',\n",
       " 'abus',\n",
       " 'abus new',\n",
       " 'abus new york',\n",
       " 'academi',\n",
       " 'accept',\n",
       " 'access',\n",
       " 'access pipelin',\n",
       " 'access pipelin protest']"
      ]
     },
     "execution_count": 29,
     "metadata": {},
     "output_type": "execute_result"
    }
   ],
   "source": [
    "tfidf_v.get_feature_names()[:20]"
   ]
  },
  {
   "cell_type": "code",
   "execution_count": 30,
   "metadata": {
    "id": "-GVvK149yzqw"
   },
   "outputs": [
    {
     "data": {
      "text/plain": [
       "{'analyzer': 'word',\n",
       " 'binary': False,\n",
       " 'decode_error': 'strict',\n",
       " 'dtype': numpy.float64,\n",
       " 'encoding': 'utf-8',\n",
       " 'input': 'content',\n",
       " 'lowercase': True,\n",
       " 'max_df': 1.0,\n",
       " 'max_features': 5000,\n",
       " 'min_df': 1,\n",
       " 'ngram_range': (1, 3),\n",
       " 'norm': 'l2',\n",
       " 'preprocessor': None,\n",
       " 'smooth_idf': True,\n",
       " 'stop_words': None,\n",
       " 'strip_accents': None,\n",
       " 'sublinear_tf': False,\n",
       " 'token_pattern': '(?u)\\\\b\\\\w\\\\w+\\\\b',\n",
       " 'tokenizer': None,\n",
       " 'use_idf': True,\n",
       " 'vocabulary': None}"
      ]
     },
     "execution_count": 30,
     "metadata": {},
     "output_type": "execute_result"
    }
   ],
   "source": [
    "tfidf_v.get_params()"
   ]
  },
  {
   "cell_type": "code",
   "execution_count": 31,
   "metadata": {
    "id": "QGXx20qRyzqx"
   },
   "outputs": [],
   "source": [
    "count_df = pd.DataFrame(X_train, columns=tfidf_v.get_feature_names())"
   ]
  },
  {
   "cell_type": "code",
   "execution_count": 32,
   "metadata": {
    "id": "7LEuAiz6yzqx"
   },
   "outputs": [
    {
     "data": {
      "text/html": [
       "<div>\n",
       "<style scoped>\n",
       "    .dataframe tbody tr th:only-of-type {\n",
       "        vertical-align: middle;\n",
       "    }\n",
       "\n",
       "    .dataframe tbody tr th {\n",
       "        vertical-align: top;\n",
       "    }\n",
       "\n",
       "    .dataframe thead th {\n",
       "        text-align: right;\n",
       "    }\n",
       "</style>\n",
       "<table border=\"1\" class=\"dataframe\">\n",
       "  <thead>\n",
       "    <tr style=\"text-align: right;\">\n",
       "      <th></th>\n",
       "      <th>abandon</th>\n",
       "      <th>abc</th>\n",
       "      <th>abc news</th>\n",
       "      <th>abduct</th>\n",
       "      <th>abe</th>\n",
       "      <th>abedin</th>\n",
       "      <th>abl</th>\n",
       "      <th>abort</th>\n",
       "      <th>abroad</th>\n",
       "      <th>absolut</th>\n",
       "      <th>...</th>\n",
       "      <th>zero</th>\n",
       "      <th>zika</th>\n",
       "      <th>zika viru</th>\n",
       "      <th>zionist</th>\n",
       "      <th>zone</th>\n",
       "      <th>zone new</th>\n",
       "      <th>zone new york</th>\n",
       "      <th>zoo</th>\n",
       "      <th>zu</th>\n",
       "      <th>zuckerberg</th>\n",
       "    </tr>\n",
       "  </thead>\n",
       "  <tbody>\n",
       "    <tr>\n",
       "      <th>0</th>\n",
       "      <td>0.0</td>\n",
       "      <td>0.0</td>\n",
       "      <td>0.0</td>\n",
       "      <td>0.0</td>\n",
       "      <td>0.0</td>\n",
       "      <td>0.0</td>\n",
       "      <td>0.0</td>\n",
       "      <td>0.0</td>\n",
       "      <td>0.0</td>\n",
       "      <td>0.000000</td>\n",
       "      <td>...</td>\n",
       "      <td>0.0</td>\n",
       "      <td>0.0</td>\n",
       "      <td>0.0</td>\n",
       "      <td>0.0</td>\n",
       "      <td>0.0</td>\n",
       "      <td>0.0</td>\n",
       "      <td>0.0</td>\n",
       "      <td>0.0</td>\n",
       "      <td>0.0</td>\n",
       "      <td>0.0</td>\n",
       "    </tr>\n",
       "    <tr>\n",
       "      <th>1</th>\n",
       "      <td>0.0</td>\n",
       "      <td>0.0</td>\n",
       "      <td>0.0</td>\n",
       "      <td>0.0</td>\n",
       "      <td>0.0</td>\n",
       "      <td>0.0</td>\n",
       "      <td>0.0</td>\n",
       "      <td>0.0</td>\n",
       "      <td>0.0</td>\n",
       "      <td>0.000000</td>\n",
       "      <td>...</td>\n",
       "      <td>0.0</td>\n",
       "      <td>0.0</td>\n",
       "      <td>0.0</td>\n",
       "      <td>0.0</td>\n",
       "      <td>0.0</td>\n",
       "      <td>0.0</td>\n",
       "      <td>0.0</td>\n",
       "      <td>0.0</td>\n",
       "      <td>0.0</td>\n",
       "      <td>0.0</td>\n",
       "    </tr>\n",
       "    <tr>\n",
       "      <th>2</th>\n",
       "      <td>0.0</td>\n",
       "      <td>0.0</td>\n",
       "      <td>0.0</td>\n",
       "      <td>0.0</td>\n",
       "      <td>0.0</td>\n",
       "      <td>0.0</td>\n",
       "      <td>0.0</td>\n",
       "      <td>0.0</td>\n",
       "      <td>0.0</td>\n",
       "      <td>0.000000</td>\n",
       "      <td>...</td>\n",
       "      <td>0.0</td>\n",
       "      <td>0.0</td>\n",
       "      <td>0.0</td>\n",
       "      <td>0.0</td>\n",
       "      <td>0.0</td>\n",
       "      <td>0.0</td>\n",
       "      <td>0.0</td>\n",
       "      <td>0.0</td>\n",
       "      <td>0.0</td>\n",
       "      <td>0.0</td>\n",
       "    </tr>\n",
       "    <tr>\n",
       "      <th>3</th>\n",
       "      <td>0.0</td>\n",
       "      <td>0.0</td>\n",
       "      <td>0.0</td>\n",
       "      <td>0.0</td>\n",
       "      <td>0.0</td>\n",
       "      <td>0.0</td>\n",
       "      <td>0.0</td>\n",
       "      <td>0.0</td>\n",
       "      <td>0.0</td>\n",
       "      <td>0.000000</td>\n",
       "      <td>...</td>\n",
       "      <td>0.0</td>\n",
       "      <td>0.0</td>\n",
       "      <td>0.0</td>\n",
       "      <td>0.0</td>\n",
       "      <td>0.0</td>\n",
       "      <td>0.0</td>\n",
       "      <td>0.0</td>\n",
       "      <td>0.0</td>\n",
       "      <td>0.0</td>\n",
       "      <td>0.0</td>\n",
       "    </tr>\n",
       "    <tr>\n",
       "      <th>4</th>\n",
       "      <td>0.0</td>\n",
       "      <td>0.0</td>\n",
       "      <td>0.0</td>\n",
       "      <td>0.0</td>\n",
       "      <td>0.0</td>\n",
       "      <td>0.0</td>\n",
       "      <td>0.0</td>\n",
       "      <td>0.0</td>\n",
       "      <td>0.0</td>\n",
       "      <td>0.305244</td>\n",
       "      <td>...</td>\n",
       "      <td>0.0</td>\n",
       "      <td>0.0</td>\n",
       "      <td>0.0</td>\n",
       "      <td>0.0</td>\n",
       "      <td>0.0</td>\n",
       "      <td>0.0</td>\n",
       "      <td>0.0</td>\n",
       "      <td>0.0</td>\n",
       "      <td>0.0</td>\n",
       "      <td>0.0</td>\n",
       "    </tr>\n",
       "  </tbody>\n",
       "</table>\n",
       "<p>5 rows × 5000 columns</p>\n",
       "</div>"
      ],
      "text/plain": [
       "   abandon  abc  abc news  abduct  abe  abedin  abl  abort  abroad   absolut  \\\n",
       "0      0.0  0.0       0.0     0.0  0.0     0.0  0.0    0.0     0.0  0.000000   \n",
       "1      0.0  0.0       0.0     0.0  0.0     0.0  0.0    0.0     0.0  0.000000   \n",
       "2      0.0  0.0       0.0     0.0  0.0     0.0  0.0    0.0     0.0  0.000000   \n",
       "3      0.0  0.0       0.0     0.0  0.0     0.0  0.0    0.0     0.0  0.000000   \n",
       "4      0.0  0.0       0.0     0.0  0.0     0.0  0.0    0.0     0.0  0.305244   \n",
       "\n",
       "   ...  zero  zika  zika viru  zionist  zone  zone new  zone new york  zoo  \\\n",
       "0  ...   0.0   0.0        0.0      0.0   0.0       0.0            0.0  0.0   \n",
       "1  ...   0.0   0.0        0.0      0.0   0.0       0.0            0.0  0.0   \n",
       "2  ...   0.0   0.0        0.0      0.0   0.0       0.0            0.0  0.0   \n",
       "3  ...   0.0   0.0        0.0      0.0   0.0       0.0            0.0  0.0   \n",
       "4  ...   0.0   0.0        0.0      0.0   0.0       0.0            0.0  0.0   \n",
       "\n",
       "    zu  zuckerberg  \n",
       "0  0.0         0.0  \n",
       "1  0.0         0.0  \n",
       "2  0.0         0.0  \n",
       "3  0.0         0.0  \n",
       "4  0.0         0.0  \n",
       "\n",
       "[5 rows x 5000 columns]"
      ]
     },
     "execution_count": 32,
     "metadata": {},
     "output_type": "execute_result"
    }
   ],
   "source": [
    "count_df.head()"
   ]
  },
  {
   "cell_type": "code",
   "execution_count": 33,
   "metadata": {
    "id": "ev40Wwtqyzqx"
   },
   "outputs": [],
   "source": [
    "import matplotlib.pyplot as plt"
   ]
  },
  {
   "cell_type": "code",
   "execution_count": 34,
   "metadata": {
    "id": "jnSicHfTyzqx"
   },
   "outputs": [],
   "source": [
    "def plot_confusion_matrix(cm, classes,\n",
    "                          normalize=False,\n",
    "                          title='Confusion matrix',\n",
    "                          cmap=plt.cm.Blues):\n",
    "    \"\"\"\n",
    "    See full source and example: \n",
    "    http://scikit-learn.org/stable/auto_examples/model_selection/plot_confusion_matrix.html\n",
    "    \n",
    "    This function prints and plots the confusion matrix.\n",
    "    Normalization can be applied by setting `normalize=True`.\n",
    "    \"\"\"\n",
    "    plt.imshow(cm, interpolation='nearest', cmap=cmap)\n",
    "    plt.title(title)\n",
    "    plt.colorbar()\n",
    "    tick_marks = np.arange(len(classes))\n",
    "    plt.xticks(tick_marks, classes, rotation=45)\n",
    "    plt.yticks(tick_marks, classes)\n",
    "\n",
    "    if normalize:\n",
    "        cm = cm.astype('float') / cm.sum(axis=1)[:, np.newaxis]\n",
    "        print(\"Normalized confusion matrix\")\n",
    "    else:\n",
    "        print('Confusion matrix, without normalization')\n",
    "\n",
    "    thresh = cm.max() / 2.\n",
    "    for i, j in itertools.product(range(cm.shape[0]), range(cm.shape[1])):\n",
    "        plt.text(j, i, cm[i, j],\n",
    "                 horizontalalignment=\"center\",\n",
    "                 color=\"white\" if cm[i, j] > thresh else \"black\")\n",
    "\n",
    "    plt.tight_layout()\n",
    "    plt.ylabel('True label')\n",
    "    plt.xlabel('Predicted label')"
   ]
  },
  {
   "cell_type": "markdown",
   "metadata": {
    "id": "lPBzJlRZyzqy"
   },
   "source": [
    "### MultinomialNB Algorithm"
   ]
  },
  {
   "cell_type": "code",
   "execution_count": 35,
   "metadata": {
    "id": "Jec946mgyzqz"
   },
   "outputs": [],
   "source": [
    "\n",
    "from sklearn.naive_bayes import MultinomialNB\n",
    "classifier=MultinomialNB()"
   ]
  },
  {
   "cell_type": "code",
   "execution_count": 36,
   "metadata": {
    "id": "UuEos5Anyzq0"
   },
   "outputs": [],
   "source": [
    "from sklearn import metrics\n",
    "import numpy as np\n",
    "import itertools"
   ]
  },
  {
   "cell_type": "code",
   "execution_count": 37,
   "metadata": {
    "id": "FaF_bIuMyzq0"
   },
   "outputs": [
    {
     "name": "stdout",
     "output_type": "stream",
     "text": [
      "Accuracy: 0.8810273405136703\n",
      "Precision: 0.914445399828031\n",
      "Recall: 0.8038548752834467\n",
      "F1 score: 0.8555913113435236\n",
      "accuracy:   0.881\n",
      "Confusion matrix, without normalization\n"
     ]
    },
    {
     "data": {
      "image/png": "[encoded data removed]",
      "text/plain": [
       "<Figure size 432x288 with 2 Axes>"
      ]
     },
     "metadata": {
      "needs_background": "light"
     },
     "output_type": "display_data"
    }
   ],
   "source": [
    "classifier.fit(X_train, y_train)\n",
    "pred = classifier.predict(X_test)\n",
    "score = metrics.accuracy_score(y_test, pred)\n",
    "evaluation_metrices(y_test,pred)\n",
    "print(\"accuracy:   %0.3f\" % score)\n",
    "cm = metrics.confusion_matrix(y_test, pred)\n",
    "plot_confusion_matrix(cm, classes=['FAKE', 'REAL'])"
   ]
  },
  {
   "cell_type": "code",
   "execution_count": 38,
   "metadata": {
    "id": "NngdnIeRyzq1"
   },
   "outputs": [
    {
     "data": {
      "text/plain": [
       "0.8810273405136703"
      ]
     },
     "execution_count": 38,
     "metadata": {},
     "output_type": "execute_result"
    }
   ],
   "source": [
    "classifier.fit(X_train, y_train)\n",
    "pred = classifier.predict(X_test)\n",
    "score = metrics.accuracy_score(y_test, pred)\n",
    "score"
   ]
  },
  {
   "cell_type": "code",
   "execution_count": 39,
   "metadata": {
    "id": "2NpY75W5yzq2"
   },
   "outputs": [
    {
     "data": {
      "text/plain": [
       "(12250,)"
      ]
     },
     "execution_count": 39,
     "metadata": {},
     "output_type": "execute_result"
    }
   ],
   "source": [
    "y_train.shape"
   ]
  },
  {
   "cell_type": "markdown",
   "metadata": {
    "id": "yg5y84yhyzq2"
   },
   "source": [
    "### Passive Aggressive Classifier Algorithm"
   ]
  },
  {
   "cell_type": "code",
   "execution_count": 40,
   "metadata": {
    "id": "fZEUsT2ayzq3"
   },
   "outputs": [],
   "source": [
    "from sklearn.linear_model import PassiveAggressiveClassifier\n",
    "linear_clf = PassiveAggressiveClassifier()"
   ]
  },
  {
   "cell_type": "code",
   "execution_count": 41,
   "metadata": {
    "id": "lLHBhOQIyzq3"
   },
   "outputs": [
    {
     "name": "stdout",
     "output_type": "stream",
     "text": [
      "Accuracy: 0.9141673570836786\n",
      "Precision: 0.9064171122994652\n",
      "Recall: 0.8968253968253969\n",
      "F1 score: 0.9015957446808511\n",
      "accuracy:   0.914\n",
      "Confusion matrix, without normalization\n"
     ]
    },
    {
     "data": {
      "image/png": "[encoded data removed]",
      "text/plain": [
       "<Figure size 432x288 with 2 Axes>"
      ]
     },
     "metadata": {
      "needs_background": "light"
     },
     "output_type": "display_data"
    }
   ],
   "source": [
    "linear_clf.fit(X_train, y_train)\n",
    "pred = linear_clf.predict(X_test)\n",
    "score = metrics.accuracy_score(y_test, pred)\n",
    "evaluation_metrices(y_test,pred)\n",
    "print(\"accuracy:   %0.3f\" % score)\n",
    "cm = metrics.confusion_matrix(y_test, pred)\n",
    "plot_confusion_matrix(cm, classes=['FAKE Data', 'REAL Data'])"
   ]
  },
  {
   "cell_type": "code",
   "execution_count": 42,
   "metadata": {
    "id": "mdRZweSmyzq3"
   },
   "outputs": [
    {
     "data": {
      "text/plain": [
       "0.9141673570836786"
      ]
     },
     "execution_count": 42,
     "metadata": {},
     "output_type": "execute_result"
    }
   ],
   "source": [
    "classifier.fit(X_train, y_train)\n",
    "pred = linear_clf.predict(X_test)\n",
    "score = metrics.accuracy_score(y_test, pred)\n",
    "score"
   ]
  },
  {
   "cell_type": "markdown",
   "metadata": {
    "id": "FpjxzN5Yyzq4"
   },
   "source": [
    "### Multinomial Classifier with Hyperparameter"
   ]
  },
  {
   "cell_type": "code",
   "execution_count": 43,
   "metadata": {
    "id": "GimRRx7Xyzq4"
   },
   "outputs": [],
   "source": [
    "classifier=MultinomialNB(alpha=0.3)"
   ]
  },
  {
   "cell_type": "code",
   "execution_count": 44,
   "metadata": {
    "id": "5VXVHw5lyzq5"
   },
   "outputs": [
    {
     "name": "stdout",
     "output_type": "stream",
     "text": [
      "Accuracy: 0.9141673570836786\n",
      "Precision: 0.9064171122994652\n",
      "Recall: 0.8968253968253969\n",
      "F1 score: 0.9015957446808511\n",
      "Alpha: 0.0, Score : 0.8662800331400166\n",
      "Accuracy: 0.9141673570836786\n",
      "Precision: 0.9064171122994652\n",
      "Recall: 0.8968253968253969\n",
      "F1 score: 0.9015957446808511\n",
      "Alpha: 0.3, Score : 0.87986743993372\n",
      "Accuracy: 0.9141673570836786\n",
      "Precision: 0.9064171122994652\n",
      "Recall: 0.8968253968253969\n",
      "F1 score: 0.9015957446808511\n",
      "Alpha: 0.6, Score : 0.8815244407622204\n",
      "Accuracy: 0.9141673570836786\n",
      "Precision: 0.9064171122994652\n",
      "Recall: 0.8968253968253969\n",
      "F1 score: 0.9015957446808511\n",
      "Alpha: 0.8999999999999999, Score : 0.8816901408450705\n"
     ]
    },
    {
     "name": "stderr",
     "output_type": "stream",
     "text": [
      "/opt/anaconda3/lib/python3.8/site-packages/sklearn/naive_bayes.py:508: UserWarning: alpha too small will result in numeric errors, setting alpha = 1.0e-10\n",
      "  warnings.warn('alpha too small will result in numeric errors, '\n"
     ]
    }
   ],
   "source": [
    "previous_score=0\n",
    "for alpha in np.arange(0,1,0.3):\n",
    "    sub_classifier=MultinomialNB(alpha=alpha)\n",
    "    sub_classifier.fit(X_train,y_train)\n",
    "    y_pred=sub_classifier.predict(X_test)\n",
    "    score = metrics.accuracy_score(y_test, y_pred)\n",
    "    evaluation_metrices(y_test,pred)\n",
    "    if score>previous_score:\n",
    "        classifier=sub_classifier\n",
    "    print(\"Alpha: {}, Score : {}\".format(alpha,score))"
   ]
  },
  {
   "cell_type": "code",
   "execution_count": 45,
   "metadata": {
    "id": "EVYPoATPyzq5"
   },
   "outputs": [
    {
     "data": {
      "text/plain": [
       "0.8816901408450705"
      ]
     },
     "execution_count": 45,
     "metadata": {},
     "output_type": "execute_result"
    }
   ],
   "source": [
    "classifier.fit(X_train, y_train)\n",
    "pred = classifier.predict(X_test)\n",
    "score = metrics.accuracy_score(y_test, pred)\n",
    "score"
   ]
  },
  {
   "cell_type": "code",
   "execution_count": 46,
   "metadata": {
    "id": "3wKJLSqgyzq6"
   },
   "outputs": [],
   "source": [
    "## Get Features names\n",
    "feature_names = tfidf_v.get_feature_names()"
   ]
  },
  {
   "cell_type": "code",
   "execution_count": 47,
   "metadata": {
    "id": "nY4pem5Qyzq6"
   },
   "outputs": [
    {
     "name": "stderr",
     "output_type": "stream",
     "text": [
      "/opt/anaconda3/lib/python3.8/site-packages/sklearn/utils/deprecation.py:101: FutureWarning: Attribute coef_ was deprecated in version 0.24 and will be removed in 1.1 (renaming of 0.26).\n",
      "  warnings.warn(msg, category=FutureWarning)\n"
     ]
    },
    {
     "data": {
      "text/plain": [
       "array([-8.79747339, -8.50390794, -8.86748348, ..., -9.89972258,\n",
       "       -8.39148017, -9.09223723])"
      ]
     },
     "execution_count": 47,
     "metadata": {},
     "output_type": "execute_result"
    }
   ],
   "source": [
    "classifier.coef_[0]"
   ]
  },
  {
   "cell_type": "code",
   "execution_count": 48,
   "metadata": {
    "id": "5S4gCoVQyzq6"
   },
   "outputs": [
    {
     "data": {
      "text/plain": [
       "[(-4.954033555069851, 'hillari'),\n",
       " (-4.985143813810477, 'trump'),\n",
       " (-5.09396777078389, 'clinton'),\n",
       " (-5.406224434792624, 'elect'),\n",
       " (-5.720704731812889, 'video'),\n",
       " (-5.7735494747560745, 'comment'),\n",
       " (-5.796370993571742, 'war'),\n",
       " (-5.813919655860566, 'us'),\n",
       " (-5.886315118097155, 'fbi'),\n",
       " (-5.887681855526013, 'hillari clinton'),\n",
       " (-5.937650910283555, 'vote'),\n",
       " (-5.955192196052632, 'world'),\n",
       " (-6.040948488999476, 'email'),\n",
       " (-6.133757591036377, 'obama'),\n",
       " (-6.144495883768216, 'america'),\n",
       " (-6.164714961804142, 'russia'),\n",
       " (-6.228464630593834, 'day'),\n",
       " (-6.234273085996778, 'american'),\n",
       " (-6.288053898708686, 'break'),\n",
       " (-6.3129601417365455, 'presid')]"
      ]
     },
     "execution_count": 48,
     "metadata": {},
     "output_type": "execute_result"
    }
   ],
   "source": [
    "### Most real\n",
    "sorted(zip(classifier.coef_[0], feature_names), reverse=True)[:20]"
   ]
  },
  {
   "cell_type": "code",
   "execution_count": 49,
   "metadata": {
    "id": "ySt2xs_Cyzq6"
   },
   "outputs": [
    {
     "data": {
      "text/plain": [
       "[(-9.899722583188804, 'abe'),\n",
       " (-9.899722583188804, 'abroad'),\n",
       " (-9.899722583188804, 'abus new'),\n",
       " (-9.899722583188804, 'abus new york'),\n",
       " (-9.899722583188804, 'act new'),\n",
       " (-9.899722583188804, 'act new york'),\n",
       " (-9.899722583188804, 'advic'),\n",
       " (-9.899722583188804, 'advis new'),\n",
       " (-9.899722583188804, 'advis new york'),\n",
       " (-9.899722583188804, 'age new'),\n",
       " (-9.899722583188804, 'age new york'),\n",
       " (-9.899722583188804, 'agenda breitbart'),\n",
       " (-9.899722583188804, 'ail'),\n",
       " (-9.899722583188804, 'aleppo new'),\n",
       " (-9.899722583188804, 'aleppo new york'),\n",
       " (-9.899722583188804, 'ali'),\n",
       " (-9.899722583188804, 'america breitbart'),\n",
       " (-9.899722583188804, 'america new york'),\n",
       " (-9.899722583188804, 'american breitbart'),\n",
       " (-9.899722583188804, 'american new'),\n",
       " (-9.899722583188804, 'american new york'),\n",
       " (-9.899722583188804, 'ami'),\n",
       " (-9.899722583188804, 'ami schumer'),\n",
       " (-9.899722583188804, 'amp'),\n",
       " (-9.899722583188804, 'ann'),\n",
       " (-9.899722583188804, 'ann coulter'),\n",
       " (-9.899722583188804, 'applaud'),\n",
       " (-9.899722583188804, 'arson'),\n",
       " (-9.899722583188804, 'asian'),\n",
       " (-9.899722583188804, 'assail'),\n",
       " (-9.899722583188804, 'athlet'),\n",
       " (-9.899722583188804, 'attack breitbart'),\n",
       " (-9.899722583188804, 'attack new'),\n",
       " (-9.899722583188804, 'attack new york'),\n",
       " (-9.899722583188804, 'attack syria'),\n",
       " (-9.899722583188804, 'attend'),\n",
       " (-9.899722583188804, 'avert'),\n",
       " (-9.899722583188804, 'away new'),\n",
       " (-9.899722583188804, 'away new york'),\n",
       " (-9.899722583188804, 'back new'),\n",
       " (-9.899722583188804, 'back new york'),\n",
       " (-9.899722583188804, 'baltimor'),\n",
       " (-9.899722583188804, 'ban breitbart'),\n",
       " (-9.899722583188804, 'ban new'),\n",
       " (-9.899722583188804, 'ban new york'),\n",
       " (-9.899722583188804, 'bangladesh'),\n",
       " (-9.899722583188804, 'barron trump'),\n",
       " (-9.899722583188804, 'basic'),\n",
       " (-9.899722583188804, 'basketbal'),\n",
       " (-9.899722583188804, 'basketbal player'),\n",
       " (-9.899722583188804, 'baton'),\n",
       " (-9.899722583188804, 'baton roug'),\n",
       " (-9.899722583188804, 'battl new'),\n",
       " (-9.899722583188804, 'battl new york'),\n",
       " (-9.899722583188804, 'bay'),\n",
       " (-9.899722583188804, 'beach new'),\n",
       " (-9.899722583188804, 'beach new york'),\n",
       " (-9.899722583188804, 'begin new'),\n",
       " (-9.899722583188804, 'behead photo'),\n",
       " (-9.899722583188804, 'behind trump'),\n",
       " (-9.899722583188804, 'berkeley breitbart'),\n",
       " (-9.899722583188804, 'betsi'),\n",
       " (-9.899722583188804, 'betsi devo'),\n",
       " (-9.899722583188804, 'bill breitbart'),\n",
       " (-9.899722583188804, 'bill new'),\n",
       " (-9.899722583188804, 'bill new york'),\n",
       " (-9.899722583188804, 'bill reilli'),\n",
       " (-9.899722583188804, 'billi'),\n",
       " (-9.899722583188804, 'blue state'),\n",
       " (-9.899722583188804, 'blue state blue'),\n",
       " (-9.899722583188804, 'bolster'),\n",
       " (-9.899722583188804, 'border patrol'),\n",
       " (-9.899722583188804, 'border patrol agent'),\n",
       " (-9.899722583188804, 'border state'),\n",
       " (-9.899722583188804, 'border wall'),\n",
       " (-9.899722583188804, 'border wall breitbart'),\n",
       " (-9.899722583188804, 'bowl'),\n",
       " (-9.899722583188804, 'box offic'),\n",
       " (-9.899722583188804, 'bradi'),\n",
       " (-9.899722583188804, 'breath'),\n",
       " (-9.899722583188804, 'breitbart news daili'),\n",
       " (-9.899722583188804, 'brief new'),\n",
       " (-9.899722583188804, 'brief new york'),\n",
       " (-9.899722583188804, 'broadway'),\n",
       " (-9.899722583188804, 'bronx'),\n",
       " (-9.899722583188804, 'brooklyn'),\n",
       " (-9.899722583188804, 'brooklyn new'),\n",
       " (-9.899722583188804, 'brooklyn new york'),\n",
       " (-9.899722583188804, 'bureaucrat'),\n",
       " (-9.899722583188804, 'caitlyn'),\n",
       " (-9.899722583188804, 'caitlyn jenner'),\n",
       " (-9.899722583188804, 'cal'),\n",
       " (-9.899722583188804, 'california today'),\n",
       " (-9.899722583188804, 'calm'),\n",
       " (-9.899722583188804, 'campaign breitbart'),\n",
       " (-9.899722583188804, 'campaign new'),\n",
       " (-9.899722583188804, 'campaign new york'),\n",
       " (-9.899722583188804, 'campu breitbart'),\n",
       " (-9.899722583188804, 'cann'),\n",
       " (-9.899722583188804, 'car new'),\n",
       " (-9.899722583188804, 'car new york'),\n",
       " (-9.899722583188804, 'care act'),\n",
       " (-9.899722583188804, 'care act new'),\n",
       " (-9.899722583188804, 'care bill'),\n",
       " (-9.899722583188804, 'care breitbart'),\n",
       " (-9.899722583188804, 'carri fisher'),\n",
       " (-9.899722583188804, 'carson'),\n",
       " (-9.899722583188804, 'case new'),\n",
       " (-9.899722583188804, 'case new york'),\n",
       " (-9.899722583188804, 'castro'),\n",
       " (-9.899722583188804, 'caucu'),\n",
       " (-9.899722583188804, 'ceas'),\n",
       " (-9.899722583188804, 'ceas fire'),\n",
       " (-9.899722583188804, 'chamber'),\n",
       " (-9.899722583188804, 'championship'),\n",
       " (-9.899722583188804, 'championship new'),\n",
       " (-9.899722583188804, 'championship new york'),\n",
       " (-9.899722583188804, 'chang new'),\n",
       " (-9.899722583188804, 'chang new york'),\n",
       " (-9.899722583188804, 'charg new york'),\n",
       " (-9.899722583188804, 'charleston'),\n",
       " (-9.899722583188804, 'charlott'),\n",
       " (-9.899722583188804, 'cher'),\n",
       " (-9.899722583188804, 'chief new'),\n",
       " (-9.899722583188804, 'chief new york'),\n",
       " (-9.899722583188804, 'china new york'),\n",
       " (-9.899722583188804, 'chri christi'),\n",
       " (-9.899722583188804, 'christi'),\n",
       " (-9.899722583188804, 'christoph'),\n",
       " (-9.899722583188804, 'chuck'),\n",
       " (-9.899722583188804, 'chuck todd'),\n",
       " (-9.899722583188804, 'circuit'),\n",
       " (-9.899722583188804, 'citi new'),\n",
       " (-9.899722583188804, 'citi new york'),\n",
       " (-9.899722583188804, 'citizenship'),\n",
       " (-9.899722583188804, 'clinton new york'),\n",
       " (-9.899722583188804, 'clue'),\n",
       " (-9.899722583188804, 'coach'),\n",
       " (-9.899722583188804, 'colleg new'),\n",
       " (-9.899722583188804, 'colleg new york'),\n",
       " (-9.899722583188804, 'collid'),\n",
       " (-9.899722583188804, 'collin'),\n",
       " (-9.899722583188804, 'comedi'),\n",
       " (-9.899722583188804, 'comedi central'),\n",
       " (-9.899722583188804, 'comey fire'),\n",
       " (-9.899722583188804, 'commission'),\n",
       " (-9.899722583188804, 'common core'),\n",
       " (-9.899722583188804, 'common ground'),\n",
       " (-9.899722583188804, 'compet'),\n",
       " (-9.899722583188804, 'complex'),\n",
       " (-9.899722583188804, 'conceal'),\n",
       " (-9.899722583188804, 'confirm hear'),\n",
       " (-9.899722583188804, 'congress breitbart'),\n",
       " (-9.899722583188804, 'congress new york'),\n",
       " (-9.899722583188804, 'control new'),\n",
       " (-9.899722583188804, 'control new york'),\n",
       " (-9.899722583188804, 'convent new'),\n",
       " (-9.899722583188804, 'convent new york'),\n",
       " (-9.899722583188804, 'corner'),\n",
       " (-9.899722583188804, 'coulter'),\n",
       " (-9.899722583188804, 'counsel'),\n",
       " (-9.899722583188804, 'countri breitbart'),\n",
       " (-9.899722583188804, 'cours'),\n",
       " (-9.899722583188804, 'court block'),\n",
       " (-9.899722583188804, 'court new'),\n",
       " (-9.899722583188804, 'court new york'),\n",
       " (-9.899722583188804, 'court rule new'),\n",
       " (-9.899722583188804, 'cpac'),\n",
       " (-9.899722583188804, 'crash new'),\n",
       " (-9.899722583188804, 'crash new york'),\n",
       " (-9.899722583188804, 'crime breitbart'),\n",
       " (-9.899722583188804, 'crisi new'),\n",
       " (-9.899722583188804, 'crisi new york'),\n",
       " (-9.899722583188804, 'critic new'),\n",
       " (-9.899722583188804, 'crown'),\n",
       " (-9.899722583188804, 'cunningham'),\n",
       " (-9.899722583188804, 'curb'),\n",
       " (-9.899722583188804, 'davo'),\n",
       " (-9.899722583188804, 'day breitbart'),\n",
       " (-9.899722583188804, 'day new york'),\n",
       " (-9.899722583188804, 'day parad'),\n",
       " (-9.899722583188804, 'dead new'),\n",
       " (-9.899722583188804, 'dead new york'),\n",
       " (-9.899722583188804, 'deal breitbart'),\n",
       " (-9.899722583188804, 'deal new'),\n",
       " (-9.899722583188804, 'deal new york'),\n",
       " (-9.899722583188804, 'death new'),\n",
       " (-9.899722583188804, 'death new york'),\n",
       " (-9.899722583188804, 'debat new'),\n",
       " (-9.899722583188804, 'debat new york'),\n",
       " (-9.899722583188804, 'debbi reynold'),\n",
       " (-9.899722583188804, 'defi'),\n",
       " (-9.899722583188804, 'defund'),\n",
       " (-9.899722583188804, 'delingpol'),\n",
       " (-9.899722583188804, 'dem rep'),\n",
       " (-9.899722583188804, 'dem sen'),\n",
       " (-9.899722583188804, 'democrat breitbart'),\n",
       " (-9.899722583188804, 'democrat new'),\n",
       " (-9.899722583188804, 'democrat new york'),\n",
       " (-9.899722583188804, 'deport breitbart'),\n",
       " (-9.899722583188804, 'despair'),\n",
       " (-9.899722583188804, 'devo'),\n",
       " (-9.899722583188804, 'dh'),\n",
       " (-9.899722583188804, 'die new'),\n",
       " (-9.899722583188804, 'die new york'),\n",
       " (-9.899722583188804, 'diego'),\n",
       " (-9.899722583188804, 'disappoint'),\n",
       " (-9.899722583188804, 'divorc'),\n",
       " (-9.899722583188804, 'donald trump breitbart'),\n",
       " (-9.899722583188804, 'donald trump campaign'),\n",
       " (-9.899722583188804, 'donald trump inaugur'),\n",
       " (-9.899722583188804, 'dossier'),\n",
       " (-9.899722583188804, 'drama'),\n",
       " (-9.899722583188804, 'drive car'),\n",
       " (-9.899722583188804, 'drug new'),\n",
       " (-9.899722583188804, 'drug new york'),\n",
       " (-9.899722583188804, 'dunham'),\n",
       " (-9.899722583188804, 'dylann'),\n",
       " (-9.899722583188804, 'dylann roof'),\n",
       " (-9.899722583188804, 'eas'),\n",
       " (-9.899722583188804, 'easter'),\n",
       " (-9.899722583188804, 'economi new'),\n",
       " (-9.899722583188804, 'ecuador'),\n",
       " (-9.899722583188804, 'effort new york'),\n",
       " (-9.899722583188804, 'egyptair'),\n",
       " (-9.899722583188804, 'elect breitbart'),\n",
       " (-9.899722583188804, 'elect loss'),\n",
       " (-9.899722583188804, 'elect new york'),\n",
       " (-9.899722583188804, 'els new'),\n",
       " (-9.899722583188804, 'els new york'),\n",
       " (-9.899722583188804, 'embassi jerusalem'),\n",
       " (-9.899722583188804, 'emmi'),\n",
       " (-9.899722583188804, 'end new'),\n",
       " (-9.899722583188804, 'end new york'),\n",
       " (-9.899722583188804, 'england'),\n",
       " (-9.899722583188804, 'england patriot'),\n",
       " (-9.899722583188804, 'epa'),\n",
       " (-9.899722583188804, 'era new'),\n",
       " (-9.899722583188804, 'era new york'),\n",
       " (-9.899722583188804, 'espn'),\n",
       " (-9.899722583188804, 'europ new york'),\n",
       " (-9.899722583188804, 'european union'),\n",
       " (-9.899722583188804, 'even brief'),\n",
       " (-9.899722583188804, 'even brief new'),\n",
       " (-9.899722583188804, 'event breitbart'),\n",
       " (-9.899722583188804, 'execut order breitbart'),\n",
       " (-9.899722583188804, 'expand'),\n",
       " (-9.899722583188804, 'explain new'),\n",
       " (-9.899722583188804, 'explain new york'),\n",
       " (-9.899722583188804, 'extradit'),\n",
       " (-9.899722583188804, 'face new'),\n",
       " (-9.899722583188804, 'faction'),\n",
       " (-9.899722583188804, 'fake news breitbart'),\n",
       " (-9.899722583188804, 'fake news new'),\n",
       " (-9.899722583188804, 'falluja'),\n",
       " (-9.899722583188804, 'familiar'),\n",
       " (-9.899722583188804, 'farewel'),\n",
       " (-9.899722583188804, 'fargo'),\n",
       " (-9.899722583188804, 'fatal shoot'),\n",
       " (-9.899722583188804, 'fear new york'),\n",
       " (-9.899722583188804, 'fear trump'),\n",
       " (-9.899722583188804, 'feinstein'),\n",
       " (-9.899722583188804, 'fidel'),\n",
       " (-9.899722583188804, 'fidel castro'),\n",
       " (-9.899722583188804, 'fieri'),\n",
       " (-9.899722583188804, 'fight new'),\n",
       " (-9.899722583188804, 'fight new york'),\n",
       " (-9.899722583188804, 'fight trump'),\n",
       " (-9.899722583188804, 'filibust'),\n",
       " (-9.899722583188804, 'fillon'),\n",
       " (-9.899722583188804, 'find new york'),\n",
       " (-9.899722583188804, 'fire breitbart'),\n",
       " (-9.899722583188804, 'fire new york'),\n",
       " (-9.899722583188804, 'fisher'),\n",
       " (-9.899722583188804, 'fitton'),\n",
       " (-9.899722583188804, 'flight new'),\n",
       " (-9.899722583188804, 'flight new york'),\n",
       " (-9.899722583188804, 'fmr'),\n",
       " (-9.899722583188804, 'fort'),\n",
       " (-9.899722583188804, 'found new'),\n",
       " (-9.899722583188804, 'found new york'),\n",
       " (-9.899722583188804, 'fran oi'),\n",
       " (-9.899722583188804, 'fran oi fillon'),\n",
       " (-9.899722583188804, 'franc new'),\n",
       " (-9.899722583188804, 'franc new york'),\n",
       " (-9.899722583188804, 'freedom caucu'),\n",
       " (-9.899722583188804, 'french presidenti'),\n",
       " (-9.899722583188804, 'friday even'),\n",
       " (-9.899722583188804, 'friday even brief'),\n",
       " (-9.899722583188804, 'fs'),\n",
       " (-9.899722583188804, 'futur new'),\n",
       " (-9.899722583188804, 'futur new york'),\n",
       " (-9.899722583188804, 'gaffney'),\n",
       " (-9.899722583188804, 'game breitbart'),\n",
       " (-9.899722583188804, 'game new'),\n",
       " (-9.899722583188804, 'game new york'),\n",
       " (-9.899722583188804, 'gawker'),\n",
       " (-9.899722583188804, 'gener new'),\n",
       " (-9.899722583188804, 'gener new york'),\n",
       " (-9.899722583188804, 'georg michael'),\n",
       " (-9.899722583188804, 'get back'),\n",
       " (-9.899722583188804, 'get new'),\n",
       " (-9.899722583188804, 'go new york'),\n",
       " (-9.899722583188804, 'golden globe'),\n",
       " (-9.899722583188804, 'golden state'),\n",
       " (-9.899722583188804, 'golden state warrior'),\n",
       " (-9.899722583188804, 'goodel'),\n",
       " (-9.899722583188804, 'gop rep'),\n",
       " (-9.899722583188804, 'gop sen'),\n",
       " (-9.899722583188804, 'gorka'),\n",
       " (-9.899722583188804, 'gorsuch'),\n",
       " (-9.899722583188804, 'gorsuch breitbart'),\n",
       " (-9.899722583188804, 'gorsuch confirm'),\n",
       " (-9.899722583188804, 'govern new york'),\n",
       " (-9.899722583188804, 'grammi'),\n",
       " (-9.899722583188804, 'gray'),\n",
       " (-9.899722583188804, 'griffin'),\n",
       " (-9.899722583188804, 'grow new'),\n",
       " (-9.899722583188804, 'grow new york'),\n",
       " (-9.899722583188804, 'guant'),\n",
       " (-9.899722583188804, 'guant namo'),\n",
       " (-9.899722583188804, 'gulf'),\n",
       " (-9.899722583188804, 'gymnast'),\n",
       " (-9.899722583188804, 'hack new'),\n",
       " (-9.899722583188804, 'hack new york'),\n",
       " (-9.899722583188804, 'hbo'),\n",
       " (-9.899722583188804, 'health bill'),\n",
       " (-9.899722583188804, 'health care bill'),\n",
       " (-9.899722583188804, 'health insur'),\n",
       " (-9.899722583188804, 'health law'),\n",
       " (-9.899722583188804, 'healthcar bill'),\n",
       " (-9.899722583188804, 'hear new'),\n",
       " (-9.899722583188804, 'hear new york'),\n",
       " (-9.899722583188804, 'heart new'),\n",
       " (-9.899722583188804, 'heart new york'),\n",
       " (-9.899722583188804, 'high school'),\n",
       " (-9.899722583188804, 'histori new'),\n",
       " (-9.899722583188804, 'histori new york'),\n",
       " (-9.899722583188804, 'hockey'),\n",
       " (-9.899722583188804, 'holiday'),\n",
       " (-9.899722583188804, 'home new'),\n",
       " (-9.899722583188804, 'home new york'),\n",
       " (-9.899722583188804, 'hometown'),\n",
       " (-9.899722583188804, 'horribl'),\n",
       " (-9.899722583188804, 'hous breitbart'),\n",
       " (-9.899722583188804, 'hous new york'),\n",
       " (-9.899722583188804, 'hungari'),\n",
       " (-9.899722583188804, 'hurrican matthew'),\n",
       " (-9.899722583188804, 'imam'),\n",
       " (-9.899722583188804, 'immigr order'),\n",
       " (-9.899722583188804, 'inaugur speech'),\n",
       " (-9.899722583188804, 'inquiri new'),\n",
       " (-9.899722583188804, 'inquiri new york'),\n",
       " (-9.899722583188804, 'intend'),\n",
       " (-9.899722583188804, 'interest rate'),\n",
       " (-9.899722583188804, 'investig breitbart'),\n",
       " (-9.899722583188804, 'investig new york'),\n",
       " (-9.899722583188804, 'investig trump'),\n",
       " (-9.899722583188804, 'isi new'),\n",
       " (-9.899722583188804, 'isi new york'),\n",
       " (-9.899722583188804, 'islam state support'),\n",
       " (-9.899722583188804, 'isol'),\n",
       " (-9.899722583188804, 'issu new'),\n",
       " (-9.899722583188804, 'issu new york'),\n",
       " (-9.899722583188804, 'jacki'),\n",
       " (-9.899722583188804, 'jake'),\n",
       " (-9.899722583188804, 'jane'),\n",
       " (-9.899722583188804, 'jare kushner'),\n",
       " (-9.899722583188804, 'jerri'),\n",
       " (-9.899722583188804, 'jerri brown'),\n",
       " (-9.899722583188804, 'jo'),\n",
       " (-9.899722583188804, 'job breitbart'),\n",
       " (-9.899722583188804, 'job new'),\n",
       " (-9.899722583188804, 'job new york'),\n",
       " (-9.899722583188804, 'jong'),\n",
       " (-9.899722583188804, 'jong nam'),\n",
       " (-9.899722583188804, 'jong un'),\n",
       " (-9.899722583188804, 'journey'),\n",
       " (-9.899722583188804, 'jr'),\n",
       " (-9.899722583188804, 'judici'),\n",
       " (-9.899722583188804, 'justin'),\n",
       " (-9.899722583188804, 'kabul'),\n",
       " (-9.899722583188804, 'kathi'),\n",
       " (-9.899722583188804, 'kathi griffin'),\n",
       " (-9.899722583188804, 'kati'),\n",
       " (-9.899722583188804, 'kellogg'),\n",
       " (-9.899722583188804, 'kevin'),\n",
       " (-9.899722583188804, 'kill new'),\n",
       " (-9.899722583188804, 'kill new york'),\n",
       " (-9.899722583188804, 'kim jong'),\n",
       " (-9.899722583188804, 'kim jong nam'),\n",
       " (-9.899722583188804, 'kim jong un'),\n",
       " (-9.899722583188804, 'know know'),\n",
       " (-9.899722583188804, 'know new york'),\n",
       " (-9.899722583188804, 'korea new'),\n",
       " (-9.899722583188804, 'korea new york'),\n",
       " (-9.899722583188804, 'krauthamm'),\n",
       " (-9.899722583188804, 'kushner'),\n",
       " (-9.899722583188804, 'la la'),\n",
       " (-9.899722583188804, 'la la land'),\n",
       " (-9.899722583188804, 'la land'),\n",
       " (-9.899722583188804, 'labour'),\n",
       " (-9.899722583188804, 'lago'),\n",
       " (-9.899722583188804, 'latin'),\n",
       " (-9.899722583188804, 'lauderdal'),\n",
       " (-9.899722583188804, 'law breitbart'),\n",
       " (-9.899722583188804, 'law new'),\n",
       " (-9.899722583188804, 'law new york'),\n",
       " (-9.899722583188804, 'lawyer say'),\n",
       " (-9.899722583188804, 'le pen'),\n",
       " (-9.899722583188804, 'leader new'),\n",
       " (-9.899722583188804, 'leader new york'),\n",
       " (-9.899722583188804, 'leaker'),\n",
       " (-9.899722583188804, 'legitim'),\n",
       " (-9.899722583188804, 'lena'),\n",
       " (-9.899722583188804, 'lena dunham'),\n",
       " (-9.899722583188804, 'levin'),\n",
       " (-9.899722583188804, 'lewi'),\n",
       " (-9.899722583188804, 'life new'),\n",
       " (-9.899722583188804, 'life new york'),\n",
       " (-9.899722583188804, 'linda'),\n",
       " (-9.899722583188804, 'linda sarsour'),\n",
       " (-9.899722583188804, 'line new'),\n",
       " (-9.899722583188804, 'line new york'),\n",
       " (-9.899722583188804, 'listen new'),\n",
       " (-9.899722583188804, 'listen new york'),\n",
       " (-9.899722583188804, 'lite'),\n",
       " (-9.899722583188804, 'live new'),\n",
       " (-9.899722583188804, 'live new york'),\n",
       " (-9.899722583188804, 'lo angel'),\n",
       " (-9.899722583188804, 'locht'),\n",
       " (-9.899722583188804, 'london attack'),\n",
       " (-9.899722583188804, 'long island'),\n",
       " (-9.899722583188804, 'loss new'),\n",
       " (-9.899722583188804, 'loss new york'),\n",
       " (-9.899722583188804, 'louvr'),\n",
       " (-9.899722583188804, 'machin new'),\n",
       " (-9.899722583188804, 'machin new york'),\n",
       " (-9.899722583188804, 'macron'),\n",
       " (-9.899722583188804, 'madonna'),\n",
       " (-9.899722583188804, 'maker'),\n",
       " (-9.899722583188804, 'malaysia'),\n",
       " (-9.899722583188804, 'mall'),\n",
       " (-9.899722583188804, 'man new'),\n",
       " (-9.899722583188804, 'man new york'),\n",
       " (-9.899722583188804, 'manchin'),\n",
       " (-9.899722583188804, 'manuel'),\n",
       " (-9.899722583188804, 'mar'),\n",
       " (-9.899722583188804, 'mar lago'),\n",
       " (-9.899722583188804, 'marcher'),\n",
       " (-9.899722583188804, 'marin le'),\n",
       " (-9.899722583188804, 'marin le pen'),\n",
       " (-9.899722583188804, 'market new'),\n",
       " (-9.899722583188804, 'market new york'),\n",
       " (-9.899722583188804, 'marlow'),\n",
       " (-9.899722583188804, 'match'),\n",
       " (-9.899722583188804, 'maxin'),\n",
       " (-9.899722583188804, 'maxin water'),\n",
       " (-9.899722583188804, 'mcconnel'),\n",
       " (-9.899722583188804, 'media breitbart'),\n",
       " (-9.899722583188804, 'media new'),\n",
       " (-9.899722583188804, 'media new york'),\n",
       " (-9.899722583188804, 'medicaid'),\n",
       " (-9.899722583188804, 'meet new'),\n",
       " (-9.899722583188804, 'memori day'),\n",
       " (-9.899722583188804, 'merger'),\n",
       " (-9.899722583188804, 'meryl'),\n",
       " (-9.899722583188804, 'meryl streep'),\n",
       " (-9.899722583188804, 'mexican border'),\n",
       " (-9.899722583188804, 'mexican cartel'),\n",
       " (-9.899722583188804, 'michael phelp'),\n",
       " (-9.899722583188804, 'militari new'),\n",
       " (-9.899722583188804, 'militari new york'),\n",
       " (-9.899722583188804, 'million new york'),\n",
       " (-9.899722583188804, 'milo breitbart'),\n",
       " (-9.899722583188804, 'milo event'),\n",
       " (-9.899722583188804, 'miss new'),\n",
       " (-9.899722583188804, 'miss new york'),\n",
       " (-9.899722583188804, 'mnuchin'),\n",
       " (-9.899722583188804, 'model new'),\n",
       " (-9.899722583188804, 'model new york'),\n",
       " (-9.899722583188804, 'modi'),\n",
       " (-9.899722583188804, 'monday brief'),\n",
       " (-9.899722583188804, 'monday brief new'),\n",
       " (-9.899722583188804, 'monday even'),\n",
       " (-9.899722583188804, 'monday even brief'),\n",
       " (-9.899722583188804, 'money new'),\n",
       " (-9.899722583188804, 'money new york'),\n",
       " (-9.899722583188804, 'month new'),\n",
       " (-9.899722583188804, 'month new york'),\n",
       " (-9.899722583188804, 'monument'),\n",
       " (-9.899722583188804, 'moonlight'),\n",
       " (-9.899722583188804, 'morn brief'),\n",
       " (-9.899722583188804, 'morn brief new'),\n",
       " (-9.899722583188804, 'muhammad ali'),\n",
       " (-9.899722583188804, 'multipl'),\n",
       " (-9.899722583188804, 'mulvaney'),\n",
       " (-9.899722583188804, 'myanmar'),\n",
       " (-9.899722583188804, 'nam'),\n",
       " (-9.899722583188804, 'name new'),\n",
       " (-9.899722583188804, 'namo'),\n",
       " (-9.899722583188804, 'nanci'),\n",
       " (-9.899722583188804, 'nanci pelosi'),\n",
       " (-9.899722583188804, 'narendra'),\n",
       " (-9.899722583188804, 'narendra modi'),\n",
       " (-9.899722583188804, 'nat'),\n",
       " (-9.899722583188804, 'nation new'),\n",
       " (-9.899722583188804, 'nation new york'),\n",
       " (-9.899722583188804, 'nation secur advis'),\n",
       " (-9.899722583188804, 'navi seal'),\n",
       " (-9.899722583188804, 'near texa'),\n",
       " (-9.899722583188804, 'near texa border'),\n",
       " (-9.899722583188804, 'neil gorsuch'),\n",
       " (-9.899722583188804, 'netflix'),\n",
       " (-9.899722583188804, 'new england'),\n",
       " (-9.899722583188804, 'new england patriot'),\n",
       " (-9.899722583188804, 'new year eve'),\n",
       " (-9.899722583188804, 'new york new'),\n",
       " (-9.899722583188804, 'new york state'),\n",
       " (-9.899722583188804, 'news breitbart'),\n",
       " (-9.899722583188804, 'news cnn'),\n",
       " (-9.899722583188804, 'news daili'),\n",
       " (-9.899722583188804, 'news new'),\n",
       " (-9.899722583188804, 'news new york'),\n",
       " (-9.899722583188804, 'night new'),\n",
       " (-9.899722583188804, 'night new york'),\n",
       " (-9.899722583188804, 'nobel prize'),\n",
       " (-9.899722583188804, 'nomin'),\n",
       " (-9.899722583188804, 'nuclear option'),\n",
       " (-9.899722583188804, 'nune'),\n",
       " (-9.899722583188804, 'obama breitbart'),\n",
       " (-9.899722583188804, 'obama era'),\n",
       " (-9.899722583188804, 'obamacar breitbart'),\n",
       " (-9.899722583188804, 'obamacar lite'),\n",
       " (-9.899722583188804, 'obamacar repeal'),\n",
       " (-9.899722583188804, 'obamacar replac'),\n",
       " (-9.899722583188804, 'odd'),\n",
       " (-9.899722583188804, 'offic new'),\n",
       " (-9.899722583188804, 'offic new york'),\n",
       " (-9.899722583188804, 'offici say'),\n",
       " (-9.899722583188804, 'offici say new'),\n",
       " (-9.899722583188804, 'often'),\n",
       " (-9.899722583188804, 'oi'),\n",
       " (-9.899722583188804, 'oi fillon'),\n",
       " (-9.899722583188804, 'oliv'),\n",
       " (-9.899722583188804, 'olymp new'),\n",
       " (-9.899722583188804, 'olymp new york'),\n",
       " (-9.899722583188804, 'one new'),\n",
       " (-9.899722583188804, 'one new york'),\n",
       " (-9.899722583188804, 'op'),\n",
       " (-9.899722583188804, 'open door'),\n",
       " (-9.899722583188804, 'open new york'),\n",
       " (-9.899722583188804, 'oper new'),\n",
       " (-9.899722583188804, 'oppos trump'),\n",
       " (-9.899722583188804, 'order breitbart'),\n",
       " (-9.899722583188804, 'order new'),\n",
       " (-9.899722583188804, 'order new york'),\n",
       " (-9.899722583188804, 'orlando shoot'),\n",
       " (-9.899722583188804, 'orlean'),\n",
       " (-9.899722583188804, 'orovil'),\n",
       " (-9.899722583188804, 'outcri'),\n",
       " (-9.899722583188804, 'outlet'),\n",
       " (-9.899722583188804, 'overhaul'),\n",
       " (-9.899722583188804, 'pari agreement'),\n",
       " (-9.899722583188804, 'parti new'),\n",
       " (-9.899722583188804, 'parti new york'),\n",
       " (-9.899722583188804, 'passport'),\n",
       " (-9.899722583188804, 'past new'),\n",
       " (-9.899722583188804, 'past new york'),\n",
       " (-9.899722583188804, 'path new york'),\n",
       " (-9.899722583188804, 'patrol agent'),\n",
       " (-9.899722583188804, 'paul ryan obamacar'),\n",
       " (-9.899722583188804, 'pelosi'),\n",
       " (-9.899722583188804, 'penguin'),\n",
       " (-9.899722583188804, 'peopl breitbart'),\n",
       " (-9.899722583188804, 'perez'),\n",
       " (-9.899722583188804, 'persist'),\n",
       " (-9.899722583188804, 'person new york'),\n",
       " (-9.899722583188804, 'phelp'),\n",
       " (-9.899722583188804, 'pioneer'),\n",
       " (-9.899722583188804, 'plan new'),\n",
       " (-9.899722583188804, 'plan new york'),\n",
       " (-9.899722583188804, 'plane crash'),\n",
       " (-9.899722583188804, 'playoff'),\n",
       " (-9.899722583188804, 'poland'),\n",
       " (-9.899722583188804, 'polic new'),\n",
       " (-9.899722583188804, 'polic new york'),\n",
       " (-9.899722583188804, 'polic say'),\n",
       " (-9.899722583188804, 'polic say new'),\n",
       " (-9.899722583188804, 'polic shoot'),\n",
       " (-9.899722583188804, 'polici breitbart'),\n",
       " (-9.899722583188804, 'polici new'),\n",
       " (-9.899722583188804, 'polici new york'),\n",
       " (-9.899722583188804, 'polit new'),\n",
       " (-9.899722583188804, 'polit new york'),\n",
       " (-9.899722583188804, 'politico'),\n",
       " (-9.899722583188804, 'post new'),\n",
       " (-9.899722583188804, 'post new york'),\n",
       " (-9.899722583188804, 'pound'),\n",
       " (-9.899722583188804, 'power new york'),\n",
       " (-9.899722583188804, 'pregnanc'),\n",
       " (-9.899722583188804, 'pregnant'),\n",
       " (-9.899722583188804, 'presid breitbart'),\n",
       " (-9.899722583188804, 'presid new'),\n",
       " (-9.899722583188804, 'presid new york'),\n",
       " (-9.899722583188804, 'presid trump breitbart'),\n",
       " (-9.899722583188804, 'presidenti debat'),\n",
       " (-9.899722583188804, 'press breitbart'),\n",
       " (-9.899722583188804, 'preview'),\n",
       " (-9.899722583188804, 'price new'),\n",
       " (-9.899722583188804, 'price new york'),\n",
       " (-9.899722583188804, 'priebu'),\n",
       " (-9.899722583188804, 'prison new'),\n",
       " (-9.899722583188804, 'prison new york'),\n",
       " (-9.899722583188804, 'problem new'),\n",
       " (-9.899722583188804, 'problem new york'),\n",
       " (-9.899722583188804, 'profession'),\n",
       " (-9.899722583188804, 'prompt'),\n",
       " (-9.899722583188804, 'protest breitbart'),\n",
       " (-9.899722583188804, 'protest new'),\n",
       " (-9.899722583188804, 'proud'),\n",
       " (-9.899722583188804, 'pruitt'),\n",
       " (-9.899722583188804, 'publish'),\n",
       " (-9.899722583188804, 'puerto'),\n",
       " (-9.899722583188804, 'quebec'),\n",
       " (-9.899722583188804, 'race new'),\n",
       " (-9.899722583188804, 'race new york'),\n",
       " (-9.899722583188804, 'rampag'),\n",
       " (-9.899722583188804, 'rand'),\n",
       " (-9.899722583188804, 'rand paul'),\n",
       " (-9.899722583188804, 'rang'),\n",
       " (-9.899722583188804, 'rebuk'),\n",
       " (-9.899722583188804, 'recal'),\n",
       " (-9.899722583188804, 'redston'),\n",
       " (-9.899722583188804, 'regist'),\n",
       " (-9.899722583188804, 'rein'),\n",
       " (-9.899722583188804, 'reinc'),\n",
       " (-9.899722583188804, 'reinc priebu'),\n",
       " (-9.899722583188804, 'reinstat'),\n",
       " (-9.899722583188804, 'repeal breitbart'),\n",
       " (-9.899722583188804, 'repeal obamacar'),\n",
       " (-9.899722583188804, 'repeat'),\n",
       " (-9.899722583188804, 'replac bill'),\n",
       " (-9.899722583188804, 'report ask'),\n",
       " (-9.899722583188804, 'report breitbart'),\n",
       " (-9.899722583188804, 'report obama'),\n",
       " (-9.899722583188804, 'report say'),\n",
       " (-9.899722583188804, 'report say new'),\n",
       " (-9.899722583188804, 'report trump'),\n",
       " (-9.899722583188804, 'republican new'),\n",
       " (-9.899722583188804, 'republican new york'),\n",
       " (-9.899722583188804, 'reshap'),\n",
       " (-9.899722583188804, 'rethink'),\n",
       " (-9.899722583188804, 'rex'),\n",
       " (-9.899722583188804, 'rex tillerson'),\n",
       " (-9.899722583188804, 'rhetor'),\n",
       " (-9.899722583188804, 'rico'),\n",
       " (-9.899722583188804, 'right breitbart'),\n",
       " (-9.899722583188804, 'right new'),\n",
       " (-9.899722583188804, 'right new york'),\n",
       " (-9.899722583188804, 'rio'),\n",
       " (-9.899722583188804, 'rio olymp'),\n",
       " (-9.899722583188804, 'riot breitbart'),\n",
       " (-9.899722583188804, 'rodrigo'),\n",
       " (-9.899722583188804, 'rodrigo dutert'),\n",
       " (-9.899722583188804, 'roger ail'),\n",
       " (-9.899722583188804, 'roug'),\n",
       " (-9.899722583188804, 'rout'),\n",
       " (-9.899722583188804, 'rule breitbart'),\n",
       " (-9.899722583188804, 'rule new'),\n",
       " (-9.899722583188804, 'rule new york'),\n",
       " (-9.899722583188804, 'russia new york'),\n",
       " (-9.899722583188804, 'russia probe'),\n",
       " (-9.899722583188804, 'russian ambassador'),\n",
       " (-9.899722583188804, 'russian hack'),\n",
       " (-9.899722583188804, 'ryan locht'),\n",
       " (-9.899722583188804, 'ryan obamacar'),\n",
       " (-9.899722583188804, 'ryan obamacar lite'),\n",
       " (-9.899722583188804, 'ryancar'),\n",
       " (-9.899722583188804, 'san diego'),\n",
       " (-9.899722583188804, 'sarsour'),\n",
       " (-9.899722583188804, 'saturday'),\n",
       " (-9.899722583188804, 'saturday night'),\n",
       " (-9.899722583188804, 'saturday night live'),\n",
       " (-9.899722583188804, 'say new'),\n",
       " (-9.899722583188804, 'say new york'),\n",
       " (-9.899722583188804, 'scalis'),\n",
       " (-9.899722583188804, 'scandal breitbart'),\n",
       " (-9.899722583188804, 'scandal new'),\n",
       " (-9.899722583188804, 'scandal new york'),\n",
       " (-9.899722583188804, 'school new'),\n",
       " (-9.899722583188804, 'school new york'),\n",
       " (-9.899722583188804, 'schumer'),\n",
       " (-9.899722583188804, 'schwarzenegg'),\n",
       " (-9.899722583188804, 'scott pruitt'),\n",
       " (-9.899722583188804, 'scrambl'),\n",
       " (-9.899722583188804, 'sea new'),\n",
       " (-9.899722583188804, 'sea new york'),\n",
       " (-9.899722583188804, 'sean spicer'),\n",
       " (-9.899722583188804, 'sear'),\n",
       " (-9.899722583188804, 'season new'),\n",
       " (-9.899722583188804, 'season new york'),\n",
       " (-9.899722583188804, 'secretari new'),\n",
       " (-9.899722583188804, 'secretari new york'),\n",
       " (-9.899722583188804, 'secur advis'),\n",
       " (-9.899722583188804, 'secur council'),\n",
       " (-9.899722583188804, 'segment'),\n",
       " (-9.899722583188804, 'self drive car'),\n",
       " (-9.899722583188804, 'senat breitbart'),\n",
       " (-9.899722583188804, 'senat confirm'),\n",
       " (-9.899722583188804, 'settlement new'),\n",
       " (-9.899722583188804, 'settlement new york'),\n",
       " (-9.899722583188804, 'sex offend'),\n",
       " (-9.899722583188804, 'sexual abus'),\n",
       " (-9.899722583188804, 'sharp'),\n",
       " (-9.899722583188804, 'shinzo'),\n",
       " (-9.899722583188804, 'shinzo abe'),\n",
       " (-9.899722583188804, 'shoot new'),\n",
       " (-9.899722583188804, 'shoot new york'),\n",
       " (-9.899722583188804, 'show new'),\n",
       " (-9.899722583188804, 'show new york'),\n",
       " (-9.899722583188804, 'skill'),\n",
       " (-9.899722583188804, 'skip'),\n",
       " (-9.899722583188804, 'smile'),\n",
       " (-9.899722583188804, 'smuggler'),\n",
       " (-9.899722583188804, 'somalia'),\n",
       " (-9.899722583188804, 'son law'),\n",
       " (-9.899722583188804, 'south carolina'),\n",
       " (-9.899722583188804, 'south korean'),\n",
       " (-9.899722583188804, 'spacex'),\n",
       " (-9.899722583188804, 'speaker paul'),\n",
       " (-9.899722583188804, 'speaker paul ryan'),\n",
       " (-9.899722583188804, 'specul'),\n",
       " (-9.899722583188804, 'speech breitbart'),\n",
       " (-9.899722583188804, 'speech new york'),\n",
       " (-9.899722583188804, 'spicer'),\n",
       " (-9.899722583188804, 'sport'),\n",
       " (-9.899722583188804, 'sport new'),\n",
       " (-9.899722583188804, 'sport new york'),\n",
       " (-9.899722583188804, 'spotlight'),\n",
       " (-9.899722583188804, 'stanc'),\n",
       " (-9.899722583188804, 'stanford'),\n",
       " (-9.899722583188804, 'star new'),\n",
       " (-9.899722583188804, 'star new york'),\n",
       " (-9.899722583188804, 'start new'),\n",
       " (-9.899722583188804, 'start new york'),\n",
       " (-9.899722583188804, 'state breitbart'),\n",
       " (-9.899722583188804, 'state new'),\n",
       " (-9.899722583188804, 'state new york'),\n",
       " (-9.899722583188804, 'state support'),\n",
       " (-9.899722583188804, 'state warrior'),\n",
       " (-9.899722583188804, 'stem'),\n",
       " (-9.899722583188804, 'step new'),\n",
       " (-9.899722583188804, 'step new york'),\n",
       " (-9.899722583188804, 'stephen bannon'),\n",
       " (-9.899722583188804, 'stockholm'),\n",
       " (-9.899722583188804, 'stori new'),\n",
       " (-9.899722583188804, 'stori new york'),\n",
       " (-9.899722583188804, 'strand'),\n",
       " (-9.899722583188804, 'streep'),\n",
       " (-9.899722583188804, 'street new york'),\n",
       " (-9.899722583188804, 'streisand'),\n",
       " (-9.899722583188804, 'student new'),\n",
       " (-9.899722583188804, 'student new york'),\n",
       " (-9.899722583188804, 'stumbl'),\n",
       " (-9.899722583188804, 'suburb'),\n",
       " (-9.899722583188804, 'subway'),\n",
       " (-9.899722583188804, 'suddenli'),\n",
       " (-9.899722583188804, 'sunday'),\n",
       " (-9.899722583188804, 'super bowl'),\n",
       " (-9.899722583188804, 'support donald'),\n",
       " (-9.899722583188804, 'support donald trump'),\n",
       " (-9.899722583188804, 'suprem court new'),\n",
       " (-9.899722583188804, 'swift'),\n",
       " (-9.899722583188804, 'swimmer'),\n",
       " (-9.899722583188804, 'syria new york'),\n",
       " (-9.899722583188804, 'syria strike'),\n",
       " (-9.899722583188804, 'taiwan'),\n",
       " (-9.899722583188804, 'takata'),\n",
       " (-9.899722583188804, 'takeaway'),\n",
       " (-9.899722583188804, 'taliban'),\n",
       " (-9.899722583188804, 'talk new'),\n",
       " (-9.899722583188804, 'tap'),\n",
       " (-9.899722583188804, 'tax return'),\n",
       " (-9.899722583188804, 'team new'),\n",
       " (-9.899722583188804, 'team new york'),\n",
       " (-9.899722583188804, 'temporari'),\n",
       " (-9.899722583188804, 'term new'),\n",
       " (-9.899722583188804, 'term new york'),\n",
       " (-9.899722583188804, 'terror breitbart'),\n",
       " (-9.899722583188804, 'terror new'),\n",
       " (-9.899722583188804, 'test new york'),\n",
       " (-9.899722583188804, 'texa border'),\n",
       " (-9.899722583188804, 'theresa'),\n",
       " (-9.899722583188804, 'theresa may'),\n",
       " (-9.899722583188804, 'thing new'),\n",
       " (-9.899722583188804, 'thing new york'),\n",
       " (-9.899722583188804, 'thursday'),\n",
       " (-9.899722583188804, 'thursday even'),\n",
       " (-9.899722583188804, 'thursday even brief'),\n",
       " (-9.899722583188804, 'tie new'),\n",
       " (-9.899722583188804, 'tie new york'),\n",
       " (-9.899722583188804, 'tillerson'),\n",
       " (-9.899722583188804, 'time new'),\n",
       " (-9.899722583188804, 'time new york'),\n",
       " (-9.899722583188804, 'titl new'),\n",
       " (-9.899722583188804, 'titl new york'),\n",
       " (-9.899722583188804, 'todd'),\n",
       " (-9.899722583188804, 'toll'),\n",
       " (-9.899722583188804, 'tom bradi'),\n",
       " (-9.899722583188804, 'tone'),\n",
       " (-9.899722583188804, 'tough'),\n",
       " (-9.899722583188804, 'tourist'),\n",
       " (-9.899722583188804, 'town hall'),\n",
       " (-9.899722583188804, 'town new'),\n",
       " (-9.899722583188804, 'town new york'),\n",
       " (-9.899722583188804, 'trailer breitbart'),\n",
       " (-9.899722583188804, 'tran'),\n",
       " (-9.899722583188804, 'transit team'),\n",
       " (-9.899722583188804, 'travel ban'),\n",
       " (-9.899722583188804, 'travel ban new'),\n",
       " (-9.899722583188804, 'trial new'),\n",
       " (-9.899722583188804, 'trial new york'),\n",
       " (-9.899722583188804, 'trophi'),\n",
       " (-9.899722583188804, 'trove'),\n",
       " (-9.899722583188804, 'trudeau'),\n",
       " (-9.899722583188804, 'trump admin'),\n",
       " (-9.899722583188804, 'trump border'),\n",
       " (-9.899722583188804, 'trump breitbart'),\n",
       " (-9.899722583188804, 'trump budget'),\n",
       " (-9.899722583188804, 'trump celebr'),\n",
       " (-9.899722583188804, 'trump choic'),\n",
       " (-9.899722583188804, 'trump could'),\n",
       " (-9.899722583188804, 'trump execut'),\n",
       " (-9.899722583188804, 'trump execut order'),\n",
       " (-9.899722583188804, 'trump fire'),\n",
       " (-9.899722583188804, 'trump first day'),\n",
       " (-9.899722583188804, 'trump go'),\n",
       " (-9.899722583188804, 'trump immigr'),\n",
       " (-9.899722583188804, 'trump immigr order'),\n",
       " (-9.899722583188804, 'trump keep'),\n",
       " (-9.899722583188804, 'trump may'),\n",
       " (-9.899722583188804, 'trump new york'),\n",
       " (-9.899722583188804, 'trump nomine'),\n",
       " (-9.899722583188804, 'trump order'),\n",
       " (-9.899722583188804, 'trump pick'),\n",
       " (-9.899722583188804, 'trump polici'),\n",
       " (-9.899722583188804, 'trump talk'),\n",
       " (-9.899722583188804, 'trump travel'),\n",
       " (-9.899722583188804, 'trump travel ban'),\n",
       " (-9.899722583188804, 'trump tri'),\n",
       " (-9.899722583188804, 'trump visit'),\n",
       " (-9.899722583188804, 'trump vow'),\n",
       " (-9.899722583188804, 'trump wall'),\n",
       " (-9.899722583188804, 'trump women'),\n",
       " (-9.899722583188804, 'tuesday brief'),\n",
       " (-9.899722583188804, 'tuesday brief new'),\n",
       " (-9.899722583188804, 'tuesday even'),\n",
       " (-9.899722583188804, 'tuesday even brief'),\n",
       " (-9.899722583188804, 'turmoil'),\n",
       " (-9.899722583188804, 'twitter breitbart'),\n",
       " (-9.899722583188804, 'two year'),\n",
       " (-9.899722583188804, 'uc davi'),\n",
       " (-9.899722583188804, 'unlik'),\n",
       " (-9.899722583188804, 'unmask'),\n",
       " (-9.899722583188804, 'upend'),\n",
       " (-9.899722583188804, 'uphold'),\n",
       " (-9.899722583188804, 'us new york'),\n",
       " (-9.899722583188804, 'vacat'),\n",
       " (-9.899722583188804, 'vacat new'),\n",
       " (-9.899722583188804, 'vacat new york'),\n",
       " (-9.899722583188804, 'vanish'),\n",
       " (-9.899722583188804, 'veto'),\n",
       " (-9.899722583188804, 'violenc new'),\n",
       " (-9.899722583188804, 'violenc new york'),\n",
       " (-9.899722583188804, 'virgil'),\n",
       " (-9.899722583188804, 'vogu'),\n",
       " (-9.899722583188804, 'volkswagen'),\n",
       " (-9.899722583188804, 'vote new'),\n",
       " (-9.899722583188804, 'vote new york'),\n",
       " (-9.899722583188804, 'voter id'),\n",
       " (-9.899722583188804, 'wait new'),\n",
       " (-9.899722583188804, 'wall breitbart'),\n",
       " (-9.899722583188804, 'war new'),\n",
       " (-9.899722583188804, 'war new york'),\n",
       " (-9.899722583188804, 'wari'),\n",
       " (-9.899722583188804, 'warn new'),\n",
       " (-9.899722583188804, 'warn new york'),\n",
       " (-9.899722583188804, 'warner'),\n",
       " (-9.899722583188804, 'warrior'),\n",
       " (-9.899722583188804, 'washington new'),\n",
       " (-9.899722583188804, 'washington new york'),\n",
       " (-9.899722583188804, 'water new'),\n",
       " (-9.899722583188804, 'water new york'),\n",
       " (-9.899722583188804, 'way new'),\n",
       " (-9.899722583188804, 'way new york'),\n",
       " (-9.899722583188804, 'wednesday brief'),\n",
       " (-9.899722583188804, 'wednesday brief new'),\n",
       " (-9.899722583188804, 'wednesday even'),\n",
       " (-9.899722583188804, 'wednesday even brief'),\n",
       " (-9.899722583188804, 'week new'),\n",
       " (-9.899722583188804, 'week new york'),\n",
       " (-9.899722583188804, 'weekend brief'),\n",
       " (-9.899722583188804, 'weekend brief new'),\n",
       " (-9.899722583188804, 'weekend new'),\n",
       " (-9.899722583188804, 'weekend new york'),\n",
       " (-9.899722583188804, 'well fargo'),\n",
       " (-9.899722583188804, 'west bank'),\n",
       " (-9.899722583188804, 'westminst'),\n",
       " (-9.899722583188804, 'wh'),\n",
       " (-9.899722583188804, 'white hous breitbart'),\n",
       " (-9.899722583188804, 'white hous new'),\n",
       " (-9.899722583188804, 'white nationalist'),\n",
       " (-9.899722583188804, 'wider'),\n",
       " (-9.899722583188804, 'wield'),\n",
       " (-9.899722583188804, 'wildfir'),\n",
       " (-9.899722583188804, 'wimbledon'),\n",
       " (-9.899722583188804, 'win breitbart'),\n",
       " (-9.899722583188804, 'wiretap claim'),\n",
       " (-9.899722583188804, 'women march'),\n",
       " (-9.899722583188804, 'women new'),\n",
       " (-9.899722583188804, 'women new york'),\n",
       " (-9.899722583188804, 'work new'),\n",
       " (-9.899722583188804, 'work new york'),\n",
       " (-9.899722583188804, 'world new'),\n",
       " (-9.899722583188804, 'world new york'),\n",
       " (-9.899722583188804, 'worri new'),\n",
       " (-9.899722583188804, 'worri new york'),\n",
       " (-9.899722583188804, 'wrestl'),\n",
       " (-9.899722583188804, 'yahoo'),\n",
       " (-9.899722583188804, 'year breitbart'),\n",
       " (-9.899722583188804, 'year eve'),\n",
       " (-9.899722583188804, 'year new york'),\n",
       " (-9.899722583188804, 'york new'),\n",
       " (-9.899722583188804, 'york new york'),\n",
       " (-9.899722583188804, 'york state'),\n",
       " (-9.899722583188804, 'zone new'),\n",
       " (-9.899722583188804, 'zone new york'),\n",
       " (-9.899722583188804, 'zoo'),\n",
       " (-9.671550340827366, 'effort new'),\n",
       " (-9.66527252539128, 'applic'),\n",
       " (-9.664120583124312, 'primari'),\n",
       " (-9.655960885867248, 'lee'),\n",
       " (-9.654514990735079, 'open fire'),\n",
       " (-9.653966557906113, 'richard'),\n",
       " (-9.650780343185994, 'berlin'),\n",
       " (-9.648718104836107, 'blasio'),\n",
       " (-9.648718104836107, 'de blasio'),\n",
       " (-9.647592008876428, 'feet'),\n",
       " (-9.645850696935199, 'presid donald'),\n",
       " (-9.645850696935199, 'presid donald trump'),\n",
       " (-9.641169483005175, 'populist'),\n",
       " (-9.639002853770641, 'korean'),\n",
       " (-9.62998473542631, 'fair'),\n",
       " (-9.629813556944757, 'hammer'),\n",
       " (-9.628437824401127, 'fenc'),\n",
       " (-9.627741530623185, 'mayor de'),\n",
       " (-9.627741530623185, 'mayor de blasio'),\n",
       " (-9.623655365252468, 'lane'),\n",
       " (-9.618412666421541, 'north korean'),\n",
       " (-9.616491904112335, 'breitbart'),\n",
       " (-9.616265766712045, 'exploit'),\n",
       " (-9.613650689796687, 'pretti'),\n",
       " (-9.61294803783139, 'trump ask'),\n",
       " (-9.610012966444138, 'social media'),\n",
       " (-9.609972081312426, 'cheap'),\n",
       " (-9.604939429278835, 'urban'),\n",
       " (-9.604003148054174, 'ivanka trump'),\n",
       " (-9.603755219528608, 'missil strike'),\n",
       " (-9.603109436764672, 'work class'),\n",
       " (-9.602671333148242, 'state blue'),\n",
       " (-9.601783017827445, 'trump speech'),\n",
       " (-9.600969968895104, 'franken'),\n",
       " (-9.600887617476312, 'palin'),\n",
       " (-9.600637466717787, 'south china'),\n",
       " (-9.600637466717787, 'south china sea'),\n",
       " (-9.600307740407745, 'russia new'),\n",
       " (-9.599928342683114, 'night live'),\n",
       " (-9.599576824225375, 'fire new'),\n",
       " (-9.599459384125849, 'requir'),\n",
       " (-9.598240608779602, 'nafta'),\n",
       " (-9.597890649725263, 'strike syria'),\n",
       " (-9.597836783998451, 'tradit'),\n",
       " (-9.597000306820442, 'susan rice'),\n",
       " (-9.596533618933623, 'attack polic'),\n",
       " (-9.596318187863805, 'steadi'),\n",
       " (-9.596317996782908, 'trump inaugur'),\n",
       " (-9.595563902968982, 'tortur'),\n",
       " (-9.595091715855357, 'reagan'),\n",
       " (-9.59429735988639, 'acr'),\n",
       " (-9.593889872295183, 'find new'),\n",
       " (-9.593670246207402, 'support new'),\n",
       " (-9.59321934529675, 'tv show'),\n",
       " (-9.592705165919499, 'sarah palin'),\n",
       " (-9.592582671621722, 'seattl'),\n",
       " (-9.590910155724067, 'scrutini'),\n",
       " (-9.590702809228485, 'math'),\n",
       " (-9.590600794848603, 'speech new'),\n",
       " (-9.590320511853921, 'report find'),\n",
       " (-9.590250199963608, 'behead'),\n",
       " ...]"
      ]
     },
     "execution_count": 49,
     "metadata": {},
     "output_type": "execute_result"
    }
   ],
   "source": [
    "### Most fake\n",
    "sorted(zip(classifier.coef_[0], feature_names))[:5000]"
   ]
  },
  {
   "cell_type": "markdown",
   "metadata": {
    "id": "0qGthbUTyzq6"
   },
   "source": [
    "### GaussianNB Algorithm"
   ]
  },
  {
   "cell_type": "code",
   "execution_count": 50,
   "metadata": {
    "id": "5z5424KIyzq7"
   },
   "outputs": [],
   "source": [
    "from sklearn.naive_bayes import GaussianNB\n",
    "classifier=GaussianNB()"
   ]
  },
  {
   "cell_type": "code",
   "execution_count": 51,
   "metadata": {
    "id": "mzsqrqUDyzq7"
   },
   "outputs": [],
   "source": [
    "from sklearn import metrics\n",
    "import numpy as np\n",
    "import itertools"
   ]
  },
  {
   "cell_type": "code",
   "execution_count": 52,
   "metadata": {
    "id": "St98O_7wyzq7"
   },
   "outputs": [
    {
     "name": "stdout",
     "output_type": "stream",
     "text": [
      "Accuracy: 0.7386909693454847\n",
      "Precision: 0.642495334577446\n",
      "Recall: 0.9108087679516251\n",
      "F1 score: 0.7534781929029232\n",
      "accuracy:   0.739\n",
      "Confusion matrix, without normalization\n"
     ]
    },
    {
     "data": {
      "image/png": "[encoded data removed]",
      "text/plain": [
       "<Figure size 432x288 with 2 Axes>"
      ]
     },
     "metadata": {
      "needs_background": "light"
     },
     "output_type": "display_data"
    }
   ],
   "source": [
    "classifier.fit(X_train, y_train)\n",
    "pred = classifier.predict(X_test)\n",
    "score = metrics.accuracy_score(y_test, pred)\n",
    "evaluation_metrices(y_test,pred)\n",
    "print(\"accuracy:   %0.3f\" % score)\n",
    "cm = metrics.confusion_matrix(y_test, pred)\n",
    "plot_confusion_matrix(cm, classes=['FAKE', 'REAL'])"
   ]
  },
  {
   "cell_type": "code",
   "execution_count": 53,
   "metadata": {
    "id": "1eRuJ2knyzq7"
   },
   "outputs": [
    {
     "data": {
      "text/plain": [
       "0.7386909693454847"
      ]
     },
     "execution_count": 53,
     "metadata": {},
     "output_type": "execute_result"
    }
   ],
   "source": [
    "classifier.fit(X_train, y_train)\n",
    "pred = classifier.predict(X_test)\n",
    "score = metrics.accuracy_score(y_test, pred)\n",
    "score"
   ]
  },
  {
   "cell_type": "markdown",
   "metadata": {
    "id": "eg0_5uVgyzq7"
   },
   "source": [
    "### Logistic Regression "
   ]
  },
  {
   "cell_type": "code",
   "execution_count": 54,
   "metadata": {
    "id": "L45BydUEyzq7"
   },
   "outputs": [],
   "source": [
    "from sklearn.linear_model import LogisticRegression\n",
    "classifier=LogisticRegression()"
   ]
  },
  {
   "cell_type": "code",
   "execution_count": 55,
   "metadata": {
    "id": "KP92eonnyzq7"
   },
   "outputs": [],
   "source": [
    "from sklearn import metrics\n",
    "import numpy as np\n",
    "import itertools"
   ]
  },
  {
   "cell_type": "code",
   "execution_count": 56,
   "metadata": {
    "id": "CxNc56qSyzq7"
   },
   "outputs": [
    {
     "name": "stdout",
     "output_type": "stream",
     "text": [
      "Accuracy: 0.9224523612261806\n",
      "Precision: 0.8647019423978567\n",
      "Recall: 0.9758125472411187\n",
      "F1 score: 0.9169034090909091\n",
      "accuracy:   0.922\n",
      "Confusion matrix, without normalization\n"
     ]
    },
    {
     "data": {
      "image/png": "[encoded data removed]",
      "text/plain": [
       "<Figure size 432x288 with 2 Axes>"
      ]
     },
     "metadata": {
      "needs_background": "light"
     },
     "output_type": "display_data"
    }
   ],
   "source": [
    "classifier.fit(X_train, y_train)\n",
    "pred = classifier.predict(X_test)\n",
    "score = metrics.accuracy_score(y_test, pred)\n",
    "evaluation_metrices(y_test,pred)\n",
    "print(\"accuracy:   %0.3f\" % score)\n",
    "cm = metrics.confusion_matrix(y_test, pred)\n",
    "plot_confusion_matrix(cm, classes=['FAKE', 'REAL'])"
   ]
  },
  {
   "cell_type": "code",
   "execution_count": 57,
   "metadata": {
    "id": "XwrxmhYhyzq7"
   },
   "outputs": [
    {
     "data": {
      "text/plain": [
       "0.9224523612261806"
      ]
     },
     "execution_count": 57,
     "metadata": {},
     "output_type": "execute_result"
    }
   ],
   "source": [
    "classifier.fit(X_train, y_train)\n",
    "pred = classifier.predict(X_test)\n",
    "score = metrics.accuracy_score(y_test, pred)\n",
    "score"
   ]
  },
  {
   "cell_type": "markdown",
   "metadata": {
    "id": "lLR8WzjByzq8"
   },
   "source": [
    "### Decision Tree Algorithm"
   ]
  },
  {
   "cell_type": "code",
   "execution_count": 58,
   "metadata": {
    "id": "CkAd6MpRyzq8"
   },
   "outputs": [],
   "source": [
    "from sklearn.tree import DecisionTreeClassifier\n",
    "classifier=DecisionTreeClassifier()"
   ]
  },
  {
   "cell_type": "code",
   "execution_count": 59,
   "metadata": {
    "id": "RXh_4Z0Wyzq8"
   },
   "outputs": [],
   "source": [
    "from sklearn import metrics\n",
    "import numpy as np\n",
    "import itertools"
   ]
  },
  {
   "cell_type": "code",
   "execution_count": 60,
   "metadata": {
    "id": "B_TglPtqyzq8"
   },
   "outputs": [
    {
     "name": "stdout",
     "output_type": "stream",
     "text": [
      "Accuracy: 0.9116818558409279\n",
      "Precision: 0.8911514253980007\n",
      "Recall: 0.9096749811035525\n",
      "F1 score: 0.9003179352908174\n",
      "accuracy:   0.912\n",
      "Confusion matrix, without normalization\n"
     ]
    },
    {
     "data": {
      "image/png": "[encoded data removed]",
      "text/plain": [
       "<Figure size 432x288 with 2 Axes>"
      ]
     },
     "metadata": {
      "needs_background": "light"
     },
     "output_type": "display_data"
    }
   ],
   "source": [
    "classifier.fit(X_train, y_train)\n",
    "pred = classifier.predict(X_test)\n",
    "score = metrics.accuracy_score(y_test, pred)\n",
    "evaluation_metrices(y_test,pred)\n",
    "print(\"accuracy:   %0.3f\" % score)\n",
    "cm = metrics.confusion_matrix(y_test, pred)\n",
    "plot_confusion_matrix(cm, classes=['FAKE', 'REAL'])"
   ]
  },
  {
   "cell_type": "code",
   "execution_count": 61,
   "metadata": {
    "id": "GNY1mEb7yzq8"
   },
   "outputs": [
    {
     "data": {
      "text/plain": [
       "0.911847555923778"
      ]
     },
     "execution_count": 61,
     "metadata": {},
     "output_type": "execute_result"
    }
   ],
   "source": [
    "classifier.fit(X_train, y_train)\n",
    "pred = classifier.predict(X_test)\n",
    "score = metrics.accuracy_score(y_test, pred)\n",
    "score"
   ]
  },
  {
   "cell_type": "markdown",
   "metadata": {
    "id": "vOmiPLJ7yzq8"
   },
   "source": [
    "### SVM Classifier"
   ]
  },
  {
   "cell_type": "code",
   "execution_count": 62,
   "metadata": {
    "id": "ii9T4sgmyzq8"
   },
   "outputs": [],
   "source": [
    "from sklearn.svm import SVC\n",
    "classifier = SVC(kernel='rbf', random_state = 1)"
   ]
  },
  {
   "cell_type": "code",
   "execution_count": 63,
   "metadata": {
    "id": "K-MSK9g6yzq8"
   },
   "outputs": [],
   "source": [
    "from sklearn import metrics\n",
    "import numpy as np\n",
    "import itertools"
   ]
  },
  {
   "cell_type": "code",
   "execution_count": 64,
   "metadata": {
    "id": "mnc3YjHlyzq8"
   },
   "outputs": [
    {
     "name": "stdout",
     "output_type": "stream",
     "text": [
      "Accuracy: 0.9287489643744822\n",
      "Precision: 0.8705685618729097\n",
      "Recall: 0.9837490551776266\n",
      "F1 score: 0.9237047551454932\n",
      "accuracy:   0.929\n",
      "Confusion matrix, without normalization\n"
     ]
    },
    {
     "data": {
      "image/png": "[encoded data removed]",
      "text/plain": [
       "<Figure size 432x288 with 2 Axes>"
      ]
     },
     "metadata": {
      "needs_background": "light"
     },
     "output_type": "display_data"
    }
   ],
   "source": [
    "classifier.fit(X_train, y_train)\n",
    "pred = classifier.predict(X_test)\n",
    "score = metrics.accuracy_score(y_test, pred)\n",
    "evaluation_metrices(y_test,pred)\n",
    "print(\"accuracy:   %0.3f\" % score)\n",
    "cm = metrics.confusion_matrix(y_test, pred)\n",
    "plot_confusion_matrix(cm, classes=['FAKE', 'REAL'])"
   ]
  },
  {
   "cell_type": "code",
   "execution_count": 65,
   "metadata": {
    "id": "RDXVkO0tyzq8"
   },
   "outputs": [
    {
     "data": {
      "text/plain": [
       "0.9287489643744822"
      ]
     },
     "execution_count": 65,
     "metadata": {},
     "output_type": "execute_result"
    }
   ],
   "source": [
    "classifier.fit(X_train, y_train)\n",
    "pred = classifier.predict(X_test)\n",
    "score = metrics.accuracy_score(y_test, pred)\n",
    "score"
   ]
  },
  {
   "cell_type": "markdown",
   "metadata": {
    "id": "OtEofzkRyzq9"
   },
   "source": [
    "### K-Nearest Neighbour Classifier Algorithim"
   ]
  },
  {
   "cell_type": "code",
   "execution_count": 72,
   "metadata": {
    "id": "LlA6Wb0Dyzq9"
   },
   "outputs": [],
   "source": [
    "from sklearn.neighbors import KNeighborsClassifier\n",
    "classifier=KNeighborsClassifier()"
   ]
  },
  {
   "cell_type": "code",
   "execution_count": 73,
   "metadata": {
    "id": "BIc19CFHyzq9"
   },
   "outputs": [],
   "source": [
    "from sklearn import metrics\n",
    "import numpy as np\n",
    "import itertools"
   ]
  },
  {
   "cell_type": "code",
   "execution_count": 74,
   "metadata": {
    "id": "an4xatuqyzq9"
   },
   "outputs": [
    {
     "name": "stdout",
     "output_type": "stream",
     "text": [
      "Accuracy: 0.5214581607290804\n",
      "Precision: 0.47795189504373176\n",
      "Recall: 0.9913076341647771\n",
      "F1 score: 0.6449471354806983\n",
      "accuracy:   0.521\n",
      "Confusion matrix, without normalization\n"
     ]
    },
    {
     "data": {
      "image/png": "[encoded data removed]",
      "text/plain": [
       "<Figure size 432x288 with 2 Axes>"
      ]
     },
     "metadata": {
      "needs_background": "light"
     },
     "output_type": "display_data"
    }
   ],
   "source": [
    "classifier.fit(X_train, y_train)\n",
    "pred = classifier.predict(X_test)\n",
    "score = metrics.accuracy_score(y_test, pred)\n",
    "evaluation_metrices(y_test,pred)\n",
    "print(\"accuracy:   %0.3f\" % score)\n",
    "cm = metrics.confusion_matrix(y_test, pred)\n",
    "plot_confusion_matrix(cm, classes=['FAKE', 'REAL'])"
   ]
  },
  {
   "cell_type": "code",
   "execution_count": 69,
   "metadata": {
    "id": "KFGRyeRxyzq9"
   },
   "outputs": [
    {
     "data": {
      "text/plain": [
       "0.5214581607290804"
      ]
     },
     "execution_count": 69,
     "metadata": {},
     "output_type": "execute_result"
    }
   ],
   "source": [
    "classifier.fit(X_train, y_train)\n",
    "pred = classifier.predict(X_test)\n",
    "score = metrics.accuracy_score(y_test, pred)\n",
    "score"
   ]
  },
  {
   "cell_type": "markdown",
   "metadata": {
    "id": "hblhOlrzyzq9"
   },
   "source": [
    "### Random Forest Algorithim"
   ]
  },
  {
   "cell_type": "code",
   "execution_count": 75,
   "metadata": {},
   "outputs": [],
   "source": [
    "from sklearn.ensemble import RandomForestClassifier\n",
    "classifier = RandomForestClassifier()"
   ]
  },
  {
   "cell_type": "code",
   "execution_count": 76,
   "metadata": {},
   "outputs": [
    {
     "name": "stdout",
     "output_type": "stream",
     "text": [
      "Accuracy: 0.9325600662800332\n",
      "Precision: 0.889120611748349\n",
      "Recall: 0.9667422524565382\n",
      "F1 score: 0.926308165851892\n",
      "accuracy:   0.933\n",
      "Confusion matrix, without normalization\n"
     ]
    },
    {
     "data": {
      "image/png": "[encoded data removed]",
      "text/plain": [
       "<Figure size 432x288 with 2 Axes>"
      ]
     },
     "metadata": {
      "needs_background": "light"
     },
     "output_type": "display_data"
    }
   ],
   "source": [
    "classifier.fit(X_train, y_train)\n",
    "pred = classifier.predict(X_test)\n",
    "score = metrics.accuracy_score(y_test, pred)\n",
    "evaluation_metrices(y_test,pred)\n",
    "print(\"accuracy:   %0.3f\" % score)\n",
    "cm = metrics.confusion_matrix(y_test, pred)\n",
    "plot_confusion_matrix(cm, classes=['FAKE', 'REAL'])"
   ]
  },
  {
   "cell_type": "code",
   "execution_count": null,
   "metadata": {},
   "outputs": [],
   "source": []
  }
 ],
 "metadata": {
  "colab": {
   "name": "FakeNewsCount_vectorizer_WelFake(dataset).ipynb",
   "provenance": []
  },
  "kernelspec": {
   "display_name": "Python 3",
   "language": "python",
   "name": "python3"
  },
  "language_info": {
   "codemirror_mode": {
    "name": "ipython",
    "version": 3
   },
   "file_extension": ".py",
   "mimetype": "text/x-python",
   "name": "python",
   "nbconvert_exporter": "python",
   "pygments_lexer": "ipython3",
   "version": "3.8.8"
  }
 },
 "nbformat": 4,
 "nbformat_minor": 1
}
