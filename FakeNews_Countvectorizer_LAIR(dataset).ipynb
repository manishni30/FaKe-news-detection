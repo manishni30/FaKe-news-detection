{
 "cells": [
  {
   "cell_type": "code",
   "execution_count": 1,
   "metadata": {
    "id": "H1XwydI5Sz9f"
   },
   "outputs": [],
   "source": [
    "import pandas as pd"
   ]
  },
  {
   "cell_type": "code",
   "execution_count": 2,
   "metadata": {},
   "outputs": [],
   "source": [
    "import sklearn.metrics\n",
    "def evaluation_metrices(y_true,y_pred):\n",
    "    accuracy =sklearn.metrics.accuracy_score(y_true, y_pred)\n",
    "    precision=sklearn.metrics.precision_score(y_true, y_pred)\n",
    "    recall   =sklearn.metrics.recall_score(y_true, y_pred)\n",
    "    f1_score =sklearn.metrics.f1_score(y_true, y_pred)\n",
    "    print(accuracy,precision,recall,f1_score)"
   ]
  },
  {
   "cell_type": "code",
   "execution_count": 3,
   "metadata": {
    "id": "1c0gZhFeSz9g"
   },
   "outputs": [],
   "source": [
    "import re"
   ]
  },
  {
   "cell_type": "code",
   "execution_count": 4,
   "metadata": {
    "id": "RHTwY74_Sz9g"
   },
   "outputs": [
    {
     "ename": "FileNotFoundError",
     "evalue": "[Errno 2] No such file or directory: '/content/train.csv'",
     "output_type": "error",
     "traceback": [
      "\u001b[0;31m---------------------------------------------------------------------------\u001b[0m",
      "\u001b[0;31mFileNotFoundError\u001b[0m                         Traceback (most recent call last)",
      "\u001b[0;32m<ipython-input-4-94a9df535c49>\u001b[0m in \u001b[0;36m<module>\u001b[0;34m\u001b[0m\n\u001b[0;32m----> 1\u001b[0;31m \u001b[0mdf_train\u001b[0m\u001b[0;34m=\u001b[0m\u001b[0mpd\u001b[0m\u001b[0;34m.\u001b[0m\u001b[0mread_csv\u001b[0m\u001b[0;34m(\u001b[0m\u001b[0;34m'/content/train.csv'\u001b[0m\u001b[0;34m,\u001b[0m\u001b[0msep\u001b[0m\u001b[0;34m=\u001b[0m\u001b[0;34m';'\u001b[0m\u001b[0;34m)\u001b[0m\u001b[0;34m\u001b[0m\u001b[0;34m\u001b[0m\u001b[0m\n\u001b[0m\u001b[1;32m      2\u001b[0m \u001b[0mdf_test\u001b[0m\u001b[0;34m=\u001b[0m\u001b[0mpd\u001b[0m\u001b[0;34m.\u001b[0m\u001b[0mread_csv\u001b[0m\u001b[0;34m(\u001b[0m\u001b[0;34m'/content/test.csv'\u001b[0m\u001b[0;34m,\u001b[0m\u001b[0msep\u001b[0m\u001b[0;34m=\u001b[0m\u001b[0;34m';'\u001b[0m\u001b[0;34m)\u001b[0m\u001b[0;34m\u001b[0m\u001b[0;34m\u001b[0m\u001b[0m\n",
      "\u001b[0;32m/opt/anaconda3/lib/python3.8/site-packages/pandas/io/parsers.py\u001b[0m in \u001b[0;36mread_csv\u001b[0;34m(filepath_or_buffer, sep, delimiter, header, names, index_col, usecols, squeeze, prefix, mangle_dupe_cols, dtype, engine, converters, true_values, false_values, skipinitialspace, skiprows, skipfooter, nrows, na_values, keep_default_na, na_filter, verbose, skip_blank_lines, parse_dates, infer_datetime_format, keep_date_col, date_parser, dayfirst, cache_dates, iterator, chunksize, compression, thousands, decimal, lineterminator, quotechar, quoting, doublequote, escapechar, comment, encoding, dialect, error_bad_lines, warn_bad_lines, delim_whitespace, low_memory, memory_map, float_precision, storage_options)\u001b[0m\n\u001b[1;32m    608\u001b[0m     \u001b[0mkwds\u001b[0m\u001b[0;34m.\u001b[0m\u001b[0mupdate\u001b[0m\u001b[0;34m(\u001b[0m\u001b[0mkwds_defaults\u001b[0m\u001b[0;34m)\u001b[0m\u001b[0;34m\u001b[0m\u001b[0;34m\u001b[0m\u001b[0m\n\u001b[1;32m    609\u001b[0m \u001b[0;34m\u001b[0m\u001b[0m\n\u001b[0;32m--> 610\u001b[0;31m     \u001b[0;32mreturn\u001b[0m \u001b[0m_read\u001b[0m\u001b[0;34m(\u001b[0m\u001b[0mfilepath_or_buffer\u001b[0m\u001b[0;34m,\u001b[0m \u001b[0mkwds\u001b[0m\u001b[0;34m)\u001b[0m\u001b[0;34m\u001b[0m\u001b[0;34m\u001b[0m\u001b[0m\n\u001b[0m\u001b[1;32m    611\u001b[0m \u001b[0;34m\u001b[0m\u001b[0m\n\u001b[1;32m    612\u001b[0m \u001b[0;34m\u001b[0m\u001b[0m\n",
      "\u001b[0;32m/opt/anaconda3/lib/python3.8/site-packages/pandas/io/parsers.py\u001b[0m in \u001b[0;36m_read\u001b[0;34m(filepath_or_buffer, kwds)\u001b[0m\n\u001b[1;32m    460\u001b[0m \u001b[0;34m\u001b[0m\u001b[0m\n\u001b[1;32m    461\u001b[0m     \u001b[0;31m# Create the parser.\u001b[0m\u001b[0;34m\u001b[0m\u001b[0;34m\u001b[0m\u001b[0;34m\u001b[0m\u001b[0m\n\u001b[0;32m--> 462\u001b[0;31m     \u001b[0mparser\u001b[0m \u001b[0;34m=\u001b[0m \u001b[0mTextFileReader\u001b[0m\u001b[0;34m(\u001b[0m\u001b[0mfilepath_or_buffer\u001b[0m\u001b[0;34m,\u001b[0m \u001b[0;34m**\u001b[0m\u001b[0mkwds\u001b[0m\u001b[0;34m)\u001b[0m\u001b[0;34m\u001b[0m\u001b[0;34m\u001b[0m\u001b[0m\n\u001b[0m\u001b[1;32m    463\u001b[0m \u001b[0;34m\u001b[0m\u001b[0m\n\u001b[1;32m    464\u001b[0m     \u001b[0;32mif\u001b[0m \u001b[0mchunksize\u001b[0m \u001b[0;32mor\u001b[0m \u001b[0miterator\u001b[0m\u001b[0;34m:\u001b[0m\u001b[0;34m\u001b[0m\u001b[0;34m\u001b[0m\u001b[0m\n",
      "\u001b[0;32m/opt/anaconda3/lib/python3.8/site-packages/pandas/io/parsers.py\u001b[0m in \u001b[0;36m__init__\u001b[0;34m(self, f, engine, **kwds)\u001b[0m\n\u001b[1;32m    817\u001b[0m             \u001b[0mself\u001b[0m\u001b[0;34m.\u001b[0m\u001b[0moptions\u001b[0m\u001b[0;34m[\u001b[0m\u001b[0;34m\"has_index_names\"\u001b[0m\u001b[0;34m]\u001b[0m \u001b[0;34m=\u001b[0m \u001b[0mkwds\u001b[0m\u001b[0;34m[\u001b[0m\u001b[0;34m\"has_index_names\"\u001b[0m\u001b[0;34m]\u001b[0m\u001b[0;34m\u001b[0m\u001b[0;34m\u001b[0m\u001b[0m\n\u001b[1;32m    818\u001b[0m \u001b[0;34m\u001b[0m\u001b[0m\n\u001b[0;32m--> 819\u001b[0;31m         \u001b[0mself\u001b[0m\u001b[0;34m.\u001b[0m\u001b[0m_engine\u001b[0m \u001b[0;34m=\u001b[0m \u001b[0mself\u001b[0m\u001b[0;34m.\u001b[0m\u001b[0m_make_engine\u001b[0m\u001b[0;34m(\u001b[0m\u001b[0mself\u001b[0m\u001b[0;34m.\u001b[0m\u001b[0mengine\u001b[0m\u001b[0;34m)\u001b[0m\u001b[0;34m\u001b[0m\u001b[0;34m\u001b[0m\u001b[0m\n\u001b[0m\u001b[1;32m    820\u001b[0m \u001b[0;34m\u001b[0m\u001b[0m\n\u001b[1;32m    821\u001b[0m     \u001b[0;32mdef\u001b[0m \u001b[0mclose\u001b[0m\u001b[0;34m(\u001b[0m\u001b[0mself\u001b[0m\u001b[0;34m)\u001b[0m\u001b[0;34m:\u001b[0m\u001b[0;34m\u001b[0m\u001b[0;34m\u001b[0m\u001b[0m\n",
      "\u001b[0;32m/opt/anaconda3/lib/python3.8/site-packages/pandas/io/parsers.py\u001b[0m in \u001b[0;36m_make_engine\u001b[0;34m(self, engine)\u001b[0m\n\u001b[1;32m   1048\u001b[0m             )\n\u001b[1;32m   1049\u001b[0m         \u001b[0;31m# error: Too many arguments for \"ParserBase\"\u001b[0m\u001b[0;34m\u001b[0m\u001b[0;34m\u001b[0m\u001b[0;34m\u001b[0m\u001b[0m\n\u001b[0;32m-> 1050\u001b[0;31m         \u001b[0;32mreturn\u001b[0m \u001b[0mmapping\u001b[0m\u001b[0;34m[\u001b[0m\u001b[0mengine\u001b[0m\u001b[0;34m]\u001b[0m\u001b[0;34m(\u001b[0m\u001b[0mself\u001b[0m\u001b[0;34m.\u001b[0m\u001b[0mf\u001b[0m\u001b[0;34m,\u001b[0m \u001b[0;34m**\u001b[0m\u001b[0mself\u001b[0m\u001b[0;34m.\u001b[0m\u001b[0moptions\u001b[0m\u001b[0;34m)\u001b[0m  \u001b[0;31m# type: ignore[call-arg]\u001b[0m\u001b[0;34m\u001b[0m\u001b[0;34m\u001b[0m\u001b[0m\n\u001b[0m\u001b[1;32m   1051\u001b[0m \u001b[0;34m\u001b[0m\u001b[0m\n\u001b[1;32m   1052\u001b[0m     \u001b[0;32mdef\u001b[0m \u001b[0m_failover_to_python\u001b[0m\u001b[0;34m(\u001b[0m\u001b[0mself\u001b[0m\u001b[0;34m)\u001b[0m\u001b[0;34m:\u001b[0m\u001b[0;34m\u001b[0m\u001b[0;34m\u001b[0m\u001b[0m\n",
      "\u001b[0;32m/opt/anaconda3/lib/python3.8/site-packages/pandas/io/parsers.py\u001b[0m in \u001b[0;36m__init__\u001b[0;34m(self, src, **kwds)\u001b[0m\n\u001b[1;32m   1865\u001b[0m \u001b[0;34m\u001b[0m\u001b[0m\n\u001b[1;32m   1866\u001b[0m         \u001b[0;31m# open handles\u001b[0m\u001b[0;34m\u001b[0m\u001b[0;34m\u001b[0m\u001b[0;34m\u001b[0m\u001b[0m\n\u001b[0;32m-> 1867\u001b[0;31m         \u001b[0mself\u001b[0m\u001b[0;34m.\u001b[0m\u001b[0m_open_handles\u001b[0m\u001b[0;34m(\u001b[0m\u001b[0msrc\u001b[0m\u001b[0;34m,\u001b[0m \u001b[0mkwds\u001b[0m\u001b[0;34m)\u001b[0m\u001b[0;34m\u001b[0m\u001b[0;34m\u001b[0m\u001b[0m\n\u001b[0m\u001b[1;32m   1868\u001b[0m         \u001b[0;32massert\u001b[0m \u001b[0mself\u001b[0m\u001b[0;34m.\u001b[0m\u001b[0mhandles\u001b[0m \u001b[0;32mis\u001b[0m \u001b[0;32mnot\u001b[0m \u001b[0;32mNone\u001b[0m\u001b[0;34m\u001b[0m\u001b[0;34m\u001b[0m\u001b[0m\n\u001b[1;32m   1869\u001b[0m         \u001b[0;32mfor\u001b[0m \u001b[0mkey\u001b[0m \u001b[0;32min\u001b[0m \u001b[0;34m(\u001b[0m\u001b[0;34m\"storage_options\"\u001b[0m\u001b[0;34m,\u001b[0m \u001b[0;34m\"encoding\"\u001b[0m\u001b[0;34m,\u001b[0m \u001b[0;34m\"memory_map\"\u001b[0m\u001b[0;34m,\u001b[0m \u001b[0;34m\"compression\"\u001b[0m\u001b[0;34m)\u001b[0m\u001b[0;34m:\u001b[0m\u001b[0;34m\u001b[0m\u001b[0;34m\u001b[0m\u001b[0m\n",
      "\u001b[0;32m/opt/anaconda3/lib/python3.8/site-packages/pandas/io/parsers.py\u001b[0m in \u001b[0;36m_open_handles\u001b[0;34m(self, src, kwds)\u001b[0m\n\u001b[1;32m   1360\u001b[0m         \u001b[0mLet\u001b[0m \u001b[0mthe\u001b[0m \u001b[0mreaders\u001b[0m \u001b[0mopen\u001b[0m \u001b[0mIOHanldes\u001b[0m \u001b[0mafter\u001b[0m \u001b[0mthey\u001b[0m \u001b[0mare\u001b[0m \u001b[0mdone\u001b[0m \u001b[0;32mwith\u001b[0m \u001b[0mtheir\u001b[0m \u001b[0mpotential\u001b[0m \u001b[0mraises\u001b[0m\u001b[0;34m.\u001b[0m\u001b[0;34m\u001b[0m\u001b[0;34m\u001b[0m\u001b[0m\n\u001b[1;32m   1361\u001b[0m         \"\"\"\n\u001b[0;32m-> 1362\u001b[0;31m         self.handles = get_handle(\n\u001b[0m\u001b[1;32m   1363\u001b[0m             \u001b[0msrc\u001b[0m\u001b[0;34m,\u001b[0m\u001b[0;34m\u001b[0m\u001b[0;34m\u001b[0m\u001b[0m\n\u001b[1;32m   1364\u001b[0m             \u001b[0;34m\"r\"\u001b[0m\u001b[0;34m,\u001b[0m\u001b[0;34m\u001b[0m\u001b[0;34m\u001b[0m\u001b[0m\n",
      "\u001b[0;32m/opt/anaconda3/lib/python3.8/site-packages/pandas/io/common.py\u001b[0m in \u001b[0;36mget_handle\u001b[0;34m(path_or_buf, mode, encoding, compression, memory_map, is_text, errors, storage_options)\u001b[0m\n\u001b[1;32m    640\u001b[0m                 \u001b[0merrors\u001b[0m \u001b[0;34m=\u001b[0m \u001b[0;34m\"replace\"\u001b[0m\u001b[0;34m\u001b[0m\u001b[0;34m\u001b[0m\u001b[0m\n\u001b[1;32m    641\u001b[0m             \u001b[0;31m# Encoding\u001b[0m\u001b[0;34m\u001b[0m\u001b[0;34m\u001b[0m\u001b[0;34m\u001b[0m\u001b[0m\n\u001b[0;32m--> 642\u001b[0;31m             handle = open(\n\u001b[0m\u001b[1;32m    643\u001b[0m                 \u001b[0mhandle\u001b[0m\u001b[0;34m,\u001b[0m\u001b[0;34m\u001b[0m\u001b[0;34m\u001b[0m\u001b[0m\n\u001b[1;32m    644\u001b[0m                 \u001b[0mioargs\u001b[0m\u001b[0;34m.\u001b[0m\u001b[0mmode\u001b[0m\u001b[0;34m,\u001b[0m\u001b[0;34m\u001b[0m\u001b[0;34m\u001b[0m\u001b[0m\n",
      "\u001b[0;31mFileNotFoundError\u001b[0m: [Errno 2] No such file or directory: '/content/train.csv'"
     ]
    }
   ],
   "source": [
    "df_train=pd.read_csv('/content/train.csv',sep=';')\n",
    "df_test=pd.read_csv('/content/test.csv',sep=';')"
   ]
  },
  {
   "cell_type": "code",
   "execution_count": 5,
   "metadata": {
    "colab": {
     "base_uri": "https://localhost:8080/",
     "height": 204
    },
    "id": "n4dlnLRFSz9h",
    "outputId": "41e82ec6-b873-436a-f17f-2c0e6a28580d",
    "scrolled": true
   },
   "outputs": [
    {
     "data": {
      "text/html": [
       "\n",
       "  <div id=\"df-b11e31c4-6ad7-40ba-9774-a98f6899b760\">\n",
       "    <div class=\"colab-df-container\">\n",
       "      <div>\n",
       "<style scoped>\n",
       "    .dataframe tbody tr th:only-of-type {\n",
       "        vertical-align: middle;\n",
       "    }\n",
       "\n",
       "    .dataframe tbody tr th {\n",
       "        vertical-align: top;\n",
       "    }\n",
       "\n",
       "    .dataframe thead th {\n",
       "        text-align: right;\n",
       "    }\n",
       "</style>\n",
       "<table border=\"1\" class=\"dataframe\">\n",
       "  <thead>\n",
       "    <tr style=\"text-align: right;\">\n",
       "      <th></th>\n",
       "      <th>text</th>\n",
       "      <th>label</th>\n",
       "    </tr>\n",
       "  </thead>\n",
       "  <tbody>\n",
       "    <tr>\n",
       "      <th>0</th>\n",
       "      <td>dark agenda behind globalism open border altma...</td>\n",
       "      <td>0.0</td>\n",
       "    </tr>\n",
       "    <tr>\n",
       "      <th>1</th>\n",
       "      <td>america poor still get shaft sami jamil jadall...</td>\n",
       "      <td>0.0</td>\n",
       "    </tr>\n",
       "    <tr>\n",
       "      <th>2</th>\n",
       "      <td>number accuser grow former miss finland accuse...</td>\n",
       "      <td>0.0</td>\n",
       "    </tr>\n",
       "    <tr>\n",
       "      <th>3</th>\n",
       "      <td>heroic prego advertisement replaces refresh we...</td>\n",
       "      <td>0.0</td>\n",
       "    </tr>\n",
       "    <tr>\n",
       "      <th>4</th>\n",
       "      <td>russia syria debbie reynolds thursday even bri...</td>\n",
       "      <td>1.0</td>\n",
       "    </tr>\n",
       "  </tbody>\n",
       "</table>\n",
       "</div>\n",
       "      <button class=\"colab-df-convert\" onclick=\"convertToInteractive('df-b11e31c4-6ad7-40ba-9774-a98f6899b760')\"\n",
       "              title=\"Convert this dataframe to an interactive table.\"\n",
       "              style=\"display:none;\">\n",
       "        \n",
       "  <svg xmlns=\"http://www.w3.org/2000/svg\" height=\"24px\"viewBox=\"0 0 24 24\"\n",
       "       width=\"24px\">\n",
       "    <path d=\"M0 0h24v24H0V0z\" fill=\"none\"/>\n",
       "    <path d=\"M18.56 5.44l.94 2.06.94-2.06 2.06-.94-2.06-.94-.94-2.06-.94 2.06-2.06.94zm-11 1L8.5 8.5l.94-2.06 2.06-.94-2.06-.94L8.5 2.5l-.94 2.06-2.06.94zm10 10l.94 2.06.94-2.06 2.06-.94-2.06-.94-.94-2.06-.94 2.06-2.06.94z\"/><path d=\"M17.41 7.96l-1.37-1.37c-.4-.4-.92-.59-1.43-.59-.52 0-1.04.2-1.43.59L10.3 9.45l-7.72 7.72c-.78.78-.78 2.05 0 2.83L4 21.41c.39.39.9.59 1.41.59.51 0 1.02-.2 1.41-.59l7.78-7.78 2.81-2.81c.8-.78.8-2.07 0-2.86zM5.41 20L4 18.59l7.72-7.72 1.47 1.35L5.41 20z\"/>\n",
       "  </svg>\n",
       "      </button>\n",
       "      \n",
       "  <style>\n",
       "    .colab-df-container {\n",
       "      display:flex;\n",
       "      flex-wrap:wrap;\n",
       "      gap: 12px;\n",
       "    }\n",
       "\n",
       "    .colab-df-convert {\n",
       "      background-color: #E8F0FE;\n",
       "      border: none;\n",
       "      border-radius: 50%;\n",
       "      cursor: pointer;\n",
       "      display: none;\n",
       "      fill: #1967D2;\n",
       "      height: 32px;\n",
       "      padding: 0 0 0 0;\n",
       "      width: 32px;\n",
       "    }\n",
       "\n",
       "    .colab-df-convert:hover {\n",
       "      background-color: #E2EBFA;\n",
       "      box-shadow: 0px 1px 2px rgba(60, 64, 67, 0.3), 0px 1px 3px 1px rgba(60, 64, 67, 0.15);\n",
       "      fill: #174EA6;\n",
       "    }\n",
       "\n",
       "    [theme=dark] .colab-df-convert {\n",
       "      background-color: #3B4455;\n",
       "      fill: #D2E3FC;\n",
       "    }\n",
       "\n",
       "    [theme=dark] .colab-df-convert:hover {\n",
       "      background-color: #434B5C;\n",
       "      box-shadow: 0px 1px 3px 1px rgba(0, 0, 0, 0.15);\n",
       "      filter: drop-shadow(0px 1px 2px rgba(0, 0, 0, 0.3));\n",
       "      fill: #FFFFFF;\n",
       "    }\n",
       "  </style>\n",
       "\n",
       "      <script>\n",
       "        const buttonEl =\n",
       "          document.querySelector('#df-b11e31c4-6ad7-40ba-9774-a98f6899b760 button.colab-df-convert');\n",
       "        buttonEl.style.display =\n",
       "          google.colab.kernel.accessAllowed ? 'block' : 'none';\n",
       "\n",
       "        async function convertToInteractive(key) {\n",
       "          const element = document.querySelector('#df-b11e31c4-6ad7-40ba-9774-a98f6899b760');\n",
       "          const dataTable =\n",
       "            await google.colab.kernel.invokeFunction('convertToInteractive',\n",
       "                                                     [key], {});\n",
       "          if (!dataTable) return;\n",
       "\n",
       "          const docLinkHtml = 'Like what you see? Visit the ' +\n",
       "            '<a target=\"_blank\" href=https://colab.research.google.com/notebooks/data_table.ipynb>data table notebook</a>'\n",
       "            + ' to learn more about interactive tables.';\n",
       "          element.innerHTML = '';\n",
       "          dataTable['output_type'] = 'display_data';\n",
       "          await google.colab.output.renderOutput(dataTable, element);\n",
       "          const docLink = document.createElement('div');\n",
       "          docLink.innerHTML = docLinkHtml;\n",
       "          element.appendChild(docLink);\n",
       "        }\n",
       "      </script>\n",
       "    </div>\n",
       "  </div>\n",
       "  "
      ],
      "text/plain": [
       "                                                text  label\n",
       "0  dark agenda behind globalism open border altma...    0.0\n",
       "1  america poor still get shaft sami jamil jadall...    0.0\n",
       "2  number accuser grow former miss finland accuse...    0.0\n",
       "3  heroic prego advertisement replaces refresh we...    0.0\n",
       "4  russia syria debbie reynolds thursday even bri...    1.0"
      ]
     },
     "execution_count": 5,
     "metadata": {},
     "output_type": "execute_result"
    }
   ],
   "source": [
    "df_train.head()"
   ]
  },
  {
   "cell_type": "code",
   "execution_count": 6,
   "metadata": {
    "colab": {
     "base_uri": "https://localhost:8080/",
     "height": 204
    },
    "id": "lEt2i_FnSz9h",
    "outputId": "4764d412-55ff-47cf-d35a-1eed705b3a05"
   },
   "outputs": [
    {
     "data": {
      "text/html": [
       "\n",
       "  <div id=\"df-49cf25e7-317b-432a-99b7-3a98e01f3d20\">\n",
       "    <div class=\"colab-df-container\">\n",
       "      <div>\n",
       "<style scoped>\n",
       "    .dataframe tbody tr th:only-of-type {\n",
       "        vertical-align: middle;\n",
       "    }\n",
       "\n",
       "    .dataframe tbody tr th {\n",
       "        vertical-align: top;\n",
       "    }\n",
       "\n",
       "    .dataframe thead th {\n",
       "        text-align: right;\n",
       "    }\n",
       "</style>\n",
       "<table border=\"1\" class=\"dataframe\">\n",
       "  <thead>\n",
       "    <tr style=\"text-align: right;\">\n",
       "      <th></th>\n",
       "      <th>text</th>\n",
       "      <th>label</th>\n",
       "    </tr>\n",
       "  </thead>\n",
       "  <tbody>\n",
       "    <tr>\n",
       "      <th>0</th>\n",
       "      <td>trump promise new deal black america trump pro...</td>\n",
       "      <td>0</td>\n",
       "    </tr>\n",
       "    <tr>\n",
       "      <th>1</th>\n",
       "      <td>foundation tie bedevil hillary clinton preside...</td>\n",
       "      <td>1</td>\n",
       "    </tr>\n",
       "    <tr>\n",
       "      <th>2</th>\n",
       "      <td>number week long russia end oil dependence rbt...</td>\n",
       "      <td>0</td>\n",
       "    </tr>\n",
       "    <tr>\n",
       "      <th>3</th>\n",
       "      <td>codesod rule ten remy porter remy escape enter...</td>\n",
       "      <td>0</td>\n",
       "    </tr>\n",
       "    <tr>\n",
       "      <th>4</th>\n",
       "      <td>switch chip know anymore home scitech switch c...</td>\n",
       "      <td>0</td>\n",
       "    </tr>\n",
       "  </tbody>\n",
       "</table>\n",
       "</div>\n",
       "      <button class=\"colab-df-convert\" onclick=\"convertToInteractive('df-49cf25e7-317b-432a-99b7-3a98e01f3d20')\"\n",
       "              title=\"Convert this dataframe to an interactive table.\"\n",
       "              style=\"display:none;\">\n",
       "        \n",
       "  <svg xmlns=\"http://www.w3.org/2000/svg\" height=\"24px\"viewBox=\"0 0 24 24\"\n",
       "       width=\"24px\">\n",
       "    <path d=\"M0 0h24v24H0V0z\" fill=\"none\"/>\n",
       "    <path d=\"M18.56 5.44l.94 2.06.94-2.06 2.06-.94-2.06-.94-.94-2.06-.94 2.06-2.06.94zm-11 1L8.5 8.5l.94-2.06 2.06-.94-2.06-.94L8.5 2.5l-.94 2.06-2.06.94zm10 10l.94 2.06.94-2.06 2.06-.94-2.06-.94-.94-2.06-.94 2.06-2.06.94z\"/><path d=\"M17.41 7.96l-1.37-1.37c-.4-.4-.92-.59-1.43-.59-.52 0-1.04.2-1.43.59L10.3 9.45l-7.72 7.72c-.78.78-.78 2.05 0 2.83L4 21.41c.39.39.9.59 1.41.59.51 0 1.02-.2 1.41-.59l7.78-7.78 2.81-2.81c.8-.78.8-2.07 0-2.86zM5.41 20L4 18.59l7.72-7.72 1.47 1.35L5.41 20z\"/>\n",
       "  </svg>\n",
       "      </button>\n",
       "      \n",
       "  <style>\n",
       "    .colab-df-container {\n",
       "      display:flex;\n",
       "      flex-wrap:wrap;\n",
       "      gap: 12px;\n",
       "    }\n",
       "\n",
       "    .colab-df-convert {\n",
       "      background-color: #E8F0FE;\n",
       "      border: none;\n",
       "      border-radius: 50%;\n",
       "      cursor: pointer;\n",
       "      display: none;\n",
       "      fill: #1967D2;\n",
       "      height: 32px;\n",
       "      padding: 0 0 0 0;\n",
       "      width: 32px;\n",
       "    }\n",
       "\n",
       "    .colab-df-convert:hover {\n",
       "      background-color: #E2EBFA;\n",
       "      box-shadow: 0px 1px 2px rgba(60, 64, 67, 0.3), 0px 1px 3px 1px rgba(60, 64, 67, 0.15);\n",
       "      fill: #174EA6;\n",
       "    }\n",
       "\n",
       "    [theme=dark] .colab-df-convert {\n",
       "      background-color: #3B4455;\n",
       "      fill: #D2E3FC;\n",
       "    }\n",
       "\n",
       "    [theme=dark] .colab-df-convert:hover {\n",
       "      background-color: #434B5C;\n",
       "      box-shadow: 0px 1px 3px 1px rgba(0, 0, 0, 0.15);\n",
       "      filter: drop-shadow(0px 1px 2px rgba(0, 0, 0, 0.3));\n",
       "      fill: #FFFFFF;\n",
       "    }\n",
       "  </style>\n",
       "\n",
       "      <script>\n",
       "        const buttonEl =\n",
       "          document.querySelector('#df-49cf25e7-317b-432a-99b7-3a98e01f3d20 button.colab-df-convert');\n",
       "        buttonEl.style.display =\n",
       "          google.colab.kernel.accessAllowed ? 'block' : 'none';\n",
       "\n",
       "        async function convertToInteractive(key) {\n",
       "          const element = document.querySelector('#df-49cf25e7-317b-432a-99b7-3a98e01f3d20');\n",
       "          const dataTable =\n",
       "            await google.colab.kernel.invokeFunction('convertToInteractive',\n",
       "                                                     [key], {});\n",
       "          if (!dataTable) return;\n",
       "\n",
       "          const docLinkHtml = 'Like what you see? Visit the ' +\n",
       "            '<a target=\"_blank\" href=https://colab.research.google.com/notebooks/data_table.ipynb>data table notebook</a>'\n",
       "            + ' to learn more about interactive tables.';\n",
       "          element.innerHTML = '';\n",
       "          dataTable['output_type'] = 'display_data';\n",
       "          await google.colab.output.renderOutput(dataTable, element);\n",
       "          const docLink = document.createElement('div');\n",
       "          docLink.innerHTML = docLinkHtml;\n",
       "          element.appendChild(docLink);\n",
       "        }\n",
       "      </script>\n",
       "    </div>\n",
       "  </div>\n",
       "  "
      ],
      "text/plain": [
       "                                                text  label\n",
       "0  trump promise new deal black america trump pro...      0\n",
       "1  foundation tie bedevil hillary clinton preside...      1\n",
       "2  number week long russia end oil dependence rbt...      0\n",
       "3  codesod rule ten remy porter remy escape enter...      0\n",
       "4  switch chip know anymore home scitech switch c...      0"
      ]
     },
     "execution_count": 6,
     "metadata": {},
     "output_type": "execute_result"
    }
   ],
   "source": [
    "df_test.head()"
   ]
  },
  {
   "cell_type": "code",
   "execution_count": 7,
   "metadata": {
    "id": "obodnQHqSz9h"
   },
   "outputs": [],
   "source": [
    "## Get the Independent Features\n",
    "\n",
    "X=df_train.drop('label',axis=1)"
   ]
  },
  {
   "cell_type": "code",
   "execution_count": 8,
   "metadata": {
    "colab": {
     "base_uri": "https://localhost:8080/",
     "height": 204
    },
    "id": "u9PLwXeQSz9i",
    "outputId": "adbb65e9-1b2d-42e7-a015-0bed34f6c5e0"
   },
   "outputs": [
    {
     "data": {
      "text/html": [
       "\n",
       "  <div id=\"df-86df45e7-0118-401b-a5fc-21cc4a3517fb\">\n",
       "    <div class=\"colab-df-container\">\n",
       "      <div>\n",
       "<style scoped>\n",
       "    .dataframe tbody tr th:only-of-type {\n",
       "        vertical-align: middle;\n",
       "    }\n",
       "\n",
       "    .dataframe tbody tr th {\n",
       "        vertical-align: top;\n",
       "    }\n",
       "\n",
       "    .dataframe thead th {\n",
       "        text-align: right;\n",
       "    }\n",
       "</style>\n",
       "<table border=\"1\" class=\"dataframe\">\n",
       "  <thead>\n",
       "    <tr style=\"text-align: right;\">\n",
       "      <th></th>\n",
       "      <th>text</th>\n",
       "    </tr>\n",
       "  </thead>\n",
       "  <tbody>\n",
       "    <tr>\n",
       "      <th>0</th>\n",
       "      <td>dark agenda behind globalism open border altma...</td>\n",
       "    </tr>\n",
       "    <tr>\n",
       "      <th>1</th>\n",
       "      <td>america poor still get shaft sami jamil jadall...</td>\n",
       "    </tr>\n",
       "    <tr>\n",
       "      <th>2</th>\n",
       "      <td>number accuser grow former miss finland accuse...</td>\n",
       "    </tr>\n",
       "    <tr>\n",
       "      <th>3</th>\n",
       "      <td>heroic prego advertisement replaces refresh we...</td>\n",
       "    </tr>\n",
       "    <tr>\n",
       "      <th>4</th>\n",
       "      <td>russia syria debbie reynolds thursday even bri...</td>\n",
       "    </tr>\n",
       "  </tbody>\n",
       "</table>\n",
       "</div>\n",
       "      <button class=\"colab-df-convert\" onclick=\"convertToInteractive('df-86df45e7-0118-401b-a5fc-21cc4a3517fb')\"\n",
       "              title=\"Convert this dataframe to an interactive table.\"\n",
       "              style=\"display:none;\">\n",
       "        \n",
       "  <svg xmlns=\"http://www.w3.org/2000/svg\" height=\"24px\"viewBox=\"0 0 24 24\"\n",
       "       width=\"24px\">\n",
       "    <path d=\"M0 0h24v24H0V0z\" fill=\"none\"/>\n",
       "    <path d=\"M18.56 5.44l.94 2.06.94-2.06 2.06-.94-2.06-.94-.94-2.06-.94 2.06-2.06.94zm-11 1L8.5 8.5l.94-2.06 2.06-.94-2.06-.94L8.5 2.5l-.94 2.06-2.06.94zm10 10l.94 2.06.94-2.06 2.06-.94-2.06-.94-.94-2.06-.94 2.06-2.06.94z\"/><path d=\"M17.41 7.96l-1.37-1.37c-.4-.4-.92-.59-1.43-.59-.52 0-1.04.2-1.43.59L10.3 9.45l-7.72 7.72c-.78.78-.78 2.05 0 2.83L4 21.41c.39.39.9.59 1.41.59.51 0 1.02-.2 1.41-.59l7.78-7.78 2.81-2.81c.8-.78.8-2.07 0-2.86zM5.41 20L4 18.59l7.72-7.72 1.47 1.35L5.41 20z\"/>\n",
       "  </svg>\n",
       "      </button>\n",
       "      \n",
       "  <style>\n",
       "    .colab-df-container {\n",
       "      display:flex;\n",
       "      flex-wrap:wrap;\n",
       "      gap: 12px;\n",
       "    }\n",
       "\n",
       "    .colab-df-convert {\n",
       "      background-color: #E8F0FE;\n",
       "      border: none;\n",
       "      border-radius: 50%;\n",
       "      cursor: pointer;\n",
       "      display: none;\n",
       "      fill: #1967D2;\n",
       "      height: 32px;\n",
       "      padding: 0 0 0 0;\n",
       "      width: 32px;\n",
       "    }\n",
       "\n",
       "    .colab-df-convert:hover {\n",
       "      background-color: #E2EBFA;\n",
       "      box-shadow: 0px 1px 2px rgba(60, 64, 67, 0.3), 0px 1px 3px 1px rgba(60, 64, 67, 0.15);\n",
       "      fill: #174EA6;\n",
       "    }\n",
       "\n",
       "    [theme=dark] .colab-df-convert {\n",
       "      background-color: #3B4455;\n",
       "      fill: #D2E3FC;\n",
       "    }\n",
       "\n",
       "    [theme=dark] .colab-df-convert:hover {\n",
       "      background-color: #434B5C;\n",
       "      box-shadow: 0px 1px 3px 1px rgba(0, 0, 0, 0.15);\n",
       "      filter: drop-shadow(0px 1px 2px rgba(0, 0, 0, 0.3));\n",
       "      fill: #FFFFFF;\n",
       "    }\n",
       "  </style>\n",
       "\n",
       "      <script>\n",
       "        const buttonEl =\n",
       "          document.querySelector('#df-86df45e7-0118-401b-a5fc-21cc4a3517fb button.colab-df-convert');\n",
       "        buttonEl.style.display =\n",
       "          google.colab.kernel.accessAllowed ? 'block' : 'none';\n",
       "\n",
       "        async function convertToInteractive(key) {\n",
       "          const element = document.querySelector('#df-86df45e7-0118-401b-a5fc-21cc4a3517fb');\n",
       "          const dataTable =\n",
       "            await google.colab.kernel.invokeFunction('convertToInteractive',\n",
       "                                                     [key], {});\n",
       "          if (!dataTable) return;\n",
       "\n",
       "          const docLinkHtml = 'Like what you see? Visit the ' +\n",
       "            '<a target=\"_blank\" href=https://colab.research.google.com/notebooks/data_table.ipynb>data table notebook</a>'\n",
       "            + ' to learn more about interactive tables.';\n",
       "          element.innerHTML = '';\n",
       "          dataTable['output_type'] = 'display_data';\n",
       "          await google.colab.output.renderOutput(dataTable, element);\n",
       "          const docLink = document.createElement('div');\n",
       "          docLink.innerHTML = docLinkHtml;\n",
       "          element.appendChild(docLink);\n",
       "        }\n",
       "      </script>\n",
       "    </div>\n",
       "  </div>\n",
       "  "
      ],
      "text/plain": [
       "                                                text\n",
       "0  dark agenda behind globalism open border altma...\n",
       "1  america poor still get shaft sami jamil jadall...\n",
       "2  number accuser grow former miss finland accuse...\n",
       "3  heroic prego advertisement replaces refresh we...\n",
       "4  russia syria debbie reynolds thursday even bri..."
      ]
     },
     "execution_count": 8,
     "metadata": {},
     "output_type": "execute_result"
    }
   ],
   "source": [
    "X.head()"
   ]
  },
  {
   "cell_type": "code",
   "execution_count": 9,
   "metadata": {
    "id": "7meVF4fmSz9i"
   },
   "outputs": [],
   "source": [
    "## Get the Dependent features\n",
    "y=df_train['label']"
   ]
  },
  {
   "cell_type": "code",
   "execution_count": 10,
   "metadata": {
    "colab": {
     "base_uri": "https://localhost:8080/"
    },
    "id": "Y_2T9e5eSz9i",
    "outputId": "dfc05e32-9c77-406f-9be9-be3fb4207034"
   },
   "outputs": [
    {
     "data": {
      "text/plain": [
       "0    0.0\n",
       "1    0.0\n",
       "2    0.0\n",
       "3    0.0\n",
       "4    1.0\n",
       "Name: label, dtype: float64"
      ]
     },
     "execution_count": 10,
     "metadata": {},
     "output_type": "execute_result"
    }
   ],
   "source": [
    "y.head()"
   ]
  },
  {
   "cell_type": "code",
   "execution_count": 11,
   "metadata": {
    "colab": {
     "base_uri": "https://localhost:8080/"
    },
    "id": "BqqESAp2Sz9i",
    "outputId": "1b991933-4ec7-4a3d-a46b-895be8db1305"
   },
   "outputs": [
    {
     "data": {
      "text/plain": [
       "(5311, 2)"
      ]
     },
     "execution_count": 11,
     "metadata": {},
     "output_type": "execute_result"
    }
   ],
   "source": [
    "df_train.shape"
   ]
  },
  {
   "cell_type": "code",
   "execution_count": 12,
   "metadata": {
    "id": "sfk84ASsSz9j"
   },
   "outputs": [],
   "source": [
    "z=df_test['label']"
   ]
  },
  {
   "cell_type": "code",
   "execution_count": 13,
   "metadata": {
    "colab": {
     "base_uri": "https://localhost:8080/"
    },
    "id": "VM_mBzKYSz9j",
    "outputId": "0c15b2f8-6233-4045-df48-761e146df1e7"
   },
   "outputs": [
    {
     "data": {
      "text/plain": [
       "0    0\n",
       "1    1\n",
       "2    0\n",
       "3    0\n",
       "4    0\n",
       "Name: label, dtype: int64"
      ]
     },
     "execution_count": 13,
     "metadata": {},
     "output_type": "execute_result"
    }
   ],
   "source": [
    "z.head()"
   ]
  },
  {
   "cell_type": "code",
   "execution_count": 14,
   "metadata": {
    "colab": {
     "base_uri": "https://localhost:8080/"
    },
    "id": "JUgpm_6zSz9j",
    "outputId": "014b469c-9fe2-460a-e232-0731081ff6cf"
   },
   "outputs": [
    {
     "data": {
      "text/plain": [
       "(4035, 2)"
      ]
     },
     "execution_count": 14,
     "metadata": {},
     "output_type": "execute_result"
    }
   ],
   "source": [
    "df_test.shape"
   ]
  },
  {
   "cell_type": "code",
   "execution_count": 15,
   "metadata": {
    "id": "tJ7O_fq-Sz9j"
   },
   "outputs": [],
   "source": [
    "from sklearn.feature_extraction.text import CountVectorizer, TfidfVectorizer, HashingVectorizer"
   ]
  },
  {
   "cell_type": "code",
   "execution_count": 16,
   "metadata": {
    "id": "ushWv-uQSz9j"
   },
   "outputs": [],
   "source": [
    "df_train=df_train.dropna()"
   ]
  },
  {
   "cell_type": "code",
   "execution_count": 17,
   "metadata": {
    "colab": {
     "base_uri": "https://localhost:8080/"
    },
    "id": "FfUWszQ_Sz9j",
    "outputId": "ef9773f6-150f-459e-c820-e97f8dd695f0"
   },
   "outputs": [
    {
     "data": {
      "text/plain": [
       "5310"
      ]
     },
     "execution_count": 17,
     "metadata": {},
     "output_type": "execute_result"
    }
   ],
   "source": [
    "len(df_train)"
   ]
  },
  {
   "cell_type": "code",
   "execution_count": 18,
   "metadata": {
    "id": "e5Z2VsLySz9k"
   },
   "outputs": [],
   "source": [
    "df_test=df_test.dropna()"
   ]
  },
  {
   "cell_type": "code",
   "execution_count": 19,
   "metadata": {
    "colab": {
     "base_uri": "https://localhost:8080/",
     "height": 359
    },
    "id": "ruuyanLeSz9k",
    "outputId": "2d76e1ee-baf1-41eb-dfff-7a3e65ed1841"
   },
   "outputs": [
    {
     "data": {
      "text/html": [
       "\n",
       "  <div id=\"df-cf35ecc5-533d-430b-9527-b0a863ca0a14\">\n",
       "    <div class=\"colab-df-container\">\n",
       "      <div>\n",
       "<style scoped>\n",
       "    .dataframe tbody tr th:only-of-type {\n",
       "        vertical-align: middle;\n",
       "    }\n",
       "\n",
       "    .dataframe tbody tr th {\n",
       "        vertical-align: top;\n",
       "    }\n",
       "\n",
       "    .dataframe thead th {\n",
       "        text-align: right;\n",
       "    }\n",
       "</style>\n",
       "<table border=\"1\" class=\"dataframe\">\n",
       "  <thead>\n",
       "    <tr style=\"text-align: right;\">\n",
       "      <th></th>\n",
       "      <th>text</th>\n",
       "      <th>label</th>\n",
       "    </tr>\n",
       "  </thead>\n",
       "  <tbody>\n",
       "    <tr>\n",
       "      <th>0</th>\n",
       "      <td>dark agenda behind globalism open border altma...</td>\n",
       "      <td>0.0</td>\n",
       "    </tr>\n",
       "    <tr>\n",
       "      <th>1</th>\n",
       "      <td>america poor still get shaft sami jamil jadall...</td>\n",
       "      <td>0.0</td>\n",
       "    </tr>\n",
       "    <tr>\n",
       "      <th>2</th>\n",
       "      <td>number accuser grow former miss finland accuse...</td>\n",
       "      <td>0.0</td>\n",
       "    </tr>\n",
       "    <tr>\n",
       "      <th>3</th>\n",
       "      <td>heroic prego advertisement replaces refresh we...</td>\n",
       "      <td>0.0</td>\n",
       "    </tr>\n",
       "    <tr>\n",
       "      <th>4</th>\n",
       "      <td>russia syria debbie reynolds thursday even bri...</td>\n",
       "      <td>1.0</td>\n",
       "    </tr>\n",
       "    <tr>\n",
       "      <th>5</th>\n",
       "      <td>come ice age consciousness afterlife come ice ...</td>\n",
       "      <td>0.0</td>\n",
       "    </tr>\n",
       "    <tr>\n",
       "      <th>6</th>\n",
       "      <td>russia ask cia hillary clinton buy million wor...</td>\n",
       "      <td>0.0</td>\n",
       "    </tr>\n",
       "    <tr>\n",
       "      <th>7</th>\n",
       "      <td>supreme court say police may use evidence find...</td>\n",
       "      <td>1.0</td>\n",
       "    </tr>\n",
       "    <tr>\n",
       "      <th>8</th>\n",
       "      <td>msnbc screw interview two africanamerican dona...</td>\n",
       "      <td>0.0</td>\n",
       "    </tr>\n",
       "    <tr>\n",
       "      <th>9</th>\n",
       "      <td>trump vow quick action stop terrorism setback ...</td>\n",
       "      <td>1.0</td>\n",
       "    </tr>\n",
       "  </tbody>\n",
       "</table>\n",
       "</div>\n",
       "      <button class=\"colab-df-convert\" onclick=\"convertToInteractive('df-cf35ecc5-533d-430b-9527-b0a863ca0a14')\"\n",
       "              title=\"Convert this dataframe to an interactive table.\"\n",
       "              style=\"display:none;\">\n",
       "        \n",
       "  <svg xmlns=\"http://www.w3.org/2000/svg\" height=\"24px\"viewBox=\"0 0 24 24\"\n",
       "       width=\"24px\">\n",
       "    <path d=\"M0 0h24v24H0V0z\" fill=\"none\"/>\n",
       "    <path d=\"M18.56 5.44l.94 2.06.94-2.06 2.06-.94-2.06-.94-.94-2.06-.94 2.06-2.06.94zm-11 1L8.5 8.5l.94-2.06 2.06-.94-2.06-.94L8.5 2.5l-.94 2.06-2.06.94zm10 10l.94 2.06.94-2.06 2.06-.94-2.06-.94-.94-2.06-.94 2.06-2.06.94z\"/><path d=\"M17.41 7.96l-1.37-1.37c-.4-.4-.92-.59-1.43-.59-.52 0-1.04.2-1.43.59L10.3 9.45l-7.72 7.72c-.78.78-.78 2.05 0 2.83L4 21.41c.39.39.9.59 1.41.59.51 0 1.02-.2 1.41-.59l7.78-7.78 2.81-2.81c.8-.78.8-2.07 0-2.86zM5.41 20L4 18.59l7.72-7.72 1.47 1.35L5.41 20z\"/>\n",
       "  </svg>\n",
       "      </button>\n",
       "      \n",
       "  <style>\n",
       "    .colab-df-container {\n",
       "      display:flex;\n",
       "      flex-wrap:wrap;\n",
       "      gap: 12px;\n",
       "    }\n",
       "\n",
       "    .colab-df-convert {\n",
       "      background-color: #E8F0FE;\n",
       "      border: none;\n",
       "      border-radius: 50%;\n",
       "      cursor: pointer;\n",
       "      display: none;\n",
       "      fill: #1967D2;\n",
       "      height: 32px;\n",
       "      padding: 0 0 0 0;\n",
       "      width: 32px;\n",
       "    }\n",
       "\n",
       "    .colab-df-convert:hover {\n",
       "      background-color: #E2EBFA;\n",
       "      box-shadow: 0px 1px 2px rgba(60, 64, 67, 0.3), 0px 1px 3px 1px rgba(60, 64, 67, 0.15);\n",
       "      fill: #174EA6;\n",
       "    }\n",
       "\n",
       "    [theme=dark] .colab-df-convert {\n",
       "      background-color: #3B4455;\n",
       "      fill: #D2E3FC;\n",
       "    }\n",
       "\n",
       "    [theme=dark] .colab-df-convert:hover {\n",
       "      background-color: #434B5C;\n",
       "      box-shadow: 0px 1px 3px 1px rgba(0, 0, 0, 0.15);\n",
       "      filter: drop-shadow(0px 1px 2px rgba(0, 0, 0, 0.3));\n",
       "      fill: #FFFFFF;\n",
       "    }\n",
       "  </style>\n",
       "\n",
       "      <script>\n",
       "        const buttonEl =\n",
       "          document.querySelector('#df-cf35ecc5-533d-430b-9527-b0a863ca0a14 button.colab-df-convert');\n",
       "        buttonEl.style.display =\n",
       "          google.colab.kernel.accessAllowed ? 'block' : 'none';\n",
       "\n",
       "        async function convertToInteractive(key) {\n",
       "          const element = document.querySelector('#df-cf35ecc5-533d-430b-9527-b0a863ca0a14');\n",
       "          const dataTable =\n",
       "            await google.colab.kernel.invokeFunction('convertToInteractive',\n",
       "                                                     [key], {});\n",
       "          if (!dataTable) return;\n",
       "\n",
       "          const docLinkHtml = 'Like what you see? Visit the ' +\n",
       "            '<a target=\"_blank\" href=https://colab.research.google.com/notebooks/data_table.ipynb>data table notebook</a>'\n",
       "            + ' to learn more about interactive tables.';\n",
       "          element.innerHTML = '';\n",
       "          dataTable['output_type'] = 'display_data';\n",
       "          await google.colab.output.renderOutput(dataTable, element);\n",
       "          const docLink = document.createElement('div');\n",
       "          docLink.innerHTML = docLinkHtml;\n",
       "          element.appendChild(docLink);\n",
       "        }\n",
       "      </script>\n",
       "    </div>\n",
       "  </div>\n",
       "  "
      ],
      "text/plain": [
       "                                                text  label\n",
       "0  dark agenda behind globalism open border altma...    0.0\n",
       "1  america poor still get shaft sami jamil jadall...    0.0\n",
       "2  number accuser grow former miss finland accuse...    0.0\n",
       "3  heroic prego advertisement replaces refresh we...    0.0\n",
       "4  russia syria debbie reynolds thursday even bri...    1.0\n",
       "5  come ice age consciousness afterlife come ice ...    0.0\n",
       "6  russia ask cia hillary clinton buy million wor...    0.0\n",
       "7  supreme court say police may use evidence find...    1.0\n",
       "8  msnbc screw interview two africanamerican dona...    0.0\n",
       "9  trump vow quick action stop terrorism setback ...    1.0"
      ]
     },
     "execution_count": 19,
     "metadata": {},
     "output_type": "execute_result"
    }
   ],
   "source": [
    "df_train.head(10)"
   ]
  },
  {
   "cell_type": "code",
   "execution_count": 20,
   "metadata": {
    "colab": {
     "base_uri": "https://localhost:8080/",
     "height": 359
    },
    "id": "ePb4v050Sz9k",
    "outputId": "612422ae-4dc6-446e-c721-929ecd875183"
   },
   "outputs": [
    {
     "data": {
      "text/html": [
       "\n",
       "  <div id=\"df-ae02df78-7ed9-4ea2-bc01-49ce44098266\">\n",
       "    <div class=\"colab-df-container\">\n",
       "      <div>\n",
       "<style scoped>\n",
       "    .dataframe tbody tr th:only-of-type {\n",
       "        vertical-align: middle;\n",
       "    }\n",
       "\n",
       "    .dataframe tbody tr th {\n",
       "        vertical-align: top;\n",
       "    }\n",
       "\n",
       "    .dataframe thead th {\n",
       "        text-align: right;\n",
       "    }\n",
       "</style>\n",
       "<table border=\"1\" class=\"dataframe\">\n",
       "  <thead>\n",
       "    <tr style=\"text-align: right;\">\n",
       "      <th></th>\n",
       "      <th>text</th>\n",
       "      <th>label</th>\n",
       "    </tr>\n",
       "  </thead>\n",
       "  <tbody>\n",
       "    <tr>\n",
       "      <th>0</th>\n",
       "      <td>trump promise new deal black america trump pro...</td>\n",
       "      <td>0</td>\n",
       "    </tr>\n",
       "    <tr>\n",
       "      <th>1</th>\n",
       "      <td>foundation tie bedevil hillary clinton preside...</td>\n",
       "      <td>1</td>\n",
       "    </tr>\n",
       "    <tr>\n",
       "      <th>2</th>\n",
       "      <td>number week long russia end oil dependence rbt...</td>\n",
       "      <td>0</td>\n",
       "    </tr>\n",
       "    <tr>\n",
       "      <th>3</th>\n",
       "      <td>codesod rule ten remy porter remy escape enter...</td>\n",
       "      <td>0</td>\n",
       "    </tr>\n",
       "    <tr>\n",
       "      <th>4</th>\n",
       "      <td>switch chip know anymore home scitech switch c...</td>\n",
       "      <td>0</td>\n",
       "    </tr>\n",
       "    <tr>\n",
       "      <th>5</th>\n",
       "      <td>donald trump russia rodrigo duterte thursday b...</td>\n",
       "      <td>1</td>\n",
       "    </tr>\n",
       "    <tr>\n",
       "      <th>6</th>\n",
       "      <td>mattis iraq oil reuters u military iraq seize ...</td>\n",
       "      <td>1</td>\n",
       "    </tr>\n",
       "    <tr>\n",
       "      <th>7</th>\n",
       "      <td>fbi actually investigate candidate hillary cli...</td>\n",
       "      <td>0</td>\n",
       "    </tr>\n",
       "    <tr>\n",
       "      <th>8</th>\n",
       "      <td>inperson coach university versus technology pr...</td>\n",
       "      <td>0</td>\n",
       "    </tr>\n",
       "    <tr>\n",
       "      <th>9</th>\n",
       "      <td>obama doj handmaiden clinton corruption go art...</td>\n",
       "      <td>0</td>\n",
       "    </tr>\n",
       "  </tbody>\n",
       "</table>\n",
       "</div>\n",
       "      <button class=\"colab-df-convert\" onclick=\"convertToInteractive('df-ae02df78-7ed9-4ea2-bc01-49ce44098266')\"\n",
       "              title=\"Convert this dataframe to an interactive table.\"\n",
       "              style=\"display:none;\">\n",
       "        \n",
       "  <svg xmlns=\"http://www.w3.org/2000/svg\" height=\"24px\"viewBox=\"0 0 24 24\"\n",
       "       width=\"24px\">\n",
       "    <path d=\"M0 0h24v24H0V0z\" fill=\"none\"/>\n",
       "    <path d=\"M18.56 5.44l.94 2.06.94-2.06 2.06-.94-2.06-.94-.94-2.06-.94 2.06-2.06.94zm-11 1L8.5 8.5l.94-2.06 2.06-.94-2.06-.94L8.5 2.5l-.94 2.06-2.06.94zm10 10l.94 2.06.94-2.06 2.06-.94-2.06-.94-.94-2.06-.94 2.06-2.06.94z\"/><path d=\"M17.41 7.96l-1.37-1.37c-.4-.4-.92-.59-1.43-.59-.52 0-1.04.2-1.43.59L10.3 9.45l-7.72 7.72c-.78.78-.78 2.05 0 2.83L4 21.41c.39.39.9.59 1.41.59.51 0 1.02-.2 1.41-.59l7.78-7.78 2.81-2.81c.8-.78.8-2.07 0-2.86zM5.41 20L4 18.59l7.72-7.72 1.47 1.35L5.41 20z\"/>\n",
       "  </svg>\n",
       "      </button>\n",
       "      \n",
       "  <style>\n",
       "    .colab-df-container {\n",
       "      display:flex;\n",
       "      flex-wrap:wrap;\n",
       "      gap: 12px;\n",
       "    }\n",
       "\n",
       "    .colab-df-convert {\n",
       "      background-color: #E8F0FE;\n",
       "      border: none;\n",
       "      border-radius: 50%;\n",
       "      cursor: pointer;\n",
       "      display: none;\n",
       "      fill: #1967D2;\n",
       "      height: 32px;\n",
       "      padding: 0 0 0 0;\n",
       "      width: 32px;\n",
       "    }\n",
       "\n",
       "    .colab-df-convert:hover {\n",
       "      background-color: #E2EBFA;\n",
       "      box-shadow: 0px 1px 2px rgba(60, 64, 67, 0.3), 0px 1px 3px 1px rgba(60, 64, 67, 0.15);\n",
       "      fill: #174EA6;\n",
       "    }\n",
       "\n",
       "    [theme=dark] .colab-df-convert {\n",
       "      background-color: #3B4455;\n",
       "      fill: #D2E3FC;\n",
       "    }\n",
       "\n",
       "    [theme=dark] .colab-df-convert:hover {\n",
       "      background-color: #434B5C;\n",
       "      box-shadow: 0px 1px 3px 1px rgba(0, 0, 0, 0.15);\n",
       "      filter: drop-shadow(0px 1px 2px rgba(0, 0, 0, 0.3));\n",
       "      fill: #FFFFFF;\n",
       "    }\n",
       "  </style>\n",
       "\n",
       "      <script>\n",
       "        const buttonEl =\n",
       "          document.querySelector('#df-ae02df78-7ed9-4ea2-bc01-49ce44098266 button.colab-df-convert');\n",
       "        buttonEl.style.display =\n",
       "          google.colab.kernel.accessAllowed ? 'block' : 'none';\n",
       "\n",
       "        async function convertToInteractive(key) {\n",
       "          const element = document.querySelector('#df-ae02df78-7ed9-4ea2-bc01-49ce44098266');\n",
       "          const dataTable =\n",
       "            await google.colab.kernel.invokeFunction('convertToInteractive',\n",
       "                                                     [key], {});\n",
       "          if (!dataTable) return;\n",
       "\n",
       "          const docLinkHtml = 'Like what you see? Visit the ' +\n",
       "            '<a target=\"_blank\" href=https://colab.research.google.com/notebooks/data_table.ipynb>data table notebook</a>'\n",
       "            + ' to learn more about interactive tables.';\n",
       "          element.innerHTML = '';\n",
       "          dataTable['output_type'] = 'display_data';\n",
       "          await google.colab.output.renderOutput(dataTable, element);\n",
       "          const docLink = document.createElement('div');\n",
       "          docLink.innerHTML = docLinkHtml;\n",
       "          element.appendChild(docLink);\n",
       "        }\n",
       "      </script>\n",
       "    </div>\n",
       "  </div>\n",
       "  "
      ],
      "text/plain": [
       "                                                text  label\n",
       "0  trump promise new deal black america trump pro...      0\n",
       "1  foundation tie bedevil hillary clinton preside...      1\n",
       "2  number week long russia end oil dependence rbt...      0\n",
       "3  codesod rule ten remy porter remy escape enter...      0\n",
       "4  switch chip know anymore home scitech switch c...      0\n",
       "5  donald trump russia rodrigo duterte thursday b...      1\n",
       "6  mattis iraq oil reuters u military iraq seize ...      1\n",
       "7  fbi actually investigate candidate hillary cli...      0\n",
       "8  inperson coach university versus technology pr...      0\n",
       "9  obama doj handmaiden clinton corruption go art...      0"
      ]
     },
     "execution_count": 20,
     "metadata": {},
     "output_type": "execute_result"
    }
   ],
   "source": [
    "df_test.head(10)"
   ]
  },
  {
   "cell_type": "code",
   "execution_count": 21,
   "metadata": {
    "id": "gzna7ShnSz9k"
   },
   "outputs": [],
   "source": [
    "messages1=df_train.copy()"
   ]
  },
  {
   "cell_type": "code",
   "execution_count": 22,
   "metadata": {
    "colab": {
     "base_uri": "https://localhost:8080/",
     "height": 419
    },
    "id": "zmprGKfrSz9k",
    "outputId": "2018adb6-5eb9-4190-bba3-b551338bb71c"
   },
   "outputs": [
    {
     "data": {
      "text/html": [
       "\n",
       "  <div id=\"df-b4dc2c83-a4a4-4226-8542-cfe1c4d4f9ab\">\n",
       "    <div class=\"colab-df-container\">\n",
       "      <div>\n",
       "<style scoped>\n",
       "    .dataframe tbody tr th:only-of-type {\n",
       "        vertical-align: middle;\n",
       "    }\n",
       "\n",
       "    .dataframe tbody tr th {\n",
       "        vertical-align: top;\n",
       "    }\n",
       "\n",
       "    .dataframe thead th {\n",
       "        text-align: right;\n",
       "    }\n",
       "</style>\n",
       "<table border=\"1\" class=\"dataframe\">\n",
       "  <thead>\n",
       "    <tr style=\"text-align: right;\">\n",
       "      <th></th>\n",
       "      <th>text</th>\n",
       "      <th>label</th>\n",
       "    </tr>\n",
       "  </thead>\n",
       "  <tbody>\n",
       "    <tr>\n",
       "      <th>0</th>\n",
       "      <td>dark agenda behind globalism open border altma...</td>\n",
       "      <td>0.0</td>\n",
       "    </tr>\n",
       "    <tr>\n",
       "      <th>1</th>\n",
       "      <td>america poor still get shaft sami jamil jadall...</td>\n",
       "      <td>0.0</td>\n",
       "    </tr>\n",
       "    <tr>\n",
       "      <th>2</th>\n",
       "      <td>number accuser grow former miss finland accuse...</td>\n",
       "      <td>0.0</td>\n",
       "    </tr>\n",
       "    <tr>\n",
       "      <th>3</th>\n",
       "      <td>heroic prego advertisement replaces refresh we...</td>\n",
       "      <td>0.0</td>\n",
       "    </tr>\n",
       "    <tr>\n",
       "      <th>4</th>\n",
       "      <td>russia syria debbie reynolds thursday even bri...</td>\n",
       "      <td>1.0</td>\n",
       "    </tr>\n",
       "    <tr>\n",
       "      <th>...</th>\n",
       "      <td>...</td>\n",
       "      <td>...</td>\n",
       "    </tr>\n",
       "    <tr>\n",
       "      <th>5305</th>\n",
       "      <td>milo eugenics alive well plan parenthood breit...</td>\n",
       "      <td>1.0</td>\n",
       "    </tr>\n",
       "    <tr>\n",
       "      <th>5306</th>\n",
       "      <td>new york time offer open access web apps elect...</td>\n",
       "      <td>1.0</td>\n",
       "    </tr>\n",
       "    <tr>\n",
       "      <th>5307</th>\n",
       "      <td>notice anything different msm lately print las...</td>\n",
       "      <td>0.0</td>\n",
       "    </tr>\n",
       "    <tr>\n",
       "      <th>5308</th>\n",
       "      <td>moveable feast cafe open thread view october c...</td>\n",
       "      <td>0.0</td>\n",
       "    </tr>\n",
       "    <tr>\n",
       "      <th>5309</th>\n",
       "      <td>saudi threaten opec oil freeze iran row saudi ...</td>\n",
       "      <td>0.0</td>\n",
       "    </tr>\n",
       "  </tbody>\n",
       "</table>\n",
       "<p>5310 rows × 2 columns</p>\n",
       "</div>\n",
       "      <button class=\"colab-df-convert\" onclick=\"convertToInteractive('df-b4dc2c83-a4a4-4226-8542-cfe1c4d4f9ab')\"\n",
       "              title=\"Convert this dataframe to an interactive table.\"\n",
       "              style=\"display:none;\">\n",
       "        \n",
       "  <svg xmlns=\"http://www.w3.org/2000/svg\" height=\"24px\"viewBox=\"0 0 24 24\"\n",
       "       width=\"24px\">\n",
       "    <path d=\"M0 0h24v24H0V0z\" fill=\"none\"/>\n",
       "    <path d=\"M18.56 5.44l.94 2.06.94-2.06 2.06-.94-2.06-.94-.94-2.06-.94 2.06-2.06.94zm-11 1L8.5 8.5l.94-2.06 2.06-.94-2.06-.94L8.5 2.5l-.94 2.06-2.06.94zm10 10l.94 2.06.94-2.06 2.06-.94-2.06-.94-.94-2.06-.94 2.06-2.06.94z\"/><path d=\"M17.41 7.96l-1.37-1.37c-.4-.4-.92-.59-1.43-.59-.52 0-1.04.2-1.43.59L10.3 9.45l-7.72 7.72c-.78.78-.78 2.05 0 2.83L4 21.41c.39.39.9.59 1.41.59.51 0 1.02-.2 1.41-.59l7.78-7.78 2.81-2.81c.8-.78.8-2.07 0-2.86zM5.41 20L4 18.59l7.72-7.72 1.47 1.35L5.41 20z\"/>\n",
       "  </svg>\n",
       "      </button>\n",
       "      \n",
       "  <style>\n",
       "    .colab-df-container {\n",
       "      display:flex;\n",
       "      flex-wrap:wrap;\n",
       "      gap: 12px;\n",
       "    }\n",
       "\n",
       "    .colab-df-convert {\n",
       "      background-color: #E8F0FE;\n",
       "      border: none;\n",
       "      border-radius: 50%;\n",
       "      cursor: pointer;\n",
       "      display: none;\n",
       "      fill: #1967D2;\n",
       "      height: 32px;\n",
       "      padding: 0 0 0 0;\n",
       "      width: 32px;\n",
       "    }\n",
       "\n",
       "    .colab-df-convert:hover {\n",
       "      background-color: #E2EBFA;\n",
       "      box-shadow: 0px 1px 2px rgba(60, 64, 67, 0.3), 0px 1px 3px 1px rgba(60, 64, 67, 0.15);\n",
       "      fill: #174EA6;\n",
       "    }\n",
       "\n",
       "    [theme=dark] .colab-df-convert {\n",
       "      background-color: #3B4455;\n",
       "      fill: #D2E3FC;\n",
       "    }\n",
       "\n",
       "    [theme=dark] .colab-df-convert:hover {\n",
       "      background-color: #434B5C;\n",
       "      box-shadow: 0px 1px 3px 1px rgba(0, 0, 0, 0.15);\n",
       "      filter: drop-shadow(0px 1px 2px rgba(0, 0, 0, 0.3));\n",
       "      fill: #FFFFFF;\n",
       "    }\n",
       "  </style>\n",
       "\n",
       "      <script>\n",
       "        const buttonEl =\n",
       "          document.querySelector('#df-b4dc2c83-a4a4-4226-8542-cfe1c4d4f9ab button.colab-df-convert');\n",
       "        buttonEl.style.display =\n",
       "          google.colab.kernel.accessAllowed ? 'block' : 'none';\n",
       "\n",
       "        async function convertToInteractive(key) {\n",
       "          const element = document.querySelector('#df-b4dc2c83-a4a4-4226-8542-cfe1c4d4f9ab');\n",
       "          const dataTable =\n",
       "            await google.colab.kernel.invokeFunction('convertToInteractive',\n",
       "                                                     [key], {});\n",
       "          if (!dataTable) return;\n",
       "\n",
       "          const docLinkHtml = 'Like what you see? Visit the ' +\n",
       "            '<a target=\"_blank\" href=https://colab.research.google.com/notebooks/data_table.ipynb>data table notebook</a>'\n",
       "            + ' to learn more about interactive tables.';\n",
       "          element.innerHTML = '';\n",
       "          dataTable['output_type'] = 'display_data';\n",
       "          await google.colab.output.renderOutput(dataTable, element);\n",
       "          const docLink = document.createElement('div');\n",
       "          docLink.innerHTML = docLinkHtml;\n",
       "          element.appendChild(docLink);\n",
       "        }\n",
       "      </script>\n",
       "    </div>\n",
       "  </div>\n",
       "  "
      ],
      "text/plain": [
       "                                                   text  label\n",
       "0     dark agenda behind globalism open border altma...    0.0\n",
       "1     america poor still get shaft sami jamil jadall...    0.0\n",
       "2     number accuser grow former miss finland accuse...    0.0\n",
       "3     heroic prego advertisement replaces refresh we...    0.0\n",
       "4     russia syria debbie reynolds thursday even bri...    1.0\n",
       "...                                                 ...    ...\n",
       "5305  milo eugenics alive well plan parenthood breit...    1.0\n",
       "5306  new york time offer open access web apps elect...    1.0\n",
       "5307  notice anything different msm lately print las...    0.0\n",
       "5308  moveable feast cafe open thread view october c...    0.0\n",
       "5309  saudi threaten opec oil freeze iran row saudi ...    0.0\n",
       "\n",
       "[5310 rows x 2 columns]"
      ]
     },
     "execution_count": 22,
     "metadata": {},
     "output_type": "execute_result"
    }
   ],
   "source": [
    "messages1"
   ]
  },
  {
   "cell_type": "code",
   "execution_count": 23,
   "metadata": {
    "id": "WPcImD-XSz9k"
   },
   "outputs": [],
   "source": [
    "messages1.reset_index(inplace=True)"
   ]
  },
  {
   "cell_type": "code",
   "execution_count": 24,
   "metadata": {
    "colab": {
     "base_uri": "https://localhost:8080/",
     "height": 359
    },
    "id": "-pAxBtcCSz9l",
    "outputId": "ea5fb23d-258b-498c-fbf9-7812bb6fcbd4"
   },
   "outputs": [
    {
     "data": {
      "text/html": [
       "\n",
       "  <div id=\"df-2a6441fe-58eb-4879-9328-acb70a76d85f\">\n",
       "    <div class=\"colab-df-container\">\n",
       "      <div>\n",
       "<style scoped>\n",
       "    .dataframe tbody tr th:only-of-type {\n",
       "        vertical-align: middle;\n",
       "    }\n",
       "\n",
       "    .dataframe tbody tr th {\n",
       "        vertical-align: top;\n",
       "    }\n",
       "\n",
       "    .dataframe thead th {\n",
       "        text-align: right;\n",
       "    }\n",
       "</style>\n",
       "<table border=\"1\" class=\"dataframe\">\n",
       "  <thead>\n",
       "    <tr style=\"text-align: right;\">\n",
       "      <th></th>\n",
       "      <th>index</th>\n",
       "      <th>text</th>\n",
       "      <th>label</th>\n",
       "    </tr>\n",
       "  </thead>\n",
       "  <tbody>\n",
       "    <tr>\n",
       "      <th>0</th>\n",
       "      <td>0</td>\n",
       "      <td>dark agenda behind globalism open border altma...</td>\n",
       "      <td>0.0</td>\n",
       "    </tr>\n",
       "    <tr>\n",
       "      <th>1</th>\n",
       "      <td>1</td>\n",
       "      <td>america poor still get shaft sami jamil jadall...</td>\n",
       "      <td>0.0</td>\n",
       "    </tr>\n",
       "    <tr>\n",
       "      <th>2</th>\n",
       "      <td>2</td>\n",
       "      <td>number accuser grow former miss finland accuse...</td>\n",
       "      <td>0.0</td>\n",
       "    </tr>\n",
       "    <tr>\n",
       "      <th>3</th>\n",
       "      <td>3</td>\n",
       "      <td>heroic prego advertisement replaces refresh we...</td>\n",
       "      <td>0.0</td>\n",
       "    </tr>\n",
       "    <tr>\n",
       "      <th>4</th>\n",
       "      <td>4</td>\n",
       "      <td>russia syria debbie reynolds thursday even bri...</td>\n",
       "      <td>1.0</td>\n",
       "    </tr>\n",
       "    <tr>\n",
       "      <th>5</th>\n",
       "      <td>5</td>\n",
       "      <td>come ice age consciousness afterlife come ice ...</td>\n",
       "      <td>0.0</td>\n",
       "    </tr>\n",
       "    <tr>\n",
       "      <th>6</th>\n",
       "      <td>6</td>\n",
       "      <td>russia ask cia hillary clinton buy million wor...</td>\n",
       "      <td>0.0</td>\n",
       "    </tr>\n",
       "    <tr>\n",
       "      <th>7</th>\n",
       "      <td>7</td>\n",
       "      <td>supreme court say police may use evidence find...</td>\n",
       "      <td>1.0</td>\n",
       "    </tr>\n",
       "    <tr>\n",
       "      <th>8</th>\n",
       "      <td>8</td>\n",
       "      <td>msnbc screw interview two africanamerican dona...</td>\n",
       "      <td>0.0</td>\n",
       "    </tr>\n",
       "    <tr>\n",
       "      <th>9</th>\n",
       "      <td>9</td>\n",
       "      <td>trump vow quick action stop terrorism setback ...</td>\n",
       "      <td>1.0</td>\n",
       "    </tr>\n",
       "  </tbody>\n",
       "</table>\n",
       "</div>\n",
       "      <button class=\"colab-df-convert\" onclick=\"convertToInteractive('df-2a6441fe-58eb-4879-9328-acb70a76d85f')\"\n",
       "              title=\"Convert this dataframe to an interactive table.\"\n",
       "              style=\"display:none;\">\n",
       "        \n",
       "  <svg xmlns=\"http://www.w3.org/2000/svg\" height=\"24px\"viewBox=\"0 0 24 24\"\n",
       "       width=\"24px\">\n",
       "    <path d=\"M0 0h24v24H0V0z\" fill=\"none\"/>\n",
       "    <path d=\"M18.56 5.44l.94 2.06.94-2.06 2.06-.94-2.06-.94-.94-2.06-.94 2.06-2.06.94zm-11 1L8.5 8.5l.94-2.06 2.06-.94-2.06-.94L8.5 2.5l-.94 2.06-2.06.94zm10 10l.94 2.06.94-2.06 2.06-.94-2.06-.94-.94-2.06-.94 2.06-2.06.94z\"/><path d=\"M17.41 7.96l-1.37-1.37c-.4-.4-.92-.59-1.43-.59-.52 0-1.04.2-1.43.59L10.3 9.45l-7.72 7.72c-.78.78-.78 2.05 0 2.83L4 21.41c.39.39.9.59 1.41.59.51 0 1.02-.2 1.41-.59l7.78-7.78 2.81-2.81c.8-.78.8-2.07 0-2.86zM5.41 20L4 18.59l7.72-7.72 1.47 1.35L5.41 20z\"/>\n",
       "  </svg>\n",
       "      </button>\n",
       "      \n",
       "  <style>\n",
       "    .colab-df-container {\n",
       "      display:flex;\n",
       "      flex-wrap:wrap;\n",
       "      gap: 12px;\n",
       "    }\n",
       "\n",
       "    .colab-df-convert {\n",
       "      background-color: #E8F0FE;\n",
       "      border: none;\n",
       "      border-radius: 50%;\n",
       "      cursor: pointer;\n",
       "      display: none;\n",
       "      fill: #1967D2;\n",
       "      height: 32px;\n",
       "      padding: 0 0 0 0;\n",
       "      width: 32px;\n",
       "    }\n",
       "\n",
       "    .colab-df-convert:hover {\n",
       "      background-color: #E2EBFA;\n",
       "      box-shadow: 0px 1px 2px rgba(60, 64, 67, 0.3), 0px 1px 3px 1px rgba(60, 64, 67, 0.15);\n",
       "      fill: #174EA6;\n",
       "    }\n",
       "\n",
       "    [theme=dark] .colab-df-convert {\n",
       "      background-color: #3B4455;\n",
       "      fill: #D2E3FC;\n",
       "    }\n",
       "\n",
       "    [theme=dark] .colab-df-convert:hover {\n",
       "      background-color: #434B5C;\n",
       "      box-shadow: 0px 1px 3px 1px rgba(0, 0, 0, 0.15);\n",
       "      filter: drop-shadow(0px 1px 2px rgba(0, 0, 0, 0.3));\n",
       "      fill: #FFFFFF;\n",
       "    }\n",
       "  </style>\n",
       "\n",
       "      <script>\n",
       "        const buttonEl =\n",
       "          document.querySelector('#df-2a6441fe-58eb-4879-9328-acb70a76d85f button.colab-df-convert');\n",
       "        buttonEl.style.display =\n",
       "          google.colab.kernel.accessAllowed ? 'block' : 'none';\n",
       "\n",
       "        async function convertToInteractive(key) {\n",
       "          const element = document.querySelector('#df-2a6441fe-58eb-4879-9328-acb70a76d85f');\n",
       "          const dataTable =\n",
       "            await google.colab.kernel.invokeFunction('convertToInteractive',\n",
       "                                                     [key], {});\n",
       "          if (!dataTable) return;\n",
       "\n",
       "          const docLinkHtml = 'Like what you see? Visit the ' +\n",
       "            '<a target=\"_blank\" href=https://colab.research.google.com/notebooks/data_table.ipynb>data table notebook</a>'\n",
       "            + ' to learn more about interactive tables.';\n",
       "          element.innerHTML = '';\n",
       "          dataTable['output_type'] = 'display_data';\n",
       "          await google.colab.output.renderOutput(dataTable, element);\n",
       "          const docLink = document.createElement('div');\n",
       "          docLink.innerHTML = docLinkHtml;\n",
       "          element.appendChild(docLink);\n",
       "        }\n",
       "      </script>\n",
       "    </div>\n",
       "  </div>\n",
       "  "
      ],
      "text/plain": [
       "   index                                               text  label\n",
       "0      0  dark agenda behind globalism open border altma...    0.0\n",
       "1      1  america poor still get shaft sami jamil jadall...    0.0\n",
       "2      2  number accuser grow former miss finland accuse...    0.0\n",
       "3      3  heroic prego advertisement replaces refresh we...    0.0\n",
       "4      4  russia syria debbie reynolds thursday even bri...    1.0\n",
       "5      5  come ice age consciousness afterlife come ice ...    0.0\n",
       "6      6  russia ask cia hillary clinton buy million wor...    0.0\n",
       "7      7  supreme court say police may use evidence find...    1.0\n",
       "8      8  msnbc screw interview two africanamerican dona...    0.0\n",
       "9      9  trump vow quick action stop terrorism setback ...    1.0"
      ]
     },
     "execution_count": 24,
     "metadata": {},
     "output_type": "execute_result"
    }
   ],
   "source": [
    "messages1.head(10)"
   ]
  },
  {
   "cell_type": "code",
   "execution_count": 25,
   "metadata": {
    "colab": {
     "base_uri": "https://localhost:8080/",
     "height": 208
    },
    "id": "_pqbQ9ANSz9l",
    "outputId": "74e1cc89-1a82-4b61-f778-80730b12f55b"
   },
   "outputs": [
    {
     "data": {
      "application/vnd.google.colaboratory.intrinsic+json": {
       "type": "string"
      },
      "text/plain": [
       "'russia ask cia hillary clinton buy million worth illegal arm stun foreign intelligence service svr report circulate kremlin today reveal security council sc morning authorize send american central intelligence agency cia emergency communiqu request immediate explanation hillary clinton money launder organization know clinton foundation past week purchase million illegal arm ammunition whose destination united state delivery mark midnovember note word andor phrase appear quote report english language approximation russian wordsphrases exact counterpart accord report svr analyst begin express urgent concern earlier year main elementsfactions fear viktor bout international arm smuggle crime organization begin arrive republic albania muslim nation europe viktor bout report explain popularly know west lord war working cia smuggle illegal weapon throughout world maniacal interest united state secretary state hillary clinton jail though citizen federation report continue svr complaintconcern hillary clinton bout jailed year internal matter cia whose intelligence analyst express worryconfusion past may u federal judge shira scheindlin say reduced sentence lead yesterday bout suddenlymagically transfer maximum security country club atmosphere general ward u federal prison he confine cia illegal arm smuggler viktor bout coincide bout mysteriousmagical prison transfer yesterday report note hillary clinton money launder clinton foundation transfer million socialist party albania spa control nation prime minister edi rama head xhakja clan know west albanian mafia also shockingly put power obamaclinton regime protest albanian people want mafia government control hillary clinton leave albanian xhakja clan mafia crime leader edi rama right hillary clinton international arm merchant prime minister rama turn entire balkan region one worlds large area arm smuggle threatens security report warn aided effort many call puppet master hungarianamerican billionaire george soros recently release shock secret email show order hillary clinton install mafia criminal leader albania fully understand hillary clinton make massive arm purchase doubt aid cia arm smuggler viktor bout svr analyst report explain adherence george soross radical vision open border singlehandedly begin implement create european refugee crisis likewise engulf united state hillary clinton become president exactly secret email reveals plan also report continue federation know well sorosclinton master plan take nation begin establishment call nongovernmental organization ngo act shadow government ready take power establish order throw chaos massive protest president putin ban operating russia united state however report grimly state american people defense shadow government ngo svr intelligence assests document report receive party hillary clinton massive arm purchase include george soros create ngos call open society foundation medium matter american institute social justice new america foundation migration policy institute tide foundation center american progress democracy alliance every single one stand violently oppose u constitution american people weapon hand hillary clinton new revolutionary report continue use unleash terror wave across america protest donald trump landslide victory thus enable president obama declare martial law disarm people allow u elector place hillary clinton power note american president elect voting citizen vote elector select nation state report sadly conclude though note massive vote fraud already commit hillary clinton new revolutionary throughout united state lead past week former u congressman joe walsh stunningly state trump lose grab musket reference one darkest time american history nation ordinary citizen band together fight british empire freedom strike fear americans hillary clinton new revolutionary right nothing'"
      ]
     },
     "execution_count": 25,
     "metadata": {},
     "output_type": "execute_result"
    }
   ],
   "source": [
    "messages1['text'][6]"
   ]
  },
  {
   "cell_type": "code",
   "execution_count": 26,
   "metadata": {
    "id": "66BsCMKLSz9l"
   },
   "outputs": [],
   "source": [
    "messages2=df_test.copy()"
   ]
  },
  {
   "cell_type": "code",
   "execution_count": 27,
   "metadata": {
    "id": "vO_cndGgSz9l"
   },
   "outputs": [],
   "source": [
    "messages2.reset_index(inplace=True)"
   ]
  },
  {
   "cell_type": "code",
   "execution_count": 28,
   "metadata": {
    "colab": {
     "base_uri": "https://localhost:8080/",
     "height": 359
    },
    "id": "JQXqMUFZSz9l",
    "outputId": "094d07db-817b-41a4-937b-8d587b368d12"
   },
   "outputs": [
    {
     "data": {
      "text/html": [
       "\n",
       "  <div id=\"df-b05912f2-428b-4841-90df-3cc23c4565c2\">\n",
       "    <div class=\"colab-df-container\">\n",
       "      <div>\n",
       "<style scoped>\n",
       "    .dataframe tbody tr th:only-of-type {\n",
       "        vertical-align: middle;\n",
       "    }\n",
       "\n",
       "    .dataframe tbody tr th {\n",
       "        vertical-align: top;\n",
       "    }\n",
       "\n",
       "    .dataframe thead th {\n",
       "        text-align: right;\n",
       "    }\n",
       "</style>\n",
       "<table border=\"1\" class=\"dataframe\">\n",
       "  <thead>\n",
       "    <tr style=\"text-align: right;\">\n",
       "      <th></th>\n",
       "      <th>index</th>\n",
       "      <th>text</th>\n",
       "      <th>label</th>\n",
       "    </tr>\n",
       "  </thead>\n",
       "  <tbody>\n",
       "    <tr>\n",
       "      <th>0</th>\n",
       "      <td>0</td>\n",
       "      <td>trump promise new deal black america trump pro...</td>\n",
       "      <td>0</td>\n",
       "    </tr>\n",
       "    <tr>\n",
       "      <th>1</th>\n",
       "      <td>1</td>\n",
       "      <td>foundation tie bedevil hillary clinton preside...</td>\n",
       "      <td>1</td>\n",
       "    </tr>\n",
       "    <tr>\n",
       "      <th>2</th>\n",
       "      <td>2</td>\n",
       "      <td>number week long russia end oil dependence rbt...</td>\n",
       "      <td>0</td>\n",
       "    </tr>\n",
       "    <tr>\n",
       "      <th>3</th>\n",
       "      <td>3</td>\n",
       "      <td>codesod rule ten remy porter remy escape enter...</td>\n",
       "      <td>0</td>\n",
       "    </tr>\n",
       "    <tr>\n",
       "      <th>4</th>\n",
       "      <td>4</td>\n",
       "      <td>switch chip know anymore home scitech switch c...</td>\n",
       "      <td>0</td>\n",
       "    </tr>\n",
       "    <tr>\n",
       "      <th>5</th>\n",
       "      <td>5</td>\n",
       "      <td>donald trump russia rodrigo duterte thursday b...</td>\n",
       "      <td>1</td>\n",
       "    </tr>\n",
       "    <tr>\n",
       "      <th>6</th>\n",
       "      <td>6</td>\n",
       "      <td>mattis iraq oil reuters u military iraq seize ...</td>\n",
       "      <td>1</td>\n",
       "    </tr>\n",
       "    <tr>\n",
       "      <th>7</th>\n",
       "      <td>7</td>\n",
       "      <td>fbi actually investigate candidate hillary cli...</td>\n",
       "      <td>0</td>\n",
       "    </tr>\n",
       "    <tr>\n",
       "      <th>8</th>\n",
       "      <td>8</td>\n",
       "      <td>inperson coach university versus technology pr...</td>\n",
       "      <td>0</td>\n",
       "    </tr>\n",
       "    <tr>\n",
       "      <th>9</th>\n",
       "      <td>9</td>\n",
       "      <td>obama doj handmaiden clinton corruption go art...</td>\n",
       "      <td>0</td>\n",
       "    </tr>\n",
       "  </tbody>\n",
       "</table>\n",
       "</div>\n",
       "      <button class=\"colab-df-convert\" onclick=\"convertToInteractive('df-b05912f2-428b-4841-90df-3cc23c4565c2')\"\n",
       "              title=\"Convert this dataframe to an interactive table.\"\n",
       "              style=\"display:none;\">\n",
       "        \n",
       "  <svg xmlns=\"http://www.w3.org/2000/svg\" height=\"24px\"viewBox=\"0 0 24 24\"\n",
       "       width=\"24px\">\n",
       "    <path d=\"M0 0h24v24H0V0z\" fill=\"none\"/>\n",
       "    <path d=\"M18.56 5.44l.94 2.06.94-2.06 2.06-.94-2.06-.94-.94-2.06-.94 2.06-2.06.94zm-11 1L8.5 8.5l.94-2.06 2.06-.94-2.06-.94L8.5 2.5l-.94 2.06-2.06.94zm10 10l.94 2.06.94-2.06 2.06-.94-2.06-.94-.94-2.06-.94 2.06-2.06.94z\"/><path d=\"M17.41 7.96l-1.37-1.37c-.4-.4-.92-.59-1.43-.59-.52 0-1.04.2-1.43.59L10.3 9.45l-7.72 7.72c-.78.78-.78 2.05 0 2.83L4 21.41c.39.39.9.59 1.41.59.51 0 1.02-.2 1.41-.59l7.78-7.78 2.81-2.81c.8-.78.8-2.07 0-2.86zM5.41 20L4 18.59l7.72-7.72 1.47 1.35L5.41 20z\"/>\n",
       "  </svg>\n",
       "      </button>\n",
       "      \n",
       "  <style>\n",
       "    .colab-df-container {\n",
       "      display:flex;\n",
       "      flex-wrap:wrap;\n",
       "      gap: 12px;\n",
       "    }\n",
       "\n",
       "    .colab-df-convert {\n",
       "      background-color: #E8F0FE;\n",
       "      border: none;\n",
       "      border-radius: 50%;\n",
       "      cursor: pointer;\n",
       "      display: none;\n",
       "      fill: #1967D2;\n",
       "      height: 32px;\n",
       "      padding: 0 0 0 0;\n",
       "      width: 32px;\n",
       "    }\n",
       "\n",
       "    .colab-df-convert:hover {\n",
       "      background-color: #E2EBFA;\n",
       "      box-shadow: 0px 1px 2px rgba(60, 64, 67, 0.3), 0px 1px 3px 1px rgba(60, 64, 67, 0.15);\n",
       "      fill: #174EA6;\n",
       "    }\n",
       "\n",
       "    [theme=dark] .colab-df-convert {\n",
       "      background-color: #3B4455;\n",
       "      fill: #D2E3FC;\n",
       "    }\n",
       "\n",
       "    [theme=dark] .colab-df-convert:hover {\n",
       "      background-color: #434B5C;\n",
       "      box-shadow: 0px 1px 3px 1px rgba(0, 0, 0, 0.15);\n",
       "      filter: drop-shadow(0px 1px 2px rgba(0, 0, 0, 0.3));\n",
       "      fill: #FFFFFF;\n",
       "    }\n",
       "  </style>\n",
       "\n",
       "      <script>\n",
       "        const buttonEl =\n",
       "          document.querySelector('#df-b05912f2-428b-4841-90df-3cc23c4565c2 button.colab-df-convert');\n",
       "        buttonEl.style.display =\n",
       "          google.colab.kernel.accessAllowed ? 'block' : 'none';\n",
       "\n",
       "        async function convertToInteractive(key) {\n",
       "          const element = document.querySelector('#df-b05912f2-428b-4841-90df-3cc23c4565c2');\n",
       "          const dataTable =\n",
       "            await google.colab.kernel.invokeFunction('convertToInteractive',\n",
       "                                                     [key], {});\n",
       "          if (!dataTable) return;\n",
       "\n",
       "          const docLinkHtml = 'Like what you see? Visit the ' +\n",
       "            '<a target=\"_blank\" href=https://colab.research.google.com/notebooks/data_table.ipynb>data table notebook</a>'\n",
       "            + ' to learn more about interactive tables.';\n",
       "          element.innerHTML = '';\n",
       "          dataTable['output_type'] = 'display_data';\n",
       "          await google.colab.output.renderOutput(dataTable, element);\n",
       "          const docLink = document.createElement('div');\n",
       "          docLink.innerHTML = docLinkHtml;\n",
       "          element.appendChild(docLink);\n",
       "        }\n",
       "      </script>\n",
       "    </div>\n",
       "  </div>\n",
       "  "
      ],
      "text/plain": [
       "   index                                               text  label\n",
       "0      0  trump promise new deal black america trump pro...      0\n",
       "1      1  foundation tie bedevil hillary clinton preside...      1\n",
       "2      2  number week long russia end oil dependence rbt...      0\n",
       "3      3  codesod rule ten remy porter remy escape enter...      0\n",
       "4      4  switch chip know anymore home scitech switch c...      0\n",
       "5      5  donald trump russia rodrigo duterte thursday b...      1\n",
       "6      6  mattis iraq oil reuters u military iraq seize ...      1\n",
       "7      7  fbi actually investigate candidate hillary cli...      0\n",
       "8      8  inperson coach university versus technology pr...      0\n",
       "9      9  obama doj handmaiden clinton corruption go art...      0"
      ]
     },
     "execution_count": 28,
     "metadata": {},
     "output_type": "execute_result"
    }
   ],
   "source": [
    "messages2.head(10)"
   ]
  },
  {
   "cell_type": "code",
   "execution_count": 29,
   "metadata": {
    "colab": {
     "base_uri": "https://localhost:8080/"
    },
    "id": "BcHftGBMUEf5",
    "outputId": "66b9cfab-4b6c-45fa-990d-48e8e4db3fc8"
   },
   "outputs": [
    {
     "name": "stdout",
     "output_type": "stream",
     "text": [
      "Requirement already satisfied: nltk in /usr/local/lib/python3.7/dist-packages (3.2.5)\n",
      "Requirement already satisfied: six in /usr/local/lib/python3.7/dist-packages (from nltk) (1.15.0)\n"
     ]
    }
   ],
   "source": [
    "!pip install nltk"
   ]
  },
  {
   "cell_type": "code",
   "execution_count": 30,
   "metadata": {
    "colab": {
     "base_uri": "https://localhost:8080/"
    },
    "id": "PdB-LejPUS7i",
    "outputId": "5a75342e-1cf4-440e-fed2-0564d3a3b4f9"
   },
   "outputs": [
    {
     "name": "stdout",
     "output_type": "stream",
     "text": [
      "Requirement already satisfied: nltk in /usr/local/lib/python3.7/dist-packages (3.2.5)\n",
      "Collecting stopwords\n",
      "  Downloading stopwords-1.0.0-py2.py3-none-any.whl (37 kB)\n",
      "Requirement already satisfied: six in /usr/local/lib/python3.7/dist-packages (from nltk) (1.15.0)\n",
      "Installing collected packages: stopwords\n",
      "Successfully installed stopwords-1.0.0\n"
     ]
    }
   ],
   "source": [
    "!pip install nltk stopwords"
   ]
  },
  {
   "cell_type": "code",
   "execution_count": 31,
   "metadata": {
    "colab": {
     "base_uri": "https://localhost:8080/"
    },
    "id": "lXOsgC0TUeZC",
    "outputId": "0f1e6930-2bb6-444a-86d9-81e142a9c8df"
   },
   "outputs": [
    {
     "name": "stdout",
     "output_type": "stream",
     "text": [
      "[nltk_data] Downloading package stopwords to /root/nltk_data...\n",
      "[nltk_data]   Unzipping corpora/stopwords.zip.\n"
     ]
    },
    {
     "data": {
      "text/plain": [
       "True"
      ]
     },
     "execution_count": 31,
     "metadata": {},
     "output_type": "execute_result"
    }
   ],
   "source": [
    "import nltk\n",
    "nltk.download('stopwords')"
   ]
  },
  {
   "cell_type": "code",
   "execution_count": 32,
   "metadata": {
    "id": "G-Xk7AGrSz9l"
   },
   "outputs": [],
   "source": [
    "from nltk.corpus import stopwords\n",
    "from nltk.stem.porter import PorterStemmer\n",
    "ps = PorterStemmer()\n",
    "corpus = []\n",
    "for i in range(0, len(messages1)):\n",
    "    review = re.sub('[^a-zA-Z]', ' ', messages1['text'][i])\n",
    "    review = review.lower()\n",
    "    review = review.split()\n",
    "    \n",
    "    review = [ps.stem(word) for word in review if not word in stopwords.words('english')]\n",
    "    review = ' '.join(review)\n",
    "    corpus.append(review)"
   ]
  },
  {
   "cell_type": "code",
   "execution_count": 33,
   "metadata": {
    "colab": {
     "base_uri": "https://localhost:8080/"
    },
    "id": "wUtJ1ccDSz9m",
    "outputId": "c6d5f20b-2513-4eaa-f0d1-163dd9281dd6"
   },
   "outputs": [
    {
     "data": {
      "text/plain": [
       "5310"
      ]
     },
     "execution_count": 33,
     "metadata": {},
     "output_type": "execute_result"
    }
   ],
   "source": [
    "len(corpus)"
   ]
  },
  {
   "cell_type": "code",
   "execution_count": 34,
   "metadata": {
    "id": "zktw0MdESz9m"
   },
   "outputs": [],
   "source": [
    "from nltk.corpus import stopwords\n",
    "from nltk.stem.porter import PorterStemmer\n",
    "ps1 = PorterStemmer()\n",
    "corpus1 = []\n",
    "for i in range(0, len(messages2)):\n",
    "    review = re.sub('[^a-zA-Z]', ' ', messages2['text'][i])\n",
    "    review = review.lower()\n",
    "    review = review.split()\n",
    "    \n",
    "    review = [ps1.stem(word) for word in review if not word in stopwords.words('english')]\n",
    "    review = ' '.join(review)\n",
    "    corpus1.append(review)"
   ]
  },
  {
   "cell_type": "code",
   "execution_count": 35,
   "metadata": {
    "colab": {
     "base_uri": "https://localhost:8080/"
    },
    "id": "UekZKox1Sz9m",
    "outputId": "739189e6-3908-45fc-f0b3-3773ce29770a"
   },
   "outputs": [
    {
     "data": {
      "text/plain": [
       "4035"
      ]
     },
     "execution_count": 35,
     "metadata": {},
     "output_type": "execute_result"
    }
   ],
   "source": [
    "len(corpus1)"
   ]
  },
  {
   "cell_type": "code",
   "execution_count": 36,
   "metadata": {
    "id": "Kf1YAjBjSz9m"
   },
   "outputs": [],
   "source": [
    "## Applying Countvectorizer\n",
    "# Creating the Bag of Words model\n",
    "from sklearn.feature_extraction.text import CountVectorizer\n",
    "cv = CountVectorizer(max_features=5000,ngram_range=(1,3))\n",
    "X = cv.fit_transform(corpus).toarray()"
   ]
  },
  {
   "cell_type": "code",
   "execution_count": 37,
   "metadata": {
    "colab": {
     "base_uri": "https://localhost:8080/"
    },
    "id": "9fTnl-t7Sz9m",
    "outputId": "916546df-7842-406f-8ef3-441e654a5840"
   },
   "outputs": [
    {
     "data": {
      "text/plain": [
       "(5310, 5000)"
      ]
     },
     "execution_count": 37,
     "metadata": {},
     "output_type": "execute_result"
    }
   ],
   "source": [
    "X.shape"
   ]
  },
  {
   "cell_type": "code",
   "execution_count": 38,
   "metadata": {
    "id": "Zx8m1x2jSz9n"
   },
   "outputs": [],
   "source": [
    "X_train=X"
   ]
  },
  {
   "cell_type": "code",
   "execution_count": 39,
   "metadata": {
    "id": "iCQh4G0xSz9n"
   },
   "outputs": [],
   "source": [
    "## Applying Countvectorizer\n",
    "# Creating the Bag of Words model\n",
    "from sklearn.feature_extraction.text import CountVectorizer\n",
    "cv2 = CountVectorizer(max_features=5000,ngram_range=(1,3))\n",
    "P= cv2.fit_transform(corpus1).toarray()"
   ]
  },
  {
   "cell_type": "code",
   "execution_count": 40,
   "metadata": {
    "colab": {
     "base_uri": "https://localhost:8080/"
    },
    "id": "oITwOlPeSz9n",
    "outputId": "4bd2c10e-579c-4d93-deca-de6cfb09e9b0"
   },
   "outputs": [
    {
     "data": {
      "text/plain": [
       "(4035, 5000)"
      ]
     },
     "execution_count": 40,
     "metadata": {},
     "output_type": "execute_result"
    }
   ],
   "source": [
    "P.shape"
   ]
  },
  {
   "cell_type": "code",
   "execution_count": 41,
   "metadata": {
    "id": "pRNcXXPHSz9n"
   },
   "outputs": [],
   "source": [
    "X_test=P"
   ]
  },
  {
   "cell_type": "code",
   "execution_count": 42,
   "metadata": {
    "id": "VRSl7LpLSz9n"
   },
   "outputs": [],
   "source": [
    "y_train=messages1['label']"
   ]
  },
  {
   "cell_type": "code",
   "execution_count": 43,
   "metadata": {
    "colab": {
     "base_uri": "https://localhost:8080/"
    },
    "id": "2FZ1tP69Sz9n",
    "outputId": "c8684cdf-bfb4-4ba5-f19d-197efabd4c85"
   },
   "outputs": [
    {
     "data": {
      "text/plain": [
       "0       0.0\n",
       "1       0.0\n",
       "2       0.0\n",
       "3       0.0\n",
       "4       1.0\n",
       "       ... \n",
       "5305    1.0\n",
       "5306    1.0\n",
       "5307    0.0\n",
       "5308    0.0\n",
       "5309    0.0\n",
       "Name: label, Length: 5310, dtype: float64"
      ]
     },
     "execution_count": 43,
     "metadata": {},
     "output_type": "execute_result"
    }
   ],
   "source": [
    "y_train"
   ]
  },
  {
   "cell_type": "code",
   "execution_count": 44,
   "metadata": {
    "id": "Rja1KcRZSz9o"
   },
   "outputs": [],
   "source": [
    "y_test=messages2['label']"
   ]
  },
  {
   "cell_type": "code",
   "execution_count": 45,
   "metadata": {
    "colab": {
     "base_uri": "https://localhost:8080/"
    },
    "id": "fjvohzfgSz9o",
    "outputId": "dca8dfbd-4de2-4f53-9a23-f9dd62f1b830"
   },
   "outputs": [
    {
     "data": {
      "text/plain": [
       "0       0\n",
       "1       1\n",
       "2       0\n",
       "3       0\n",
       "4       0\n",
       "       ..\n",
       "4030    1\n",
       "4031    0\n",
       "4032    1\n",
       "4033    1\n",
       "4034    1\n",
       "Name: label, Length: 4035, dtype: int64"
      ]
     },
     "execution_count": 45,
     "metadata": {},
     "output_type": "execute_result"
    }
   ],
   "source": [
    "y_test"
   ]
  },
  {
   "cell_type": "code",
   "execution_count": 46,
   "metadata": {
    "colab": {
     "base_uri": "https://localhost:8080/"
    },
    "id": "p2qdJsqNSz9o",
    "outputId": "e216943d-5c30-4b7e-cae1-14e1e3f2d9b8"
   },
   "outputs": [
    {
     "data": {
      "text/plain": [
       "(array([[0, 0, 0, ..., 0, 0, 0],\n",
       "        [0, 0, 0, ..., 0, 0, 0],\n",
       "        [0, 0, 0, ..., 0, 0, 0],\n",
       "        ...,\n",
       "        [0, 0, 0, ..., 0, 0, 0],\n",
       "        [0, 0, 0, ..., 0, 0, 0],\n",
       "        [0, 0, 0, ..., 0, 0, 0]]), array([[0, 0, 0, ..., 0, 0, 0],\n",
       "        [0, 0, 0, ..., 0, 0, 0],\n",
       "        [0, 0, 0, ..., 0, 0, 0],\n",
       "        ...,\n",
       "        [0, 0, 0, ..., 0, 0, 2],\n",
       "        [0, 0, 0, ..., 0, 0, 0],\n",
       "        [0, 0, 0, ..., 0, 0, 0]]), 0       0.0\n",
       " 1       0.0\n",
       " 2       0.0\n",
       " 3       0.0\n",
       " 4       1.0\n",
       "        ... \n",
       " 5305    1.0\n",
       " 5306    1.0\n",
       " 5307    0.0\n",
       " 5308    0.0\n",
       " 5309    0.0\n",
       " Name: label, Length: 5310, dtype: float64, 0       0\n",
       " 1       1\n",
       " 2       0\n",
       " 3       0\n",
       " 4       0\n",
       "        ..\n",
       " 4030    1\n",
       " 4031    0\n",
       " 4032    1\n",
       " 4033    1\n",
       " 4034    1\n",
       " Name: label, Length: 4035, dtype: int64)"
      ]
     },
     "execution_count": 46,
     "metadata": {},
     "output_type": "execute_result"
    }
   ],
   "source": [
    "X_train, X_test, y_train, y_test  "
   ]
  },
  {
   "cell_type": "code",
   "execution_count": 47,
   "metadata": {
    "colab": {
     "base_uri": "https://localhost:8080/"
    },
    "id": "WWsgzTVgSz9o",
    "outputId": "de0eb6ab-0b92-42f4-b815-665d0c1ee584"
   },
   "outputs": [
    {
     "name": "stderr",
     "output_type": "stream",
     "text": [
      "/usr/local/lib/python3.7/dist-packages/sklearn/utils/deprecation.py:87: FutureWarning: Function get_feature_names is deprecated; get_feature_names is deprecated in 1.0 and will be removed in 1.2. Please use get_feature_names_out instead.\n",
      "  warnings.warn(msg, category=FutureWarning)\n"
     ]
    },
    {
     "data": {
      "text/plain": [
       "['aaron',\n",
       " 'abandon',\n",
       " 'abc',\n",
       " 'abc news',\n",
       " 'abe',\n",
       " 'abedin',\n",
       " 'abil',\n",
       " 'abl',\n",
       " 'abort',\n",
       " 'abroad',\n",
       " 'absenc',\n",
       " 'absolut',\n",
       " 'absorb',\n",
       " 'absurd',\n",
       " 'abu',\n",
       " 'abus',\n",
       " 'academ',\n",
       " 'academi',\n",
       " 'acceler',\n",
       " 'accent']"
      ]
     },
     "execution_count": 47,
     "metadata": {},
     "output_type": "execute_result"
    }
   ],
   "source": [
    "cv.get_feature_names()[:20]"
   ]
  },
  {
   "cell_type": "code",
   "execution_count": 48,
   "metadata": {
    "colab": {
     "base_uri": "https://localhost:8080/"
    },
    "id": "KZmqs0TBSz9o",
    "outputId": "9764851a-2f06-40a4-d8aa-dbbdbc4a43ae"
   },
   "outputs": [
    {
     "name": "stderr",
     "output_type": "stream",
     "text": [
      "/usr/local/lib/python3.7/dist-packages/sklearn/utils/deprecation.py:87: FutureWarning: Function get_feature_names is deprecated; get_feature_names is deprecated in 1.0 and will be removed in 1.2. Please use get_feature_names_out instead.\n",
      "  warnings.warn(msg, category=FutureWarning)\n"
     ]
    },
    {
     "data": {
      "text/plain": [
       "['aaron',\n",
       " 'abandon',\n",
       " 'abc',\n",
       " 'abe',\n",
       " 'abedin',\n",
       " 'abil',\n",
       " 'abl',\n",
       " 'abort',\n",
       " 'abroad',\n",
       " 'absenc',\n",
       " 'absolut',\n",
       " 'absorb',\n",
       " 'absurd',\n",
       " 'abu',\n",
       " 'abus',\n",
       " 'academ',\n",
       " 'academi',\n",
       " 'acceler',\n",
       " 'accept',\n",
       " 'access']"
      ]
     },
     "execution_count": 48,
     "metadata": {},
     "output_type": "execute_result"
    }
   ],
   "source": [
    "cv2.get_feature_names()[:20]"
   ]
  },
  {
   "cell_type": "code",
   "execution_count": 49,
   "metadata": {
    "colab": {
     "base_uri": "https://localhost:8080/"
    },
    "id": "tJB2wLS-Sz9o",
    "outputId": "c446f2f6-bbb4-42d2-a608-7bd06ed0e293"
   },
   "outputs": [
    {
     "data": {
      "text/plain": [
       "{'analyzer': 'word',\n",
       " 'binary': False,\n",
       " 'decode_error': 'strict',\n",
       " 'dtype': numpy.int64,\n",
       " 'encoding': 'utf-8',\n",
       " 'input': 'content',\n",
       " 'lowercase': True,\n",
       " 'max_df': 1.0,\n",
       " 'max_features': 5000,\n",
       " 'min_df': 1,\n",
       " 'ngram_range': (1, 3),\n",
       " 'preprocessor': None,\n",
       " 'stop_words': None,\n",
       " 'strip_accents': None,\n",
       " 'token_pattern': '(?u)\\\\b\\\\w\\\\w+\\\\b',\n",
       " 'tokenizer': None,\n",
       " 'vocabulary': None}"
      ]
     },
     "execution_count": 49,
     "metadata": {},
     "output_type": "execute_result"
    }
   ],
   "source": [
    "cv.get_params()"
   ]
  },
  {
   "cell_type": "code",
   "execution_count": 50,
   "metadata": {
    "colab": {
     "base_uri": "https://localhost:8080/"
    },
    "id": "ggskq7LqSz9p",
    "outputId": "2eebb6b0-6307-4ebd-fad9-4a77f006274d"
   },
   "outputs": [
    {
     "data": {
      "text/plain": [
       "{'analyzer': 'word',\n",
       " 'binary': False,\n",
       " 'decode_error': 'strict',\n",
       " 'dtype': numpy.int64,\n",
       " 'encoding': 'utf-8',\n",
       " 'input': 'content',\n",
       " 'lowercase': True,\n",
       " 'max_df': 1.0,\n",
       " 'max_features': 5000,\n",
       " 'min_df': 1,\n",
       " 'ngram_range': (1, 3),\n",
       " 'preprocessor': None,\n",
       " 'stop_words': None,\n",
       " 'strip_accents': None,\n",
       " 'token_pattern': '(?u)\\\\b\\\\w\\\\w+\\\\b',\n",
       " 'tokenizer': None,\n",
       " 'vocabulary': None}"
      ]
     },
     "execution_count": 50,
     "metadata": {},
     "output_type": "execute_result"
    }
   ],
   "source": [
    "cv2.get_params()"
   ]
  },
  {
   "cell_type": "code",
   "execution_count": 51,
   "metadata": {
    "colab": {
     "base_uri": "https://localhost:8080/"
    },
    "id": "AqyvmTr8Sz9p",
    "outputId": "53ca8000-440b-436d-d97a-a697cafdfbf8"
   },
   "outputs": [
    {
     "name": "stderr",
     "output_type": "stream",
     "text": [
      "/usr/local/lib/python3.7/dist-packages/sklearn/utils/deprecation.py:87: FutureWarning: Function get_feature_names is deprecated; get_feature_names is deprecated in 1.0 and will be removed in 1.2. Please use get_feature_names_out instead.\n",
      "  warnings.warn(msg, category=FutureWarning)\n"
     ]
    }
   ],
   "source": [
    "count_df = pd.DataFrame(X_train, columns=cv.get_feature_names())"
   ]
  },
  {
   "cell_type": "code",
   "execution_count": 52,
   "metadata": {
    "colab": {
     "base_uri": "https://localhost:8080/",
     "height": 314
    },
    "id": "BQSuHDFQSz9p",
    "outputId": "8833a6b4-a273-40c0-8709-520724825b39"
   },
   "outputs": [
    {
     "data": {
      "text/html": [
       "\n",
       "  <div id=\"df-e2dd5ef7-102f-43f7-a043-2d10909fd863\">\n",
       "    <div class=\"colab-df-container\">\n",
       "      <div>\n",
       "<style scoped>\n",
       "    .dataframe tbody tr th:only-of-type {\n",
       "        vertical-align: middle;\n",
       "    }\n",
       "\n",
       "    .dataframe tbody tr th {\n",
       "        vertical-align: top;\n",
       "    }\n",
       "\n",
       "    .dataframe thead th {\n",
       "        text-align: right;\n",
       "    }\n",
       "</style>\n",
       "<table border=\"1\" class=\"dataframe\">\n",
       "  <thead>\n",
       "    <tr style=\"text-align: right;\">\n",
       "      <th></th>\n",
       "      <th>aaron</th>\n",
       "      <th>abandon</th>\n",
       "      <th>abc</th>\n",
       "      <th>abc news</th>\n",
       "      <th>abe</th>\n",
       "      <th>abedin</th>\n",
       "      <th>abil</th>\n",
       "      <th>abl</th>\n",
       "      <th>abort</th>\n",
       "      <th>abroad</th>\n",
       "      <th>...</th>\n",
       "      <th>york time washington</th>\n",
       "      <th>yorker</th>\n",
       "      <th>young</th>\n",
       "      <th>young peopl</th>\n",
       "      <th>youth</th>\n",
       "      <th>youtub</th>\n",
       "      <th>zero</th>\n",
       "      <th>zika</th>\n",
       "      <th>zone</th>\n",
       "      <th>zuckerberg</th>\n",
       "    </tr>\n",
       "  </thead>\n",
       "  <tbody>\n",
       "    <tr>\n",
       "      <th>0</th>\n",
       "      <td>0</td>\n",
       "      <td>0</td>\n",
       "      <td>0</td>\n",
       "      <td>0</td>\n",
       "      <td>0</td>\n",
       "      <td>0</td>\n",
       "      <td>1</td>\n",
       "      <td>2</td>\n",
       "      <td>0</td>\n",
       "      <td>0</td>\n",
       "      <td>...</td>\n",
       "      <td>0</td>\n",
       "      <td>0</td>\n",
       "      <td>0</td>\n",
       "      <td>0</td>\n",
       "      <td>0</td>\n",
       "      <td>0</td>\n",
       "      <td>0</td>\n",
       "      <td>0</td>\n",
       "      <td>0</td>\n",
       "      <td>0</td>\n",
       "    </tr>\n",
       "    <tr>\n",
       "      <th>1</th>\n",
       "      <td>0</td>\n",
       "      <td>0</td>\n",
       "      <td>0</td>\n",
       "      <td>0</td>\n",
       "      <td>0</td>\n",
       "      <td>0</td>\n",
       "      <td>0</td>\n",
       "      <td>1</td>\n",
       "      <td>0</td>\n",
       "      <td>0</td>\n",
       "      <td>...</td>\n",
       "      <td>0</td>\n",
       "      <td>0</td>\n",
       "      <td>0</td>\n",
       "      <td>0</td>\n",
       "      <td>0</td>\n",
       "      <td>0</td>\n",
       "      <td>0</td>\n",
       "      <td>0</td>\n",
       "      <td>0</td>\n",
       "      <td>0</td>\n",
       "    </tr>\n",
       "    <tr>\n",
       "      <th>2</th>\n",
       "      <td>0</td>\n",
       "      <td>0</td>\n",
       "      <td>0</td>\n",
       "      <td>0</td>\n",
       "      <td>0</td>\n",
       "      <td>0</td>\n",
       "      <td>0</td>\n",
       "      <td>0</td>\n",
       "      <td>0</td>\n",
       "      <td>0</td>\n",
       "      <td>...</td>\n",
       "      <td>0</td>\n",
       "      <td>0</td>\n",
       "      <td>1</td>\n",
       "      <td>0</td>\n",
       "      <td>0</td>\n",
       "      <td>0</td>\n",
       "      <td>0</td>\n",
       "      <td>0</td>\n",
       "      <td>0</td>\n",
       "      <td>0</td>\n",
       "    </tr>\n",
       "    <tr>\n",
       "      <th>3</th>\n",
       "      <td>0</td>\n",
       "      <td>0</td>\n",
       "      <td>0</td>\n",
       "      <td>0</td>\n",
       "      <td>0</td>\n",
       "      <td>0</td>\n",
       "      <td>0</td>\n",
       "      <td>0</td>\n",
       "      <td>0</td>\n",
       "      <td>0</td>\n",
       "      <td>...</td>\n",
       "      <td>0</td>\n",
       "      <td>0</td>\n",
       "      <td>0</td>\n",
       "      <td>0</td>\n",
       "      <td>0</td>\n",
       "      <td>0</td>\n",
       "      <td>0</td>\n",
       "      <td>0</td>\n",
       "      <td>0</td>\n",
       "      <td>0</td>\n",
       "    </tr>\n",
       "    <tr>\n",
       "      <th>4</th>\n",
       "      <td>0</td>\n",
       "      <td>0</td>\n",
       "      <td>0</td>\n",
       "      <td>0</td>\n",
       "      <td>0</td>\n",
       "      <td>0</td>\n",
       "      <td>0</td>\n",
       "      <td>0</td>\n",
       "      <td>0</td>\n",
       "      <td>0</td>\n",
       "      <td>...</td>\n",
       "      <td>0</td>\n",
       "      <td>0</td>\n",
       "      <td>1</td>\n",
       "      <td>0</td>\n",
       "      <td>0</td>\n",
       "      <td>0</td>\n",
       "      <td>0</td>\n",
       "      <td>0</td>\n",
       "      <td>1</td>\n",
       "      <td>0</td>\n",
       "    </tr>\n",
       "  </tbody>\n",
       "</table>\n",
       "<p>5 rows × 5000 columns</p>\n",
       "</div>\n",
       "      <button class=\"colab-df-convert\" onclick=\"convertToInteractive('df-e2dd5ef7-102f-43f7-a043-2d10909fd863')\"\n",
       "              title=\"Convert this dataframe to an interactive table.\"\n",
       "              style=\"display:none;\">\n",
       "        \n",
       "  <svg xmlns=\"http://www.w3.org/2000/svg\" height=\"24px\"viewBox=\"0 0 24 24\"\n",
       "       width=\"24px\">\n",
       "    <path d=\"M0 0h24v24H0V0z\" fill=\"none\"/>\n",
       "    <path d=\"M18.56 5.44l.94 2.06.94-2.06 2.06-.94-2.06-.94-.94-2.06-.94 2.06-2.06.94zm-11 1L8.5 8.5l.94-2.06 2.06-.94-2.06-.94L8.5 2.5l-.94 2.06-2.06.94zm10 10l.94 2.06.94-2.06 2.06-.94-2.06-.94-.94-2.06-.94 2.06-2.06.94z\"/><path d=\"M17.41 7.96l-1.37-1.37c-.4-.4-.92-.59-1.43-.59-.52 0-1.04.2-1.43.59L10.3 9.45l-7.72 7.72c-.78.78-.78 2.05 0 2.83L4 21.41c.39.39.9.59 1.41.59.51 0 1.02-.2 1.41-.59l7.78-7.78 2.81-2.81c.8-.78.8-2.07 0-2.86zM5.41 20L4 18.59l7.72-7.72 1.47 1.35L5.41 20z\"/>\n",
       "  </svg>\n",
       "      </button>\n",
       "      \n",
       "  <style>\n",
       "    .colab-df-container {\n",
       "      display:flex;\n",
       "      flex-wrap:wrap;\n",
       "      gap: 12px;\n",
       "    }\n",
       "\n",
       "    .colab-df-convert {\n",
       "      background-color: #E8F0FE;\n",
       "      border: none;\n",
       "      border-radius: 50%;\n",
       "      cursor: pointer;\n",
       "      display: none;\n",
       "      fill: #1967D2;\n",
       "      height: 32px;\n",
       "      padding: 0 0 0 0;\n",
       "      width: 32px;\n",
       "    }\n",
       "\n",
       "    .colab-df-convert:hover {\n",
       "      background-color: #E2EBFA;\n",
       "      box-shadow: 0px 1px 2px rgba(60, 64, 67, 0.3), 0px 1px 3px 1px rgba(60, 64, 67, 0.15);\n",
       "      fill: #174EA6;\n",
       "    }\n",
       "\n",
       "    [theme=dark] .colab-df-convert {\n",
       "      background-color: #3B4455;\n",
       "      fill: #D2E3FC;\n",
       "    }\n",
       "\n",
       "    [theme=dark] .colab-df-convert:hover {\n",
       "      background-color: #434B5C;\n",
       "      box-shadow: 0px 1px 3px 1px rgba(0, 0, 0, 0.15);\n",
       "      filter: drop-shadow(0px 1px 2px rgba(0, 0, 0, 0.3));\n",
       "      fill: #FFFFFF;\n",
       "    }\n",
       "  </style>\n",
       "\n",
       "      <script>\n",
       "        const buttonEl =\n",
       "          document.querySelector('#df-e2dd5ef7-102f-43f7-a043-2d10909fd863 button.colab-df-convert');\n",
       "        buttonEl.style.display =\n",
       "          google.colab.kernel.accessAllowed ? 'block' : 'none';\n",
       "\n",
       "        async function convertToInteractive(key) {\n",
       "          const element = document.querySelector('#df-e2dd5ef7-102f-43f7-a043-2d10909fd863');\n",
       "          const dataTable =\n",
       "            await google.colab.kernel.invokeFunction('convertToInteractive',\n",
       "                                                     [key], {});\n",
       "          if (!dataTable) return;\n",
       "\n",
       "          const docLinkHtml = 'Like what you see? Visit the ' +\n",
       "            '<a target=\"_blank\" href=https://colab.research.google.com/notebooks/data_table.ipynb>data table notebook</a>'\n",
       "            + ' to learn more about interactive tables.';\n",
       "          element.innerHTML = '';\n",
       "          dataTable['output_type'] = 'display_data';\n",
       "          await google.colab.output.renderOutput(dataTable, element);\n",
       "          const docLink = document.createElement('div');\n",
       "          docLink.innerHTML = docLinkHtml;\n",
       "          element.appendChild(docLink);\n",
       "        }\n",
       "      </script>\n",
       "    </div>\n",
       "  </div>\n",
       "  "
      ],
      "text/plain": [
       "   aaron  abandon  abc  abc news  abe  abedin  abil  abl  abort  abroad  ...  \\\n",
       "0      0        0    0         0    0       0     1    2      0       0  ...   \n",
       "1      0        0    0         0    0       0     0    1      0       0  ...   \n",
       "2      0        0    0         0    0       0     0    0      0       0  ...   \n",
       "3      0        0    0         0    0       0     0    0      0       0  ...   \n",
       "4      0        0    0         0    0       0     0    0      0       0  ...   \n",
       "\n",
       "   york time washington  yorker  young  young peopl  youth  youtub  zero  \\\n",
       "0                     0       0      0            0      0       0     0   \n",
       "1                     0       0      0            0      0       0     0   \n",
       "2                     0       0      1            0      0       0     0   \n",
       "3                     0       0      0            0      0       0     0   \n",
       "4                     0       0      1            0      0       0     0   \n",
       "\n",
       "   zika  zone  zuckerberg  \n",
       "0     0     0           0  \n",
       "1     0     0           0  \n",
       "2     0     0           0  \n",
       "3     0     0           0  \n",
       "4     0     1           0  \n",
       "\n",
       "[5 rows x 5000 columns]"
      ]
     },
     "execution_count": 52,
     "metadata": {},
     "output_type": "execute_result"
    }
   ],
   "source": [
    "count_df.head()"
   ]
  },
  {
   "cell_type": "code",
   "execution_count": 53,
   "metadata": {
    "id": "U5BdOtHASz9p"
   },
   "outputs": [],
   "source": [
    "import matplotlib.pyplot as plt"
   ]
  },
  {
   "cell_type": "code",
   "execution_count": 54,
   "metadata": {
    "id": "to1biovBSz9p"
   },
   "outputs": [],
   "source": [
    "def plot_confusion_matrix(cm, classes,\n",
    "                          normalize=False,\n",
    "                          title='Confusion matrix',\n",
    "                          cmap=plt.cm.Blues):\n",
    "    \"\"\"\n",
    "    See full source and example: \n",
    "    http://scikit-learn.org/stable/auto_examples/model_selection/plot_confusion_matrix.html\n",
    "    \n",
    "    This function prints and plots the confusion matrix.\n",
    "    Normalization can be applied by setting `normalize=True`.\n",
    "    \"\"\"\n",
    "    plt.imshow(cm, interpolation='nearest', cmap=cmap)\n",
    "    plt.title(title)\n",
    "    plt.colorbar()\n",
    "    tick_marks = np.arange(len(classes))\n",
    "    plt.xticks(tick_marks, classes, rotation=45)\n",
    "    plt.yticks(tick_marks, classes)\n",
    "\n",
    "    if normalize:\n",
    "        cm = cm.astype('float') / cm.sum(axis=1)[:, np.newaxis]\n",
    "        print(\"Normalized confusion matrix\")\n",
    "    else:\n",
    "        print('Confusion matrix, without normalization')\n",
    "\n",
    "    thresh = cm.max() / 2.\n",
    "    for i, j in itertools.product(range(cm.shape[0]), range(cm.shape[1])):\n",
    "        plt.text(j, i, cm[i, j],\n",
    "                 horizontalalignment=\"center\",\n",
    "                 color=\"white\" if cm[i, j] > thresh else \"black\")\n",
    "\n",
    "    plt.tight_layout()\n",
    "    plt.ylabel('True label')\n",
    "    plt.xlabel('Predicted label')"
   ]
  },
  {
   "cell_type": "markdown",
   "metadata": {
    "id": "7In4y3SjSz9q"
   },
   "source": [
    "### MultinomialNB Algorithm"
   ]
  },
  {
   "cell_type": "code",
   "execution_count": 55,
   "metadata": {
    "id": "Yh1tB8-jSz9r"
   },
   "outputs": [],
   "source": [
    "\n",
    "from sklearn.naive_bayes import MultinomialNB\n",
    "classifier=MultinomialNB()"
   ]
  },
  {
   "cell_type": "code",
   "execution_count": 56,
   "metadata": {
    "colab": {
     "base_uri": "https://localhost:8080/"
    },
    "id": "nR0XMyx5Sz9r",
    "outputId": "2ea67dff-b211-4fba-9562-17d26836c4b5"
   },
   "outputs": [
    {
     "data": {
      "text/plain": [
       "(4035, 5000)"
      ]
     },
     "execution_count": 56,
     "metadata": {},
     "output_type": "execute_result"
    }
   ],
   "source": [
    "X_test.shape"
   ]
  },
  {
   "cell_type": "code",
   "execution_count": 57,
   "metadata": {
    "id": "_u5UdTXDSz9r"
   },
   "outputs": [],
   "source": [
    "from sklearn import metrics\n",
    "import numpy as np\n",
    "import itertools"
   ]
  },
  {
   "cell_type": "code",
   "execution_count": 58,
   "metadata": {
    "colab": {
     "base_uri": "https://localhost:8080/"
    },
    "id": "L1cWIaFvSz9r",
    "outputId": "1256c903-d163-40a7-9279-a9e3705997be"
   },
   "outputs": [
    {
     "data": {
      "text/plain": [
       "MultinomialNB()"
      ]
     },
     "execution_count": 58,
     "metadata": {},
     "output_type": "execute_result"
    }
   ],
   "source": [
    "classifier.fit(X_train, y_train)"
   ]
  },
  {
   "cell_type": "code",
   "execution_count": 59,
   "metadata": {
    "colab": {
     "base_uri": "https://localhost:8080/"
    },
    "id": "xaJqSCXWSz9r",
    "outputId": "467b9772-98f6-4de2-f8e2-74bb3506a6f8"
   },
   "outputs": [
    {
     "data": {
      "text/plain": [
       "(4035,)"
      ]
     },
     "execution_count": 59,
     "metadata": {},
     "output_type": "execute_result"
    }
   ],
   "source": [
    "y_test.shape"
   ]
  },
  {
   "cell_type": "code",
   "execution_count": 60,
   "metadata": {
    "colab": {
     "base_uri": "https://localhost:8080/"
    },
    "id": "TP9IydhjSz9s",
    "outputId": "fe0b67b5-6db0-4f16-a0d3-09f21e924129"
   },
   "outputs": [
    {
     "data": {
      "text/plain": [
       "(4035, 5000)"
      ]
     },
     "execution_count": 60,
     "metadata": {},
     "output_type": "execute_result"
    }
   ],
   "source": [
    "X_test.shape"
   ]
  },
  {
   "cell_type": "code",
   "execution_count": 61,
   "metadata": {
    "colab": {
     "base_uri": "https://localhost:8080/"
    },
    "id": "eKo_XSqASz9s",
    "outputId": "d803fca6-e7a5-4515-b080-cb3019e6e95f"
   },
   "outputs": [
    {
     "data": {
      "text/plain": [
       "(5310,)"
      ]
     },
     "execution_count": 61,
     "metadata": {},
     "output_type": "execute_result"
    }
   ],
   "source": [
    "y_train.shape"
   ]
  },
  {
   "cell_type": "code",
   "execution_count": 62,
   "metadata": {
    "colab": {
     "base_uri": "https://localhost:8080/"
    },
    "id": "h8FYUIl7Sz9s",
    "outputId": "c8b05a25-1adf-4a46-b62a-1f586e1b2a12"
   },
   "outputs": [
    {
     "data": {
      "text/plain": [
       "(5310, 5000)"
      ]
     },
     "execution_count": 62,
     "metadata": {},
     "output_type": "execute_result"
    }
   ],
   "source": [
    "X_train.shape"
   ]
  },
  {
   "cell_type": "code",
   "execution_count": 63,
   "metadata": {
    "colab": {
     "base_uri": "https://localhost:8080/",
     "height": 345
    },
    "id": "wo36i_EhSz9s",
    "outputId": "2631484a-3a5f-4f65-9e72-ee78a1db080c"
   },
   "outputs": [
    {
     "name": "stdout",
     "output_type": "stream",
     "text": [
      "accuracy:   0.585\n",
      "Confusion matrix, without normalization\n"
     ]
    },
    {
     "data": {
      "image/png": "[encoded data removed]",
      "text/plain": [
       "<Figure size 432x288 with 2 Axes>"
      ]
     },
     "metadata": {
      "needs_background": "light"
     },
     "output_type": "display_data"
    }
   ],
   "source": [
    "classifier.fit(X_train, y_train)\n",
    "pred = classifier.predict(X_test)\n",
    "score = metrics.accuracy_score(y_test, pred)\n",
    "print(\"accuracy:   %0.3f\" % score)\n",
    "cm = metrics.confusion_matrix(y_test, pred)\n",
    "plot_confusion_matrix(cm, classes=['FAKE', 'REAL'])"
   ]
  },
  {
   "cell_type": "code",
   "execution_count": 64,
   "metadata": {
    "colab": {
     "base_uri": "https://localhost:8080/"
    },
    "id": "9kSer8QlSz9s",
    "outputId": "119e41ad-bd4a-45b8-d188-04141c1112c0"
   },
   "outputs": [
    {
     "data": {
      "text/plain": [
       "0.5848822800495663"
      ]
     },
     "execution_count": 64,
     "metadata": {},
     "output_type": "execute_result"
    }
   ],
   "source": [
    "classifier.fit(X_train, y_train)\n",
    "pred = classifier.predict(X_test)\n",
    "score = metrics.accuracy_score(y_test, pred)\n",
    "score"
   ]
  },
  {
   "cell_type": "code",
   "execution_count": 65,
   "metadata": {
    "colab": {
     "base_uri": "https://localhost:8080/"
    },
    "id": "bQEuRDDhSz9s",
    "outputId": "842bac6a-9884-47cb-cbba-03ae9819c40d"
   },
   "outputs": [
    {
     "data": {
      "text/plain": [
       "(5310,)"
      ]
     },
     "execution_count": 65,
     "metadata": {},
     "output_type": "execute_result"
    }
   ],
   "source": [
    "y_train.shape"
   ]
  },
  {
   "cell_type": "markdown",
   "metadata": {
    "id": "PKeyV62GSz9t"
   },
   "source": [
    "### Passive Aggressive Classifier Algorithm"
   ]
  },
  {
   "cell_type": "code",
   "execution_count": 66,
   "metadata": {
    "id": "x8Q0bSEYSz9t"
   },
   "outputs": [],
   "source": [
    "from sklearn.linear_model import PassiveAggressiveClassifier\n",
    "linear_clf = PassiveAggressiveClassifier()"
   ]
  },
  {
   "cell_type": "code",
   "execution_count": 67,
   "metadata": {
    "colab": {
     "base_uri": "https://localhost:8080/",
     "height": 345
    },
    "id": "UWS63L0sSz9t",
    "outputId": "dc23ba9d-26e7-4a03-f076-eda271352374"
   },
   "outputs": [
    {
     "name": "stdout",
     "output_type": "stream",
     "text": [
      "accuracy:   0.618\n",
      "Confusion matrix, without normalization\n"
     ]
    },
    {
     "data": {
      "image/png": "[encoded data removed]",
      "text/plain": [
       "<Figure size 432x288 with 2 Axes>"
      ]
     },
     "metadata": {
      "needs_background": "light"
     },
     "output_type": "display_data"
    }
   ],
   "source": [
    "linear_clf.fit(X_train, y_train)\n",
    "pred = linear_clf.predict(X_test)\n",
    "score = metrics.accuracy_score(y_test, pred)\n",
    "print(\"accuracy:   %0.3f\" % score)\n",
    "cm = metrics.confusion_matrix(y_test, pred)\n",
    "plot_confusion_matrix(cm, classes=['FAKE Data', 'REAL Data'])"
   ]
  },
  {
   "cell_type": "code",
   "execution_count": 68,
   "metadata": {
    "colab": {
     "base_uri": "https://localhost:8080/"
    },
    "id": "p3FstvdLSz9t",
    "outputId": "8c4c59bd-5ce4-4db1-9e6e-658519236072"
   },
   "outputs": [
    {
     "data": {
      "text/plain": [
       "0.6178438661710037"
      ]
     },
     "execution_count": 68,
     "metadata": {},
     "output_type": "execute_result"
    }
   ],
   "source": [
    "classifier.fit(X_train, y_train)\n",
    "pred = linear_clf.predict(X_test)\n",
    "score = metrics.accuracy_score(y_test, pred)\n",
    "score"
   ]
  },
  {
   "cell_type": "markdown",
   "metadata": {
    "id": "Jv1OSDG5Sz9u"
   },
   "source": [
    "### Multinomial Classifier with Hyperparameter"
   ]
  },
  {
   "cell_type": "code",
   "execution_count": 69,
   "metadata": {
    "id": "GgXj0ESCSz9u"
   },
   "outputs": [],
   "source": [
    "classifier=MultinomialNB(alpha=0.3)"
   ]
  },
  {
   "cell_type": "code",
   "execution_count": 70,
   "metadata": {
    "colab": {
     "base_uri": "https://localhost:8080/"
    },
    "id": "QW4ebha1Sz9u",
    "outputId": "fc2835ad-bddc-4922-8c70-f2992bd18221"
   },
   "outputs": [
    {
     "name": "stderr",
     "output_type": "stream",
     "text": [
      "/usr/local/lib/python3.7/dist-packages/sklearn/naive_bayes.py:557: UserWarning: alpha too small will result in numeric errors, setting alpha = 1.0e-10\n",
      "  % _ALPHA_MIN\n"
     ]
    },
    {
     "name": "stdout",
     "output_type": "stream",
     "text": [
      "Alpha: 0.0, Score : 0.5553903345724907\n",
      "Alpha: 0.3, Score : 0.576456009913259\n",
      "Alpha: 0.6, Score : 0.5804213135068154\n",
      "Alpha: 0.8999999999999999, Score : 0.5828996282527881\n"
     ]
    }
   ],
   "source": [
    "previous_score=0\n",
    "for alpha in np.arange(0,1,0.3):\n",
    "    sub_classifier=MultinomialNB(alpha=alpha)\n",
    "    sub_classifier.fit(X_train,y_train)\n",
    "    y_pred=sub_classifier.predict(X_test)\n",
    "    score = metrics.accuracy_score(y_test, y_pred)\n",
    "    if score>previous_score:\n",
    "        classifier=sub_classifier\n",
    "    print(\"Alpha: {}, Score : {}\".format(alpha,score))"
   ]
  },
  {
   "cell_type": "code",
   "execution_count": 71,
   "metadata": {
    "colab": {
     "base_uri": "https://localhost:8080/"
    },
    "id": "A8uLTxGgSz9u",
    "outputId": "bf96d923-a7b9-4fb9-f5fa-91d1c702191b"
   },
   "outputs": [
    {
     "data": {
      "text/plain": [
       "0.5828996282527881"
      ]
     },
     "execution_count": 71,
     "metadata": {},
     "output_type": "execute_result"
    }
   ],
   "source": [
    "classifier.fit(X_train, y_train)\n",
    "pred = classifier.predict(X_test)\n",
    "score = metrics.accuracy_score(y_test, pred)\n",
    "score"
   ]
  },
  {
   "cell_type": "code",
   "execution_count": 72,
   "metadata": {
    "colab": {
     "base_uri": "https://localhost:8080/"
    },
    "id": "OPkzeBNBSz9v",
    "outputId": "30ea1f57-5e40-4bdb-bcef-5ded762e6961"
   },
   "outputs": [
    {
     "name": "stderr",
     "output_type": "stream",
     "text": [
      "/usr/local/lib/python3.7/dist-packages/sklearn/utils/deprecation.py:87: FutureWarning: Function get_feature_names is deprecated; get_feature_names is deprecated in 1.0 and will be removed in 1.2. Please use get_feature_names_out instead.\n",
      "  warnings.warn(msg, category=FutureWarning)\n"
     ]
    }
   ],
   "source": [
    "## Get Features names\n",
    "feature_names = cv.get_feature_names()"
   ]
  },
  {
   "cell_type": "code",
   "execution_count": 73,
   "metadata": {
    "colab": {
     "base_uri": "https://localhost:8080/"
    },
    "id": "V_9ge7dqSz9v",
    "outputId": "d1231fdb-9828-446e-e32f-a5f43262ed0b"
   },
   "outputs": [
    {
     "name": "stderr",
     "output_type": "stream",
     "text": [
      "/usr/local/lib/python3.7/dist-packages/sklearn/utils/deprecation.py:103: FutureWarning: Attribute `coef_` was deprecated in version 0.24 and will be removed in 1.1 (renaming of 0.26).\n",
      "  warnings.warn(msg, category=FutureWarning)\n"
     ]
    },
    {
     "data": {
      "text/plain": [
       "array([ -9.82138948,  -9.01462004,  -9.38115955, ...,  -9.04166699,\n",
       "        -8.69235287, -10.03745797])"
      ]
     },
     "execution_count": 73,
     "metadata": {},
     "output_type": "execute_result"
    }
   ],
   "source": [
    "classifier.coef_[0]"
   ]
  },
  {
   "cell_type": "code",
   "execution_count": 74,
   "metadata": {
    "colab": {
     "base_uri": "https://localhost:8080/"
    },
    "id": "50d6OTngSz9v",
    "outputId": "e9c3f27b-29ef-4bd8-f3bf-9db2331f4828"
   },
   "outputs": [
    {
     "name": "stderr",
     "output_type": "stream",
     "text": [
      "/usr/local/lib/python3.7/dist-packages/sklearn/utils/deprecation.py:103: FutureWarning: Attribute `coef_` was deprecated in version 0.24 and will be removed in 1.1 (renaming of 0.26).\n",
      "  warnings.warn(msg, category=FutureWarning)\n"
     ]
    },
    {
     "data": {
      "text/plain": [
       "[(-4.061611036958341, 'say'),\n",
       " (-4.231926318618536, 'mr'),\n",
       " (-4.785087413346687, 'trump'),\n",
       " (-5.17997818223774, 'new'),\n",
       " (-5.247048412417811, 'time'),\n",
       " (-5.285388353072408, 'one'),\n",
       " (-5.326424613926536, 'would'),\n",
       " (-5.336825821622597, 'state'),\n",
       " (-5.393727345172627, 'year'),\n",
       " (-5.4909512062336, 'peopl'),\n",
       " (-5.492920524895222, 'make'),\n",
       " (-5.505616840972122, 'like'),\n",
       " (-5.536432796772827, 'presid'),\n",
       " (-5.609228668531204, 'go'),\n",
       " (-5.611223615329283, 'mr trump'),\n",
       " (-5.700276371836855, 'also'),\n",
       " (-5.730563810276248, 'take'),\n",
       " (-5.856697448258853, 'get'),\n",
       " (-5.893675577342865, 'york'),\n",
       " (-5.898691224843505, 'new york')]"
      ]
     },
     "execution_count": 74,
     "metadata": {},
     "output_type": "execute_result"
    }
   ],
   "source": [
    "### Most real\n",
    "sorted(zip(classifier.coef_[0], feature_names), reverse=True)[:20]"
   ]
  },
  {
   "cell_type": "code",
   "execution_count": 75,
   "metadata": {
    "colab": {
     "base_uri": "https://localhost:8080/"
    },
    "id": "lbbCLNoQSz9v",
    "outputId": "59842062-665b-47b8-d9bc-23ec98a24fbf"
   },
   "outputs": [
    {
     "name": "stderr",
     "output_type": "stream",
     "text": [
      "/usr/local/lib/python3.7/dist-packages/sklearn/utils/deprecation.py:103: FutureWarning: Attribute `coef_` was deprecated in version 0.24 and will be removed in 1.1 (renaming of 0.26).\n",
      "  warnings.warn(msg, category=FutureWarning)\n"
     ]
    },
    {
     "data": {
      "text/plain": [
       "[(-14.129948965723598, 'alassad'),\n",
       " (-14.129948965723598, 'andor'),\n",
       " (-14.129948965723598, 'ie'),\n",
       " (-14.129948965723598, 'kadzik'),\n",
       " (-14.129948965723598, 'nofli'),\n",
       " (-14.129948965723598, 'nofli zone'),\n",
       " (-14.129948965723598, 'nt'),\n",
       " (-14.129948965723598, 'pasdaran'),\n",
       " (-14.129948965723598, 'sheepl'),\n",
       " (-13.382734563893376, 'director comey'),\n",
       " (-13.382734563893376, 'extraterrestri'),\n",
       " (-13.382734563893376, 'gold silver'),\n",
       " (-13.382734563893376, 'neocon'),\n",
       " (-13.382734563893376, 'neoliber'),\n",
       " (-13.382734563893376, 'oligarchi'),\n",
       " (-13.382734563893376, 'presidentelect'),\n",
       " (-13.382734563893376, 'socal'),\n",
       " (-13.382734563893376, 'ufo'),\n",
       " (-13.382734563893376, 'world order'),\n",
       " (-12.959877713073343, 'novemb th'),\n",
       " (-12.959877713073343, 'reopen investig'),\n",
       " (-12.66361189693017, 'fda'),\n",
       " (-12.66361189693017, 'gaddafi'),\n",
       " (-12.66361189693017, 'podesta email'),\n",
       " (-12.66361189693017, 'rightw'),\n",
       " (-12.66361189693017, 'share articl'),\n",
       " (-12.66361189693017, 'tpp'),\n",
       " (-12.66361189693017, 'warmong'),\n",
       " (-12.66361189693017, 'water protector'),\n",
       " (-12.43535324494919, 'vote machin'),\n",
       " (-12.249636099154097, 'calcium'),\n",
       " (-12.249636099154097, 'hrc'),\n",
       " (-12.249636099154097, 'investig clinton'),\n",
       " (-12.249636099154097, 'judgement'),\n",
       " (-12.249636099154097, 'new email'),\n",
       " (-12.249636099154097, 'oligarch'),\n",
       " (-12.249636099154097, 'satan'),\n",
       " (-12.093067038462557, 'gdp'),\n",
       " (-12.093067038462557, 'militar'),\n",
       " (-12.093067038462557, 'reelect'),\n",
       " (-11.957725690592795, 'cyber'),\n",
       " (-11.957725690592795, 'embargo'),\n",
       " (-11.957725690592795, 'rt'),\n",
       " (-11.838537173327676, 'bundi'),\n",
       " (-11.838537173327676, 'defenc'),\n",
       " (-11.838537173327676, 'investig hillari'),\n",
       " (-11.838537173327676, 'investig hillari clinton'),\n",
       " (-11.838537173327676, 'protector'),\n",
       " (-11.838537173327676, 'rock sioux'),\n",
       " (-11.838537173327676, 'stand rock sioux'),\n",
       " (-11.838537173327676, 'war russia'),\n",
       " (-11.732053692925227, 'fanat'),\n",
       " (-11.732053692925227, 'nuclear war'),\n",
       " (-11.635825660830672, 'ca'),\n",
       " (-11.635825660830672, 'fbi investig'),\n",
       " (-11.635825660830672, 'regim chang'),\n",
       " (-11.635825660830672, 'sioux'),\n",
       " (-11.635825660830672, 'trillion dollar'),\n",
       " (-11.635825660830672, 'yearold'),\n",
       " (-11.548050049948287, 'antisemit'),\n",
       " (-11.548050049948287, 'clinton privat'),\n",
       " (-11.548050049948287, 'do'),\n",
       " (-11.548050049948287, 'jesu christ'),\n",
       " (-11.548050049948287, 'morton'),\n",
       " (-11.548050049948287, 'msm'),\n",
       " (-11.548050049948287, 'saddam'),\n",
       " (-11.548050049948287, 'secreci'),\n",
       " (-11.548050049948287, 'syrian armi'),\n",
       " (-11.548050049948287, 'whistleblow'),\n",
       " (-11.467361138698145, 'access pipelin'),\n",
       " (-11.467361138698145, 'daesh'),\n",
       " (-11.467361138698145, 'dakota access pipelin'),\n",
       " (-11.467361138698145, 'hemispher'),\n",
       " (-11.467361138698145, 'huma abedin'),\n",
       " (-11.467361138698145, 'julian assang'),\n",
       " (-11.467361138698145, 'vibrat'),\n",
       " (-11.392699609929124, 'anthoni weiner'),\n",
       " (-11.392699609929124, 'antitrump'),\n",
       " (-11.392699609929124, 'dumb'),\n",
       " (-11.392699609929124, 'elect trump'),\n",
       " (-11.392699609929124, 'elector vote'),\n",
       " (-11.392699609929124, 'halloween'),\n",
       " (-11.392699609929124, 'hindu'),\n",
       " (-11.392699609929124, 'onion'),\n",
       " (-11.392699609929124, 'russia china'),\n",
       " (-11.392699609929124, 'totalitarian'),\n",
       " (-11.323227237114358, 'copyright'),\n",
       " (-11.323227237114358, 'cult'),\n",
       " (-11.323227237114358, 'dakota access'),\n",
       " (-11.323227237114358, 'donna'),\n",
       " (-11.323227237114358, 'huma'),\n",
       " (-11.323227237114358, 'next presid'),\n",
       " (-11.323227237114358, 'vote hillari'),\n",
       " (-11.323227237114358, 'war syria'),\n",
       " (-11.258269340839584, 'courtesi'),\n",
       " (-11.258269340839584, 'medit'),\n",
       " (-11.258269340839584, 'privat email server'),\n",
       " (-11.258269340839584, 'privat server'),\n",
       " (-11.258269340839584, 'qatar'),\n",
       " (-11.258269340839584, 'radioact'),\n",
       " (-11.258269340839584, 'vitamin'),\n",
       " (-11.258269340839584, 'weld'),\n",
       " (-11.197274828136743, 'crook'),\n",
       " (-11.197274828136743, 'et'),\n",
       " (-11.197274828136743, 'hussein'),\n",
       " (-11.197274828136743, 'illus'),\n",
       " (-11.197274828136743, 'intern law'),\n",
       " (-11.197274828136743, 'jill'),\n",
       " (-11.197274828136743, 'monopoli'),\n",
       " (-11.197274828136743, 'new world'),\n",
       " (-11.197274828136743, 'news network'),\n",
       " (-11.197274828136743, 'puppet'),\n",
       " (-11.197274828136743, 'suck'),\n",
       " (-11.197274828136743, 'trump ralli'),\n",
       " (-11.197274828136743, 'uranium'),\n",
       " (-11.139787737219063, 'demon'),\n",
       " (-11.139787737219063, 'earli vote'),\n",
       " (-11.139787737219063, 'ego'),\n",
       " (-11.139787737219063, 'frequenc'),\n",
       " (-11.139787737219063, 'genocid'),\n",
       " (-11.139787737219063, 'georg soro'),\n",
       " (-11.139787737219063, 'herb'),\n",
       " (-11.139787737219063, 'imperi'),\n",
       " (-11.139787737219063, 'mp'),\n",
       " (-11.139787737219063, 'patent'),\n",
       " (-11.139787737219063, 'snowden'),\n",
       " (-11.139787737219063, 'war crime'),\n",
       " (-11.139787737219063, 'washington dc'),\n",
       " (-11.085426528000173, 'alex jone'),\n",
       " (-11.085426528000173, 'break news'),\n",
       " (-11.085426528000173, 'domain'),\n",
       " (-11.085426528000173, 'donald trump elect'),\n",
       " (-11.085426528000173, 'insan'),\n",
       " (-11.085426528000173, 'julian'),\n",
       " (-11.085426528000173, 'ph'),\n",
       " (-11.085426528000173, 'special interest'),\n",
       " (-11.085426528000173, 'spokesperson'),\n",
       " (-11.085426528000173, 'teen'),\n",
       " (-11.085426528000173, 'thug'),\n",
       " (-11.085426528000173, 'voter fraud'),\n",
       " (-11.033868718335324, 'acid'),\n",
       " (-11.033868718335324, 'cannabi'),\n",
       " (-11.033868718335324, 'clinton aid'),\n",
       " (-11.033868718335324, 'conscious'),\n",
       " (-11.033868718335324, 'conspir'),\n",
       " (-11.033868718335324, 'evolut'),\n",
       " (-11.033868718335324, 'ghost'),\n",
       " (-11.033868718335324, 'grid'),\n",
       " (-11.033868718335324, 'indigen'),\n",
       " (-11.033868718335324, 'kiev'),\n",
       " (-11.033868718335324, 'overthrow'),\n",
       " (-11.033868718335324, 'ruler'),\n",
       " (-11.033868718335324, 'take look'),\n",
       " (-10.984839291095007, 'american public'),\n",
       " (-10.984839291095007, 'capitalist'),\n",
       " (-10.984839291095007, 'elect result'),\n",
       " (-10.984839291095007, 'globalist'),\n",
       " (-10.984839291095007, 'mercuri'),\n",
       " (-10.984839291095007, 'organis'),\n",
       " (-10.984839291095007, 'stand rock'),\n",
       " (-10.984839291095007, 'syndrom'),\n",
       " (-10.984839291095007, 'use privat'),\n",
       " (-10.984839291095007, 'vote trump'),\n",
       " (-10.938101813243316, 'duck'),\n",
       " (-10.938101813243316, 'etc'),\n",
       " (-10.938101813243316, 'inc'),\n",
       " (-10.938101813243316, 'statu quo'),\n",
       " (-10.938101813243316, 'win elect'),\n",
       " (-10.938101813243316, 'wow'),\n",
       " (-10.893451539505577, 'brag'),\n",
       " (-10.893451539505577, 'consciou'),\n",
       " (-10.893451539505577, 'fuck'),\n",
       " (-10.893451539505577, 'less two'),\n",
       " (-10.893451539505577, 'ok'),\n",
       " (-10.893451539505577, 'realm'),\n",
       " (-10.893451539505577, 'russian presid vladimir'),\n",
       " (-10.893451539505577, 'sensor'),\n",
       " (-10.893451539505577, 'shall'),\n",
       " (-10.893451539505577, 'tragic'),\n",
       " (-10.893451539505577, 'would look'),\n",
       " (-10.850709991128305, 'artilleri'),\n",
       " (-10.850709991128305, 'assang'),\n",
       " (-10.850709991128305, 'cia'),\n",
       " (-10.850709991128305, 'clinton presid'),\n",
       " (-10.850709991128305, 'clinton support'),\n",
       " (-10.850709991128305, 'deplor'),\n",
       " (-10.850709991128305, 'essenc'),\n",
       " (-10.850709991128305, 'furthermor'),\n",
       " (-10.850709991128305, 'importantli'),\n",
       " (-10.850709991128305, 'loretta lynch'),\n",
       " (-10.850709991128305, 'monetari'),\n",
       " (-10.850709991128305, 'polit correct'),\n",
       " (-10.850709991128305, 'unrest'),\n",
       " (-10.809720646595109, 'cold war'),\n",
       " (-10.809720646595109, 'consumpt'),\n",
       " (-10.809720646595109, 'crimea'),\n",
       " (-10.809720646595109, 'donald trump presid'),\n",
       " (-10.809720646595109, 'free trade'),\n",
       " (-10.809720646595109, 'freeli'),\n",
       " (-10.809720646595109, 'iraq war'),\n",
       " (-10.809720646595109, 'jihadi'),\n",
       " (-10.809720646595109, 'landslid'),\n",
       " (-10.809720646595109, 'loretta'),\n",
       " (-10.809720646595109, 'manifest'),\n",
       " (-10.809720646595109, 'nick'),\n",
       " (-10.809720646595109, 'okay'),\n",
       " (-10.809720646595109, 'outlook'),\n",
       " (-10.809720646595109, 'supplement'),\n",
       " (-10.770345481360279, 'day elect'),\n",
       " (-10.770345481360279, 'equat'),\n",
       " (-10.770345481360279, 'former secretari state'),\n",
       " (-10.770345481360279, 'hezbollah'),\n",
       " (-10.770345481360279, 'idiot'),\n",
       " (-10.770345481360279, 'meme'),\n",
       " (-10.770345481360279, 'norway'),\n",
       " (-10.770345481360279, 'output'),\n",
       " (-10.770345481360279, 'pill'),\n",
       " (-10.770345481360279, 'privat email'),\n",
       " (-10.770345481360279, 'sake'),\n",
       " (-10.770345481360279, 'screw'),\n",
       " (-10.770345481360279, 'stagger'),\n",
       " (-10.770345481360279, 'upris'),\n",
       " (-10.732462163457978, 'benghazi'),\n",
       " (-10.732462163457978, 'brotherhood'),\n",
       " (-10.732462163457978, 'cave'),\n",
       " (-10.732462163457978, 'centr'),\n",
       " (-10.732462163457978, 'counti sheriff'),\n",
       " (-10.732462163457978, 'incarcer'),\n",
       " (-10.732462163457978, 'infam'),\n",
       " (-10.732462163457978, 'isil'),\n",
       " (-10.732462163457978, 'modi'),\n",
       " (-10.732462163457978, 'monster'),\n",
       " (-10.732462163457978, 'newslett'),\n",
       " (-10.732462163457978, 'pundit'),\n",
       " (-10.732462163457978, 'purg'),\n",
       " (-10.732462163457978, 'repress'),\n",
       " (-10.732462163457978, 'secretari clinton'),\n",
       " (-10.732462163457978, 'support trump'),\n",
       " (-10.732462163457978, 'trump hillari'),\n",
       " (-10.732462163457978, 'unconstitut'),\n",
       " (-10.732462163457978, 'utter'),\n",
       " (-10.69596176123845, 'accent'),\n",
       " (-10.69596176123845, 'awaken'),\n",
       " (-10.69596176123845, 'crystal'),\n",
       " (-10.69596176123845, 'dem'),\n",
       " (-10.69596176123845, 'discredit'),\n",
       " (-10.69596176123845, 'email server'),\n",
       " (-10.69596176123845, 'endless'),\n",
       " (-10.69596176123845, 'fbi director jame'),\n",
       " (-10.69596176123845, 'geopolit'),\n",
       " (-10.69596176123845, 'govern forc'),\n",
       " (-10.69596176123845, 'homosexu'),\n",
       " (-10.69596176123845, 'inhabit'),\n",
       " (-10.69596176123845, 'john podesta'),\n",
       " (-10.69596176123845, 'juror'),\n",
       " (-10.69596176123845, 'lebanon'),\n",
       " (-10.69596176123845, 'nutrit'),\n",
       " (-10.69596176123845, 'opioid'),\n",
       " (-10.69596176123845, 'predat'),\n",
       " (-10.69596176123845, 'quo'),\n",
       " (-10.69596176123845, 'sourc say'),\n",
       " (-10.69596176123845, 'sovereign'),\n",
       " (-10.69596176123845, 'thing happen'),\n",
       " (-10.69596176123845, 'thoroughli'),\n",
       " (-10.69596176123845, 'vast major'),\n",
       " (-10.660746854947384, 'accident'),\n",
       " (-10.660746854947384, 'characterist'),\n",
       " (-10.660746854947384, 'chronic'),\n",
       " (-10.660746854947384, 'court justic'),\n",
       " (-10.660746854947384, 'elect donald'),\n",
       " (-10.660746854947384, 'elect donald trump'),\n",
       " (-10.660746854947384, 'elector colleg'),\n",
       " (-10.660746854947384, 'invad'),\n",
       " (-10.660746854947384, 'miracl'),\n",
       " (-10.660746854947384, 'oklahoma'),\n",
       " (-10.660746854947384, 'peopl vote'),\n",
       " (-10.660746854947384, 'pharmaceut'),\n",
       " (-10.660746854947384, 'rd'),\n",
       " (-10.660746854947384, 'rein'),\n",
       " (-10.660746854947384, 'scare'),\n",
       " (-10.660746854947384, 'self'),\n",
       " (-10.660746854947384, 'servant'),\n",
       " (-10.660746854947384, 'sin'),\n",
       " (-10.660746854947384, 'tribal'),\n",
       " (-10.660746854947384, 'trump one'),\n",
       " (-10.660746854947384, 'ukrainian'),\n",
       " (-10.660746854947384, 'walsh'),\n",
       " (-10.660746854947384, 'waterg'),\n",
       " (-10.660746854947384, 'wise'),\n",
       " (-10.62672996966913, 'afp'),\n",
       " (-10.62672996966913, 'cognit'),\n",
       " (-10.62672996966913, 'ever see'),\n",
       " (-10.62672996966913, 'former secretari'),\n",
       " (-10.62672996966913, 'great deal'),\n",
       " (-10.62672996966913, 'hillari clinton campaign'),\n",
       " (-10.62672996966913, 'intoler'),\n",
       " (-10.62672996966913, 'leaf'),\n",
       " (-10.62672996966913, 'nafta'),\n",
       " (-10.62672996966913, 'north dakota'),\n",
       " (-10.62672996966913, 'popular vote'),\n",
       " (-10.62672996966913, 'revolt'),\n",
       " (-10.62672996966913, 'south africa'),\n",
       " (-10.62672996966913, 'vaccin'),\n",
       " (-10.593832266162071, 'atroc'),\n",
       " (-10.593832266162071, 'boundari'),\n",
       " (-10.593832266162071, 'chart'),\n",
       " (-10.593832266162071, 'cohen'),\n",
       " (-10.593832266162071, 'consolid'),\n",
       " (-10.593832266162071, 'conveni'),\n",
       " (-10.593832266162071, 'craig'),\n",
       " (-10.593832266162071, 'crimin investig'),\n",
       " (-10.593832266162071, 'denni'),\n",
       " (-10.593832266162071, 'deter'),\n",
       " (-10.593832266162071, 'disgrac'),\n",
       " (-10.593832266162071, 'fool'),\n",
       " (-10.593832266162071, 'fundrais'),\n",
       " (-10.593832266162071, 'giuliani'),\n",
       " (-10.593832266162071, 'horizon'),\n",
       " (-10.593832266162071, 'kingdom'),\n",
       " (-10.593832266162071, 'myth'),\n",
       " (-10.593832266162071, 'palac'),\n",
       " (-10.593832266162071, 'portland'),\n",
       " (-10.593832266162071, 'preciou'),\n",
       " (-10.593832266162071, 'proxi'),\n",
       " (-10.593832266162071, 'russian presid'),\n",
       " (-10.593832266162071, 'sexist'),\n",
       " (-10.593832266162071, 'sham'),\n",
       " (-10.593832266162071, 'standoff'),\n",
       " (-10.593832266162071, 'systemat'),\n",
       " (-10.593832266162071, 'trump win'),\n",
       " (-10.593832266162071, 'warfar'),\n",
       " (-10.561982440274972, 'beg'),\n",
       " (-10.561982440274972, 'bibl'),\n",
       " (-10.561982440274972, 'christ'),\n",
       " (-10.561982440274972, 'creatur'),\n",
       " (-10.561982440274972, 'destabil'),\n",
       " (-10.561982440274972, 'embodi'),\n",
       " (-10.561982440274972, 'fascist'),\n",
       " (-10.561982440274972, 'grasp'),\n",
       " (-10.561982440274972, 'hammer'),\n",
       " (-10.561982440274972, 'heaven'),\n",
       " (-10.561982440274972, 'immun system'),\n",
       " (-10.561982440274972, 'liar'),\n",
       " (-10.561982440274972, 'medium outlet'),\n",
       " (-10.561982440274972, 'slaughter'),\n",
       " (-10.561982440274972, 'soro'),\n",
       " (-10.561982440274972, 'soviet union'),\n",
       " (-10.561982440274972, 'squeez'),\n",
       " (-10.561982440274972, 'supposedli'),\n",
       " (-10.561982440274972, 'unilater'),\n",
       " (-10.531115792294445, 'african american'),\n",
       " (-10.531115792294445, 'ammunit'),\n",
       " (-10.531115792294445, 'arsen'),\n",
       " (-10.531115792294445, 'bee'),\n",
       " (-10.531115792294445, 'bishop'),\n",
       " (-10.531115792294445, 'bizarr'),\n",
       " (-10.531115792294445, 'commod'),\n",
       " (-10.531115792294445, 'craft'),\n",
       " (-10.531115792294445, 'firmli'),\n",
       " (-10.531115792294445, 'govern agenc'),\n",
       " (-10.531115792294445, 'higher'),\n",
       " (-10.531115792294445, 'make mistak'),\n",
       " (-10.531115792294445, 'open door'),\n",
       " (-10.531115792294445, 'pm'),\n",
       " (-10.531115792294445, 'provok'),\n",
       " (-10.531115792294445, 'reign'),\n",
       " (-10.531115792294445, 'secretli'),\n",
       " (-10.531115792294445, 'stein'),\n",
       " (-10.531115792294445, 'throne'),\n",
       " (-10.531115792294445, 'tripl'),\n",
       " (-10.501173435679366, 'abc news'),\n",
       " (-10.501173435679366, 'best way'),\n",
       " (-10.501173435679366, 'bin'),\n",
       " (-10.501173435679366, 'black life matter'),\n",
       " (-10.501173435679366, 'decept'),\n",
       " (-10.501173435679366, 'distort'),\n",
       " (-10.501173435679366, 'filter'),\n",
       " (-10.501173435679366, 'foreign affair'),\n",
       " (-10.501173435679366, 'gotten'),\n",
       " (-10.501173435679366, 'loser'),\n",
       " (-10.501173435679366, 'nasti'),\n",
       " (-10.501173435679366, 'nightmar'),\n",
       " (-10.501173435679366, 'nsa'),\n",
       " (-10.501173435679366, 'nut'),\n",
       " (-10.501173435679366, 'one year'),\n",
       " (-10.501173435679366, 'pact'),\n",
       " (-10.501173435679366, 'palestin'),\n",
       " (-10.501173435679366, 'peopl take'),\n",
       " (-10.501173435679366, 'potu'),\n",
       " (-10.501173435679366, 'probe'),\n",
       " (-10.501173435679366, 'realli want'),\n",
       " (-10.501173435679366, 'right thing'),\n",
       " (-10.501173435679366, 'sacr'),\n",
       " (-10.501173435679366, 'scenario'),\n",
       " (-10.501173435679366, 'social justic'),\n",
       " (-10.501173435679366, 'someon els'),\n",
       " (-10.501173435679366, 'sovereignti'),\n",
       " (-10.501173435679366, 'spray'),\n",
       " (-10.501173435679366, 'stock market'),\n",
       " (-10.501173435679366, 'suspici'),\n",
       " (-10.501173435679366, 'unaccept'),\n",
       " (-10.472101620857389, 'beast'),\n",
       " (-10.472101620857389, 'behav'),\n",
       " (-10.472101620857389, 'black peopl'),\n",
       " (-10.472101620857389, 'campaign chairman'),\n",
       " (-10.472101620857389, 'clinton foundat'),\n",
       " (-10.472101620857389, 'democrat presidenti'),\n",
       " (-10.472101620857389, 'disastr'),\n",
       " (-10.472101620857389, 'doj'),\n",
       " (-10.472101620857389, 'earlier year'),\n",
       " (-10.472101620857389, 'franklin'),\n",
       " (-10.472101620857389, 'guilt'),\n",
       " (-10.472101620857389, 'maduro'),\n",
       " (-10.472101620857389, 'mani other'),\n",
       " (-10.472101620857389, 'michel obama'),\n",
       " (-10.472101620857389, 'one side'),\n",
       " (-10.472101620857389, 'pardon'),\n",
       " (-10.472101620857389, 'realist'),\n",
       " (-10.472101620857389, 'regain'),\n",
       " (-10.472101620857389, 'shatter'),\n",
       " (-10.472101620857389, 'sieg'),\n",
       " (-10.472101620857389, 'taught'),\n",
       " (-10.472101620857389, 'thing go'),\n",
       " (-10.472101620857389, 'turk'),\n",
       " (-10.472101620857389, 'unnecessari'),\n",
       " (-10.472101620857389, 'wield'),\n",
       " (-10.472101620857389, 'wrongdo'),\n",
       " (-10.443851154571538, 'adequ'),\n",
       " (-10.443851154571538, 'american polit'),\n",
       " (-10.443851154571538, 'autonom'),\n",
       " (-10.443851154571538, 'breed'),\n",
       " (-10.443851154571538, 'clinton would'),\n",
       " (-10.443851154571538, 'clue'),\n",
       " (-10.443851154571538, 'compon'),\n",
       " (-10.443851154571538, 'distress'),\n",
       " (-10.443851154571538, 'enlist'),\n",
       " (-10.443851154571538, 'format'),\n",
       " (-10.443851154571538, 'formerli'),\n",
       " (-10.443851154571538, 'frighten'),\n",
       " (-10.443851154571538, 'instant'),\n",
       " (-10.443851154571538, 'keith'),\n",
       " (-10.443851154571538, 'latter'),\n",
       " (-10.443851154571538, 'martial'),\n",
       " (-10.443851154571538, 'nativ american'),\n",
       " (-10.443851154571538, 'orchestr'),\n",
       " (-10.443851154571538, 'pay attent'),\n",
       " (-10.443851154571538, 'poland'),\n",
       " (-10.443851154571538, 'proven'),\n",
       " (-10.443851154571538, 'pursuit'),\n",
       " (-10.443851154571538, 'republican candid'),\n",
       " (-10.443851154571538, 'roosevelt'),\n",
       " (-10.443851154571538, 'sheer'),\n",
       " (-10.443851154571538, 'stimul'),\n",
       " (-10.443851154571538, 'subsid'),\n",
       " (-10.443851154571538, 'teeth'),\n",
       " (-10.443851154571538, 'treason'),\n",
       " (-10.443851154571538, 'viral'),\n",
       " (-10.443851154571538, 'work class'),\n",
       " (-10.443851154571538, 'wors'),\n",
       " (-10.416376899019289, 'anyon els'),\n",
       " (-10.416376899019289, 'aris'),\n",
       " (-10.416376899019289, 'ash'),\n",
       " (-10.416376899019289, 'ask question'),\n",
       " (-10.416376899019289, 'becom presid'),\n",
       " (-10.416376899019289, 'black life'),\n",
       " (-10.416376899019289, 'bureaucraci'),\n",
       " (-10.416376899019289, 'collus'),\n",
       " (-10.416376899019289, 'dear'),\n",
       " (-10.416376899019289, 'disproportion'),\n",
       " (-10.416376899019289, 'dnc'),\n",
       " (-10.416376899019289, 'download'),\n",
       " (-10.416376899019289, 'epidem'),\n",
       " (-10.416376899019289, 'everi singl'),\n",
       " (-10.416376899019289, 'excerpt'),\n",
       " (-10.416376899019289, 'fertil'),\n",
       " (-10.416376899019289, 'gingrich'),\n",
       " (-10.416376899019289, 'hoax'),\n",
       " (-10.416376899019289, 'inher'),\n",
       " (-10.416376899019289, 'john kerri'),\n",
       " (-10.416376899019289, 'libyan'),\n",
       " (-10.416376899019289, 'meter'),\n",
       " (-10.416376899019289, 'nonsens'),\n",
       " (-10.416376899019289, 'pepper'),\n",
       " (-10.416376899019289, 'spill'),\n",
       " (-10.416376899019289, 'ten million'),\n",
       " (-10.416376899019289, 'tribe'),\n",
       " (-10.416376899019289, 'uncov'),\n",
       " (-10.416376899019289, 'undergo'),\n",
       " (-10.416376899019289, 'versu'),\n",
       " (-10.38963733797739, 'arctic'),\n",
       " (-10.38963733797739, 'button'),\n",
       " (-10.38963733797739, 'concess'),\n",
       " (-10.38963733797739, 'crimin charg'),\n",
       " (-10.38963733797739, 'fantast'),\n",
       " (-10.38963733797739, 'go way'),\n",
       " (-10.38963733797739, 'gore'),\n",
       " (-10.38963733797739, 'hijack'),\n",
       " (-10.38963733797739, 'imprison'),\n",
       " (-10.38963733797739, 'incit'),\n",
       " (-10.38963733797739, 'insight'),\n",
       " (-10.38963733797739, 'islam terror'),\n",
       " (-10.38963733797739, 'kurd'),\n",
       " (-10.38963733797739, 'life matter'),\n",
       " (-10.38963733797739, 'norm'),\n",
       " (-10.38963733797739, 'one would'),\n",
       " (-10.38963733797739, 'pension'),\n",
       " (-10.38963733797739, 'perpetu'),\n",
       " (-10.38963733797739, 'proport'),\n",
       " (-10.38963733797739, 'puls'),\n",
       " (-10.38963733797739, 'scari'),\n",
       " (-10.38963733797739, 'terrifi'),\n",
       " (-10.38963733797739, 'think tank'),\n",
       " (-10.38963733797739, 'trick'),\n",
       " (-10.38963733797739, 'unpredict'),\n",
       " (-10.363594199441371, 'also includ'),\n",
       " (-10.363594199441371, 'arm forc'),\n",
       " (-10.363594199441371, 'central bank'),\n",
       " (-10.363594199441371, 'chelsea'),\n",
       " (-10.363594199441371, 'chill'),\n",
       " (-10.363594199441371, 'cure'),\n",
       " (-10.363594199441371, 'ed'),\n",
       " (-10.363594199441371, 'elderli'),\n",
       " (-10.363594199441371, 'everyon els'),\n",
       " (-10.363594199441371, 'get rid'),\n",
       " (-10.363594199441371, 'glad'),\n",
       " (-10.363594199441371, 'greatli'),\n",
       " (-10.363594199441371, 'holland'),\n",
       " (-10.363594199441371, 'honestli'),\n",
       " (-10.363594199441371, 'identif'),\n",
       " (-10.363594199441371, 'immens'),\n",
       " (-10.363594199441371, 'jacob'),\n",
       " (-10.363594199441371, 'jesu'),\n",
       " (-10.363594199441371, 'mani american'),\n",
       " (-10.363594199441371, 'mediterranean'),\n",
       " (-10.363594199441371, 'milk'),\n",
       " (-10.363594199441371, 'modifi'),\n",
       " (-10.363594199441371, 'nbc news'),\n",
       " (-10.363594199441371, 'obes'),\n",
       " (-10.363594199441371, 'one way'),\n",
       " (-10.363594199441371, 'pretend'),\n",
       " (-10.363594199441371, 'refug'),\n",
       " (-10.363594199441371, 'revolutionari'),\n",
       " (-10.363594199441371, 'ron'),\n",
       " (-10.363594199441371, 'run presid'),\n",
       " (-10.363594199441371, 'salt'),\n",
       " (-10.363594199441371, 'sever time'),\n",
       " (-10.363594199441371, 'sooner'),\n",
       " (-10.363594199441371, 'spell'),\n",
       " (-10.363594199441371, 'spiritu'),\n",
       " (-10.363594199441371, 'takeov'),\n",
       " (-10.363594199441371, 'thwart'),\n",
       " (-10.363594199441371, 'whoever'),\n",
       " (-10.363594199441371, 'wisdom'),\n",
       " (-10.363594199441371, 'work well'),\n",
       " (-10.338212126169953, 'american citizen'),\n",
       " (-10.338212126169953, 'amnesti'),\n",
       " (-10.338212126169953, 'barrel'),\n",
       " (-10.338212126169953, 'better'),\n",
       " (-10.338212126169953, 'bite'),\n",
       " (-10.338212126169953, 'bonu'),\n",
       " (-10.338212126169953, 'breast'),\n",
       " (-10.338212126169953, 'coincid'),\n",
       " (-10.338212126169953, 'decis make'),\n",
       " (-10.338212126169953, 'emphasi'),\n",
       " (-10.338212126169953, 'exagger'),\n",
       " (-10.338212126169953, 'garner'),\n",
       " (-10.338212126169953, 'get bad'),\n",
       " (-10.338212126169953, 'hatch'),\n",
       " (-10.338212126169953, 'haunt'),\n",
       " (-10.338212126169953, 'known'),\n",
       " (-10.338212126169953, 'make differ'),\n",
       " (-10.338212126169953, 'may also'),\n",
       " (-10.338212126169953, 'number peopl'),\n",
       " (-10.338212126169953, 'ownership'),\n",
       " (-10.338212126169953, 'perpetr'),\n",
       " (-10.338212126169953, 'plagu'),\n",
       " (-10.338212126169953, 'plea'),\n",
       " (-10.338212126169953, 'rule law'),\n",
       " (-10.338212126169953, 'slight'),\n",
       " (-10.338212126169953, 'smear'),\n",
       " (-10.338212126169953, 'spark'),\n",
       " (-10.338212126169953, 'sweet'),\n",
       " (-10.338212126169953, 'treasur'),\n",
       " (-10.338212126169953, 'triumph'),\n",
       " (-10.338212126169953, 'visual'),\n",
       " (-10.338212126169953, 'well know'),\n",
       " (-10.338212126169953, 'witch'),\n",
       " (-10.338212126169953, 'worship'),\n",
       " (-10.313458387017015, 'advisor'),\n",
       " (-10.313458387017015, 'also call'),\n",
       " (-10.313458387017015, 'also find'),\n",
       " (-10.313458387017015, 'assumpt'),\n",
       " (-10.313458387017015, 'authoritarian'),\n",
       " (-10.313458387017015, 'bush administr'),\n",
       " (-10.313458387017015, 'clinton email'),\n",
       " (-10.313458387017015, 'coin'),\n",
       " (-10.313458387017015, 'congratul'),\n",
       " (-10.313458387017015, 'consent'),\n",
       " (-10.313458387017015, 'could get'),\n",
       " (-10.313458387017015, 'could go'),\n",
       " (-10.313458387017015, 'countless'),\n",
       " (-10.313458387017015, 'democrat republican'),\n",
       " (-10.313458387017015, 'determin whether'),\n",
       " (-10.313458387017015, 'endang'),\n",
       " (-10.313458387017015, 'expir'),\n",
       " (-10.313458387017015, 'foreign govern'),\n",
       " (-10.313458387017015, 'foreign relat'),\n",
       " (-10.313458387017015, 'get job'),\n",
       " (-10.313458387017015, 'go take'),\n",
       " (-10.313458387017015, 'hors'),\n",
       " (-10.313458387017015, 'huffington post'),\n",
       " (-10.313458387017015, 'index'),\n",
       " (-10.313458387017015, 'knee'),\n",
       " (-10.313458387017015, 'last time'),\n",
       " (-10.313458387017015, 'leap'),\n",
       " (-10.313458387017015, 'magnitud'),\n",
       " (-10.313458387017015, 'nd'),\n",
       " (-10.313458387017015, 'overwhelmingli'),\n",
       " (-10.313458387017015, 'peopl work'),\n",
       " (-10.313458387017015, 'surrog'),\n",
       " (-10.313458387017015, 'troll'),\n",
       " (-10.313458387017015, 'uphold'),\n",
       " (-10.313458387017015, 'verdict'),\n",
       " (-10.313458387017015, 'white nationalist'),\n",
       " (-10.313458387017015, 'would happen'),\n",
       " (-10.28930262313768, 'american histori'),\n",
       " (-10.28930262313768, 'ancient'),\n",
       " (-10.28930262313768, 'anxiou'),\n",
       " (-10.28930262313768, 'audio'),\n",
       " (-10.28930262313768, 'authent'),\n",
       " (-10.28930262313768, 'belt'),\n",
       " (-10.28930262313768, 'burst'),\n",
       " (-10.28930262313768, 'ceil'),\n",
       " (-10.28930262313768, 'colin'),\n",
       " (-10.28930262313768, 'coloni'),\n",
       " (-10.28930262313768, 'conspiraci theori'),\n",
       " (-10.28930262313768, 'damn'),\n",
       " (-10.28930262313768, 'databas'),\n",
       " (-10.28930262313768, 'digniti'),\n",
       " (-10.28930262313768, 'dirti'),\n",
       " (-10.28930262313768, 'extradit'),\n",
       " (-10.28930262313768, 'feloni'),\n",
       " (-10.28930262313768, 'go forward'),\n",
       " (-10.28930262313768, 'jurisdict'),\n",
       " (-10.28930262313768, 'ken'),\n",
       " (-10.28930262313768, 'larri'),\n",
       " (-10.28930262313768, 'latin'),\n",
       " (-10.28930262313768, 'million million'),\n",
       " (-10.28930262313768, 'missouri'),\n",
       " (-10.28930262313768, 'mortal'),\n",
       " (-10.28930262313768, 'pac'),\n",
       " (-10.28930262313768, 'rag'),\n",
       " (-10.28930262313768, 'royal'),\n",
       " (-10.28930262313768, 'state govern'),\n",
       " (-10.28930262313768, 'supervis'),\n",
       " (-10.28930262313768, 'tell stori'),\n",
       " (-10.28930262313768, 'tendenc'),\n",
       " (-10.28930262313768, 'thompson'),\n",
       " (-10.28930262313768, 'tri make'),\n",
       " (-10.28930262313768, 'vanish'),\n",
       " (-10.28930262313768, 'yell'),\n",
       " (-10.2657166241318, 'absurd'),\n",
       " (-10.2657166241318, 'acquisit'),\n",
       " (-10.2657166241318, 'beneath'),\n",
       " (-10.2657166241318, 'bleed'),\n",
       " (-10.2657166241318, 'bruce'),\n",
       " (-10.2657166241318, 'catastroph'),\n",
       " (-10.2657166241318, 'civic'),\n",
       " (-10.2657166241318, 'confidenti'),\n",
       " (-10.2657166241318, 'distant'),\n",
       " (-10.2657166241318, 'exhaust'),\n",
       " (-10.2657166241318, 'extract'),\n",
       " (-10.2657166241318, 'feder law'),\n",
       " (-10.2657166241318, 'first place'),\n",
       " (-10.2657166241318, 'gradual'),\n",
       " (-10.2657166241318, 'graphic'),\n",
       " (-10.2657166241318, 'hawk'),\n",
       " (-10.2657166241318, 'hidden'),\n",
       " (-10.2657166241318, 'hook'),\n",
       " (-10.2657166241318, 'ingredi'),\n",
       " (-10.2657166241318, 'intim'),\n",
       " (-10.2657166241318, 'josh'),\n",
       " (-10.2657166241318, 'megyn kelli'),\n",
       " (-10.2657166241318, 'merit'),\n",
       " (-10.2657166241318, 'nest'),\n",
       " (-10.2657166241318, 'nevertheless'),\n",
       " (-10.2657166241318, 'oliv'),\n",
       " (-10.2657166241318, 'one reason'),\n",
       " (-10.2657166241318, 'oust'),\n",
       " (-10.2657166241318, 'presid bashar'),\n",
       " (-10.2657166241318, 'presid bill'),\n",
       " (-10.2657166241318, 'presid bill clinton'),\n",
       " (-10.2657166241318, 'presidenti debat'),\n",
       " (-10.2657166241318, 'rapper'),\n",
       " (-10.2657166241318, 'raqqa'),\n",
       " (-10.2657166241318, 'ration'),\n",
       " (-10.2657166241318, 'reveng'),\n",
       " (-10.2657166241318, 'roman'),\n",
       " (-10.2657166241318, 'scrap'),\n",
       " (-10.2657166241318, 'sheet'),\n",
       " (-10.2657166241318, 'stabl'),\n",
       " (-10.2657166241318, 'surrend'),\n",
       " (-10.2657166241318, 'take back'),\n",
       " (-10.2657166241318, 'trigger'),\n",
       " (-10.2657166241318, 'trump go'),\n",
       " (-10.2657166241318, 'unanim'),\n",
       " (-10.2657166241318, 'uncomfort'),\n",
       " (-10.2657166241318, 'unhappi'),\n",
       " (-10.2657166241318, 'white peopl'),\n",
       " (-10.2657166241318, 'woman child'),\n",
       " (-10.2657166241318, 'work togeth'),\n",
       " (-10.242674129984646, 'ap'),\n",
       " (-10.242674129984646, 'appointe'),\n",
       " (-10.242674129984646, 'bargain'),\n",
       " (-10.242674129984646, 'bolster'),\n",
       " (-10.242674129984646, 'brush'),\n",
       " (-10.242674129984646, 'cop'),\n",
       " (-10.242674129984646, 'dave'),\n",
       " (-10.242674129984646, 'egyptian'),\n",
       " (-10.242674129984646, 'en'),\n",
       " (-10.242674129984646, 'evangel'),\n",
       " (-10.242674129984646, 'everi time'),\n",
       " (-10.242674129984646, 'express concern'),\n",
       " (-10.242674129984646, 'facebook page'),\n",
       " (-10.242674129984646, 'facebook twitter'),\n",
       " (-10.242674129984646, 'farc'),\n",
       " (-10.242674129984646, 'greek'),\n",
       " (-10.242674129984646, 'gut'),\n",
       " (-10.242674129984646, 'introduct'),\n",
       " (-10.242674129984646, 'kain'),\n",
       " (-10.242674129984646, 'lectur'),\n",
       " (-10.242674129984646, 'lobbyist'),\n",
       " (-10.242674129984646, 'make good'),\n",
       " (-10.242674129984646, 'maximum'),\n",
       " (-10.242674129984646, 'mode'),\n",
       " (-10.242674129984646, 'parliamentari'),\n",
       " (-10.242674129984646, 'past week'),\n",
       " (-10.242674129984646, 'peopl would'),\n",
       " (-10.242674129984646, 'perfectli'),\n",
       " (-10.242674129984646, 'pleasur'),\n",
       " (-10.242674129984646, 'propon'),\n",
       " (-10.242674129984646, 'recreat'),\n",
       " (-10.242674129984646, 'scope'),\n",
       " (-10.242674129984646, 'serial'),\n",
       " (-10.242674129984646, 'sharehold'),\n",
       " (-10.242674129984646, 'stack'),\n",
       " (-10.242674129984646, 'take away'),\n",
       " (-10.242674129984646, 'thick'),\n",
       " (-10.242674129984646, 'thrown'),\n",
       " (-10.242674129984646, 'would requir'),\n",
       " (-10.242674129984646, 'year sinc'),\n",
       " (-10.220150655317562, 'alaska'),\n",
       " (-10.220150655317562, 'armor'),\n",
       " (-10.220150655317562, 'aw'),\n",
       " (-10.220150655317562, 'betray'),\n",
       " (-10.220150655317562, 'brave'),\n",
       " (-10.220150655317562, 'brilliant'),\n",
       " (-10.220150655317562, 'charter'),\n",
       " (-10.220150655317562, 'dare'),\n",
       " (-10.220150655317562, 'denmark'),\n",
       " (-10.220150655317562, 'director jame comey'),\n",
       " (-10.220150655317562, 'disgust'),\n",
       " (-10.220150655317562, 'dna'),\n",
       " (-10.220150655317562, 'fantasi'),\n",
       " (-10.220150655317562, 'flame'),\n",
       " (-10.220150655317562, 'high level'),\n",
       " (-10.220150655317562, 'legend'),\n",
       " (-10.220150655317562, 'maneuv'),\n",
       " (-10.220150655317562, 'optim'),\n",
       " (-10.220150655317562, 'philip'),\n",
       " (-10.220150655317562, 'raw'),\n",
       " (-10.220150655317562, 'republican democrat'),\n",
       " (-10.220150655317562, 'rip'),\n",
       " (-10.220150655317562, 'saint'),\n",
       " (-10.220150655317562, 'seventh'),\n",
       " (-10.220150655317562, 'shortag'),\n",
       " (-10.220150655317562, 'social network'),\n",
       " (-10.220150655317562, 'staffer'),\n",
       " (-10.220150655317562, 'stag'),\n",
       " (-10.220150655317562, 'state like'),\n",
       " (-10.220150655317562, 'suppress'),\n",
       " (-10.220150655317562, 'sway'),\n",
       " (-10.220150655317562, 'take part'),\n",
       " (-10.220150655317562, 'thanksgiv'),\n",
       " (-10.220150655317562, 'tissu'),\n",
       " (-10.220150655317562, 'toxic'),\n",
       " (-10.220150655317562, 'would need'),\n",
       " (-10.220150655317562, 'yet anoth'),\n",
       " (-10.198123332999272, 'adversari'),\n",
       " (-10.198123332999272, 'also make'),\n",
       " (-10.198123332999272, 'america first'),\n",
       " (-10.198123332999272, 'bitcoin'),\n",
       " (-10.198123332999272, 'bring back'),\n",
       " (-10.198123332999272, 'come forward'),\n",
       " (-10.198123332999272, 'contradict'),\n",
       " (-10.198123332999272, 'denial'),\n",
       " (-10.198123332999272, 'director jame'),\n",
       " (-10.198123332999272, 'doom'),\n",
       " (-10.198123332999272, 'driven'),\n",
       " (-10.198123332999272, 'enthusiasm'),\n",
       " (-10.198123332999272, 'exempt'),\n",
       " (-10.198123332999272, 'go happen'),\n",
       " (-10.198123332999272, 'hail'),\n",
       " (-10.198123332999272, 'hama'),\n",
       " (-10.198123332999272, 'huffington'),\n",
       " (-10.198123332999272, 'humili'),\n",
       " (-10.198123332999272, 'humor'),\n",
       " (-10.198123332999272, 'hundr million'),\n",
       " (-10.198123332999272, 'iii'),\n",
       " (-10.198123332999272, 'layer'),\n",
       " (-10.198123332999272, 'leverag'),\n",
       " (-10.198123332999272, 'libertarian'),\n",
       " (-10.198123332999272, 'loyalti'),\n",
       " (-10.198123332999272, 'misconduct'),\n",
       " (-10.198123332999272, 'neck'),\n",
       " (-10.198123332999272, 'news stori'),\n",
       " (-10.198123332999272, 'notifi'),\n",
       " (-10.198123332999272, 'parallel'),\n",
       " (-10.198123332999272, 'polit parti'),\n",
       " (-10.198123332999272, 'pope franci'),\n",
       " (-10.198123332999272, 'sixth'),\n",
       " (-10.198123332999272, 'smell'),\n",
       " (-10.198123332999272, 'stumbl'),\n",
       " (-10.198123332999272, 'surprisingli'),\n",
       " (-10.198123332999272, 'tall'),\n",
       " (-10.198123332999272, 'terrorist group'),\n",
       " (-10.198123332999272, 'upcom'),\n",
       " (-10.198123332999272, 'urin'),\n",
       " (-10.198123332999272, 'verifi'),\n",
       " (-10.198123332999272, 'wander'),\n",
       " (-10.176570774613538, 'auto'),\n",
       " (-10.176570774613538, 'brought'),\n",
       " (-10.176570774613538, 'carter'),\n",
       " (-10.176570774613538, 'conceiv'),\n",
       " (-10.176570774613538, 'defect'),\n",
       " (-10.176570774613538, 'dismantl'),\n",
       " (-10.176570774613538, 'drown'),\n",
       " (-10.176570774613538, 'dust'),\n",
       " (-10.176570774613538, 'everyday'),\n",
       " (-10.176570774613538, 'fleet'),\n",
       " (-10.176570774613538, 'gene'),\n",
       " (-10.176570774613538, 'gon'),\n",
       " (-10.176570774613538, 'gon na'),\n",
       " (-10.176570774613538, 'good news'),\n",
       " (-10.176570774613538, 'grip'),\n",
       " (-10.176570774613538, 'heal'),\n",
       " (-10.176570774613538, 'intimid'),\n",
       " (-10.176570774613538, 'jake'),\n",
       " (-10.176570774613538, 'lament'),\n",
       " (-10.176570774613538, 'liquid'),\n",
       " (-10.176570774613538, 'mental health'),\n",
       " (-10.176570774613538, 'mislead'),\n",
       " (-10.176570774613538, 'moreov'),\n",
       " (-10.176570774613538, 'muscl'),\n",
       " (-10.176570774613538, 'nearli year'),\n",
       " (-10.176570774613538, 'new book'),\n",
       " (-10.176570774613538, 'nowher'),\n",
       " (-10.176570774613538, 'outright'),\n",
       " (-10.176570774613538, 'physician'),\n",
       " (-10.176570774613538, 'psychologist'),\n",
       " (-10.176570774613538, 'rage'),\n",
       " (-10.176570774613538, 'rais money'),\n",
       " (-10.176570774613538, 'reduct'),\n",
       " (-10.176570774613538, 'right group'),\n",
       " (-10.176570774613538, 'shame'),\n",
       " (-10.176570774613538, 'someth like'),\n",
       " (-10.176570774613538, 'spectrum'),\n",
       " (-10.176570774613538, 'storag'),\n",
       " (-10.176570774613538, 'sugar'),\n",
       " (-10.176570774613538, 'sympathi'),\n",
       " (-10.176570774613538, 'take step'),\n",
       " (-10.176570774613538, 'tragedi'),\n",
       " (-10.176570774613538, 'trash'),\n",
       " (-10.176570774613538, 'trump victori'),\n",
       " (-10.176570774613538, 'ugli'),\n",
       " (-10.176570774613538, 'unifi'),\n",
       " (-10.176570774613538, 'want know'),\n",
       " (-10.176570774613538, 'wipe'),\n",
       " (-10.155472945648901, 'absenc'),\n",
       " (-10.155472945648901, 'alan'),\n",
       " (-10.155472945648901, 'aug'),\n",
       " (-10.155472945648901, 'bake'),\n",
       " (-10.155472945648901, 'bold'),\n",
       " (-10.155472945648901, 'bribe'),\n",
       " (-10.155472945648901, 'explicitli'),\n",
       " (-10.155472945648901, 'flip'),\n",
       " (-10.155472945648901, 'fossil'),\n",
       " (-10.155472945648901, 'galleri'),\n",
       " (-10.155472945648901, 'gambl'),\n",
       " (-10.155472945648901, 'goldman sach'),\n",
       " (-10.155472945648901, 'make public'),\n",
       " (-10.155472945648901, 'mani time'),\n",
       " (-10.155472945648901, 'medicar'),\n",
       " (-10.155472945648901, 'nose'),\n",
       " (-10.155472945648901, 'offshor'),\n",
       " (-10.155472945648901, 'oppress'),\n",
       " (-10.155472945648901, 'outfit'),\n",
       " (-10.155472945648901, 'philosophi'),\n",
       " (-10.155472945648901, 'poison'),\n",
       " (-10.155472945648901, 'poster'),\n",
       " (-10.155472945648901, 'shiit'),\n",
       " (-10.155472945648901, 'tag'),\n",
       " (-10.155472945648901, 'theft'),\n",
       " (-10.155472945648901, 'time get'),\n",
       " (-10.155472945648901, 'trauma'),\n",
       " (-10.134811053584944, 'applaud'),\n",
       " (-10.134811053584944, 'austin'),\n",
       " (-10.134811053584944, 'biolog'),\n",
       " (-10.134811053584944, 'bow'),\n",
       " (-10.134811053584944, 'campaign manag'),\n",
       " (-10.134811053584944, 'chest'),\n",
       " (-10.134811053584944, 'collin'),\n",
       " (-10.134811053584944, 'deepen'),\n",
       " (-10.134811053584944, 'democrat nation committe'),\n",
       " (-10.134811053584944, 'depth'),\n",
       " (-10.134811053584944, 'diminish'),\n",
       " (-10.134811053584944, 'doctrin'),\n",
       " (-10.134811053584944, 'elect presid'),\n",
       " (-10.134811053584944, 'empow'),\n",
       " (-10.134811053584944, 'exceed'),\n",
       " (-10.134811053584944, 'greec'),\n",
       " (-10.134811053584944, 'hacker'),\n",
       " (-10.134811053584944, 'hastert'),\n",
       " (-10.134811053584944, 'holi'),\n",
       " (-10.134811053584944, 'impli'),\n",
       " (-10.134811053584944, 'inequ'),\n",
       " (-10.134811053584944, 'interven'),\n",
       " (-10.134811053584944, 'intrigu'),\n",
       " (-10.134811053584944, 'irish'),\n",
       " (-10.134811053584944, 'issu statement'),\n",
       " (-10.134811053584944, 'jerri'),\n",
       " (-10.134811053584944, 'jihad'),\n",
       " (-10.134811053584944, 'librari'),\n",
       " (-10.134811053584944, 'loom'),\n",
       " (-10.134811053584944, 'love one'),\n",
       " (-10.134811053584944, 'mainli'),\n",
       " (-10.134811053584944, 'mani way'),\n",
       " (-10.134811053584944, 'megyn'),\n",
       " (-10.134811053584944, 'momentum'),\n",
       " (-10.134811053584944, 'nervou'),\n",
       " (-10.134811053584944, 'nod'),\n",
       " (-10.134811053584944, 'one big'),\n",
       " (-10.134811053584944, 'one first'),\n",
       " (-10.134811053584944, 'one person'),\n",
       " (-10.134811053584944, 'orient'),\n",
       " (-10.134811053584944, 'pat'),\n",
       " (-10.134811053584944, 'plung'),\n",
       " (-10.134811053584944, 'proclaim'),\n",
       " (-10.134811053584944, 'profess'),\n",
       " (-10.134811053584944, 'rail'),\n",
       " (-10.134811053584944, 'recognit'),\n",
       " (-10.134811053584944, 'report new'),\n",
       " (-10.134811053584944, 'ritual'),\n",
       " (-10.134811053584944, 'secular'),\n",
       " (-10.134811053584944, 'shade'),\n",
       " (-10.134811053584944, 'slaveri'),\n",
       " (-10.134811053584944, 'smash'),\n",
       " (-10.134811053584944, 'sophist'),\n",
       " (-10.134811053584944, 'state offici'),\n",
       " (-10.134811053584944, 'trump could'),\n",
       " (-10.134811053584944, 'trump republican'),\n",
       " (-10.134811053584944, 'tunnel'),\n",
       " (-10.134811053584944, 'unleash'),\n",
       " (-10.134811053584944, 'weird'),\n",
       " (-10.134811053584944, 'whenev'),\n",
       " (-10.134811053584944, 'would abl'),\n",
       " (-10.114567447308298, 'among thing'),\n",
       " (-10.114567447308298, 'belov'),\n",
       " (-10.114567447308298, 'bound'),\n",
       " (-10.114567447308298, 'christoph'),\n",
       " (-10.114567447308298, 'clarifi'),\n",
       " (-10.114567447308298, 'cruis'),\n",
       " (-10.114567447308298, 'defi'),\n",
       " (-10.114567447308298, 'denver'),\n",
       " (-10.114567447308298, 'discharg'),\n",
       " (-10.114567447308298, 'discourag'),\n",
       " (-10.114567447308298, 'drain'),\n",
       " (-10.114567447308298, 'fascin'),\n",
       " (-10.114567447308298, 'feder judg'),\n",
       " (-10.114567447308298, 'fraction'),\n",
       " (-10.114567447308298, 'interrog'),\n",
       " (-10.114567447308298, 'jonathan'),\n",
       " (-10.114567447308298, 'laptop'),\n",
       " (-10.114567447308298, 'law school'),\n",
       " (-10.114567447308298, 'loos'),\n",
       " (-10.114567447308298, 'math'),\n",
       " (-10.114567447308298, 'medium report'),\n",
       " (-10.114567447308298, 'mutual'),\n",
       " (-10.114567447308298, 'netherland'),\n",
       " (-10.114567447308298, 'never see'),\n",
       " (-10.114567447308298, 'next month'),\n",
       " (-10.114567447308298, 'peopl go'),\n",
       " (-10.114567447308298, 'peopl know'),\n",
       " (-10.114567447308298, 'phenomenon'),\n",
       " (-10.114567447308298, 'pit'),\n",
       " (-10.114567447308298, 'properli'),\n",
       " (-10.114567447308298, 'pure'),\n",
       " (-10.114567447308298, 'ran'),\n",
       " (-10.114567447308298, 'reopen'),\n",
       " (-10.114567447308298, 'say noth'),\n",
       " ...]"
      ]
     },
     "execution_count": 75,
     "metadata": {},
     "output_type": "execute_result"
    }
   ],
   "source": [
    "### Most fake\n",
    "sorted(zip(classifier.coef_[0], feature_names))[:5000]"
   ]
  },
  {
   "cell_type": "markdown",
   "metadata": {
    "id": "2eH8XFsHSz9v"
   },
   "source": [
    "### GaussianNB Algorithm"
   ]
  },
  {
   "cell_type": "code",
   "execution_count": 76,
   "metadata": {
    "id": "dWAHHIswSz9v"
   },
   "outputs": [],
   "source": [
    "from sklearn.naive_bayes import GaussianNB\n",
    "classifier=GaussianNB()"
   ]
  },
  {
   "cell_type": "code",
   "execution_count": 77,
   "metadata": {
    "id": "AYK843sJSz9v"
   },
   "outputs": [],
   "source": [
    "from sklearn import metrics\n",
    "import numpy as np\n",
    "import itertools"
   ]
  },
  {
   "cell_type": "code",
   "execution_count": 78,
   "metadata": {
    "colab": {
     "base_uri": "https://localhost:8080/",
     "height": 345
    },
    "id": "ZptEHspASz9v",
    "outputId": "d5429875-ef4d-4d5f-e447-6bc0f08543ce"
   },
   "outputs": [
    {
     "name": "stdout",
     "output_type": "stream",
     "text": [
      "accuracy:   0.563\n",
      "Confusion matrix, without normalization\n"
     ]
    },
    {
     "data": {
      "image/png": "[encoded data removed]",
      "text/plain": [
       "<Figure size 432x288 with 2 Axes>"
      ]
     },
     "metadata": {
      "needs_background": "light"
     },
     "output_type": "display_data"
    }
   ],
   "source": [
    "classifier.fit(X_train, y_train)\n",
    "pred = classifier.predict(X_test)\n",
    "score = metrics.accuracy_score(y_test, pred)\n",
    "print(\"accuracy:   %0.3f\" % score)\n",
    "cm = metrics.confusion_matrix(y_test, pred)\n",
    "plot_confusion_matrix(cm, classes=['FAKE', 'REAL'])"
   ]
  },
  {
   "cell_type": "code",
   "execution_count": 97,
   "metadata": {
    "colab": {
     "base_uri": "https://localhost:8080/"
    },
    "id": "IoNKTnJCSz9w",
    "outputId": "6925e0f7-bbbf-4938-fb6e-e193db85a32c"
   },
   "outputs": [
    {
     "data": {
      "text/plain": [
       "0.6044609665427509"
      ]
     },
     "execution_count": 97,
     "metadata": {},
     "output_type": "execute_result"
    }
   ],
   "source": [
    "classifier.fit(X_train, y_train)\n",
    "pred = classifier.predict(X_test)\n",
    "score = metrics.accuracy_score(y_test, pred)\n",
    "score"
   ]
  },
  {
   "cell_type": "markdown",
   "metadata": {
    "id": "Z5x49GCKSz9w"
   },
   "source": [
    "### Logistic Regression "
   ]
  },
  {
   "cell_type": "code",
   "execution_count": 80,
   "metadata": {
    "id": "zAGOXGnLSz9w"
   },
   "outputs": [],
   "source": [
    "from sklearn.linear_model import LogisticRegression\n",
    "classifier=LogisticRegression()"
   ]
  },
  {
   "cell_type": "code",
   "execution_count": 81,
   "metadata": {
    "id": "1WGEFHW3Sz9w"
   },
   "outputs": [],
   "source": [
    "from sklearn import metrics\n",
    "import numpy as np\n",
    "import itertools"
   ]
  },
  {
   "cell_type": "code",
   "execution_count": 82,
   "metadata": {
    "colab": {
     "base_uri": "https://localhost:8080/",
     "height": 501
    },
    "id": "k5qla6sISz9w",
    "outputId": "0d3908fa-d439-47e5-82b7-7ac9cda0d339"
   },
   "outputs": [
    {
     "name": "stderr",
     "output_type": "stream",
     "text": [
      "/usr/local/lib/python3.7/dist-packages/sklearn/linear_model/_logistic.py:818: ConvergenceWarning: lbfgs failed to converge (status=1):\n",
      "STOP: TOTAL NO. of ITERATIONS REACHED LIMIT.\n",
      "\n",
      "Increase the number of iterations (max_iter) or scale the data as shown in:\n",
      "    https://scikit-learn.org/stable/modules/preprocessing.html\n",
      "Please also refer to the documentation for alternative solver options:\n",
      "    https://scikit-learn.org/stable/modules/linear_model.html#logistic-regression\n",
      "  extra_warning_msg=_LOGISTIC_SOLVER_CONVERGENCE_MSG,\n"
     ]
    },
    {
     "name": "stdout",
     "output_type": "stream",
     "text": [
      "accuracy:   0.605\n",
      "Confusion matrix, without normalization\n"
     ]
    },
    {
     "data": {
      "image/png": "[encoded data removed]",
      "text/plain": [
       "<Figure size 432x288 with 2 Axes>"
      ]
     },
     "metadata": {
      "needs_background": "light"
     },
     "output_type": "display_data"
    }
   ],
   "source": [
    "classifier.fit(X_train, y_train)\n",
    "pred = classifier.predict(X_test)\n",
    "score = metrics.accuracy_score(y_test, pred)\n",
    "print(\"accuracy:   %0.3f\" % score)\n",
    "cm = metrics.confusion_matrix(y_test, pred)\n",
    "plot_confusion_matrix(cm, classes=['FAKE', 'REAL'])"
   ]
  },
  {
   "cell_type": "code",
   "execution_count": 83,
   "metadata": {
    "colab": {
     "base_uri": "https://localhost:8080/"
    },
    "id": "SwBzttQ_Sz9w",
    "outputId": "6c08658a-7680-4c24-99a0-274fe3e04575"
   },
   "outputs": [
    {
     "name": "stderr",
     "output_type": "stream",
     "text": [
      "/usr/local/lib/python3.7/dist-packages/sklearn/linear_model/_logistic.py:818: ConvergenceWarning: lbfgs failed to converge (status=1):\n",
      "STOP: TOTAL NO. of ITERATIONS REACHED LIMIT.\n",
      "\n",
      "Increase the number of iterations (max_iter) or scale the data as shown in:\n",
      "    https://scikit-learn.org/stable/modules/preprocessing.html\n",
      "Please also refer to the documentation for alternative solver options:\n",
      "    https://scikit-learn.org/stable/modules/linear_model.html#logistic-regression\n",
      "  extra_warning_msg=_LOGISTIC_SOLVER_CONVERGENCE_MSG,\n"
     ]
    },
    {
     "data": {
      "text/plain": [
       "0.6049566294919455"
      ]
     },
     "execution_count": 83,
     "metadata": {},
     "output_type": "execute_result"
    }
   ],
   "source": [
    "classifier.fit(X_train, y_train)\n",
    "pred = classifier.predict(X_test)\n",
    "score = metrics.accuracy_score(y_test, pred)\n",
    "score"
   ]
  },
  {
   "cell_type": "markdown",
   "metadata": {
    "id": "4oyhhoOcSz9w"
   },
   "source": [
    "### Decision Tree Algorithm"
   ]
  },
  {
   "cell_type": "code",
   "execution_count": 84,
   "metadata": {
    "id": "0MYUUm82Sz9x"
   },
   "outputs": [],
   "source": [
    "from sklearn.tree import DecisionTreeClassifier\n",
    "classifier=DecisionTreeClassifier()"
   ]
  },
  {
   "cell_type": "code",
   "execution_count": 85,
   "metadata": {
    "id": "-meDVMm8Sz9x"
   },
   "outputs": [],
   "source": [
    "from sklearn import metrics\n",
    "import numpy as np\n",
    "import itertools"
   ]
  },
  {
   "cell_type": "code",
   "execution_count": 86,
   "metadata": {
    "colab": {
     "base_uri": "https://localhost:8080/",
     "height": 345
    },
    "id": "Agc1ZvRZSz9x",
    "outputId": "d31d990b-410b-4e22-dd42-c076ce4600a9"
   },
   "outputs": [
    {
     "name": "stdout",
     "output_type": "stream",
     "text": [
      "accuracy:   0.548\n",
      "Confusion matrix, without normalization\n"
     ]
    },
    {
     "data": {
      "image/png": "[encoded data removed]",
      "text/plain": [
       "<Figure size 432x288 with 2 Axes>"
      ]
     },
     "metadata": {
      "needs_background": "light"
     },
     "output_type": "display_data"
    }
   ],
   "source": [
    "classifier.fit(X_train, y_train)\n",
    "pred = classifier.predict(X_test)\n",
    "score = metrics.accuracy_score(y_test, pred)\n",
    "print(\"accuracy:   %0.3f\" % score)\n",
    "cm = metrics.confusion_matrix(y_test, pred)\n",
    "plot_confusion_matrix(cm, classes=['FAKE', 'REAL'])"
   ]
  },
  {
   "cell_type": "code",
   "execution_count": 87,
   "metadata": {
    "colab": {
     "base_uri": "https://localhost:8080/"
    },
    "id": "DCSWbNA7Sz9x",
    "outputId": "1e3abb15-e956-4dfd-dd1a-0070ddbb2717"
   },
   "outputs": [
    {
     "data": {
      "text/plain": [
       "0.5288723667905824"
      ]
     },
     "execution_count": 87,
     "metadata": {},
     "output_type": "execute_result"
    }
   ],
   "source": [
    "classifier.fit(X_train, y_train)\n",
    "pred = classifier.predict(X_test)\n",
    "score = metrics.accuracy_score(y_test, pred)\n",
    "score"
   ]
  },
  {
   "cell_type": "markdown",
   "metadata": {
    "id": "5hxgyKVhSz9x"
   },
   "source": [
    "### SVM Classifier"
   ]
  },
  {
   "cell_type": "code",
   "execution_count": 88,
   "metadata": {
    "id": "T1_hhleOSz9x"
   },
   "outputs": [],
   "source": [
    "from sklearn.svm import SVC\n",
    "classifier = SVC(kernel='rbf', random_state = 1)"
   ]
  },
  {
   "cell_type": "code",
   "execution_count": 89,
   "metadata": {
    "id": "LnxcxnJ0Sz9x"
   },
   "outputs": [],
   "source": [
    "from sklearn import metrics\n",
    "import numpy as np\n",
    "import itertools"
   ]
  },
  {
   "cell_type": "code",
   "execution_count": 90,
   "metadata": {
    "colab": {
     "base_uri": "https://localhost:8080/",
     "height": 345
    },
    "id": "FsI0cdj-Sz9x",
    "outputId": "91c92934-3344-43b8-c5e9-0eebaa285b26"
   },
   "outputs": [
    {
     "metadata": {
      "tags": null
     },
     "name": "stdout",
     "output_type": "stream",
     "text": [
      "accuracy:   0.578\n",
      "Confusion matrix, without normalization\n"
     ]
    },
    {
     "data": {
      "image/png": "[encoded data removed]",
      "text/plain": [
       "<Figure size 432x288 with 2 Axes>"
      ]
     },
     "metadata": {},
     "output_type": "display_data"
    }
   ],
   "source": [
    "classifier.fit(X_train, y_train)\n",
    "pred = classifier.predict(X_test)\n",
    "score = metrics.accuracy_score(y_test, pred)\n",
    "print(\"accuracy:   %0.3f\" % score)\n",
    "cm = metrics.confusion_matrix(y_test, pred)\n",
    "plot_confusion_matrix(cm, classes=['FAKE', 'REAL'])"
   ]
  },
  {
   "cell_type": "markdown",
   "metadata": {
    "id": "Igj-EUKsSz9x"
   },
   "source": [
    "### K-Nearest Neighbour Classifier Algorithim"
   ]
  },
  {
   "cell_type": "code",
   "execution_count": 91,
   "metadata": {
    "id": "4WFAD-btSz9y"
   },
   "outputs": [],
   "source": [
    "from sklearn.neighbors import KNeighborsClassifier\n",
    "classifier=KNeighborsClassifier()"
   ]
  },
  {
   "cell_type": "code",
   "execution_count": 92,
   "metadata": {
    "id": "FmitnB6qSz9y"
   },
   "outputs": [],
   "source": [
    "from sklearn import metrics\n",
    "import numpy as np\n",
    "import itertools"
   ]
  },
  {
   "cell_type": "code",
   "execution_count": 93,
   "metadata": {
    "colab": {
     "base_uri": "https://localhost:8080/",
     "height": 345
    },
    "id": "BTRxxe5gSz9y",
    "outputId": "60a16476-ad6a-4d93-80b1-914ca3e72e87"
   },
   "outputs": [
    {
     "metadata": {
      "tags": null
     },
     "name": "stdout",
     "output_type": "stream",
     "text": [
      "accuracy:   0.502\n",
      "Confusion matrix, without normalization\n"
     ]
    },
    {
     "data": {
      "image/png": "[encoded data removed]",
      "text/plain": [
       "<Figure size 432x288 with 2 Axes>"
      ]
     },
     "metadata": {},
     "output_type": "display_data"
    }
   ],
   "source": [
    "classifier.fit(X_train, y_train)\n",
    "pred = classifier.predict(X_test)\n",
    "score = metrics.accuracy_score(y_test, pred)\n",
    "print(\"accuracy:   %0.3f\" % score)\n",
    "cm = metrics.confusion_matrix(y_test, pred)\n",
    "plot_confusion_matrix(cm, classes=['FAKE', 'REAL'])"
   ]
  },
  {
   "cell_type": "code",
   "execution_count": 94,
   "metadata": {
    "colab": {
     "base_uri": "https://localhost:8080/"
    },
    "id": "xzXFh_P_Sz9y",
    "outputId": "2891aa37-4e4f-470f-fbbb-13b3f805cdd4"
   },
   "outputs": [
    {
     "data": {
      "text/plain": [
       "0.5016109045848823"
      ]
     },
     "execution_count": 94,
     "metadata": {},
     "output_type": "execute_result"
    }
   ],
   "source": [
    "classifier.fit(X_train, y_train)\n",
    "pred = classifier.predict(X_test)\n",
    "score = metrics.accuracy_score(y_test, pred)\n",
    "score"
   ]
  },
  {
   "cell_type": "markdown",
   "metadata": {
    "id": "UBCzi23DSz9y"
   },
   "source": [
    "### Random Forest"
   ]
  },
  {
   "cell_type": "code",
   "execution_count": null,
   "metadata": {
    "id": "BwYtnxXASz9y"
   },
   "outputs": [],
   "source": [
    "from sklearn.ensemble import RandomForestClassifier\n",
    "classifier = RandomForestClassifier()"
   ]
  },
  {
   "cell_type": "code",
   "execution_count": 96,
   "metadata": {
    "colab": {
     "base_uri": "https://localhost:8080/",
     "height": 345
    },
    "id": "rtrJQVNPSz9y",
    "outputId": "8a0e244b-2f41-4add-c7b3-401cbdc592ca"
   },
   "outputs": [
    {
     "metadata": {
      "tags": null
     },
     "name": "stdout",
     "output_type": "stream",
     "text": [
      "accuracy:   0.586\n",
      "Confusion matrix, without normalization\n"
     ]
    },
    {
     "data": {
      "image/png": "[encoded data removed]",
      "text/plain": [
       "<Figure size 432x288 with 2 Axes>"
      ]
     },
     "metadata": {},
     "output_type": "display_data"
    }
   ],
   "source": [
    "classifier.fit(X_train, y_train)\n",
    "pred = classifier.predict(X_test)\n",
    "score = metrics.accuracy_score(y_test, pred)\n",
    "print(\"accuracy:   %0.3f\" % score)\n",
    "cm = metrics.confusion_matrix(y_test, pred)\n",
    "plot_confusion_matrix(cm, classes=['FAKE', 'REAL'])"
   ]
  }
 ],
 "metadata": {
  "colab": {
   "collapsed_sections": [],
   "name": " FakeNews_Countvectorizer_LAIR(dataset).ipynb",
   "provenance": []
  },
  "kernelspec": {
   "display_name": "Python 3",
   "language": "python",
   "name": "python3"
  },
  "language_info": {
   "codemirror_mode": {
    "name": "ipython",
    "version": 3
   },
   "file_extension": ".py",
   "mimetype": "text/x-python",
   "name": "python",
   "nbconvert_exporter": "python",
   "pygments_lexer": "ipython3",
   "version": "3.8.8"
  }
 },
 "nbformat": 4,
 "nbformat_minor": 1
}
